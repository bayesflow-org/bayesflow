{
 "cells": [
  {
   "cell_type": "code",
   "execution_count": 177,
   "metadata": {},
   "outputs": [],
   "source": [
    "import numpy as np\n",
    "from scipy import stats\n",
    "import seaborn as sns"
   ]
  },
  {
   "cell_type": "code",
   "execution_count": 178,
   "metadata": {},
   "outputs": [],
   "source": [
    "%matplotlib inline"
   ]
  },
  {
   "cell_type": "code",
   "execution_count": 4,
   "metadata": {},
   "outputs": [],
   "source": [
    "np.set_printoptions(suppress=True)"
   ]
  },
  {
   "cell_type": "code",
   "execution_count": 63,
   "metadata": {},
   "outputs": [],
   "source": [
    "def hyperprior_person():\n",
    "    \"\"\"\n",
    "    Draw the mean and covariance matrix for the prior on the person parameters.\n",
    "    \"\"\"\n",
    "    \n",
    "    # Uniform correlation\n",
    "    eig1 = np.random.uniform(low=0.0, high=3.0)\n",
    "    eig2 = np.random.uniform(low=0.0, high=3.0-eig1)\n",
    "    eig3 = 3 - eig1 - eig2\n",
    "    corr = stats.random_correlation.rvs([eig1, eig2, eig3])\n",
    "    \n",
    "    # Stds.\n",
    "    sds = stats.halfcauchy(loc=0, scale=1).rvs(3)\n",
    "    \n",
    "    cov = np.diag(sds) @ corr @ np.diag(sds)\n",
    "    return cov\n",
    "\n",
    "\n",
    "def prior_person(n_pers):\n",
    "    \"\"\"\n",
    "    Draw the person engagement, ability, and working speeds.\n",
    "    \"\"\"\n",
    "    \n",
    "    # Draw a covariance matrix\n",
    "    cov = hyperprior_person()\n",
    "    \n",
    "    # Generate data\n",
    "    person_params = np.random.multivariate_normal([0., 0., 0.], cov, size=(n_pers))\n",
    "    return {'phi': person_params[:, 0], 'tau': person_params[:, 1], 'theta': person_params[:, 2]}\n",
    "\n",
    "\n",
    "def prior_item(n_items, sigma=10.):\n",
    "    \"\"\"\n",
    "    Draws the items' engegement difficulty, difficulty and time offset.\n",
    "    \"\"\"\n",
    "    \n",
    "    # First component  - engagement difficulty    (iota)\n",
    "    # Second component  - time offset             (beta) \n",
    "    # Third component - item difficulty           (b)\n",
    "    item_params = np.random.multivariate_normal(mean=[0., 0., 0.], \n",
    "                                                cov=np.identity(3) * sigma, \n",
    "                                                size=n_items)\n",
    "    return {'iota': item_params[:, 0], 'beta': item_params[:, 1], 'theta': item_params[:, 2]}\n",
    "\n",
    "\n",
    "def prior_common():\n",
    "    \"\"\"Draws the common parameters - common mean, stds, guessing parameter.\"\"\"\n",
    "    \n",
    "    \n",
    "    c = np.random.beta(1., 1.)\n",
    "    gammas = np.random.normal(size=3)\n",
    "    beta_D = np.random.normal()\n",
    "    sigma_D = stats.halfcauchy(loc=0, scale=1).rvs()\n",
    "    sigma_E = stats.halfcauchy(loc=0, scale=1).rvs()\n",
    "    return {'c': c, 'gammas': gammas, 'beta_D': beta_D, 'sigma_D': sigma_D, 'sigma_E': sigma_E}\n",
    "\n",
    "\n",
    "def prior(n_pers=100, n_items=20):\n",
    "    \"\"\"Draws samples from all priors.\"\"\"\n",
    "    \n",
    "    pers_params = prior_person(n_pers)\n",
    "    item_params = prior_item(n_items)\n",
    "    common_params = prior_common()\n",
    "    return pers_params, item_params, common_params"
   ]
  },
  {
   "cell_type": "code",
   "execution_count": 192,
   "metadata": {},
   "outputs": [],
   "source": [
    "def engagement(phi, iota):\n",
    "    \"\"\"\n",
    "    Computes the engagement across examinees and items.\n",
    "    \"\"\"\n",
    "    \n",
    "    # Vectorize via broadcasting\n",
    "    diff = phi[:, np.newaxis] - iota[np.newaxis, :]\n",
    "    probs = np.exp(diff) / (1 + np.exp(diff))\n",
    "    deltas = np.random.binomial(n=1, p=probs)\n",
    "    return deltas\n",
    "\n",
    "def response_time(beta, tau, d, sigma_E, sigma_D, beta_D):\n",
    "    \"\"\"Computes the response times.\"\"\"\n",
    "\n",
    "    diff_e = -tau[:, np.newaxis] + beta[np.newaxis, :] + beta_D\n",
    "    rt_e = np.where(d, 0., \n",
    "                    stats.lognorm(s=sigma_E, scale=np.exp(diff_e)).rvs())\n",
    "    rt_d = np.where(d, \n",
    "                    stats.lognorm(s=sigma_D, scale=np.exp(beta_D)).rvs(size=(diff_e.shape[0], diff_e.shape[1])), 0.)\n",
    "    return diff_e\n",
    "\n",
    "def response():\n",
    "    pass\n",
    "    \n",
    "    \n",
    "    \n",
    "# def forward_model(n_pers=100, n_items=30):\n",
    "#     \"\"\"\n",
    "#     Implements the generative SE+A model.\n",
    "#     \"\"\""
   ]
  },
  {
   "cell_type": "code",
   "execution_count": 201,
   "metadata": {},
   "outputs": [
    {
     "name": "stdout",
     "output_type": "stream",
     "text": [
      "Wall time: 15.8 ms\n"
     ]
    }
   ],
   "source": [
    "%%time\n",
    "person_params, item_params, common_params = prior()\n",
    "d = engagement(person_params['phi'], item_params['iota'])\n",
    "rt = response_time(item_params['beta'], \n",
    "                   person_params['tau'], \n",
    "                   d, \n",
    "                   common_params['sigma_E'], \n",
    "                   common_params['sigma_D'],\n",
    "                   common_params['beta_D'])   "
   ]
  },
  {
   "cell_type": "code",
   "execution_count": 202,
   "metadata": {},
   "outputs": [
    {
     "data": {
      "text/plain": [
       "array([[-0.94855337,  0.47713682, -3.78668015, ..., -2.44444467,\n",
       "        -0.45721552, -6.86373263],\n",
       "       [ 2.34097828,  3.76666848, -0.4971485 , ...,  0.84508698,\n",
       "         2.83231614, -3.57420098],\n",
       "       [ 0.12690765,  1.55259784, -2.71121913, ..., -1.36898365,\n",
       "         0.6182455 , -5.78827161],\n",
       "       ...,\n",
       "       [ 2.22487483,  3.65056502, -0.61325195, ...,  0.72898353,\n",
       "         2.71621268, -3.69030443],\n",
       "       [-2.40950754, -0.98381735, -5.24763432, ..., -3.90539885,\n",
       "        -1.91816969, -8.3246868 ],\n",
       "       [ 0.1966282 ,  1.6223184 , -2.64149858, ..., -1.2992631 ,\n",
       "         0.68796606, -5.71855106]])"
      ]
     },
     "execution_count": 202,
     "metadata": {},
     "output_type": "execute_result"
    }
   ],
   "source": [
    "rt"
   ]
  },
  {
   "cell_type": "code",
   "execution_count": 207,
   "metadata": {},
   "outputs": [
    {
     "data": {
      "text/plain": [
       "<matplotlib.axes._subplots.AxesSubplot at 0x23a03160400>"
      ]
     },
     "execution_count": 207,
     "metadata": {},
     "output_type": "execute_result"
    },
    {
     "data": {
      "image/png": "[encoded data removed]",
      "text/plain": [
       "<Figure size 432x288 with 1 Axes>"
      ]
     },
     "metadata": {
      "needs_background": "light"
     },
     "output_type": "display_data"
    }
   ],
   "source": [
    "sns.distplot(np.random.lognormal(mean=7, size=1000))"
   ]
  },
  {
   "cell_type": "code",
   "execution_count": 188,
   "metadata": {},
   "outputs": [
    {
     "data": {
      "text/plain": [
       "array([ 5.96235497, 30.25086124, 10.77811075, 31.04852288,  4.83012237])"
      ]
     },
     "execution_count": 188,
     "metadata": {},
     "output_type": "execute_result"
    }
   ],
   "source": [
    "np.random.lognormal(mean=2, size=5)"
   ]
  },
  {
   "cell_type": "code",
   "execution_count": 112,
   "metadata": {},
   "outputs": [
    {
     "ename": "ValueError",
     "evalue": "operands could not be broadcast together with shapes (100,20) (760,) () ",
     "output_type": "error",
     "traceback": [
      "\u001b[1;31m---------------------------------------------------------------------------\u001b[0m",
      "\u001b[1;31mValueError\u001b[0m                                Traceback (most recent call last)",
      "\u001b[1;32m<ipython-input-112-8d8bc1ef78a1>\u001b[0m in \u001b[0;36m<module>\u001b[1;34m\u001b[0m\n\u001b[1;32m----> 1\u001b[1;33m \u001b[0mnp\u001b[0m\u001b[1;33m.\u001b[0m\u001b[0mwhere\u001b[0m\u001b[1;33m(\u001b[0m\u001b[0md\u001b[0m\u001b[1;33m,\u001b[0m \u001b[0mnp\u001b[0m\u001b[1;33m.\u001b[0m\u001b[0mrandom\u001b[0m\u001b[1;33m.\u001b[0m\u001b[0mlognormal\u001b[0m\u001b[1;33m(\u001b[0m\u001b[0msize\u001b[0m\u001b[1;33m=\u001b[0m\u001b[0md\u001b[0m\u001b[1;33m.\u001b[0m\u001b[0msum\u001b[0m\u001b[1;33m(\u001b[0m\u001b[1;33m)\u001b[0m\u001b[1;33m)\u001b[0m\u001b[1;33m,\u001b[0m \u001b[1;36m0\u001b[0m\u001b[1;33m)\u001b[0m\u001b[1;33m\u001b[0m\u001b[1;33m\u001b[0m\u001b[0m\n\u001b[0m",
      "\u001b[1;31mValueError\u001b[0m: operands could not be broadcast together with shapes (100,20) (760,) () "
     ]
    }
   ],
   "source": [
    "np.where(d, np.random.lognormal(size=d.sum()), 0)"
   ]
  },
  {
   "cell_type": "code",
   "execution_count": null,
   "metadata": {},
   "outputs": [],
   "source": [
    "params['common'].shape"
   ]
  },
  {
   "cell_type": "code",
   "execution_count": null,
   "metadata": {},
   "outputs": [],
   "source": [
    "r = response_time(params['person'][:, 1], params['item'][:, 1], d, params['common'][6])"
   ]
  },
  {
   "cell_type": "code",
   "execution_count": 160,
   "metadata": {},
   "outputs": [
    {
     "data": {
      "text/plain": [
       "array([7.48307999, 3.01904841, 0.69157462])"
      ]
     },
     "execution_count": 160,
     "metadata": {},
     "output_type": "execute_result"
    }
   ],
   "source": [
    "stats.halfcauchy(loc=0, scale=1).rvs(3)"
   ]
  },
  {
   "cell_type": "code",
   "execution_count": null,
   "metadata": {},
   "outputs": [],
   "source": []
  },
  {
   "cell_type": "code",
   "execution_count": null,
   "metadata": {},
   "outputs": [],
   "source": []
  }
 ],
 "metadata": {
  "kernelspec": {
   "display_name": "Python 3",
   "language": "python",
   "name": "python3"
  },
  "language_info": {
   "codemirror_mode": {
    "name": "ipython",
    "version": 3
   },
   "file_extension": ".py",
   "mimetype": "text/x-python",
   "name": "python",
   "nbconvert_exporter": "python",
   "pygments_lexer": "ipython3",
   "version": "3.6.8"
  },
  "toc": {
   "base_numbering": 1,
   "nav_menu": {},
   "number_sections": true,
   "sideBar": true,
   "skip_h1_title": false,
   "title_cell": "Table of Contents",
   "title_sidebar": "Contents",
   "toc_cell": false,
   "toc_position": {},
   "toc_section_display": true,
   "toc_window_display": false
  }
 },
 "nbformat": 4,
 "nbformat_minor": 2
}
