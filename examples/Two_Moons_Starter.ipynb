{
 "cells": [
  {
   "cell_type": "markdown",
   "id": "009b6adf",
   "metadata": {},
   "source": [
    "# Two Moons: Tackling Bimodal Posteriors\n",
    "\n",
    "_Authors: Lars Kühmichel, Marvin Schmitt, Valentin Pratz, Stefan T. Radev_"
   ]
  },
  {
   "cell_type": "code",
   "execution_count": 1,
   "id": "049e9a1e",
   "metadata": {},
   "outputs": [],
   "source": [
    "import sys\n",
    "sys.path.append(\"../\")"
   ]
  },
  {
   "cell_type": "code",
   "execution_count": null,
   "id": "d5f88a59",
   "metadata": {
    "ExecuteTime": {
     "end_time": "2025-04-11T19:54:01.403328Z",
     "start_time": "2025-04-11T19:53:24.823026Z"
    }
   },
   "outputs": [],
   "source": [
    "import numpy as np\n",
    "\n",
    "import matplotlib.pyplot as plt\n",
    "import seaborn as sns\n",
    "\n",
    "import bayesflow as bf"
   ]
  },
  {
   "cell_type": "markdown",
   "id": "c63b26ba",
   "metadata": {},
   "source": [
    "## Simulator<a class=\"anchor\" id=\"simulator\"></a>"
   ]
  },
  {
   "cell_type": "markdown",
   "id": "9525ffd7",
   "metadata": {},
   "source": [
    "This example will demonstrate amortized estimation of a somewhat strange Bayesian model, whose posterior evaluated at the origin $x = (0, 0)$ of the \"data\" will resemble two crescent moons. The forward process is a noisy non-linear transformation on a 2D plane:\n",
    "\n",
    "$$\n",
    "\\begin{align}\n",
    "x_1 &= -|\\theta_1 + \\theta_2|/\\sqrt{2} + r \\cos(\\alpha) + 0.25\\\\\n",
    "x_2 &= (-\\theta_1 + \\theta_2)/\\sqrt{2} + r\\sin{\\alpha}\n",
    "\\end{align}\n",
    "$$\n",
    "\n",
    "with $x = (x_1, x_2)$ playing the role of \"observables\" (data to be learned from), $\\alpha \\sim \\text{Uniform}(-\\pi/2, \\pi/2)$, and $r \\sim \\text{Normal}(0.1, 0.01)$ being latent variables creating noise in the data, and $\\theta = (\\theta_1, \\theta_2)$ being the parameters that we will later seek to infer from new $x$. We set their priors to\n",
    "\n",
    "$$\n",
    "\\begin{align}\n",
    "\\theta_1, \\theta_2 \\sim \\text{Uniform}(-1, 1).\n",
    "\\end{align}\n",
    "$$\n",
    "\n",
    "This model is typically used for benchmarking simulation-based inference (SBI) methods (see https://arxiv.org/pdf/2101.04653) and any method for amortized Bayesian inference should be capable of recovering the two moons posterior *without* using a gazillion of simulations. Note, that this is a considerably harder task than modeling the common unconditional two moons data set used often in the context of normalizing flows. However, free-form models (e.g., flow matching, diffusion) will tend to outperform normalizing flows on multimodal data sets."
   ]
  },
  {
   "cell_type": "markdown",
   "id": "21bf228e706a010",
   "metadata": {},
   "source": [
    "BayesFlow offers many ways to define your data generating process. Here, we use sequential functions to build a simulator object for online training. Within this composite simulator, each function has access to the outputs of the previous functions. This effectively allows you to define any generative graph."
   ]
  },
  {
   "cell_type": "code",
   "execution_count": 3,
   "id": "f761b142a0e1da66",
   "metadata": {
    "ExecuteTime": {
     "end_time": "2024-10-24T08:36:22.160542Z",
     "start_time": "2024-10-24T08:36:22.155240Z"
    }
   },
   "outputs": [],
   "source": [
    "def theta_prior():\n",
    "    theta = np.random.uniform(-1, 1, 2)\n",
    "    return dict(theta=theta)\n",
    "\n",
    "def forward_model(theta):\n",
    "    alpha = np.random.uniform(-np.pi / 2, np.pi / 2)\n",
    "    r = np.random.normal(0.1, 0.01)\n",
    "    x1 = -np.abs(theta[0] + theta[1]) / np.sqrt(2) + r * np.cos(alpha) + 0.25\n",
    "    x2 = (-theta[0] + theta[1]) / np.sqrt(2) + r * np.sin(alpha)\n",
    "    return dict(x=np.array([x1, x2]))"
   ]
  },
  {
   "cell_type": "markdown",
   "id": "722cb773",
   "metadata": {},
   "source": [
    "Within the composite simulator, every simulator has access to the outputs of the previous simulators in the list. For example, the last simulator `forward_model` has access to the outputs of the three other simulators."
   ]
  },
  {
   "cell_type": "code",
   "execution_count": 4,
   "id": "4b89c861527c13b8",
   "metadata": {
    "ExecuteTime": {
     "end_time": "2024-10-24T08:36:22.305265Z",
     "start_time": "2024-10-24T08:36:22.301546Z"
    }
   },
   "outputs": [],
   "source": [
    "simulator = bf.make_simulator([theta_prior, forward_model])"
   ]
  },
  {
   "cell_type": "markdown",
   "id": "f6e1eb5777c59eba",
   "metadata": {},
   "source": [
    "Let's generate some data to see what the simulator does:"
   ]
  },
  {
   "cell_type": "code",
   "execution_count": 5,
   "id": "e6218e61d529e357",
   "metadata": {
    "ExecuteTime": {
     "end_time": "2024-10-24T08:36:22.350483Z",
     "start_time": "2024-10-24T08:36:22.345161Z"
    }
   },
   "outputs": [],
   "source": [
    "# generate 3 random draws from the joint distribution p(r, alpha, theta, x)\n",
    "sample_data = simulator.sample(3)"
   ]
  },
  {
   "cell_type": "code",
   "execution_count": 6,
   "id": "46174ccb0167026c",
   "metadata": {
    "ExecuteTime": {
     "end_time": "2024-10-24T08:36:22.470435Z",
     "start_time": "2024-10-24T08:36:22.464836Z"
    }
   },
   "outputs": [
    {
     "name": "stdout",
     "output_type": "stream",
     "text": [
      "Type of sample_data:\n",
      "\t <class 'dict'>\n",
      "Keys of sample_data:\n",
      "\t dict_keys(['theta', 'x'])\n",
      "Types of sample_data values:\n",
      "\t {'theta': <class 'numpy.ndarray'>, 'x': <class 'numpy.ndarray'>}\n",
      "Shapes of sample_data values:\n",
      "\t {'theta': (3, 2), 'x': (3, 2)}\n"
     ]
    }
   ],
   "source": [
    "print(\"Type of sample_data:\\n\\t\", type(sample_data))\n",
    "print(\"Keys of sample_data:\\n\\t\", sample_data.keys())\n",
    "print(\"Types of sample_data values:\\n\\t\", {k: type(v) for k, v in sample_data.items()})\n",
    "print(\"Shapes of sample_data values:\\n\\t\", {k: v.shape for k, v in sample_data.items()})"
   ]
  },
  {
   "cell_type": "markdown",
   "id": "17f158bd2d7abf75",
   "metadata": {},
   "source": [
    "BayesFlow also provides this simulator and a collection of others in the `bayesflow.benchmarks` module."
   ]
  },
  {
   "cell_type": "markdown",
   "id": "f714c3a178b5a375",
   "metadata": {},
   "source": [
    "## Adapter\n",
    "\n",
    "The next step is to tell BayesFlow how to deal with all the simulated variables. You may also think of this as informing BayesFlow about the data flow, i.e., which variables go into which network and what transformations needs to be performed prior to passing the simulator outputs into the networks. This is done via an adapter layer, which is implemented as a sequence of fixed, pseudo-invertible data transforms.\n",
    "\n",
    "Below, we define the data adapter by specifying the input and output keys and the transformations to be applied. This allows us full control over the data flow."
   ]
  },
  {
   "cell_type": "code",
   "execution_count": 7,
   "id": "5c9c2dc70f53d103",
   "metadata": {
    "ExecuteTime": {
     "end_time": "2024-10-24T08:36:26.618926Z",
     "start_time": "2024-10-24T08:36:26.614443Z"
    }
   },
   "outputs": [
    {
     "data": {
      "text/plain": [
       "Adapter([0: ToArray -> 1: ConvertDType -> 2: Standardize(exclude=['theta']) -> 3: Rename('theta' -> 'inference_variables') -> 4: Rename('x' -> 'inference_conditions')])"
      ]
     },
     "execution_count": 7,
     "metadata": {},
     "output_type": "execute_result"
    }
   ],
   "source": [
    "adapter = (\n",
    "    bf.adapters.Adapter()\n",
    "    \n",
    "    # convert any non-arrays to numpy arrays\n",
    "    .to_array()\n",
    "    \n",
    "    # convert from numpy's default float64 to deep learning friendly float32\n",
    "    .convert_dtype(\"float64\", \"float32\")\n",
    "    \n",
    "    # standardize target variables to zero mean and unit variance \n",
    "    .standardize(exclude=\"theta\")\n",
    "    \n",
    "    # rename the variables to match the required approximator inputs\n",
    "    .rename(\"theta\", \"inference_variables\")\n",
    "    .rename(\"x\", \"inference_conditions\")\n",
    ")\n",
    "adapter"
   ]
  },
  {
   "cell_type": "markdown",
   "id": "254e287b2bccdad",
   "metadata": {},
   "source": [
    "## Dataset\n",
    "\n",
    "For this example, we will sample our training data ahead of time and use offline training with a very small number of epochs. In actual applications, you usually want to train much longer in order to max our performance."
   ]
  },
  {
   "cell_type": "code",
   "execution_count": 24,
   "id": "39cb5a1c9824246f",
   "metadata": {
    "ExecuteTime": {
     "end_time": "2024-09-23T14:39:46.950573Z",
     "start_time": "2024-09-23T14:39:46.948624Z"
    }
   },
   "outputs": [],
   "source": [
    "num_training_batches = 512\n",
    "num_validation_sets = 300\n",
    "batch_size = 64\n",
    "epochs = 50"
   ]
  },
  {
   "cell_type": "code",
   "execution_count": 25,
   "id": "9dee7252ef99affa",
   "metadata": {
    "ExecuteTime": {
     "end_time": "2024-09-23T14:39:53.268860Z",
     "start_time": "2024-09-23T14:39:46.994697Z"
    }
   },
   "outputs": [],
   "source": [
    "training_data = simulator.sample(num_training_batches * batch_size)\n",
    "validation_data = simulator.sample(num_validation_sets)"
   ]
  },
  {
   "cell_type": "markdown",
   "id": "2d4c6eb0",
   "metadata": {},
   "source": [
    "## Training a neural network to approximate all posteriors\n",
    "\n",
    "The next step is to set up the neural network that will approximate the posterior $p(\\theta\\,|\\,x)$.\n",
    "\n",
    "We choose **Flow Matching** [1, 2] as the backbone architecture for this example, as it can deal well with the multimodal nature of the posteriors that some observables imply.\n",
    "\n",
    "* [1] Lipman, Y., Chen, R. T., Ben-Hamu, H., Nickel, M., & Le, M. Flow Matching for Generative Modeling. In *The Eleventh International Conference on Learning Representations*.\n",
    "\n",
    "* [2] Wildberger, J. B., Dax, M., Buchholz, S., Green, S. R., Macke, J. H., & Schölkopf, B. Flow Matching for Scalable Simulation-Based Inference. In *Thirty-seventh Conference on Neural Information Processing Systems*."
   ]
  },
  {
   "cell_type": "code",
   "execution_count": 10,
   "id": "09206e6f",
   "metadata": {
    "ExecuteTime": {
     "end_time": "2024-09-23T14:39:53.339590Z",
     "start_time": "2024-09-23T14:39:53.319852Z"
    }
   },
   "outputs": [],
   "source": [
    "flow_matching = bf.networks.FlowMatching(\n",
    "    subnet=\"mlp\", \n",
    "    subnet_kwargs={\"dropout\": 0.0, \"widths\": (256,)*6} # override default dropout = 0.05 and widths = (256,)*5\n",
    ")"
   ]
  },
  {
   "cell_type": "markdown",
   "id": "851e522f",
   "metadata": {},
   "source": [
    "This inference network is just a general Flow Matching backbone, not yet adapted to the specific inference task at hand (i.e., posterior appproximation). To achieve this adaptation, we combine the network with our data adapter, which together form an `approximator`. In this case, we need a `ContinuousApproximator` since the target we want to approximate is the posterior of the *continuous* parameter vector $\\theta$."
   ]
  },
  {
   "cell_type": "markdown",
   "id": "76722c33",
   "metadata": {},
   "source": [
    "### Basic Workflow\n",
    "We can hide many of the traditional deep learning steps (e.g., specifying a learning rate and an optimizer) within a `Workflow` object. This object just wraps everything together and includes some nice utility functions for training and *in silico* validation."
   ]
  },
  {
   "cell_type": "code",
   "execution_count": 11,
   "id": "96ca6ffa",
   "metadata": {
    "ExecuteTime": {
     "end_time": "2024-09-23T14:39:53.371691Z",
     "start_time": "2024-09-23T14:39:53.369375Z"
    }
   },
   "outputs": [],
   "source": [
    "flow_matching_workflow = bf.BasicWorkflow(\n",
    "    simulator=simulator,\n",
    "    adapter=adapter,\n",
    "    inference_network=flow_matching,\n",
    ")"
   ]
  },
  {
   "cell_type": "markdown",
   "id": "708b1303",
   "metadata": {},
   "source": [
    "### Training\n",
    "\n",
    "We are ready to train our deep posterior approximator on the two moons example. We use the utility function `fit_offline`, which wraps the approximator's super flexible `fit` method."
   ]
  },
  {
   "cell_type": "code",
   "execution_count": 12,
   "id": "0f496bda",
   "metadata": {
    "ExecuteTime": {
     "end_time": "2024-09-23T14:42:36.067393Z",
     "start_time": "2024-09-23T14:39:53.513436Z"
    }
   },
   "outputs": [
    {
     "name": "stderr",
     "output_type": "stream",
     "text": [
      "INFO:bayesflow:Fitting on dataset instance of OfflineDataset.\n",
      "INFO:bayesflow:Building on a test batch.\n"
     ]
    },
    {
     "name": "stdout",
     "output_type": "stream",
     "text": [
      "Epoch 1/50\n",
      "\u001b[1m512/512\u001b[0m \u001b[32m━━━━━━━━━━━━━━━━━━━━\u001b[0m\u001b[37m\u001b[0m \u001b[1m4s\u001b[0m 7ms/step - loss: 0.9825 - loss/inference_loss: 0.9825 - val_loss: 0.5196 - val_loss/inference_loss: 0.5196\n",
      "Epoch 2/50\n",
      "\u001b[1m512/512\u001b[0m \u001b[32m━━━━━━━━━━━━━━━━━━━━\u001b[0m\u001b[37m\u001b[0m \u001b[1m4s\u001b[0m 7ms/step - loss: 0.5825 - loss/inference_loss: 0.5825 - val_loss: 0.3154 - val_loss/inference_loss: 0.3154\n",
      "Epoch 3/50\n",
      "\u001b[1m512/512\u001b[0m \u001b[32m━━━━━━━━━━━━━━━━━━━━\u001b[0m\u001b[37m\u001b[0m \u001b[1m4s\u001b[0m 7ms/step - loss: 0.4648 - loss/inference_loss: 0.4648 - val_loss: 0.3559 - val_loss/inference_loss: 0.3559\n",
      "Epoch 4/50\n",
      "\u001b[1m512/512\u001b[0m \u001b[32m━━━━━━━━━━━━━━━━━━━━\u001b[0m\u001b[37m\u001b[0m \u001b[1m4s\u001b[0m 7ms/step - loss: 0.4057 - loss/inference_loss: 0.4057 - val_loss: 0.2968 - val_loss/inference_loss: 0.2968\n",
      "Epoch 5/50\n",
      "\u001b[1m512/512\u001b[0m \u001b[32m━━━━━━━━━━━━━━━━━━━━\u001b[0m\u001b[37m\u001b[0m \u001b[1m4s\u001b[0m 7ms/step - loss: 0.3846 - loss/inference_loss: 0.3846 - val_loss: 0.5848 - val_loss/inference_loss: 0.5848\n",
      "Epoch 6/50\n",
      "\u001b[1m512/512\u001b[0m \u001b[32m━━━━━━━━━━━━━━━━━━━━\u001b[0m\u001b[37m\u001b[0m \u001b[1m4s\u001b[0m 7ms/step - loss: 0.3763 - loss/inference_loss: 0.3763 - val_loss: 0.2406 - val_loss/inference_loss: 0.2406\n",
      "Epoch 7/50\n",
      "\u001b[1m512/512\u001b[0m \u001b[32m━━━━━━━━━━━━━━━━━━━━\u001b[0m\u001b[37m\u001b[0m \u001b[1m4s\u001b[0m 7ms/step - loss: 0.3722 - loss/inference_loss: 0.3722 - val_loss: 0.2943 - val_loss/inference_loss: 0.2943\n",
      "Epoch 8/50\n",
      "\u001b[1m512/512\u001b[0m \u001b[32m━━━━━━━━━━━━━━━━━━━━\u001b[0m\u001b[37m\u001b[0m \u001b[1m4s\u001b[0m 7ms/step - loss: 0.3680 - loss/inference_loss: 0.3680 - val_loss: 0.3199 - val_loss/inference_loss: 0.3199\n",
      "Epoch 9/50\n",
      "\u001b[1m512/512\u001b[0m \u001b[32m━━━━━━━━━━━━━━━━━━━━\u001b[0m\u001b[37m\u001b[0m \u001b[1m4s\u001b[0m 7ms/step - loss: 0.3584 - loss/inference_loss: 0.3584 - val_loss: 0.5809 - val_loss/inference_loss: 0.5809\n",
      "Epoch 10/50\n",
      "\u001b[1m512/512\u001b[0m \u001b[32m━━━━━━━━━━━━━━━━━━━━\u001b[0m\u001b[37m\u001b[0m \u001b[1m4s\u001b[0m 8ms/step - loss: 0.3543 - loss/inference_loss: 0.3543 - val_loss: 0.2605 - val_loss/inference_loss: 0.2605\n",
      "Epoch 11/50\n",
      "\u001b[1m512/512\u001b[0m \u001b[32m━━━━━━━━━━━━━━━━━━━━\u001b[0m\u001b[37m\u001b[0m \u001b[1m4s\u001b[0m 7ms/step - loss: 0.3489 - loss/inference_loss: 0.3489 - val_loss: 0.5009 - val_loss/inference_loss: 0.5009\n",
      "Epoch 12/50\n",
      "\u001b[1m512/512\u001b[0m \u001b[32m━━━━━━━━━━━━━━━━━━━━\u001b[0m\u001b[37m\u001b[0m \u001b[1m4s\u001b[0m 7ms/step - loss: 0.3576 - loss/inference_loss: 0.3576 - val_loss: 0.3319 - val_loss/inference_loss: 0.3319\n",
      "Epoch 13/50\n",
      "\u001b[1m512/512\u001b[0m \u001b[32m━━━━━━━━━━━━━━━━━━━━\u001b[0m\u001b[37m\u001b[0m \u001b[1m4s\u001b[0m 7ms/step - loss: 0.3503 - loss/inference_loss: 0.3503 - val_loss: 0.2653 - val_loss/inference_loss: 0.2653\n",
      "Epoch 14/50\n",
      "\u001b[1m512/512\u001b[0m \u001b[32m━━━━━━━━━━━━━━━━━━━━\u001b[0m\u001b[37m\u001b[0m \u001b[1m4s\u001b[0m 8ms/step - loss: 0.3605 - loss/inference_loss: 0.3605 - val_loss: 0.2691 - val_loss/inference_loss: 0.2691\n",
      "Epoch 15/50\n",
      "\u001b[1m512/512\u001b[0m \u001b[32m━━━━━━━━━━━━━━━━━━━━\u001b[0m\u001b[37m\u001b[0m \u001b[1m4s\u001b[0m 8ms/step - loss: 0.3490 - loss/inference_loss: 0.3490 - val_loss: 0.4335 - val_loss/inference_loss: 0.4335\n",
      "Epoch 16/50\n",
      "\u001b[1m512/512\u001b[0m \u001b[32m━━━━━━━━━━━━━━━━━━━━\u001b[0m\u001b[37m\u001b[0m \u001b[1m4s\u001b[0m 7ms/step - loss: 0.3543 - loss/inference_loss: 0.3543 - val_loss: 0.4853 - val_loss/inference_loss: 0.4853\n",
      "Epoch 17/50\n",
      "\u001b[1m512/512\u001b[0m \u001b[32m━━━━━━━━━━━━━━━━━━━━\u001b[0m\u001b[37m\u001b[0m \u001b[1m4s\u001b[0m 7ms/step - loss: 0.3444 - loss/inference_loss: 0.3444 - val_loss: 0.3225 - val_loss/inference_loss: 0.3225\n",
      "Epoch 18/50\n",
      "\u001b[1m512/512\u001b[0m \u001b[32m━━━━━━━━━━━━━━━━━━━━\u001b[0m\u001b[37m\u001b[0m \u001b[1m4s\u001b[0m 7ms/step - loss: 0.3429 - loss/inference_loss: 0.3429 - val_loss: 0.2050 - val_loss/inference_loss: 0.2050\n",
      "Epoch 19/50\n",
      "\u001b[1m512/512\u001b[0m \u001b[32m━━━━━━━━━━━━━━━━━━━━\u001b[0m\u001b[37m\u001b[0m \u001b[1m4s\u001b[0m 7ms/step - loss: 0.3320 - loss/inference_loss: 0.3320 - val_loss: 0.3618 - val_loss/inference_loss: 0.3618\n",
      "Epoch 20/50\n",
      "\u001b[1m512/512\u001b[0m \u001b[32m━━━━━━━━━━━━━━━━━━━━\u001b[0m\u001b[37m\u001b[0m \u001b[1m4s\u001b[0m 7ms/step - loss: 0.3420 - loss/inference_loss: 0.3420 - val_loss: 0.5296 - val_loss/inference_loss: 0.5296\n",
      "Epoch 21/50\n",
      "\u001b[1m512/512\u001b[0m \u001b[32m━━━━━━━━━━━━━━━━━━━━\u001b[0m\u001b[37m\u001b[0m \u001b[1m4s\u001b[0m 7ms/step - loss: 0.3420 - loss/inference_loss: 0.3420 - val_loss: 0.4002 - val_loss/inference_loss: 0.4002\n",
      "Epoch 22/50\n",
      "\u001b[1m512/512\u001b[0m \u001b[32m━━━━━━━━━━━━━━━━━━━━\u001b[0m\u001b[37m\u001b[0m \u001b[1m4s\u001b[0m 8ms/step - loss: 0.3342 - loss/inference_loss: 0.3342 - val_loss: 0.2652 - val_loss/inference_loss: 0.2652\n",
      "Epoch 23/50\n",
      "\u001b[1m512/512\u001b[0m \u001b[32m━━━━━━━━━━━━━━━━━━━━\u001b[0m\u001b[37m\u001b[0m \u001b[1m4s\u001b[0m 7ms/step - loss: 0.3322 - loss/inference_loss: 0.3322 - val_loss: 0.3686 - val_loss/inference_loss: 0.3686\n",
      "Epoch 24/50\n",
      "\u001b[1m512/512\u001b[0m \u001b[32m━━━━━━━━━━━━━━━━━━━━\u001b[0m\u001b[37m\u001b[0m \u001b[1m4s\u001b[0m 7ms/step - loss: 0.3308 - loss/inference_loss: 0.3308 - val_loss: 0.2159 - val_loss/inference_loss: 0.2159\n",
      "Epoch 25/50\n",
      "\u001b[1m512/512\u001b[0m \u001b[32m━━━━━━━━━━━━━━━━━━━━\u001b[0m\u001b[37m\u001b[0m \u001b[1m4s\u001b[0m 8ms/step - loss: 0.3387 - loss/inference_loss: 0.3387 - val_loss: 0.3417 - val_loss/inference_loss: 0.3417\n",
      "Epoch 26/50\n",
      "\u001b[1m512/512\u001b[0m \u001b[32m━━━━━━━━━━━━━━━━━━━━\u001b[0m\u001b[37m\u001b[0m \u001b[1m4s\u001b[0m 9ms/step - loss: 0.3268 - loss/inference_loss: 0.3268 - val_loss: 0.2322 - val_loss/inference_loss: 0.2322\n",
      "Epoch 27/50\n",
      "\u001b[1m512/512\u001b[0m \u001b[32m━━━━━━━━━━━━━━━━━━━━\u001b[0m\u001b[37m\u001b[0m \u001b[1m4s\u001b[0m 7ms/step - loss: 0.3212 - loss/inference_loss: 0.3212 - val_loss: 0.2625 - val_loss/inference_loss: 0.2625\n",
      "Epoch 28/50\n",
      "\u001b[1m512/512\u001b[0m \u001b[32m━━━━━━━━━━━━━━━━━━━━\u001b[0m\u001b[37m\u001b[0m \u001b[1m4s\u001b[0m 8ms/step - loss: 0.3291 - loss/inference_loss: 0.3291 - val_loss: 0.3932 - val_loss/inference_loss: 0.3932\n",
      "Epoch 29/50\n",
      "\u001b[1m512/512\u001b[0m \u001b[32m━━━━━━━━━━━━━━━━━━━━\u001b[0m\u001b[37m\u001b[0m \u001b[1m4s\u001b[0m 7ms/step - loss: 0.3327 - loss/inference_loss: 0.3327 - val_loss: 0.3132 - val_loss/inference_loss: 0.3132\n",
      "Epoch 30/50\n",
      "\u001b[1m512/512\u001b[0m \u001b[32m━━━━━━━━━━━━━━━━━━━━\u001b[0m\u001b[37m\u001b[0m \u001b[1m4s\u001b[0m 7ms/step - loss: 0.3248 - loss/inference_loss: 0.3248 - val_loss: 0.3683 - val_loss/inference_loss: 0.3683\n",
      "Epoch 31/50\n",
      "\u001b[1m512/512\u001b[0m \u001b[32m━━━━━━━━━━━━━━━━━━━━\u001b[0m\u001b[37m\u001b[0m \u001b[1m4s\u001b[0m 7ms/step - loss: 0.3306 - loss/inference_loss: 0.3306 - val_loss: 0.3317 - val_loss/inference_loss: 0.3317\n",
      "Epoch 32/50\n",
      "\u001b[1m512/512\u001b[0m \u001b[32m━━━━━━━━━━━━━━━━━━━━\u001b[0m\u001b[37m\u001b[0m \u001b[1m4s\u001b[0m 7ms/step - loss: 0.3235 - loss/inference_loss: 0.3235 - val_loss: 0.2986 - val_loss/inference_loss: 0.2986\n",
      "Epoch 33/50\n",
      "\u001b[1m512/512\u001b[0m \u001b[32m━━━━━━━━━━━━━━━━━━━━\u001b[0m\u001b[37m\u001b[0m \u001b[1m4s\u001b[0m 7ms/step - loss: 0.3280 - loss/inference_loss: 0.3280 - val_loss: 0.4317 - val_loss/inference_loss: 0.4317\n",
      "Epoch 34/50\n",
      "\u001b[1m512/512\u001b[0m \u001b[32m━━━━━━━━━━━━━━━━━━━━\u001b[0m\u001b[37m\u001b[0m \u001b[1m4s\u001b[0m 7ms/step - loss: 0.3221 - loss/inference_loss: 0.3221 - val_loss: 0.2263 - val_loss/inference_loss: 0.2263\n",
      "Epoch 35/50\n",
      "\u001b[1m512/512\u001b[0m \u001b[32m━━━━━━━━━━━━━━━━━━━━\u001b[0m\u001b[37m\u001b[0m \u001b[1m4s\u001b[0m 7ms/step - loss: 0.3252 - loss/inference_loss: 0.3252 - val_loss: 0.2628 - val_loss/inference_loss: 0.2628\n",
      "Epoch 36/50\n",
      "\u001b[1m512/512\u001b[0m \u001b[32m━━━━━━━━━━━━━━━━━━━━\u001b[0m\u001b[37m\u001b[0m \u001b[1m4s\u001b[0m 7ms/step - loss: 0.3200 - loss/inference_loss: 0.3200 - val_loss: 0.2831 - val_loss/inference_loss: 0.2831\n",
      "Epoch 37/50\n",
      "\u001b[1m512/512\u001b[0m \u001b[32m━━━━━━━━━━━━━━━━━━━━\u001b[0m\u001b[37m\u001b[0m \u001b[1m4s\u001b[0m 7ms/step - loss: 0.3179 - loss/inference_loss: 0.3179 - val_loss: 0.3221 - val_loss/inference_loss: 0.3221\n",
      "Epoch 38/50\n",
      "\u001b[1m512/512\u001b[0m \u001b[32m━━━━━━━━━━━━━━━━━━━━\u001b[0m\u001b[37m\u001b[0m \u001b[1m4s\u001b[0m 7ms/step - loss: 0.3126 - loss/inference_loss: 0.3126 - val_loss: 0.1593 - val_loss/inference_loss: 0.1593\n",
      "Epoch 39/50\n",
      "\u001b[1m512/512\u001b[0m \u001b[32m━━━━━━━━━━━━━━━━━━━━\u001b[0m\u001b[37m\u001b[0m \u001b[1m4s\u001b[0m 7ms/step - loss: 0.3129 - loss/inference_loss: 0.3129 - val_loss: 0.3732 - val_loss/inference_loss: 0.3732\n",
      "Epoch 40/50\n",
      "\u001b[1m512/512\u001b[0m \u001b[32m━━━━━━━━━━━━━━━━━━━━\u001b[0m\u001b[37m\u001b[0m \u001b[1m4s\u001b[0m 7ms/step - loss: 0.3195 - loss/inference_loss: 0.3195 - val_loss: 0.5310 - val_loss/inference_loss: 0.5310\n",
      "Epoch 41/50\n",
      "\u001b[1m512/512\u001b[0m \u001b[32m━━━━━━━━━━━━━━━━━━━━\u001b[0m\u001b[37m\u001b[0m \u001b[1m4s\u001b[0m 7ms/step - loss: 0.3181 - loss/inference_loss: 0.3181 - val_loss: 0.2578 - val_loss/inference_loss: 0.2578\n",
      "Epoch 42/50\n",
      "\u001b[1m512/512\u001b[0m \u001b[32m━━━━━━━━━━━━━━━━━━━━\u001b[0m\u001b[37m\u001b[0m \u001b[1m4s\u001b[0m 7ms/step - loss: 0.3207 - loss/inference_loss: 0.3207 - val_loss: 0.4119 - val_loss/inference_loss: 0.4119\n",
      "Epoch 43/50\n",
      "\u001b[1m512/512\u001b[0m \u001b[32m━━━━━━━━━━━━━━━━━━━━\u001b[0m\u001b[37m\u001b[0m \u001b[1m4s\u001b[0m 7ms/step - loss: 0.3145 - loss/inference_loss: 0.3145 - val_loss: 0.3098 - val_loss/inference_loss: 0.3098\n",
      "Epoch 44/50\n",
      "\u001b[1m512/512\u001b[0m \u001b[32m━━━━━━━━━━━━━━━━━━━━\u001b[0m\u001b[37m\u001b[0m \u001b[1m4s\u001b[0m 7ms/step - loss: 0.3102 - loss/inference_loss: 0.3102 - val_loss: 0.2802 - val_loss/inference_loss: 0.2802\n",
      "Epoch 45/50\n",
      "\u001b[1m512/512\u001b[0m \u001b[32m━━━━━━━━━━━━━━━━━━━━\u001b[0m\u001b[37m\u001b[0m \u001b[1m4s\u001b[0m 8ms/step - loss: 0.3074 - loss/inference_loss: 0.3074 - val_loss: 0.4118 - val_loss/inference_loss: 0.4118\n",
      "Epoch 46/50\n",
      "\u001b[1m512/512\u001b[0m \u001b[32m━━━━━━━━━━━━━━━━━━━━\u001b[0m\u001b[37m\u001b[0m \u001b[1m4s\u001b[0m 7ms/step - loss: 0.3123 - loss/inference_loss: 0.3123 - val_loss: 0.2853 - val_loss/inference_loss: 0.2853\n",
      "Epoch 47/50\n",
      "\u001b[1m512/512\u001b[0m \u001b[32m━━━━━━━━━━━━━━━━━━━━\u001b[0m\u001b[37m\u001b[0m \u001b[1m4s\u001b[0m 7ms/step - loss: 0.3149 - loss/inference_loss: 0.3149 - val_loss: 0.3158 - val_loss/inference_loss: 0.3158\n",
      "Epoch 48/50\n",
      "\u001b[1m512/512\u001b[0m \u001b[32m━━━━━━━━━━━━━━━━━━━━\u001b[0m\u001b[37m\u001b[0m \u001b[1m4s\u001b[0m 7ms/step - loss: 0.3088 - loss/inference_loss: 0.3088 - val_loss: 0.6561 - val_loss/inference_loss: 0.6561\n",
      "Epoch 49/50\n",
      "\u001b[1m512/512\u001b[0m \u001b[32m━━━━━━━━━━━━━━━━━━━━\u001b[0m\u001b[37m\u001b[0m \u001b[1m4s\u001b[0m 7ms/step - loss: 0.3146 - loss/inference_loss: 0.3146 - val_loss: 0.3316 - val_loss/inference_loss: 0.3316\n",
      "Epoch 50/50\n",
      "\u001b[1m512/512\u001b[0m \u001b[32m━━━━━━━━━━━━━━━━━━━━\u001b[0m\u001b[37m\u001b[0m \u001b[1m4s\u001b[0m 7ms/step - loss: 0.3137 - loss/inference_loss: 0.3137 - val_loss: 0.2490 - val_loss/inference_loss: 0.2490\n"
     ]
    }
   ],
   "source": [
    "history = flow_matching_workflow.fit_offline(\n",
    "    training_data, \n",
    "    epochs=epochs, \n",
    "    batch_size=batch_size, \n",
    "    validation_data=validation_data\n",
    ")"
   ]
  },
  {
   "cell_type": "markdown",
   "id": "66248a2f",
   "metadata": {},
   "source": [
    "## Swapping Inference Networks <a class=\"anchor\" id=\"swapping\"></a>\n",
    "\n",
    "Using BayesFlow, it is easy to switch to a different backbone architecture for the inference network. For instance, the code below demonstrates the use of a **Consistency Model**, which can allow for faster sampling during inference."
   ]
  },
  {
   "cell_type": "markdown",
   "id": "80a97232",
   "metadata": {
    "ExecuteTime": {
     "end_time": "2024-09-23T14:42:38.639240Z",
     "start_time": "2024-09-23T14:42:38.637439Z"
    }
   },
   "source": [
    "### Consistency Models: Background\n",
    "\n",
    "Consistency Models (CM; [1]) leverage the nice properties of score-based diffusion to enable few-step sampling. Score-based diffusion initially relied on a stochastic differential equation (SDE) for sampling, but there is also a ordinary (non-stochastic) differential equation (ODE)that has the same _marginal_ distribution at each time step $t$ [2]. This means that even though SDE and ODE produce different paths from the noise distribution to the target distribution, the resulting distributions when looking at many paths at time $t$ is the same. The ODE is also called Probability Flow ODE.\n",
    "\n",
    "CMs leverage the fact that there is no randomness in the ODE formulation. That means, if you start at a certain point in the latent space, you will always take the same path and end up at the same point in the target $\\theta$-space. The same is true for every point on the path: if you integrate to get to time $t=0$, you will end up at the same point as well. In short: for each path, there is exactly one corresponding point in latent space (at $t=T$) and one corresponding point in data space (at $t=0$). \n",
    "\n",
    "The goal of CMs is the following: each point at a time point $t$ belongs to exactly one path, and we want to predict where this path will end up at $t=0$. The function that does this is called the _consistency function_ $f$. If we have the correct function for all $t\\in(0,T]$, we can just sample from the latent distribution ($t=T$) and use $f$ to directly map to the corresponding point at $t=0$, which is in the target distribution. So for sampling from the target distribution, we avoid any integration and only need one evaluation of the consistency function. In practice, the one-step sampling does not work very well. Instead, we leverage a multi-step sampling method where we call $f$ multiple times. Please check out the [1] for more background on this sampling procedure.\n",
    "\n",
    "When reading the above, you might wonder why we also learn the mapping to $t=0$ of all intermediate time steps $t\\in[0, T]$, and not only for $t=T$. The main answer is that for efficient training, we do not want to actually compute the two associated points explicitly. Doing so would require to do a precise integration at training time, which is often not feasible as it is too computationally costly. Learning all time steps opens up the possibility for a different training approach where we can avoid this. The details of this become a bit more complicated, and we advise you to take a look at [1] if you are interested in a more thorough and mathematical discussion. Below, we will give a rough description of the underlying concepts.\n",
    "\n",
    "\n",
    "**Training** First, we know that at $t=0$, it holds that $f(\\theta,t=0)=\\theta$, as $\\theta$ is part of the path that ends at $\\theta$. This _boundary condition_ serves as an \"anchor\" for our training, this is the information that the network knows at the start of the training procedure (we encode it with a time-dependent skip-connection, so the network is forced to be the identity function at $t=0$). For training, we now somehow have to propagate this information to the rest of the part. The basic idea for this is simple. We just take a point $\\theta_1$ closer to the data distribution (smaller time $t_1$) and integrate for a small time step $dt$ to a point $\\theta_2$ on the same path that is closer to the latent distribution (larger time $t_2=t_1+dt$). As we know that for $t=0$ our network provides the correct output for our path, we want to propagate the information from smaller times to larger times. Our training goal is to move the output of $f(\\theta_2, t=t_2)$ towards the output of $f(\\theta_1, t=t_1)$. How to choose $\\theta_1$, $t_1$ and $dt$ is an empirical question, see the [1] for some thoughts on what works well.\n",
    "\n",
    "**Distilling inference** In the case of _distillation_, we start with a trained score-based diffusion model. We can use it to integrate the Probability Flow ODE to get from $\\theta_1$ to $\\theta_2$. If we do not have such a model, it seems as if we were stuck. We do not know which points lie on the same path, so we do not know which outputs to make similar. Fortunately, it turns out that there is an _unbiased approximator_ that, if averaged over many samples (check out the paper for the exact description), will also give us the correct score. If we use this approximator instead of the score model, and use only a single Euler step to move along the path, we get an algorithm similar to the one described for distillation. It is called Consistency Training (CT) and allows us to train a consistency model using only _samples_ from the data distribution. The algorithm for this was improved a lot in [3], and we have incorporated those improvements into our implementation.\n",
    "\n",
    "**Improving consistency training** We have made several approximations to get to a standalone *consistency training* algorithm. As a consequence, the introduced hyperparameters and their choice unfortunately becomes somewhat unintuitive. We have to rely on empirical observations and heuristics to see what works. This was done in [4], we encourage you to use the values provided there as starting points. If you happen to find hyperparameters that work significantly better, please let us know (e.g., by opening an issue or sending an email). This will help others to find the correct region in the hyperparameter space.\n",
    "\n",
    "[1] Song, Y., Dhariwal, P., Chen, M., & Sutskever, I. (2023). Consistency Models. _arXiv preprint_. [https://doi.org/10.48550/arXiv.2303.01469](https://doi.org/10.48550/arXiv.2303.01469)\n",
    "\n",
    "[2] Song, Y., Sohl-Dickstein, J., Kingma, D. P., Kumar, A., Ermon, S., & Poole, B. (2021). Score-Based Generative Modeling through Stochastic Differential Equations. In _International Conference on Learning Representations_. [https://openreview.net/forum?id=PxTIG12RRHS](https://openreview.net/forum?id=PxTIG12RRHS)\n",
    "\n",
    "[3] Song, Y., & Dhariwal, P. (2023). Improved Techniques for Training Consistency Models. _arXiv preprint_. [https://doi.org/10.48550/arXiv.2310.14189](https://doi.org/10.48550/arXiv.2310.14189)\n",
    "\n",
    "[4] Schmitt, M., Pratz, V., Köthe, U., Bürkner, P.-C., & Radev, S. T. (2024). Consistency Models for Scalable and Fast Simulation-Based Inference. _arXiv preprint_. [https://doi.org/10.48550/arXiv.2312.05440](https://doi.org/10.48550/arXiv.2312.05440)"
   ]
  },
  {
   "cell_type": "markdown",
   "id": "24b69117",
   "metadata": {},
   "source": [
    "### Consistency Models: Specification"
   ]
  },
  {
   "cell_type": "markdown",
   "id": "3016f08f",
   "metadata": {},
   "source": [
    "We can now go ahead and define our new inference network backbone. Apart from the usual parameters like learning rate and batch size, CMs come with a number of different hyperparameters. Unfortunately, they can heavily interact, so they can be hard to tune. The main hyperparameters are:\n",
    "\n",
    "- Maximum time `max_time`: This also serves as the standard deviation of the latent distribution. You can experiment with this, values from 10-200 seem to work well. In any case, it should be larger than the standard deviation of the target distribution.\n",
    "- Minimum/maximum number of discretization steps during training `s0`/`s1`: The effect of those is hard to grasp. 10 works well for `s0`. Intuitively, increasing `s1` along with the number of epochs should lead to better result, but in practice we sometimes observe a breakdown for high values of `s1`. This seems to be problem-dependent, so just try it out.\n",
    "- `sigma2` modifies the time-dependency of the skip connection. Its effect on the training is unclear, we recommend leaving it at 1.0 or setting it to the approximate variance of the target distribution.\n",
    "- Smallest time value `eps` ($t=\\epsilon$ is used instead of $t=0$ for numerical reasons): No large effect in our experiments, as long as it is kept small enough. Probably not worth tuning.\n",
    "\n",
    "You may find that different hyperparameter values work better for your tasks.\n",
    "\n",
    "A short note on dropout: in our experiments, dropout usually lead to worse performance, so generally we recommend setting the droput rate to $0.0$. Consistency training takes advantage of a noisy estimator of the score, so probably the training is already sufficiently noisy and extra dropout for regularization is not necessary."
   ]
  },
  {
   "cell_type": "code",
   "execution_count": 13,
   "id": "d53a41b8",
   "metadata": {},
   "outputs": [],
   "source": [
    "# Compute the empirical variance of the draws from the prior θ ~ p(θ)\n",
    "consistency_model = bf.networks.ConsistencyModel(\n",
    "    subnet=\"mlp\",\n",
    "    subnet_kwargs={\"dropout\": 0.0, \"widths\": (256,)*6},\n",
    "    total_steps=num_training_batches*epochs,\n",
    "    max_time=10, # this probably needs to be tuned for a novel application\n",
    "    sigma2=1.0,  # the data adapter standardizes our parameters, so set to 1.0\n",
    ")\n",
    "\n",
    "# Workflow for consistency model\n",
    "consistency_model_workflow = bf.BasicWorkflow(\n",
    "    simulator=simulator,\n",
    "    adapter=adapter,\n",
    "    inference_network=consistency_model,\n",
    ")"
   ]
  },
  {
   "cell_type": "markdown",
   "id": "9fbcca16",
   "metadata": {},
   "source": [
    "### Consistency Training"
   ]
  },
  {
   "cell_type": "code",
   "execution_count": 14,
   "id": "c3c1a812",
   "metadata": {},
   "outputs": [
    {
     "name": "stderr",
     "output_type": "stream",
     "text": [
      "INFO:bayesflow:Fitting on dataset instance of OfflineDataset.\n",
      "INFO:bayesflow:Building on a test batch.\n"
     ]
    },
    {
     "name": "stdout",
     "output_type": "stream",
     "text": [
      "Epoch 1/50\n",
      "\u001b[1m512/512\u001b[0m \u001b[32m━━━━━━━━━━━━━━━━━━━━\u001b[0m\u001b[37m\u001b[0m \u001b[1m5s\u001b[0m 10ms/step - loss: 0.3800 - loss/inference_loss: 0.3800 - val_loss: 0.3108 - val_loss/inference_loss: 0.3108\n",
      "Epoch 2/50\n",
      "\u001b[1m512/512\u001b[0m \u001b[32m━━━━━━━━━━━━━━━━━━━━\u001b[0m\u001b[37m\u001b[0m \u001b[1m5s\u001b[0m 10ms/step - loss: 0.2986 - loss/inference_loss: 0.2986 - val_loss: 0.3360 - val_loss/inference_loss: 0.3360\n",
      "Epoch 3/50\n",
      "\u001b[1m512/512\u001b[0m \u001b[32m━━━━━━━━━━━━━━━━━━━━\u001b[0m\u001b[37m\u001b[0m \u001b[1m5s\u001b[0m 10ms/step - loss: 0.2895 - loss/inference_loss: 0.2895 - val_loss: 0.2638 - val_loss/inference_loss: 0.2638\n",
      "Epoch 4/50\n",
      "\u001b[1m512/512\u001b[0m \u001b[32m━━━━━━━━━━━━━━━━━━━━\u001b[0m\u001b[37m\u001b[0m \u001b[1m5s\u001b[0m 9ms/step - loss: 0.2793 - loss/inference_loss: 0.2793 - val_loss: 0.3517 - val_loss/inference_loss: 0.3517\n",
      "Epoch 5/50\n",
      "\u001b[1m512/512\u001b[0m \u001b[32m━━━━━━━━━━━━━━━━━━━━\u001b[0m\u001b[37m\u001b[0m \u001b[1m5s\u001b[0m 9ms/step - loss: 0.2657 - loss/inference_loss: 0.2657 - val_loss: 0.2884 - val_loss/inference_loss: 0.2884\n",
      "Epoch 6/50\n",
      "\u001b[1m512/512\u001b[0m \u001b[32m━━━━━━━━━━━━━━━━━━━━\u001b[0m\u001b[37m\u001b[0m \u001b[1m5s\u001b[0m 9ms/step - loss: 0.2632 - loss/inference_loss: 0.2632 - val_loss: 0.3073 - val_loss/inference_loss: 0.3073\n",
      "Epoch 7/50\n",
      "\u001b[1m512/512\u001b[0m \u001b[32m━━━━━━━━━━━━━━━━━━━━\u001b[0m\u001b[37m\u001b[0m \u001b[1m5s\u001b[0m 9ms/step - loss: 0.2626 - loss/inference_loss: 0.2626 - val_loss: 0.2134 - val_loss/inference_loss: 0.2134\n",
      "Epoch 8/50\n",
      "\u001b[1m512/512\u001b[0m \u001b[32m━━━━━━━━━━━━━━━━━━━━\u001b[0m\u001b[37m\u001b[0m \u001b[1m5s\u001b[0m 9ms/step - loss: 0.2576 - loss/inference_loss: 0.2576 - val_loss: 0.2020 - val_loss/inference_loss: 0.2020\n",
      "Epoch 9/50\n",
      "\u001b[1m512/512\u001b[0m \u001b[32m━━━━━━━━━━━━━━━━━━━━\u001b[0m\u001b[37m\u001b[0m \u001b[1m5s\u001b[0m 9ms/step - loss: 0.2542 - loss/inference_loss: 0.2542 - val_loss: 0.3717 - val_loss/inference_loss: 0.3717\n",
      "Epoch 10/50\n",
      "\u001b[1m512/512\u001b[0m \u001b[32m━━━━━━━━━━━━━━━━━━━━\u001b[0m\u001b[37m\u001b[0m \u001b[1m5s\u001b[0m 9ms/step - loss: 0.2569 - loss/inference_loss: 0.2569 - val_loss: 0.2525 - val_loss/inference_loss: 0.2525\n",
      "Epoch 11/50\n",
      "\u001b[1m512/512\u001b[0m \u001b[32m━━━━━━━━━━━━━━━━━━━━\u001b[0m\u001b[37m\u001b[0m \u001b[1m5s\u001b[0m 9ms/step - loss: 0.2533 - loss/inference_loss: 0.2533 - val_loss: 0.3239 - val_loss/inference_loss: 0.3239\n",
      "Epoch 12/50\n",
      "\u001b[1m512/512\u001b[0m \u001b[32m━━━━━━━━━━━━━━━━━━━━\u001b[0m\u001b[37m\u001b[0m \u001b[1m5s\u001b[0m 9ms/step - loss: 0.2514 - loss/inference_loss: 0.2514 - val_loss: 0.2952 - val_loss/inference_loss: 0.2952\n",
      "Epoch 13/50\n",
      "\u001b[1m512/512\u001b[0m \u001b[32m━━━━━━━━━━━━━━━━━━━━\u001b[0m\u001b[37m\u001b[0m \u001b[1m5s\u001b[0m 9ms/step - loss: 0.2464 - loss/inference_loss: 0.2464 - val_loss: 0.2516 - val_loss/inference_loss: 0.2516\n",
      "Epoch 14/50\n",
      "\u001b[1m512/512\u001b[0m \u001b[32m━━━━━━━━━━━━━━━━━━━━\u001b[0m\u001b[37m\u001b[0m \u001b[1m5s\u001b[0m 9ms/step - loss: 0.2469 - loss/inference_loss: 0.2469 - val_loss: 0.2013 - val_loss/inference_loss: 0.2013\n",
      "Epoch 15/50\n",
      "\u001b[1m512/512\u001b[0m \u001b[32m━━━━━━━━━━━━━━━━━━━━\u001b[0m\u001b[37m\u001b[0m \u001b[1m5s\u001b[0m 9ms/step - loss: 0.2488 - loss/inference_loss: 0.2488 - val_loss: 0.1807 - val_loss/inference_loss: 0.1807\n",
      "Epoch 16/50\n",
      "\u001b[1m512/512\u001b[0m \u001b[32m━━━━━━━━━━━━━━━━━━━━\u001b[0m\u001b[37m\u001b[0m \u001b[1m5s\u001b[0m 9ms/step - loss: 0.2548 - loss/inference_loss: 0.2548 - val_loss: 0.1875 - val_loss/inference_loss: 0.1875\n",
      "Epoch 17/50\n",
      "\u001b[1m512/512\u001b[0m \u001b[32m━━━━━━━━━━━━━━━━━━━━\u001b[0m\u001b[37m\u001b[0m \u001b[1m5s\u001b[0m 9ms/step - loss: 0.2519 - loss/inference_loss: 0.2519 - val_loss: 0.2052 - val_loss/inference_loss: 0.2052\n",
      "Epoch 18/50\n",
      "\u001b[1m512/512\u001b[0m \u001b[32m━━━━━━━━━━━━━━━━━━━━\u001b[0m\u001b[37m\u001b[0m \u001b[1m5s\u001b[0m 10ms/step - loss: 0.2462 - loss/inference_loss: 0.2462 - val_loss: 0.2799 - val_loss/inference_loss: 0.2799\n",
      "Epoch 19/50\n",
      "\u001b[1m512/512\u001b[0m \u001b[32m━━━━━━━━━━━━━━━━━━━━\u001b[0m\u001b[37m\u001b[0m \u001b[1m5s\u001b[0m 9ms/step - loss: 0.2486 - loss/inference_loss: 0.2486 - val_loss: 0.2492 - val_loss/inference_loss: 0.2492\n",
      "Epoch 20/50\n",
      "\u001b[1m512/512\u001b[0m \u001b[32m━━━━━━━━━━━━━━━━━━━━\u001b[0m\u001b[37m\u001b[0m \u001b[1m5s\u001b[0m 10ms/step - loss: 0.2456 - loss/inference_loss: 0.2456 - val_loss: 0.2752 - val_loss/inference_loss: 0.2752\n",
      "Epoch 21/50\n",
      "\u001b[1m512/512\u001b[0m \u001b[32m━━━━━━━━━━━━━━━━━━━━\u001b[0m\u001b[37m\u001b[0m \u001b[1m5s\u001b[0m 9ms/step - loss: 0.2405 - loss/inference_loss: 0.2405 - val_loss: 0.2575 - val_loss/inference_loss: 0.2575\n",
      "Epoch 22/50\n",
      "\u001b[1m512/512\u001b[0m \u001b[32m━━━━━━━━━━━━━━━━━━━━\u001b[0m\u001b[37m\u001b[0m \u001b[1m5s\u001b[0m 11ms/step - loss: 0.2400 - loss/inference_loss: 0.2400 - val_loss: 0.3290 - val_loss/inference_loss: 0.3290\n",
      "Epoch 23/50\n",
      "\u001b[1m512/512\u001b[0m \u001b[32m━━━━━━━━━━━━━━━━━━━━\u001b[0m\u001b[37m\u001b[0m \u001b[1m5s\u001b[0m 10ms/step - loss: 0.2370 - loss/inference_loss: 0.2370 - val_loss: 0.1535 - val_loss/inference_loss: 0.1535\n",
      "Epoch 24/50\n",
      "\u001b[1m512/512\u001b[0m \u001b[32m━━━━━━━━━━━━━━━━━━━━\u001b[0m\u001b[37m\u001b[0m \u001b[1m5s\u001b[0m 10ms/step - loss: 0.2379 - loss/inference_loss: 0.2379 - val_loss: 0.2386 - val_loss/inference_loss: 0.2386\n",
      "Epoch 25/50\n",
      "\u001b[1m512/512\u001b[0m \u001b[32m━━━━━━━━━━━━━━━━━━━━\u001b[0m\u001b[37m\u001b[0m \u001b[1m5s\u001b[0m 10ms/step - loss: 0.2334 - loss/inference_loss: 0.2334 - val_loss: 0.1072 - val_loss/inference_loss: 0.1072\n",
      "Epoch 26/50\n",
      "\u001b[1m512/512\u001b[0m \u001b[32m━━━━━━━━━━━━━━━━━━━━\u001b[0m\u001b[37m\u001b[0m \u001b[1m5s\u001b[0m 10ms/step - loss: 0.2332 - loss/inference_loss: 0.2332 - val_loss: 0.1792 - val_loss/inference_loss: 0.1792\n",
      "Epoch 27/50\n",
      "\u001b[1m512/512\u001b[0m \u001b[32m━━━━━━━━━━━━━━━━━━━━\u001b[0m\u001b[37m\u001b[0m \u001b[1m5s\u001b[0m 9ms/step - loss: 0.2363 - loss/inference_loss: 0.2363 - val_loss: 0.1673 - val_loss/inference_loss: 0.1673\n",
      "Epoch 28/50\n",
      "\u001b[1m512/512\u001b[0m \u001b[32m━━━━━━━━━━━━━━━━━━━━\u001b[0m\u001b[37m\u001b[0m \u001b[1m5s\u001b[0m 9ms/step - loss: 0.2319 - loss/inference_loss: 0.2319 - val_loss: 0.1724 - val_loss/inference_loss: 0.1724\n",
      "Epoch 29/50\n",
      "\u001b[1m512/512\u001b[0m \u001b[32m━━━━━━━━━━━━━━━━━━━━\u001b[0m\u001b[37m\u001b[0m \u001b[1m5s\u001b[0m 10ms/step - loss: 0.2301 - loss/inference_loss: 0.2301 - val_loss: 0.2285 - val_loss/inference_loss: 0.2285\n",
      "Epoch 30/50\n",
      "\u001b[1m512/512\u001b[0m \u001b[32m━━━━━━━━━━━━━━━━━━━━\u001b[0m\u001b[37m\u001b[0m \u001b[1m5s\u001b[0m 10ms/step - loss: 0.2383 - loss/inference_loss: 0.2383 - val_loss: 0.2040 - val_loss/inference_loss: 0.2040\n",
      "Epoch 31/50\n",
      "\u001b[1m512/512\u001b[0m \u001b[32m━━━━━━━━━━━━━━━━━━━━\u001b[0m\u001b[37m\u001b[0m \u001b[1m5s\u001b[0m 9ms/step - loss: 0.2239 - loss/inference_loss: 0.2239 - val_loss: 0.1776 - val_loss/inference_loss: 0.1776\n",
      "Epoch 32/50\n",
      "\u001b[1m512/512\u001b[0m \u001b[32m━━━━━━━━━━━━━━━━━━━━\u001b[0m\u001b[37m\u001b[0m \u001b[1m5s\u001b[0m 10ms/step - loss: 0.2196 - loss/inference_loss: 0.2196 - val_loss: 0.2143 - val_loss/inference_loss: 0.2143\n",
      "Epoch 33/50\n",
      "\u001b[1m512/512\u001b[0m \u001b[32m━━━━━━━━━━━━━━━━━━━━\u001b[0m\u001b[37m\u001b[0m \u001b[1m5s\u001b[0m 10ms/step - loss: 0.2233 - loss/inference_loss: 0.2233 - val_loss: 0.1818 - val_loss/inference_loss: 0.1818\n",
      "Epoch 34/50\n",
      "\u001b[1m512/512\u001b[0m \u001b[32m━━━━━━━━━━━━━━━━━━━━\u001b[0m\u001b[37m\u001b[0m \u001b[1m5s\u001b[0m 11ms/step - loss: 0.2186 - loss/inference_loss: 0.2186 - val_loss: 0.1944 - val_loss/inference_loss: 0.1944\n",
      "Epoch 35/50\n",
      "\u001b[1m512/512\u001b[0m \u001b[32m━━━━━━━━━━━━━━━━━━━━\u001b[0m\u001b[37m\u001b[0m \u001b[1m5s\u001b[0m 10ms/step - loss: 0.2188 - loss/inference_loss: 0.2188 - val_loss: 0.1284 - val_loss/inference_loss: 0.1284\n",
      "Epoch 36/50\n",
      "\u001b[1m512/512\u001b[0m \u001b[32m━━━━━━━━━━━━━━━━━━━━\u001b[0m\u001b[37m\u001b[0m \u001b[1m5s\u001b[0m 10ms/step - loss: 0.2134 - loss/inference_loss: 0.2134 - val_loss: 0.4489 - val_loss/inference_loss: 0.4489\n",
      "Epoch 37/50\n",
      "\u001b[1m512/512\u001b[0m \u001b[32m━━━━━━━━━━━━━━━━━━━━\u001b[0m\u001b[37m\u001b[0m \u001b[1m5s\u001b[0m 9ms/step - loss: 0.2166 - loss/inference_loss: 0.2166 - val_loss: 0.1831 - val_loss/inference_loss: 0.1831\n",
      "Epoch 38/50\n",
      "\u001b[1m512/512\u001b[0m \u001b[32m━━━━━━━━━━━━━━━━━━━━\u001b[0m\u001b[37m\u001b[0m \u001b[1m5s\u001b[0m 10ms/step - loss: 0.2166 - loss/inference_loss: 0.2166 - val_loss: 0.3366 - val_loss/inference_loss: 0.3366\n",
      "Epoch 39/50\n",
      "\u001b[1m512/512\u001b[0m \u001b[32m━━━━━━━━━━━━━━━━━━━━\u001b[0m\u001b[37m\u001b[0m \u001b[1m5s\u001b[0m 10ms/step - loss: 0.2174 - loss/inference_loss: 0.2174 - val_loss: 0.2707 - val_loss/inference_loss: 0.2707\n",
      "Epoch 40/50\n",
      "\u001b[1m512/512\u001b[0m \u001b[32m━━━━━━━━━━━━━━━━━━━━\u001b[0m\u001b[37m\u001b[0m \u001b[1m5s\u001b[0m 10ms/step - loss: 0.2196 - loss/inference_loss: 0.2196 - val_loss: 0.1401 - val_loss/inference_loss: 0.1401\n",
      "Epoch 41/50\n",
      "\u001b[1m512/512\u001b[0m \u001b[32m━━━━━━━━━━━━━━━━━━━━\u001b[0m\u001b[37m\u001b[0m \u001b[1m5s\u001b[0m 10ms/step - loss: 0.2067 - loss/inference_loss: 0.2067 - val_loss: 0.4026 - val_loss/inference_loss: 0.4026\n",
      "Epoch 42/50\n",
      "\u001b[1m512/512\u001b[0m \u001b[32m━━━━━━━━━━━━━━━━━━━━\u001b[0m\u001b[37m\u001b[0m \u001b[1m5s\u001b[0m 10ms/step - loss: 0.2165 - loss/inference_loss: 0.2165 - val_loss: 0.1709 - val_loss/inference_loss: 0.1709\n",
      "Epoch 43/50\n",
      "\u001b[1m512/512\u001b[0m \u001b[32m━━━━━━━━━━━━━━━━━━━━\u001b[0m\u001b[37m\u001b[0m \u001b[1m6s\u001b[0m 11ms/step - loss: 0.2209 - loss/inference_loss: 0.2209 - val_loss: 0.1850 - val_loss/inference_loss: 0.1850\n",
      "Epoch 44/50\n",
      "\u001b[1m512/512\u001b[0m \u001b[32m━━━━━━━━━━━━━━━━━━━━\u001b[0m\u001b[37m\u001b[0m \u001b[1m5s\u001b[0m 10ms/step - loss: 0.2105 - loss/inference_loss: 0.2105 - val_loss: 0.2831 - val_loss/inference_loss: 0.2831\n",
      "Epoch 45/50\n",
      "\u001b[1m512/512\u001b[0m \u001b[32m━━━━━━━━━━━━━━━━━━━━\u001b[0m\u001b[37m\u001b[0m \u001b[1m5s\u001b[0m 10ms/step - loss: 0.2136 - loss/inference_loss: 0.2136 - val_loss: 0.0986 - val_loss/inference_loss: 0.0986\n",
      "Epoch 46/50\n",
      "\u001b[1m512/512\u001b[0m \u001b[32m━━━━━━━━━━━━━━━━━━━━\u001b[0m\u001b[37m\u001b[0m \u001b[1m5s\u001b[0m 10ms/step - loss: 0.2036 - loss/inference_loss: 0.2036 - val_loss: 0.2375 - val_loss/inference_loss: 0.2375\n",
      "Epoch 47/50\n",
      "\u001b[1m512/512\u001b[0m \u001b[32m━━━━━━━━━━━━━━━━━━━━\u001b[0m\u001b[37m\u001b[0m \u001b[1m5s\u001b[0m 10ms/step - loss: 0.2058 - loss/inference_loss: 0.2058 - val_loss: 0.1372 - val_loss/inference_loss: 0.1372\n",
      "Epoch 48/50\n",
      "\u001b[1m512/512\u001b[0m \u001b[32m━━━━━━━━━━━━━━━━━━━━\u001b[0m\u001b[37m\u001b[0m \u001b[1m5s\u001b[0m 10ms/step - loss: 0.2096 - loss/inference_loss: 0.2096 - val_loss: 0.2528 - val_loss/inference_loss: 0.2528\n",
      "Epoch 49/50\n",
      "\u001b[1m512/512\u001b[0m \u001b[32m━━━━━━━━━━━━━━━━━━━━\u001b[0m\u001b[37m\u001b[0m \u001b[1m5s\u001b[0m 10ms/step - loss: 0.2114 - loss/inference_loss: 0.2114 - val_loss: 0.5245 - val_loss/inference_loss: 0.5245\n",
      "Epoch 50/50\n",
      "\u001b[1m512/512\u001b[0m \u001b[32m━━━━━━━━━━━━━━━━━━━━\u001b[0m\u001b[37m\u001b[0m \u001b[1m5s\u001b[0m 10ms/step - loss: 0.1950 - loss/inference_loss: 0.1950 - val_loss: 0.2419 - val_loss/inference_loss: 0.2419\n"
     ]
    }
   ],
   "source": [
    "history = consistency_model_workflow.fit_offline(\n",
    "    training_data, \n",
    "    epochs=epochs, \n",
    "    batch_size=batch_size, \n",
    "    validation_data=validation_data\n",
    ")"
   ]
  },
  {
   "cell_type": "markdown",
   "id": "a94a43f6",
   "metadata": {},
   "source": [
    "## Good 'ol Coupling Flows\n",
    "\n",
    "Of course, BayesFlow also supports established coupling flow models with a variety of parameters, including the timeless *affine* and *spline* flows."
   ]
  },
  {
   "cell_type": "code",
   "execution_count": 23,
   "id": "69bec2e2",
   "metadata": {},
   "outputs": [],
   "source": [
    "affine_flow = bf.networks.CouplingFlow(subnet=\"mlp\")\n",
    "\n",
    "affine_flow_workflow = bf.BasicWorkflow(\n",
    "    simulator=simulator,\n",
    "    adapter=adapter,\n",
    "    inference_network=affine_flow,\n",
    ")"
   ]
  },
  {
   "cell_type": "code",
   "execution_count": 15,
   "id": "27b83a8f",
   "metadata": {},
   "outputs": [],
   "source": [
    "spline_flow = bf.networks.CouplingFlow(subnet=\"mlp\", transform=\"spline\", depth=4)\n",
    "\n",
    "spline_flow_workflow = bf.BasicWorkflow(\n",
    "    simulator=simulator,\n",
    "    adapter=adapter,\n",
    "    inference_network=spline_flow,\n",
    ")"
   ]
  },
  {
   "cell_type": "markdown",
   "id": "8aecf471",
   "metadata": {},
   "source": [
    "### Coupling Flow Training\n",
    "\n",
    "First, we train the classic coupling flow:"
   ]
  },
  {
   "cell_type": "code",
   "execution_count": 26,
   "id": "f52e8e49",
   "metadata": {},
   "outputs": [
    {
     "name": "stderr",
     "output_type": "stream",
     "text": [
      "INFO:bayesflow:Fitting on dataset instance of OfflineDataset.\n",
      "INFO:bayesflow:Building on a test batch.\n"
     ]
    },
    {
     "name": "stdout",
     "output_type": "stream",
     "text": [
      "Epoch 1/30\n",
      "\u001b[1m512/512\u001b[0m \u001b[32m━━━━━━━━━━━━━━━━━━━━\u001b[0m\u001b[37m\u001b[0m \u001b[1m14s\u001b[0m 28ms/step - loss: 0.2290 - loss/inference_loss: 0.2290 - val_loss: -0.8323 - val_loss/inference_loss: -0.8323\n",
      "Epoch 2/30\n",
      "\u001b[1m512/512\u001b[0m \u001b[32m━━━━━━━━━━━━━━━━━━━━\u001b[0m\u001b[37m\u001b[0m \u001b[1m14s\u001b[0m 28ms/step - loss: -1.5712 - loss/inference_loss: -1.5712 - val_loss: -2.0434 - val_loss/inference_loss: -2.0434\n",
      "Epoch 3/30\n",
      "\u001b[1m512/512\u001b[0m \u001b[32m━━━━━━━━━━━━━━━━━━━━\u001b[0m\u001b[37m\u001b[0m \u001b[1m14s\u001b[0m 28ms/step - loss: -2.2692 - loss/inference_loss: -2.2692 - val_loss: -2.3565 - val_loss/inference_loss: -2.3565\n",
      "Epoch 4/30\n",
      "\u001b[1m512/512\u001b[0m \u001b[32m━━━━━━━━━━━━━━━━━━━━\u001b[0m\u001b[37m\u001b[0m \u001b[1m14s\u001b[0m 28ms/step - loss: -2.3867 - loss/inference_loss: -2.3867 - val_loss: -2.3417 - val_loss/inference_loss: -2.3417\n",
      "Epoch 5/30\n",
      "\u001b[1m512/512\u001b[0m \u001b[32m━━━━━━━━━━━━━━━━━━━━\u001b[0m\u001b[37m\u001b[0m \u001b[1m14s\u001b[0m 28ms/step - loss: -2.5808 - loss/inference_loss: -2.5808 - val_loss: -2.5765 - val_loss/inference_loss: -2.5765\n",
      "Epoch 6/30\n",
      "\u001b[1m512/512\u001b[0m \u001b[32m━━━━━━━━━━━━━━━━━━━━\u001b[0m\u001b[37m\u001b[0m \u001b[1m14s\u001b[0m 28ms/step - loss: -2.6302 - loss/inference_loss: -2.6302 - val_loss: -2.5085 - val_loss/inference_loss: -2.5085\n",
      "Epoch 7/30\n",
      "\u001b[1m512/512\u001b[0m \u001b[32m━━━━━━━━━━━━━━━━━━━━\u001b[0m\u001b[37m\u001b[0m \u001b[1m14s\u001b[0m 28ms/step - loss: -2.7585 - loss/inference_loss: -2.7585 - val_loss: -3.1151 - val_loss/inference_loss: -3.1151\n",
      "Epoch 8/30\n",
      "\u001b[1m512/512\u001b[0m \u001b[32m━━━━━━━━━━━━━━━━━━━━\u001b[0m\u001b[37m\u001b[0m \u001b[1m14s\u001b[0m 28ms/step - loss: -2.8160 - loss/inference_loss: -2.8160 - val_loss: -2.5356 - val_loss/inference_loss: -2.5356\n",
      "Epoch 9/30\n",
      "\u001b[1m512/512\u001b[0m \u001b[32m━━━━━━━━━━━━━━━━━━━━\u001b[0m\u001b[37m\u001b[0m \u001b[1m15s\u001b[0m 29ms/step - loss: -2.8852 - loss/inference_loss: -2.8852 - val_loss: -2.9636 - val_loss/inference_loss: -2.9636\n",
      "Epoch 10/30\n",
      "\u001b[1m512/512\u001b[0m \u001b[32m━━━━━━━━━━━━━━━━━━━━\u001b[0m\u001b[37m\u001b[0m \u001b[1m15s\u001b[0m 30ms/step - loss: -2.9492 - loss/inference_loss: -2.9492 - val_loss: -3.0074 - val_loss/inference_loss: -3.0074\n",
      "Epoch 11/30\n",
      "\u001b[1m512/512\u001b[0m \u001b[32m━━━━━━━━━━━━━━━━━━━━\u001b[0m\u001b[37m\u001b[0m \u001b[1m15s\u001b[0m 29ms/step - loss: -2.9622 - loss/inference_loss: -2.9622 - val_loss: -2.9955 - val_loss/inference_loss: -2.9955\n",
      "Epoch 12/30\n",
      "\u001b[1m512/512\u001b[0m \u001b[32m━━━━━━━━━━━━━━━━━━━━\u001b[0m\u001b[37m\u001b[0m \u001b[1m15s\u001b[0m 30ms/step - loss: -2.9737 - loss/inference_loss: -2.9737 - val_loss: -3.3061 - val_loss/inference_loss: -3.3061\n",
      "Epoch 13/30\n",
      "\u001b[1m512/512\u001b[0m \u001b[32m━━━━━━━━━━━━━━━━━━━━\u001b[0m\u001b[37m\u001b[0m \u001b[1m15s\u001b[0m 30ms/step - loss: -3.0171 - loss/inference_loss: -3.0171 - val_loss: -3.1255 - val_loss/inference_loss: -3.1255\n",
      "Epoch 14/30\n",
      "\u001b[1m512/512\u001b[0m \u001b[32m━━━━━━━━━━━━━━━━━━━━\u001b[0m\u001b[37m\u001b[0m \u001b[1m16s\u001b[0m 30ms/step - loss: -3.0618 - loss/inference_loss: -3.0618 - val_loss: -3.1237 - val_loss/inference_loss: -3.1237\n",
      "Epoch 15/30\n",
      "\u001b[1m512/512\u001b[0m \u001b[32m━━━━━━━━━━━━━━━━━━━━\u001b[0m\u001b[37m\u001b[0m \u001b[1m15s\u001b[0m 29ms/step - loss: -3.0469 - loss/inference_loss: -3.0469 - val_loss: -3.0981 - val_loss/inference_loss: -3.0981\n",
      "Epoch 16/30\n",
      "\u001b[1m512/512\u001b[0m \u001b[32m━━━━━━━━━━━━━━━━━━━━\u001b[0m\u001b[37m\u001b[0m \u001b[1m15s\u001b[0m 29ms/step - loss: -3.0763 - loss/inference_loss: -3.0763 - val_loss: -2.8202 - val_loss/inference_loss: -2.8202\n",
      "Epoch 17/30\n",
      "\u001b[1m512/512\u001b[0m \u001b[32m━━━━━━━━━━━━━━━━━━━━\u001b[0m\u001b[37m\u001b[0m \u001b[1m16s\u001b[0m 31ms/step - loss: -3.1000 - loss/inference_loss: -3.1000 - val_loss: -3.2647 - val_loss/inference_loss: -3.2647\n",
      "Epoch 18/30\n",
      "\u001b[1m512/512\u001b[0m \u001b[32m━━━━━━━━━━━━━━━━━━━━\u001b[0m\u001b[37m\u001b[0m \u001b[1m15s\u001b[0m 29ms/step - loss: -3.1234 - loss/inference_loss: -3.1234 - val_loss: -3.1656 - val_loss/inference_loss: -3.1656\n",
      "Epoch 19/30\n",
      "\u001b[1m512/512\u001b[0m \u001b[32m━━━━━━━━━━━━━━━━━━━━\u001b[0m\u001b[37m\u001b[0m \u001b[1m15s\u001b[0m 29ms/step - loss: -3.1545 - loss/inference_loss: -3.1545 - val_loss: -3.0332 - val_loss/inference_loss: -3.0332\n",
      "Epoch 20/30\n",
      "\u001b[1m512/512\u001b[0m \u001b[32m━━━━━━━━━━━━━━━━━━━━\u001b[0m\u001b[37m\u001b[0m \u001b[1m15s\u001b[0m 30ms/step - loss: -3.1685 - loss/inference_loss: -3.1685 - val_loss: -3.0147 - val_loss/inference_loss: -3.0147\n",
      "Epoch 21/30\n",
      "\u001b[1m512/512\u001b[0m \u001b[32m━━━━━━━━━━━━━━━━━━━━\u001b[0m\u001b[37m\u001b[0m \u001b[1m15s\u001b[0m 30ms/step - loss: -3.2025 - loss/inference_loss: -3.2025 - val_loss: -3.1795 - val_loss/inference_loss: -3.1795\n",
      "Epoch 22/30\n",
      "\u001b[1m512/512\u001b[0m \u001b[32m━━━━━━━━━━━━━━━━━━━━\u001b[0m\u001b[37m\u001b[0m \u001b[1m15s\u001b[0m 29ms/step - loss: -3.2134 - loss/inference_loss: -3.2134 - val_loss: -2.8194 - val_loss/inference_loss: -2.8194\n",
      "Epoch 23/30\n",
      "\u001b[1m512/512\u001b[0m \u001b[32m━━━━━━━━━━━━━━━━━━━━\u001b[0m\u001b[37m\u001b[0m \u001b[1m15s\u001b[0m 29ms/step - loss: -3.2285 - loss/inference_loss: -3.2285 - val_loss: -3.1756 - val_loss/inference_loss: -3.1756\n",
      "Epoch 24/30\n",
      "\u001b[1m512/512\u001b[0m \u001b[32m━━━━━━━━━━━━━━━━━━━━\u001b[0m\u001b[37m\u001b[0m \u001b[1m15s\u001b[0m 29ms/step - loss: -3.2474 - loss/inference_loss: -3.2474 - val_loss: -3.0699 - val_loss/inference_loss: -3.0699\n",
      "Epoch 25/30\n",
      "\u001b[1m512/512\u001b[0m \u001b[32m━━━━━━━━━━━━━━━━━━━━\u001b[0m\u001b[37m\u001b[0m \u001b[1m15s\u001b[0m 29ms/step - loss: -3.2683 - loss/inference_loss: -3.2683 - val_loss: -3.3129 - val_loss/inference_loss: -3.3129\n",
      "Epoch 26/30\n",
      "\u001b[1m512/512\u001b[0m \u001b[32m━━━━━━━━━━━━━━━━━━━━\u001b[0m\u001b[37m\u001b[0m \u001b[1m15s\u001b[0m 29ms/step - loss: -3.2760 - loss/inference_loss: -3.2760 - val_loss: -3.3630 - val_loss/inference_loss: -3.3630\n",
      "Epoch 27/30\n",
      "\u001b[1m512/512\u001b[0m \u001b[32m━━━━━━━━━━━━━━━━━━━━\u001b[0m\u001b[37m\u001b[0m \u001b[1m15s\u001b[0m 28ms/step - loss: -3.2856 - loss/inference_loss: -3.2856 - val_loss: -3.4074 - val_loss/inference_loss: -3.4074\n",
      "Epoch 28/30\n",
      "\u001b[1m512/512\u001b[0m \u001b[32m━━━━━━━━━━━━━━━━━━━━\u001b[0m\u001b[37m\u001b[0m \u001b[1m15s\u001b[0m 29ms/step - loss: -3.2906 - loss/inference_loss: -3.2906 - val_loss: -3.0673 - val_loss/inference_loss: -3.0673\n",
      "Epoch 29/30\n",
      "\u001b[1m512/512\u001b[0m \u001b[32m━━━━━━━━━━━━━━━━━━━━\u001b[0m\u001b[37m\u001b[0m \u001b[1m15s\u001b[0m 28ms/step - loss: -3.2932 - loss/inference_loss: -3.2932 - val_loss: -3.0431 - val_loss/inference_loss: -3.0431\n",
      "Epoch 30/30\n",
      "\u001b[1m512/512\u001b[0m \u001b[32m━━━━━━━━━━━━━━━━━━━━\u001b[0m\u001b[37m\u001b[0m \u001b[1m15s\u001b[0m 29ms/step - loss: -3.2255 - loss/inference_loss: -3.2255 - val_loss: -3.3066 - val_loss/inference_loss: -3.3066\n"
     ]
    }
   ],
   "source": [
    "history = affine_flow_workflow.fit_offline(\n",
    "    training_data,\n",
    "    epochs=30,\n",
    "    batch_size=batch_size,\n",
    "    validation_data=validation_data\n",
    ")"
   ]
  },
  {
   "cell_type": "markdown",
   "id": "7fc745f3",
   "metadata": {},
   "source": [
    "Next, we train a spline flow for fewer epochs. Spline flows will generally outperform affine flows on multi-modal, low-dimensional problems."
   ]
  },
  {
   "cell_type": "code",
   "execution_count": 19,
   "id": "afa9839f",
   "metadata": {},
   "outputs": [
    {
     "name": "stderr",
     "output_type": "stream",
     "text": [
      "INFO:bayesflow:Fitting on dataset instance of OfflineDataset.\n",
      "INFO:bayesflow:Building on a test batch.\n"
     ]
    },
    {
     "name": "stdout",
     "output_type": "stream",
     "text": [
      "Epoch 1/50\n",
      "\u001b[1m512/512\u001b[0m \u001b[32m━━━━━━━━━━━━━━━━━━━━\u001b[0m\u001b[37m\u001b[0m \u001b[1m21s\u001b[0m 40ms/step - loss: 0.2557 - loss/inference_loss: 0.2557 - val_loss: -1.1560 - val_loss/inference_loss: -1.1560\n",
      "Epoch 2/50\n",
      "\u001b[1m512/512\u001b[0m \u001b[32m━━━━━━━━━━━━━━━━━━━━\u001b[0m\u001b[37m\u001b[0m \u001b[1m21s\u001b[0m 41ms/step - loss: -1.7267 - loss/inference_loss: -1.7267 - val_loss: -1.9166 - val_loss/inference_loss: -1.9166\n",
      "Epoch 3/50\n",
      "\u001b[1m512/512\u001b[0m \u001b[32m━━━━━━━━━━━━━━━━━━━━\u001b[0m\u001b[37m\u001b[0m \u001b[1m21s\u001b[0m 41ms/step - loss: -2.2900 - loss/inference_loss: -2.2900 - val_loss: -2.1307 - val_loss/inference_loss: -2.1307\n",
      "Epoch 4/50\n",
      "\u001b[1m512/512\u001b[0m \u001b[32m━━━━━━━━━━━━━━━━━━━━\u001b[0m\u001b[37m\u001b[0m \u001b[1m22s\u001b[0m 42ms/step - loss: -2.5632 - loss/inference_loss: -2.5632 - val_loss: -2.4289 - val_loss/inference_loss: -2.4289\n",
      "Epoch 5/50\n",
      "\u001b[1m512/512\u001b[0m \u001b[32m━━━━━━━━━━━━━━━━━━━━\u001b[0m\u001b[37m\u001b[0m \u001b[1m21s\u001b[0m 41ms/step - loss: -2.7059 - loss/inference_loss: -2.7059 - val_loss: -2.8752 - val_loss/inference_loss: -2.8752\n",
      "Epoch 6/50\n",
      "\u001b[1m512/512\u001b[0m \u001b[32m━━━━━━━━━━━━━━━━━━━━\u001b[0m\u001b[37m\u001b[0m \u001b[1m21s\u001b[0m 41ms/step - loss: -2.8034 - loss/inference_loss: -2.8034 - val_loss: -3.0029 - val_loss/inference_loss: -3.0029\n",
      "Epoch 7/50\n",
      "\u001b[1m512/512\u001b[0m \u001b[32m━━━━━━━━━━━━━━━━━━━━\u001b[0m\u001b[37m\u001b[0m \u001b[1m21s\u001b[0m 41ms/step - loss: -2.9462 - loss/inference_loss: -2.9462 - val_loss: -2.7195 - val_loss/inference_loss: -2.7195\n",
      "Epoch 8/50\n",
      "\u001b[1m512/512\u001b[0m \u001b[32m━━━━━━━━━━━━━━━━━━━━\u001b[0m\u001b[37m\u001b[0m \u001b[1m22s\u001b[0m 43ms/step - loss: -3.0153 - loss/inference_loss: -3.0153 - val_loss: -2.8867 - val_loss/inference_loss: -2.8867\n",
      "Epoch 9/50\n",
      "\u001b[1m512/512\u001b[0m \u001b[32m━━━━━━━━━━━━━━━━━━━━\u001b[0m\u001b[37m\u001b[0m \u001b[1m22s\u001b[0m 43ms/step - loss: -3.0126 - loss/inference_loss: -3.0126 - val_loss: -2.9995 - val_loss/inference_loss: -2.9995\n",
      "Epoch 10/50\n",
      "\u001b[1m512/512\u001b[0m \u001b[32m━━━━━━━━━━━━━━━━━━━━\u001b[0m\u001b[37m\u001b[0m \u001b[1m23s\u001b[0m 44ms/step - loss: -3.0780 - loss/inference_loss: -3.0780 - val_loss: -3.1104 - val_loss/inference_loss: -3.1104\n",
      "Epoch 11/50\n",
      "\u001b[1m512/512\u001b[0m \u001b[32m━━━━━━━━━━━━━━━━━━━━\u001b[0m\u001b[37m\u001b[0m \u001b[1m22s\u001b[0m 43ms/step - loss: -3.0852 - loss/inference_loss: -3.0852 - val_loss: -2.7788 - val_loss/inference_loss: -2.7788\n",
      "Epoch 12/50\n",
      "\u001b[1m512/512\u001b[0m \u001b[32m━━━━━━━━━━━━━━━━━━━━\u001b[0m\u001b[37m\u001b[0m \u001b[1m20s\u001b[0m 39ms/step - loss: -3.1264 - loss/inference_loss: -3.1264 - val_loss: -2.8661 - val_loss/inference_loss: -2.8661\n",
      "Epoch 13/50\n",
      "\u001b[1m512/512\u001b[0m \u001b[32m━━━━━━━━━━━━━━━━━━━━\u001b[0m\u001b[37m\u001b[0m \u001b[1m20s\u001b[0m 39ms/step - loss: -3.1391 - loss/inference_loss: -3.1391 - val_loss: -3.1727 - val_loss/inference_loss: -3.1727\n",
      "Epoch 14/50\n",
      "\u001b[1m512/512\u001b[0m \u001b[32m━━━━━━━━━━━━━━━━━━━━\u001b[0m\u001b[37m\u001b[0m \u001b[1m20s\u001b[0m 40ms/step - loss: -3.1797 - loss/inference_loss: -3.1797 - val_loss: -3.4226 - val_loss/inference_loss: -3.4226\n",
      "Epoch 15/50\n",
      "\u001b[1m512/512\u001b[0m \u001b[32m━━━━━━━━━━━━━━━━━━━━\u001b[0m\u001b[37m\u001b[0m \u001b[1m20s\u001b[0m 40ms/step - loss: -3.1878 - loss/inference_loss: -3.1878 - val_loss: -3.2100 - val_loss/inference_loss: -3.2100\n",
      "Epoch 16/50\n",
      "\u001b[1m512/512\u001b[0m \u001b[32m━━━━━━━━━━━━━━━━━━━━\u001b[0m\u001b[37m\u001b[0m \u001b[1m20s\u001b[0m 39ms/step - loss: -3.1862 - loss/inference_loss: -3.1862 - val_loss: -3.1175 - val_loss/inference_loss: -3.1175\n",
      "Epoch 17/50\n",
      "\u001b[1m512/512\u001b[0m \u001b[32m━━━━━━━━━━━━━━━━━━━━\u001b[0m\u001b[37m\u001b[0m \u001b[1m20s\u001b[0m 39ms/step - loss: -3.1958 - loss/inference_loss: -3.1958 - val_loss: -3.1495 - val_loss/inference_loss: -3.1495\n",
      "Epoch 18/50\n",
      "\u001b[1m512/512\u001b[0m \u001b[32m━━━━━━━━━━━━━━━━━━━━\u001b[0m\u001b[37m\u001b[0m \u001b[1m21s\u001b[0m 41ms/step - loss: -3.2280 - loss/inference_loss: -3.2280 - val_loss: -3.0039 - val_loss/inference_loss: -3.0039\n",
      "Epoch 19/50\n",
      "\u001b[1m512/512\u001b[0m \u001b[32m━━━━━━━━━━━━━━━━━━━━\u001b[0m\u001b[37m\u001b[0m \u001b[1m21s\u001b[0m 40ms/step - loss: -3.2775 - loss/inference_loss: -3.2775 - val_loss: -3.2484 - val_loss/inference_loss: -3.2484\n",
      "Epoch 20/50\n",
      "\u001b[1m512/512\u001b[0m \u001b[32m━━━━━━━━━━━━━━━━━━━━\u001b[0m\u001b[37m\u001b[0m \u001b[1m21s\u001b[0m 40ms/step - loss: -3.2666 - loss/inference_loss: -3.2666 - val_loss: -3.0598 - val_loss/inference_loss: -3.0598\n",
      "Epoch 21/50\n",
      "\u001b[1m512/512\u001b[0m \u001b[32m━━━━━━━━━━━━━━━━━━━━\u001b[0m\u001b[37m\u001b[0m \u001b[1m21s\u001b[0m 42ms/step - loss: -3.3038 - loss/inference_loss: -3.3038 - val_loss: -3.1690 - val_loss/inference_loss: -3.1690\n",
      "Epoch 22/50\n",
      "\u001b[1m512/512\u001b[0m \u001b[32m━━━━━━━━━━━━━━━━━━━━\u001b[0m\u001b[37m\u001b[0m \u001b[1m21s\u001b[0m 41ms/step - loss: -3.3227 - loss/inference_loss: -3.3227 - val_loss: -3.4227 - val_loss/inference_loss: -3.4227\n",
      "Epoch 23/50\n",
      "\u001b[1m512/512\u001b[0m \u001b[32m━━━━━━━━━━━━━━━━━━━━\u001b[0m\u001b[37m\u001b[0m \u001b[1m21s\u001b[0m 41ms/step - loss: -3.2921 - loss/inference_loss: -3.2921 - val_loss: -3.4045 - val_loss/inference_loss: -3.4045\n",
      "Epoch 24/50\n",
      "\u001b[1m512/512\u001b[0m \u001b[32m━━━━━━━━━━━━━━━━━━━━\u001b[0m\u001b[37m\u001b[0m \u001b[1m20s\u001b[0m 40ms/step - loss: -3.3046 - loss/inference_loss: -3.3046 - val_loss: -3.3220 - val_loss/inference_loss: -3.3220\n",
      "Epoch 25/50\n",
      "\u001b[1m512/512\u001b[0m \u001b[32m━━━━━━━━━━━━━━━━━━━━\u001b[0m\u001b[37m\u001b[0m \u001b[1m21s\u001b[0m 41ms/step - loss: -3.3285 - loss/inference_loss: -3.3285 - val_loss: -3.0947 - val_loss/inference_loss: -3.0947\n",
      "Epoch 26/50\n",
      "\u001b[1m512/512\u001b[0m \u001b[32m━━━━━━━━━━━━━━━━━━━━\u001b[0m\u001b[37m\u001b[0m \u001b[1m21s\u001b[0m 40ms/step - loss: -3.3154 - loss/inference_loss: -3.3154 - val_loss: -3.4259 - val_loss/inference_loss: -3.4259\n",
      "Epoch 27/50\n",
      "\u001b[1m512/512\u001b[0m \u001b[32m━━━━━━━━━━━━━━━━━━━━\u001b[0m\u001b[37m\u001b[0m \u001b[1m21s\u001b[0m 41ms/step - loss: -3.3586 - loss/inference_loss: -3.3586 - val_loss: -3.2622 - val_loss/inference_loss: -3.2622\n",
      "Epoch 28/50\n",
      "\u001b[1m512/512\u001b[0m \u001b[32m━━━━━━━━━━━━━━━━━━━━\u001b[0m\u001b[37m\u001b[0m \u001b[1m20s\u001b[0m 40ms/step - loss: -3.3665 - loss/inference_loss: -3.3665 - val_loss: -3.1274 - val_loss/inference_loss: -3.1274\n",
      "Epoch 29/50\n",
      "\u001b[1m512/512\u001b[0m \u001b[32m━━━━━━━━━━━━━━━━━━━━\u001b[0m\u001b[37m\u001b[0m \u001b[1m21s\u001b[0m 40ms/step - loss: -3.3928 - loss/inference_loss: -3.3928 - val_loss: -3.4098 - val_loss/inference_loss: -3.4098\n",
      "Epoch 30/50\n",
      "\u001b[1m512/512\u001b[0m \u001b[32m━━━━━━━━━━━━━━━━━━━━\u001b[0m\u001b[37m\u001b[0m \u001b[1m21s\u001b[0m 41ms/step - loss: -3.4076 - loss/inference_loss: -3.4076 - val_loss: -3.2936 - val_loss/inference_loss: -3.2936\n",
      "Epoch 31/50\n",
      "\u001b[1m512/512\u001b[0m \u001b[32m━━━━━━━━━━━━━━━━━━━━\u001b[0m\u001b[37m\u001b[0m \u001b[1m21s\u001b[0m 41ms/step - loss: -3.4076 - loss/inference_loss: -3.4076 - val_loss: -3.2744 - val_loss/inference_loss: -3.2744\n",
      "Epoch 32/50\n",
      "\u001b[1m512/512\u001b[0m \u001b[32m━━━━━━━━━━━━━━━━━━━━\u001b[0m\u001b[37m\u001b[0m \u001b[1m21s\u001b[0m 41ms/step - loss: -3.4070 - loss/inference_loss: -3.4070 - val_loss: -3.4763 - val_loss/inference_loss: -3.4763\n",
      "Epoch 33/50\n",
      "\u001b[1m512/512\u001b[0m \u001b[32m━━━━━━━━━━━━━━━━━━━━\u001b[0m\u001b[37m\u001b[0m \u001b[1m21s\u001b[0m 41ms/step - loss: -3.4165 - loss/inference_loss: -3.4165 - val_loss: -3.3529 - val_loss/inference_loss: -3.3529\n",
      "Epoch 34/50\n",
      "\u001b[1m512/512\u001b[0m \u001b[32m━━━━━━━━━━━━━━━━━━━━\u001b[0m\u001b[37m\u001b[0m \u001b[1m21s\u001b[0m 42ms/step - loss: -3.4411 - loss/inference_loss: -3.4411 - val_loss: -3.3929 - val_loss/inference_loss: -3.3929\n",
      "Epoch 35/50\n",
      "\u001b[1m512/512\u001b[0m \u001b[32m━━━━━━━━━━━━━━━━━━━━\u001b[0m\u001b[37m\u001b[0m \u001b[1m20s\u001b[0m 39ms/step - loss: -3.4341 - loss/inference_loss: -3.4341 - val_loss: -3.0805 - val_loss/inference_loss: -3.0805\n",
      "Epoch 36/50\n",
      "\u001b[1m512/512\u001b[0m \u001b[32m━━━━━━━━━━━━━━━━━━━━\u001b[0m\u001b[37m\u001b[0m \u001b[1m21s\u001b[0m 40ms/step - loss: -3.4308 - loss/inference_loss: -3.4308 - val_loss: -3.4714 - val_loss/inference_loss: -3.4714\n",
      "Epoch 37/50\n",
      "\u001b[1m512/512\u001b[0m \u001b[32m━━━━━━━━━━━━━━━━━━━━\u001b[0m\u001b[37m\u001b[0m \u001b[1m21s\u001b[0m 41ms/step - loss: -3.4618 - loss/inference_loss: -3.4618 - val_loss: -3.4354 - val_loss/inference_loss: -3.4354\n",
      "Epoch 38/50\n",
      "\u001b[1m512/512\u001b[0m \u001b[32m━━━━━━━━━━━━━━━━━━━━\u001b[0m\u001b[37m\u001b[0m \u001b[1m21s\u001b[0m 41ms/step - loss: -3.4719 - loss/inference_loss: -3.4719 - val_loss: -3.2889 - val_loss/inference_loss: -3.2889\n",
      "Epoch 39/50\n",
      "\u001b[1m512/512\u001b[0m \u001b[32m━━━━━━━━━━━━━━━━━━━━\u001b[0m\u001b[37m\u001b[0m \u001b[1m20s\u001b[0m 39ms/step - loss: -3.4826 - loss/inference_loss: -3.4826 - val_loss: -2.9873 - val_loss/inference_loss: -2.9873\n",
      "Epoch 40/50\n",
      "\u001b[1m512/512\u001b[0m \u001b[32m━━━━━━━━━━━━━━━━━━━━\u001b[0m\u001b[37m\u001b[0m \u001b[1m20s\u001b[0m 39ms/step - loss: -3.4827 - loss/inference_loss: -3.4827 - val_loss: -3.4244 - val_loss/inference_loss: -3.4244\n",
      "Epoch 41/50\n",
      "\u001b[1m512/512\u001b[0m \u001b[32m━━━━━━━━━━━━━━━━━━━━\u001b[0m\u001b[37m\u001b[0m \u001b[1m20s\u001b[0m 39ms/step - loss: -3.4986 - loss/inference_loss: -3.4986 - val_loss: -3.3759 - val_loss/inference_loss: -3.3759\n",
      "Epoch 42/50\n",
      "\u001b[1m512/512\u001b[0m \u001b[32m━━━━━━━━━━━━━━━━━━━━\u001b[0m\u001b[37m\u001b[0m \u001b[1m20s\u001b[0m 39ms/step - loss: -3.5037 - loss/inference_loss: -3.5037 - val_loss: -3.5813 - val_loss/inference_loss: -3.5813\n",
      "Epoch 43/50\n",
      "\u001b[1m512/512\u001b[0m \u001b[32m━━━━━━━━━━━━━━━━━━━━\u001b[0m\u001b[37m\u001b[0m \u001b[1m20s\u001b[0m 39ms/step - loss: -3.5168 - loss/inference_loss: -3.5168 - val_loss: -3.2332 - val_loss/inference_loss: -3.2332\n",
      "Epoch 44/50\n",
      "\u001b[1m512/512\u001b[0m \u001b[32m━━━━━━━━━━━━━━━━━━━━\u001b[0m\u001b[37m\u001b[0m \u001b[1m20s\u001b[0m 39ms/step - loss: -3.5134 - loss/inference_loss: -3.5134 - val_loss: -3.5732 - val_loss/inference_loss: -3.5732\n",
      "Epoch 45/50\n",
      "\u001b[1m512/512\u001b[0m \u001b[32m━━━━━━━━━━━━━━━━━━━━\u001b[0m\u001b[37m\u001b[0m \u001b[1m20s\u001b[0m 39ms/step - loss: -3.5214 - loss/inference_loss: -3.5214 - val_loss: -3.3261 - val_loss/inference_loss: -3.3261\n",
      "Epoch 46/50\n",
      "\u001b[1m512/512\u001b[0m \u001b[32m━━━━━━━━━━━━━━━━━━━━\u001b[0m\u001b[37m\u001b[0m \u001b[1m20s\u001b[0m 39ms/step - loss: -3.5228 - loss/inference_loss: -3.5228 - val_loss: -3.4194 - val_loss/inference_loss: -3.4194\n",
      "Epoch 47/50\n",
      "\u001b[1m512/512\u001b[0m \u001b[32m━━━━━━━━━━━━━━━━━━━━\u001b[0m\u001b[37m\u001b[0m \u001b[1m21s\u001b[0m 41ms/step - loss: -3.5315 - loss/inference_loss: -3.5315 - val_loss: -3.4446 - val_loss/inference_loss: -3.4446\n",
      "Epoch 48/50\n",
      "\u001b[1m512/512\u001b[0m \u001b[32m━━━━━━━━━━━━━━━━━━━━\u001b[0m\u001b[37m\u001b[0m \u001b[1m21s\u001b[0m 41ms/step - loss: -3.5215 - loss/inference_loss: -3.5215 - val_loss: -3.5188 - val_loss/inference_loss: -3.5188\n",
      "Epoch 49/50\n",
      "\u001b[1m512/512\u001b[0m \u001b[32m━━━━━━━━━━━━━━━━━━━━\u001b[0m\u001b[37m\u001b[0m \u001b[1m21s\u001b[0m 42ms/step - loss: -3.4869 - loss/inference_loss: -3.4869 - val_loss: -3.5392 - val_loss/inference_loss: -3.5392\n",
      "Epoch 50/50\n",
      "\u001b[1m512/512\u001b[0m \u001b[32m━━━━━━━━━━━━━━━━━━━━\u001b[0m\u001b[37m\u001b[0m \u001b[1m22s\u001b[0m 43ms/step - loss: -3.4368 - loss/inference_loss: -3.4368 - val_loss: -3.4139 - val_loss/inference_loss: -3.4139\n"
     ]
    }
   ],
   "source": [
    "history = spline_flow_workflow.fit_offline(\n",
    "    training_data,\n",
    "    epochs=30,\n",
    "    batch_size=batch_size,\n",
    "    validation_data=validation_data\n",
    ")"
   ]
  },
  {
   "cell_type": "markdown",
   "id": "f6ffbb96",
   "metadata": {},
   "source": [
    "## Validation"
   ]
  },
  {
   "cell_type": "markdown",
   "id": "c0ca73c8",
   "metadata": {},
   "source": [
    "### Two Moons Posterior\n",
    "\n",
    "The two moons posterior at point $x = (0, 0)$ should resemble two crescent shapes. Below, we plot the corresponding posterior samples and posterior density. \n",
    "\n",
    "These results suggest that these generative networks can approximate the true posterior well. You can achieve an even better fit if you use online training, more epochs, or better optimizer hyperparameters."
   ]
  },
  {
   "cell_type": "code",
   "execution_count": 27,
   "id": "073bcd0b",
   "metadata": {},
   "outputs": [
    {
     "data": {
      "image/png": "[encoded data removed]",
      "text/plain": [
       "<Figure size 1500x600 with 4 Axes>"
      ]
     },
     "metadata": {},
     "output_type": "display_data"
    }
   ],
   "source": [
    "# Set the number of posterior draws you want to get\n",
    "num_samples = 3000\n",
    "\n",
    "# Obtain samples from amortized posterior\n",
    "conditions = {\"x\": np.array([[0.0, 0.0]]).astype(\"float32\")}\n",
    "\n",
    "# Prepare figure\n",
    "f, axes = plt.subplots(1, 4, figsize=(15, 6))\n",
    "\n",
    "# Obtain samples from the approximators (can also use the workflows' methods)\n",
    "nets = [\n",
    "    flow_matching_workflow.approximator, \n",
    "    consistency_model_workflow.approximator,\n",
    "    affine_flow_workflow.approximator,\n",
    "    spline_flow_workflow.approximator\n",
    "]\n",
    "names = [\"Flow Matching\", \"Consistency Model\", \"Affine Coupling Flow\", \"Spline Coupling Flow\"]\n",
    "colors = [\"#153c7a\", \"#7a1515\", \"#157a2d\", \"#7a6f15\"]\n",
    "\n",
    "for ax, net, name, color in zip(axes, nets, names, colors):\n",
    "\n",
    "    # Obtain samples\n",
    "    samples = net.sample(conditions=conditions, num_samples=num_samples)[\"theta\"]\n",
    "\n",
    "    # Plot samples\n",
    "    ax.scatter(samples[0, :, 0], samples[0, :, 1], color=color, alpha=0.75, s=0.5)\n",
    "    sns.despine(ax=ax)\n",
    "    ax.set_title(f\"{name}\", fontsize=16)\n",
    "    ax.grid(alpha=0.3)\n",
    "    ax.set_aspect(\"equal\", adjustable=\"box\")\n",
    "    ax.set_xlim([-0.5, 0.5])\n",
    "    ax.set_ylim([-0.5, 0.5])\n",
    "    ax.set_xlabel(r\"$\\theta_1$\", fontsize=15)\n",
    "    ax.set_ylabel(r\"$\\theta_2$\", fontsize=15)\n",
    "\n",
    "f.tight_layout()"
   ]
  },
  {
   "cell_type": "markdown",
   "id": "895b03ae",
   "metadata": {},
   "source": [
    "The posterior looks as we have expected in this case. However, in general, we do not know how the posterior is supposed to look like for any specific dataset. As such, we need diagnostics that validate the correctness of the inferred posterior. One such diagnostic is simulation-based calibration(SBC), which we can apply for free due to amortization. For more details on SBC and diagnostic plots, see:\n",
    "\n",
    "1. Talts, S., Betancourt, M., Simpson, D., Vehtari, A., & Gelman, A. (2018). Validating Bayesian inference algorithms with simulation-based calibration. *arXiv preprint*.\n",
    "2. Säilynoja, T., Bürkner, P. C., & Vehtari, A. (2022). Graphical test for discrete uniformity and its applications in goodness-of-fit evaluation and multiple sample comparison. *Statistics and Computing*.\n",
    "3. The practical SBC interpretation guide by Martin Modrák: https://hyunjimoon.github.io/SBC/articles/rank_visualizations.html\n",
    "\n",
    "Check out the next tutorial for a detailed walkthrough of the workflow's functionality."
   ]
  },
  {
   "cell_type": "code",
   "execution_count": null,
   "id": "886bce5c",
   "metadata": {},
   "outputs": [],
   "source": []
  }
 ],
 "metadata": {
  "kernelspec": {
   "display_name": "bf",
   "language": "python",
   "name": "python3"
  },
  "language_info": {
   "codemirror_mode": {
    "name": "ipython",
    "version": 3
   },
   "file_extension": ".py",
   "mimetype": "text/x-python",
   "name": "python",
   "nbconvert_exporter": "python",
   "pygments_lexer": "ipython3",
   "version": "3.11.11"
  },
  "toc": {
   "base_numbering": 1,
   "nav_menu": {},
   "number_sections": true,
   "sideBar": true,
   "skip_h1_title": true,
   "title_cell": "Table of Contents",
   "title_sidebar": "Contents",
   "toc_cell": true,
   "toc_position": {
    "height": "calc(100% - 180px)",
    "left": "10px",
    "top": "150px",
    "width": "165px"
   },
   "toc_section_display": true,
   "toc_window_display": true
  },
  "widgets": {
   "application/vnd.jupyter.widget-state+json": {
    "state": {},
    "version_major": 2,
    "version_minor": 0
   }
  }
 },
 "nbformat": 4,
 "nbformat_minor": 5
}
