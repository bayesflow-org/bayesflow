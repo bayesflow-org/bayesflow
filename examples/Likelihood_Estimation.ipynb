{
 "cells": [
  {
   "cell_type": "markdown",
   "id": "a122cfbe-6f3b-4f08-a5f4-e51f14ffd5a9",
   "metadata": {},
   "source": [
    "# Likelihood Estimation\n",
    "\n",
    "_Author: Valentin Pratz_\n",
    "\n",
    "The likelihood function $p(x|\\theta)$ describes the distribution of data $x$ conditional on parameters $\\theta$.\n",
    "While posterior estimation is the predominant use-case in BayesFlow, estimating likelihoods is possible as well.\n",
    "There are two main motivations to approximate a likelihood.\n",
    "First, one might want to estimate the _density_ of data $x$ for given parameters $\\theta$, which is not possible if one only has access to a simulator.\n",
    "Second, one might want to train an approximate _synthetic likelihood_ for faster sampling, leveraging the interpolation capacities of neural networks.\n",
    "\n",
    "Doing likelihood estimatin instead of posterior estimation requires only minor modifications to the pipeline.\n",
    "We will demonstrate the basic steps on a simple toy example below.\n",
    "If you have an idea for a more interesting case study, please make a pull request or reach out to us.\n",
    "\n",
    "## Toy Example\n",
    "\n",
    "We will use a very simple toy example, a bi-modal distribution obtained by mirroring a two-dimensional Gaussian at the origin. For simplicity, we only use the mean as a parameter, and use a fixed diagonal covariance matrix."
   ]
  },
  {
   "cell_type": "code",
   "execution_count": 1,
   "id": "2b7ba89f-f508-46a5-9dc8-64145fefd745",
   "metadata": {},
   "outputs": [
    {
     "name": "stderr",
     "output_type": "stream",
     "text": [
      "2025-05-29 19:34:45.282013: E external/local_xla/xla/stream_executor/cuda/cuda_fft.cc:477] Unable to register cuFFT factory: Attempting to register factory for plugin cuFFT when one has already been registered\n",
      "WARNING: All log messages before absl::InitializeLog() is called are written to STDERR\n",
      "E0000 00:00:1748547285.296109   67915 cuda_dnn.cc:8310] Unable to register cuDNN factory: Attempting to register factory for plugin cuDNN when one has already been registered\n",
      "E0000 00:00:1748547285.300706   67915 cuda_blas.cc:1418] Unable to register cuBLAS factory: Attempting to register factory for plugin cuBLAS when one has already been registered\n",
      "2025-05-29 19:34:45.316470: I tensorflow/core/platform/cpu_feature_guard.cc:210] This TensorFlow binary is optimized to use available CPU instructions in performance-critical operations.\n",
      "To enable the following instructions: AVX2 FMA, in other operations, rebuild TensorFlow with the appropriate compiler flags.\n",
      "2025-05-29 19:34:47.337817: E external/local_xla/xla/stream_executor/cuda/cuda_driver.cc:152] failed call to cuInit: INTERNAL: CUDA error: Failed call to cuInit: UNKNOWN ERROR (303)\n",
      "INFO:bayesflow:Using backend 'tensorflow'\n"
     ]
    }
   ],
   "source": [
    "import numpy as np\n",
    "import matplotlib.pyplot as plt\n",
    "import bayesflow as bf\n",
    "\n",
    "rng = np.random.default_rng()"
   ]
  },
  {
   "cell_type": "code",
   "execution_count": 2,
   "id": "ce313c71-3f10-44ee-995b-fc6780cfe86b",
   "metadata": {},
   "outputs": [],
   "source": [
    "def likelihood(theta):\n",
    "    loc = theta if rng.random() > 0.5 else -theta\n",
    "    return {\"x\": rng.normal(loc=loc, scale=0.2, size=theta.shape)}"
   ]
  },
  {
   "cell_type": "markdown",
   "id": "ec7d2034-7ac0-4b79-8c88-7c40c1f3e6b9",
   "metadata": {},
   "source": [
    "The likelihood $p(x|\\theta)$ is conditional on $\\theta$. As we know how we can produce as simulations, we can already look at samples from the likelihood for a given $\\theta$. The simulator serves as an _implicit likelihood_. Below, we specify the simulator with a fixed parameter that is passed to the likelihood function. We can then sample from the likelihood, and plot the resulting samples."
   ]
  },
  {
   "cell_type": "code",
   "execution_count": 3,
   "id": "477404d0-b3ff-4a8b-9a5c-26ba33db87c1",
   "metadata": {},
   "outputs": [],
   "source": [
    "theta_0 = np.array([1.0, 1.0])\n",
    "\n",
    "def params():\n",
    "    return {\"theta\": theta_0}\n",
    "\n",
    "simulator = bf.make_simulator([params, likelihood])"
   ]
  },
  {
   "cell_type": "code",
   "execution_count": 4,
   "id": "9d5c4f4b-cdf4-4c13-9c3f-775ed06fe751",
   "metadata": {},
   "outputs": [
    {
     "data": {
      "text/plain": [
       "(5000, 2)"
      ]
     },
     "execution_count": 4,
     "metadata": {},
     "output_type": "execute_result"
    }
   ],
   "source": [
    "sims = simulator.sample(5000)\n",
    "sims[\"x\"].shape"
   ]
  },
  {
   "cell_type": "code",
   "execution_count": 5,
   "id": "c97ab07c-ac46-4a8c-8525-e709a423abdc",
   "metadata": {},
   "outputs": [
    {
     "data": {
      "image/png": "[encoded data removed]",
      "text/plain": [
       "<Figure size 250x250 with 1 Axes>"
      ]
     },
     "metadata": {},
     "output_type": "display_data"
    }
   ],
   "source": [
    "plt.figure(figsize=(2.5, 2.5))\n",
    "plt.scatter(*sims[\"x\"].T, s=2, alpha=0.2)\n",
    "plt.xlabel(\"$\\\\theta_1$\")\n",
    "plt.ylabel(\"$\\\\theta_2$\")\n",
    "plt.gca().set_aspect(\"equal\", \"box\");"
   ]
  },
  {
   "cell_type": "markdown",
   "id": "61514dd0-e200-4a76-9b4e-2d7cf18e7564",
   "metadata": {},
   "source": [
    "While we could use those samples to produce an estimation of the likelihood for this specific parameter value, we often want to obtain an estimation for a range of parameter values. Similar to the prior distribution in posterior estimation, we can specify a function that randomly produces parameter values we are interested in. As we estimate the likelihood $p(x|\\theta)$, which is conditional on $\\theta$, how this function looks like will not change the \"ground truth\" we aim to estimate. In contrast, changing the prior in posterior estimation also changes the true posterior.\n",
    "\n",
    "In practice, different choices of this function can lead to different approximation results, as it determines how many simulations the approximator sees for each parameter region. Here, we choose a uniform distribution in the range from -2 to 2."
   ]
  },
  {
   "cell_type": "code",
   "execution_count": 6,
   "id": "5ec5cd64-3abd-49f5-808d-61fbaada5832",
   "metadata": {},
   "outputs": [],
   "source": [
    "def params():\n",
    "    theta = rng.uniform(-2, 2, (2,))\n",
    "    return {\"theta\": theta}\n",
    "\n",
    "simulator = bf.make_simulator([params, likelihood])"
   ]
  },
  {
   "cell_type": "markdown",
   "id": "521645f2-d297-4b08-a674-9cd9265a5035",
   "metadata": {},
   "source": [
    "## Training\n",
    "\n",
    "We are now ready to do the actual likelihood estimation. We want to learn the likelihood of the data $x$ conditional on the parameters $\\theta$. Therefore, we use the parameters as `inference_conditions`, and the data as `inference_variables`. We do not use a summary network, so no `summary_conditions` are present. We can use a `BasicWorkflow`, which allows us to easily specify the necessary parameters.\n",
    "\n",
    "`CouplingFlow`s are nice, because they enable fast sampling and likelihood evaluation, but they can struggle with multimodal distributions. Therefore, we will use a diffusion model here, at the cost of largely increased inference time. What one would choose in practice depends on the constraints regarding speed and accuracy. Note that accurate likelihood approximation can require a lot of training samples, especially when the distributions are complex and high-dimensional."
   ]
  },
  {
   "cell_type": "code",
   "execution_count": 7,
   "id": "e513c9de-2a6d-4af4-a510-056335b19007",
   "metadata": {},
   "outputs": [],
   "source": [
    "workflow = bf.BasicWorkflow(\n",
    "    simulator=simulator,\n",
    "    inference_network=bf.experimental.DiffusionModel(),\n",
    "    inference_variables=\"x\",\n",
    "    inference_conditions=\"theta\",\n",
    "    initial_learning_rate=1e-3\n",
    ")"
   ]
  },
  {
   "cell_type": "code",
   "execution_count": 8,
   "id": "e255b3d8-f9d4-4ad8-a6d8-c25812a935a0",
   "metadata": {},
   "outputs": [
    {
     "name": "stderr",
     "output_type": "stream",
     "text": [
      "INFO:bayesflow:Fitting on dataset instance of OnlineDataset.\n",
      "INFO:bayesflow:Building on a test batch.\n"
     ]
    },
    {
     "name": "stdout",
     "output_type": "stream",
     "text": [
      "Epoch 1/30\n",
      "\u001b[1m500/500\u001b[0m \u001b[32m━━━━━━━━━━━━━━━━━━━━\u001b[0m\u001b[37m\u001b[0m \u001b[1m4s\u001b[0m 5ms/step - loss: 2.1271 - loss/inference_loss: 2.1271 - val_loss: 4.5580 - val_loss/inference_loss: 4.5580\n",
      "Epoch 2/30\n",
      "\u001b[1m500/500\u001b[0m \u001b[32m━━━━━━━━━━━━━━━━━━━━\u001b[0m\u001b[37m\u001b[0m \u001b[1m2s\u001b[0m 4ms/step - loss: 1.7357 - loss/inference_loss: 1.7357 - val_loss: 1.1092 - val_loss/inference_loss: 1.1092\n",
      "Epoch 3/30\n",
      "\u001b[1m500/500\u001b[0m \u001b[32m━━━━━━━━━━━━━━━━━━━━\u001b[0m\u001b[37m\u001b[0m \u001b[1m2s\u001b[0m 4ms/step - loss: 1.4519 - loss/inference_loss: 1.4519 - val_loss: 1.1577 - val_loss/inference_loss: 1.1577\n",
      "Epoch 4/30\n",
      "\u001b[1m500/500\u001b[0m \u001b[32m━━━━━━━━━━━━━━━━━━━━\u001b[0m\u001b[37m\u001b[0m \u001b[1m2s\u001b[0m 4ms/step - loss: 1.2933 - loss/inference_loss: 1.2933 - val_loss: 1.6165 - val_loss/inference_loss: 1.6165\n",
      "Epoch 5/30\n",
      "\u001b[1m500/500\u001b[0m \u001b[32m━━━━━━━━━━━━━━━━━━━━\u001b[0m\u001b[37m\u001b[0m \u001b[1m2s\u001b[0m 5ms/step - loss: 1.1346 - loss/inference_loss: 1.1346 - val_loss: 3.3525 - val_loss/inference_loss: 3.3525\n",
      "Epoch 6/30\n",
      "\u001b[1m500/500\u001b[0m \u001b[32m━━━━━━━━━━━━━━━━━━━━\u001b[0m\u001b[37m\u001b[0m \u001b[1m2s\u001b[0m 4ms/step - loss: 1.1996 - loss/inference_loss: 1.1996 - val_loss: 1.8124 - val_loss/inference_loss: 1.8124\n",
      "Epoch 7/30\n",
      "\u001b[1m500/500\u001b[0m \u001b[32m━━━━━━━━━━━━━━━━━━━━\u001b[0m\u001b[37m\u001b[0m \u001b[1m2s\u001b[0m 4ms/step - loss: 1.1846 - loss/inference_loss: 1.1846 - val_loss: 0.9644 - val_loss/inference_loss: 0.9644\n",
      "Epoch 8/30\n",
      "\u001b[1m500/500\u001b[0m \u001b[32m━━━━━━━━━━━━━━━━━━━━\u001b[0m\u001b[37m\u001b[0m \u001b[1m2s\u001b[0m 4ms/step - loss: 1.1899 - loss/inference_loss: 1.1899 - val_loss: 1.5176 - val_loss/inference_loss: 1.5176\n",
      "Epoch 9/30\n",
      "\u001b[1m500/500\u001b[0m \u001b[32m━━━━━━━━━━━━━━━━━━━━\u001b[0m\u001b[37m\u001b[0m \u001b[1m2s\u001b[0m 4ms/step - loss: 1.1379 - loss/inference_loss: 1.1379 - val_loss: 0.9232 - val_loss/inference_loss: 0.9232\n",
      "Epoch 10/30\n",
      "\u001b[1m500/500\u001b[0m \u001b[32m━━━━━━━━━━━━━━━━━━━━\u001b[0m\u001b[37m\u001b[0m \u001b[1m2s\u001b[0m 4ms/step - loss: 1.2054 - loss/inference_loss: 1.2054 - val_loss: 1.4170 - val_loss/inference_loss: 1.4170\n",
      "Epoch 11/30\n",
      "\u001b[1m500/500\u001b[0m \u001b[32m━━━━━━━━━━━━━━━━━━━━\u001b[0m\u001b[37m\u001b[0m \u001b[1m2s\u001b[0m 4ms/step - loss: 1.0951 - loss/inference_loss: 1.0951 - val_loss: 1.0638 - val_loss/inference_loss: 1.0638\n",
      "Epoch 12/30\n",
      "\u001b[1m500/500\u001b[0m \u001b[32m━━━━━━━━━━━━━━━━━━━━\u001b[0m\u001b[37m\u001b[0m \u001b[1m2s\u001b[0m 4ms/step - loss: 1.1836 - loss/inference_loss: 1.1836 - val_loss: 0.9342 - val_loss/inference_loss: 0.9342\n",
      "Epoch 13/30\n",
      "\u001b[1m500/500\u001b[0m \u001b[32m━━━━━━━━━━━━━━━━━━━━\u001b[0m\u001b[37m\u001b[0m \u001b[1m2s\u001b[0m 4ms/step - loss: 1.0804 - loss/inference_loss: 1.0804 - val_loss: 0.7252 - val_loss/inference_loss: 0.7252\n",
      "Epoch 14/30\n",
      "\u001b[1m500/500\u001b[0m \u001b[32m━━━━━━━━━━━━━━━━━━━━\u001b[0m\u001b[37m\u001b[0m \u001b[1m2s\u001b[0m 4ms/step - loss: 1.1392 - loss/inference_loss: 1.1392 - val_loss: 2.2700 - val_loss/inference_loss: 2.2700\n",
      "Epoch 15/30\n",
      "\u001b[1m500/500\u001b[0m \u001b[32m━━━━━━━━━━━━━━━━━━━━\u001b[0m\u001b[37m\u001b[0m \u001b[1m2s\u001b[0m 4ms/step - loss: 1.1182 - loss/inference_loss: 1.1182 - val_loss: 1.0680 - val_loss/inference_loss: 1.0680\n",
      "Epoch 16/30\n",
      "\u001b[1m500/500\u001b[0m \u001b[32m━━━━━━━━━━━━━━━━━━━━\u001b[0m\u001b[37m\u001b[0m \u001b[1m2s\u001b[0m 4ms/step - loss: 1.0983 - loss/inference_loss: 1.0983 - val_loss: 1.2233 - val_loss/inference_loss: 1.2233\n",
      "Epoch 17/30\n",
      "\u001b[1m500/500\u001b[0m \u001b[32m━━━━━━━━━━━━━━━━━━━━\u001b[0m\u001b[37m\u001b[0m \u001b[1m2s\u001b[0m 4ms/step - loss: 1.1251 - loss/inference_loss: 1.1251 - val_loss: 1.1790 - val_loss/inference_loss: 1.1790\n",
      "Epoch 18/30\n",
      "\u001b[1m500/500\u001b[0m \u001b[32m━━━━━━━━━━━━━━━━━━━━\u001b[0m\u001b[37m\u001b[0m \u001b[1m2s\u001b[0m 4ms/step - loss: 1.1456 - loss/inference_loss: 1.1456 - val_loss: 1.8144 - val_loss/inference_loss: 1.8144\n",
      "Epoch 19/30\n",
      "\u001b[1m500/500\u001b[0m \u001b[32m━━━━━━━━━━━━━━━━━━━━\u001b[0m\u001b[37m\u001b[0m \u001b[1m2s\u001b[0m 5ms/step - loss: 1.0692 - loss/inference_loss: 1.0692 - val_loss: 0.6989 - val_loss/inference_loss: 0.6989\n",
      "Epoch 20/30\n",
      "\u001b[1m500/500\u001b[0m \u001b[32m━━━━━━━━━━━━━━━━━━━━\u001b[0m\u001b[37m\u001b[0m \u001b[1m2s\u001b[0m 5ms/step - loss: 1.1144 - loss/inference_loss: 1.1144 - val_loss: 0.7556 - val_loss/inference_loss: 0.7556\n",
      "Epoch 21/30\n",
      "\u001b[1m500/500\u001b[0m \u001b[32m━━━━━━━━━━━━━━━━━━━━\u001b[0m\u001b[37m\u001b[0m \u001b[1m2s\u001b[0m 4ms/step - loss: 1.1105 - loss/inference_loss: 1.1105 - val_loss: 0.7487 - val_loss/inference_loss: 0.7487\n",
      "Epoch 22/30\n",
      "\u001b[1m500/500\u001b[0m \u001b[32m━━━━━━━━━━━━━━━━━━━━\u001b[0m\u001b[37m\u001b[0m \u001b[1m2s\u001b[0m 4ms/step - loss: 1.0636 - loss/inference_loss: 1.0636 - val_loss: 0.8015 - val_loss/inference_loss: 0.8015\n",
      "Epoch 23/30\n",
      "\u001b[1m500/500\u001b[0m \u001b[32m━━━━━━━━━━━━━━━━━━━━\u001b[0m\u001b[37m\u001b[0m \u001b[1m2s\u001b[0m 5ms/step - loss: 1.0262 - loss/inference_loss: 1.0262 - val_loss: 1.5940 - val_loss/inference_loss: 1.5940\n",
      "Epoch 24/30\n",
      "\u001b[1m500/500\u001b[0m \u001b[32m━━━━━━━━━━━━━━━━━━━━\u001b[0m\u001b[37m\u001b[0m \u001b[1m2s\u001b[0m 4ms/step - loss: 1.1641 - loss/inference_loss: 1.1641 - val_loss: 0.5598 - val_loss/inference_loss: 0.5598\n",
      "Epoch 25/30\n",
      "\u001b[1m500/500\u001b[0m \u001b[32m━━━━━━━━━━━━━━━━━━━━\u001b[0m\u001b[37m\u001b[0m \u001b[1m2s\u001b[0m 5ms/step - loss: 1.0821 - loss/inference_loss: 1.0821 - val_loss: 6.4612 - val_loss/inference_loss: 6.4612\n",
      "Epoch 26/30\n",
      "\u001b[1m500/500\u001b[0m \u001b[32m━━━━━━━━━━━━━━━━━━━━\u001b[0m\u001b[37m\u001b[0m \u001b[1m2s\u001b[0m 4ms/step - loss: 1.0244 - loss/inference_loss: 1.0244 - val_loss: 0.8746 - val_loss/inference_loss: 0.8746\n",
      "Epoch 27/30\n",
      "\u001b[1m500/500\u001b[0m \u001b[32m━━━━━━━━━━━━━━━━━━━━\u001b[0m\u001b[37m\u001b[0m \u001b[1m2s\u001b[0m 5ms/step - loss: 1.0865 - loss/inference_loss: 1.0865 - val_loss: 0.8214 - val_loss/inference_loss: 0.8214\n",
      "Epoch 28/30\n",
      "\u001b[1m500/500\u001b[0m \u001b[32m━━━━━━━━━━━━━━━━━━━━\u001b[0m\u001b[37m\u001b[0m \u001b[1m2s\u001b[0m 4ms/step - loss: 1.0877 - loss/inference_loss: 1.0877 - val_loss: 0.7344 - val_loss/inference_loss: 0.7344\n",
      "Epoch 29/30\n",
      "\u001b[1m500/500\u001b[0m \u001b[32m━━━━━━━━━━━━━━━━━━━━\u001b[0m\u001b[37m\u001b[0m \u001b[1m2s\u001b[0m 5ms/step - loss: 1.0861 - loss/inference_loss: 1.0861 - val_loss: 0.7100 - val_loss/inference_loss: 0.7100\n",
      "Epoch 30/30\n",
      "\u001b[1m500/500\u001b[0m \u001b[32m━━━━━━━━━━━━━━━━━━━━\u001b[0m\u001b[37m\u001b[0m \u001b[1m2s\u001b[0m 4ms/step - loss: 1.0769 - loss/inference_loss: 1.0769 - val_loss: 1.0831 - val_loss/inference_loss: 1.0831\n"
     ]
    }
   ],
   "source": [
    "history = workflow.fit_online(epochs=30, num_batches_per_epoch=500, batch_size=64, validation_data=1024)"
   ]
  },
  {
   "cell_type": "markdown",
   "id": "0111c5a4-1e95-4531-b9b8-e63d33e69f38",
   "metadata": {},
   "source": [
    "## Evaluation\n",
    "\n",
    "We can now sample from the approximate likelihood by specifying $\\theta$ as the condition."
   ]
  },
  {
   "cell_type": "code",
   "execution_count": 9,
   "id": "0ce8b9ca-e76d-425e-bc69-d4226da14e11",
   "metadata": {},
   "outputs": [
    {
     "name": "stdout",
     "output_type": "stream",
     "text": [
      "CPU times: user 1min 15s, sys: 27.6 s, total: 1min 43s\n",
      "Wall time: 16.8 s\n"
     ]
    }
   ],
   "source": [
    "%%time\n",
    "approx_samples = workflow.sample(num_samples=5000, conditions={\"theta\": theta_0[None]})"
   ]
  },
  {
   "cell_type": "code",
   "execution_count": 10,
   "id": "7e6d8536-eb93-46e4-b257-e741d792eeb8",
   "metadata": {},
   "outputs": [
    {
     "data": {
      "text/plain": [
       "(1, 5000, 2)"
      ]
     },
     "execution_count": 10,
     "metadata": {},
     "output_type": "execute_result"
    }
   ],
   "source": [
    "approx_samples['x'].shape"
   ]
  },
  {
   "cell_type": "code",
   "execution_count": 11,
   "id": "1d6a5d98-37c4-4b78-98e8-7b9d41e06be7",
   "metadata": {},
   "outputs": [
    {
     "data": {
      "image/png": "[encoded data removed]",
      "text/plain": [
       "<Figure size 250x250 with 1 Axes>"
      ]
     },
     "metadata": {},
     "output_type": "display_data"
    }
   ],
   "source": [
    "plt.figure(figsize=(2.5, 2.5))\n",
    "plt.scatter(*approx_samples[\"x\"][0].T, s=2, alpha=0.2)\n",
    "plt.xlabel(\"$x_1$\")\n",
    "plt.ylabel(\"$x_2$\")\n",
    "plt.gca().set_aspect(\"equal\", \"box\");"
   ]
  },
  {
   "cell_type": "markdown",
   "id": "ed1b49c8-93c9-4ceb-9750-c0789c50db11",
   "metadata": {},
   "source": [
    "You might have noticed that we could already sample before training, as we needed this to actually train our model.\n",
    "Now, with the trained model, we can evaluate the likelihood density as well, which was not possible before.\n",
    "Below, we make a two-dimensional plot of the density for a given set of parameters."
   ]
  },
  {
   "cell_type": "code",
   "execution_count": 12,
   "id": "83fc693e-b216-4cca-918a-6c7b857792ed",
   "metadata": {},
   "outputs": [
    {
     "name": "stdout",
     "output_type": "stream",
     "text": [
      "CPU times: user 35.9 s, sys: 2.82 s, total: 38.8 s\n",
      "Wall time: 12.9 s\n"
     ]
    }
   ],
   "source": [
    "%%time\n",
    "nx_1, nx_2 = (25, 25)\n",
    "x_1 = np.linspace(-2, 2, nx_1)\n",
    "x_2 = np.linspace(-2, 2, nx_2)\n",
    "vx_1, vx_2 = np.meshgrid(x_1, x_2)\n",
    "xvals = np.stack([np.reshape(vx_1, (-1,)), np.reshape(vx_2, (-1,))], axis=-1)\n",
    "\n",
    "log_density = workflow.log_prob(data={\"x\": xvals, \"theta\": np.repeat(theta_0[None], xvals.shape[0], axis=0)})"
   ]
  },
  {
   "cell_type": "code",
   "execution_count": 13,
   "id": "73fe2e01-f040-40ee-b402-4c7809a34ae5",
   "metadata": {},
   "outputs": [
    {
     "data": {
      "image/png": "[encoded data removed]",
      "text/plain": [
       "<Figure size 300x250 with 2 Axes>"
      ]
     },
     "metadata": {},
     "output_type": "display_data"
    }
   ],
   "source": [
    "fig = plt.figure(figsize=(3,2.5))\n",
    "plt.contourf(x_1, x_2, np.reshape(np.exp(log_density), (nx_1, nx_2)))\n",
    "plt.gca().set_aspect(\"equal\", \"box\")\n",
    "plt.xlabel(\"$x_1$\")\n",
    "plt.ylabel(\"$x_2$\")\n",
    "plt.colorbar()\n",
    "plt.show()"
   ]
  },
  {
   "cell_type": "markdown",
   "id": "38ef2efd-3b1e-4ebb-ba69-aec119beb3e9",
   "metadata": {},
   "source": [
    "## Further Steps\n",
    "\n",
    "In this notebook, we presented the fundamentals of likelihood estimation with BayesFlow, but did not go into much detail regarding training details or network architectures.\n",
    "In practice, we advise to start with a simpler inference network like `CouplingFlow`s, and a moderate amount of training samples.\n",
    "To improve performance, you can experiment with hyperparameters (learning rate, batch size, epochs, ...), and, depending on your setting, increase the number of training samples or move to a slower but more expressive architecture like `FlowMatching` or `DiffusionModel`."
   ]
  }
 ],
 "metadata": {
  "kernelspec": {
   "display_name": "Python 3 (ipykernel)",
   "language": "python",
   "name": "python3"
  },
  "language_info": {
   "codemirror_mode": {
    "name": "ipython",
    "version": 3
   },
   "file_extension": ".py",
   "mimetype": "text/x-python",
   "name": "python",
   "nbconvert_exporter": "python",
   "pygments_lexer": "ipython3",
   "version": "3.11.11"
  }
 },
 "nbformat": 4,
 "nbformat_minor": 5
}
