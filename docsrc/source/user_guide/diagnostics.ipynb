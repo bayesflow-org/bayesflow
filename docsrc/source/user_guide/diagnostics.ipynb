{
 "cells": [
  {
   "cell_type": "markdown",
   "id": "71f2af04-8c30-44d7-a0c9-377ffd0d3c75",
   "metadata": {},
   "source": [
    "# Diagnostics and Visualizations\n",
    "\n",
    "*Disclaimer: This guide is in an early stage. We welcome contributions to the guide in form of issues and pull requests.*\n",
    "\n",
    "There are many factors that influence whether training succeeds and how well we can approximate a target. In this light, checking the results and diagnosing potential problems is an important part of the workflow.\n",
    "\n",
    "## Loss\n",
    "\n",
    "While the loss cannot show that the training has succeeded, it can indicate that something has gone wrong. Warning signs are an unstable loss with large upward jumps, and a lack of convergence (the loss still changes significantly at the end of training). We recommend to supply a validation dataset to the training, to diagnose potential overfitting. You can plot the loss using the {py:func}`bayesflow.diagnostics.loss` function.\n",
    "\n",
    "## Posterior\n",
    "\n",
    "For inference on simulated data, we can plot the posterior alongside the ground truth values. This can serve as a diagnostic for whether the approximator has learned to approximate the true posteriors well enough. The {py:func}`~bayesflow.diagnostics.pairs_posterior` function displays a set of one- and two-dimensional marginal posterior distributions.\n",
    "\n",
    "## Recovery\n",
    "\n",
    "For inference on simulated data, we can visualize how well the ground truth values are recovered over a larger number of datasets. {py:func}`~bayesflow.diagnostics.recovery` is a convencience function for this kind of plot.\n",
    "\n",
    "## Simulation-based Calibration (SBC)\n",
    "\n",
    "Simulation-based calibration provides an indication of the posterior approximations' accuracy, without requiring access to the ground-truth posterior. In short, if the true values are simulated from the prior used during inference, we would expect the rank of the true parameter value to be uniformly distributed from 1 to `num_samples`. There are multiple graphical methods that use this property for diagnostics. For example, we can use histograms together with an uncertainty band within which we would expect the histogram bars to be if the rank statistics were indeed uniform. This plot is provided by the {py:func}`~bayesflow.diagnostics.calibration_histogram` function.\n",
    "\n",
    "SBC histograms have some drawbacks on how the confidence bands are computed, so we recommend using another kind of plot that is based on the empirical cumulative distribution function (ECDF). For the ECDF, we can compute better confidence bands than for histograms, so the SBC ECDF plot is usually preferable. [This SBC interpretation guide by Martin Modrák](https://hyunjimoon.github.io/SBC/articles/rank_visualizations.html) gives further background information and also practical examples of how to interpret the SBC plots. To display SBC ECDF plots, use the {py:func}`~bayesflow.diagnostics.calibration_ecdf` function.\n",
    "\n",
    "## Posterior Contraction & z-Score\n",
    "\n",
    "After having convinced us that the posterior approximation are overall reasonable, we can check how much and what kind of information in the data we encode in the posterior. Specifically, we might want to look at two interesting scores:\n",
    "\n",
    "- The posterior contraction, which measures how much smaller the posterior variance is relative to the prior variance (higher values indicate more contraction relative to the prior).\n",
    "- The posterior z-score which indicates the standardized difference between the posterior mean and the true parameter value. Since the posterior z-score requires the true parameter values, it can only be computed in simulated data settings.\n",
    "\n",
    "The {py:func}`~bayesflow.diagnostics.z_score_contraction` function provides a combined plot of both."
   ]
  }
 ],
 "metadata": {
  "kernelspec": {
   "display_name": "Python 3 (ipykernel)",
   "language": "python",
   "name": "python3"
  },
  "language_info": {
   "codemirror_mode": {
    "name": "ipython",
    "version": 3
   },
   "file_extension": ".py",
   "mimetype": "text/x-python",
   "name": "python",
   "nbconvert_exporter": "python",
   "pygments_lexer": "ipython3",
   "version": "3.11.11"
  }
 },
 "nbformat": 4,
 "nbformat_minor": 5
}
