{
 "cells": [
  {
   "cell_type": "code",
   "execution_count": 1,
   "metadata": {},
   "outputs": [],
   "source": [
    "import numpy as np"
   ]
  },
  {
   "cell_type": "code",
   "execution_count": 266,
   "metadata": {},
   "outputs": [],
   "source": [
    "def forward_model_rem(params, N_tot=50, ratio_sd=0.5, w=20):\n",
    "    \"\"\"Generates observed responses from the REM model.\"\"\"\n",
    "    \n",
    "    # Extract params\n",
    "    g, u, c = params\n",
    "    \n",
    "    # Prepare a vector of simulated responses\n",
    "    # Column 1 - responses (0 - old, 1 - new)\n",
    "    # Column 2 - true values (0 - old, 1 - new)\n",
    "    x = np.zeros((N_tot, 2))\n",
    "    \n",
    "    # Compute number of study and number of distractor items\n",
    "    N_s = int(N_tot * ratio_sd)\n",
    "    N_d = int(N_tot * (1 - ratio_sd))\n",
    "    \n",
    "    # --- Feature generation --- #\n",
    "    # Generate feature matrix\n",
    "    W = np.random.geometric(g, size=(N_tot, w))\n",
    "    \n",
    "    # Extract study and distractor feature matrix\n",
    "    idx = np.random.permutation(N_tot)\n",
    "    idx_s = idx[:N_s]\n",
    "    idx_d = idx[N_s:]\n",
    "    Ws = W[idx_s, :]\n",
    "    Wd = W[idx_d, :]\n",
    "    \n",
    "    # --- Memory storage --- #\n",
    "    # Attention to feature with probability u - otherwise feature is 0\n",
    "    mask_u = np.random.binomial(1, u, size=(N_s, w))\n",
    "    Ws_stored = Ws * mask_u\n",
    "    \n",
    "    # Imperfect 'copy' of attended features\n",
    "    mask_c = np.random.binomial(1, (1-c), size=(N_s, w))\n",
    "    mask_attended = mask_c & mask_u\n",
    "    Ws_stored = np.where(mask_attended, np.random.geometric(g, size=(N_s, w)), Ws_stored)\n",
    "    \n",
    "    # --- Retrieval from memory --- #\n",
    "    # Highly vectorized - perform pairwise matching for all items with broadcasting\n",
    "    non_zero_mismatch = ((Ws_stored != W[:, np.newaxis, :]) & (Ws_stored != 0)) & (W[:, np.newaxis, :] != 0)\n",
    "    non_zero_match = (Ws_stored == W[:, np.newaxis, :]) & (Ws_stored != 0)\n",
    "    \n",
    "    # Compute non zero non matching\n",
    "    beta_a = np.log(1 - c)\n",
    "    na = beta_a * np.sum(non_zero_mismatch, axis=-1)\n",
    "    \n",
    "    # Compute non zero matching\n",
    "    mi = np.where(non_zero_match, np.log( (c + (1 - c) * g * ((1 - g) ** (Ws_stored-1))) /\n",
    "                                          (g * ((1 - g) ** (Ws_stored - 1))) ), \n",
    "                  0) \n",
    "    \n",
    "    mi = np.sum(mi, axis=-1)\n",
    "    \n",
    "    # Compute decision rule (0 - old, 1 - new) and true values (0 - old, 1 - new)\n",
    "    phi = np.mean(np.exp(na + mi), axis=-1)\n",
    "    \n",
    "    # Phi > 1 => old (0), Phi < 1 => new (1)\n",
    "    x[phi < 1, 0] = 1\n",
    "    # Distractor => 1, otherwise => old (0) \n",
    "    x[idx_d, 1] = 1\n",
    "\n",
    "    return x"
   ]
  },
  {
   "cell_type": "code",
   "execution_count": 267,
   "metadata": {},
   "outputs": [
    {
     "name": "stdout",
     "output_type": "stream",
     "text": [
      "Wall time: 1.49 ms\n"
     ]
    },
    {
     "data": {
      "text/plain": [
       "array([[0., 0.],\n",
       "       [0., 1.],\n",
       "       [0., 0.],\n",
       "       [1., 1.],\n",
       "       [1., 1.],\n",
       "       [0., 0.],\n",
       "       [1., 1.],\n",
       "       [0., 1.],\n",
       "       [0., 0.],\n",
       "       [1., 1.],\n",
       "       [0., 0.],\n",
       "       [0., 0.],\n",
       "       [1., 1.],\n",
       "       [1., 1.],\n",
       "       [1., 1.],\n",
       "       [1., 1.],\n",
       "       [1., 0.],\n",
       "       [1., 1.],\n",
       "       [1., 0.],\n",
       "       [1., 1.],\n",
       "       [1., 0.],\n",
       "       [1., 1.],\n",
       "       [0., 1.],\n",
       "       [0., 0.],\n",
       "       [1., 1.],\n",
       "       [1., 0.],\n",
       "       [0., 0.],\n",
       "       [0., 1.],\n",
       "       [1., 0.],\n",
       "       [0., 0.],\n",
       "       [1., 1.],\n",
       "       [1., 1.],\n",
       "       [1., 1.],\n",
       "       [1., 1.],\n",
       "       [0., 0.],\n",
       "       [0., 0.],\n",
       "       [1., 0.],\n",
       "       [1., 1.],\n",
       "       [0., 0.],\n",
       "       [0., 0.],\n",
       "       [1., 0.],\n",
       "       [0., 0.],\n",
       "       [1., 1.],\n",
       "       [0., 0.],\n",
       "       [1., 1.],\n",
       "       [1., 0.],\n",
       "       [0., 1.],\n",
       "       [1., 0.],\n",
       "       [0., 0.],\n",
       "       [1., 1.]])"
      ]
     },
     "execution_count": 267,
     "metadata": {},
     "output_type": "execute_result"
    }
   ],
   "source": [
    "%%time\n",
    "forward_model_rem([0.2, 0.9, 0.3], w=10, ratio_sd=0.5)"
   ]
  },
  {
   "cell_type": "code",
   "execution_count": null,
   "metadata": {},
   "outputs": [],
   "source": []
  }
 ],
 "metadata": {
  "kernelspec": {
   "display_name": "Python 3",
   "language": "python",
   "name": "python3"
  },
  "language_info": {
   "codemirror_mode": {
    "name": "ipython",
    "version": 3
   },
   "file_extension": ".py",
   "mimetype": "text/x-python",
   "name": "python",
   "nbconvert_exporter": "python",
   "pygments_lexer": "ipython3",
   "version": "3.6.8"
  },
  "toc": {
   "base_numbering": 1,
   "nav_menu": {},
   "number_sections": true,
   "sideBar": true,
   "skip_h1_title": false,
   "title_cell": "Table of Contents",
   "title_sidebar": "Contents",
   "toc_cell": false,
   "toc_position": {},
   "toc_section_display": true,
   "toc_window_display": false
  }
 },
 "nbformat": 4,
 "nbformat_minor": 2
}
