{
 "cells": [
  {
   "cell_type": "markdown",
   "id": "2eb7a0f2-6017-4a45-90e4-d149d10193b7",
   "metadata": {},
   "source": [
    "# Workflows\n",
    "\n",
    "*Disclaimer: This guide is in an early stage. We welcome contributions to the guide in form of issues and pull requests.*\n",
    "\n",
    "Workflows are an abstraction on top of the approximator, that expose methods for training and inference in a more abstract, and therefore simplified, fashion.\n",
    "\n",
    "## BasicWorkflow\n",
    "\n",
    "For now, {py:class}`~bayesflow.workflows.BasicWorkflow` is the only available workflow. In its most basic form, you provide it with four things: simulator, adapter, inference network and summary network (if you use one).\n",
    "\n",
    "```python\n",
    "workflow = bf.BasicWorkflow(\n",
    "    simulator=simulator,\n",
    "    adapter=adapter,\n",
    "    inference_network=inference_network,\n",
    "    summary_network=summary_network,\n",
    ")\n",
    "```\n",
    "\n",
    "You can then use the {py:meth}`~bayesflow.workflows.BasicWorkflow.fit_online` method to run the training. After training, the you can sample from the workflow using {py:meth}`~bayesflow.workflows.BasicWorkflow.sample`.\n",
    "\n",
    "Note that after the training, the work of the workflow is done, and you can just use the trained approximator (accessible via `workflow.approximator`) for downstream tasks. If you want to save you trained output, you would use the `approximator` as well, i.e., store it using `workflow.approximator.save(filepath=filepath)`. You can then use {py:meth}`~bayesflow.approximators.ContinuousApproximator.sample` and related methods directly from the approximator.\n",
    "\n",
    "{py:class}`~bayesflow.workflows.BasicWorkflow` is highly configurable, refer to the API reference for details. For practical usage, take a look at the {doc}`../examples`."
   ]
  }
 ],
 "metadata": {
  "kernelspec": {
   "display_name": "Python 3 (ipykernel)",
   "language": "python",
   "name": "python3"
  },
  "language_info": {
   "codemirror_mode": {
    "name": "ipython",
    "version": 3
   },
   "file_extension": ".py",
   "mimetype": "text/x-python",
   "name": "python",
   "nbconvert_exporter": "python",
   "pygments_lexer": "ipython3",
   "version": "3.11.11"
  }
 },
 "nbformat": 4,
 "nbformat_minor": 5
}
