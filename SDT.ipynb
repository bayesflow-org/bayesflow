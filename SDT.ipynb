{
 "cells": [
  {
   "cell_type": "code",
   "execution_count": 4,
   "metadata": {},
   "outputs": [],
   "source": [
    "import numpy as np\n",
    "from scipy.stats import norm\n",
    "import time"
   ]
  },
  {
   "cell_type": "code",
   "execution_count": 5,
   "metadata": {},
   "outputs": [],
   "source": [
    "def response_prob(c,d,sigma,item):\n",
    "    if item==1:\n",
    "        p = norm.cdf((0.5*d - c)/sigma)\n",
    "    if item==2:\n",
    "        p = norm.cdf((-0.5*d - c))\n",
    "    \n",
    "    return p\n",
    "\n",
    "\n",
    "def response(c,d,sigma,x):\n",
    "    theta = response_prob(c,d,sigma,x)\n",
    "    r = np.random.binomial(1,theta,1)\n",
    "    return r\n",
    "\n",
    "\n",
    "def response_vector(c,d,sigma,Nitems):\n",
    "    item = np.array([np.tile(1,int(Nitems/2)),np.tile(2,int(Nitems/2))])\n",
    "    target = [response(c,d,sigma,i) for i in item[0]]\n",
    "    distractor = [response(c,d,sigma,i) for i in item[1]]\n",
    "    \n",
    "    return np.c_[target,distractor]\n",
    "\n",
    "def SDT(pars,Nitems,Ntrials,flag):\n",
    "    # pars:[c,d,s]\n",
    "    # c: Response Bias\n",
    "    # d: Discriminability\n",
    "    # s: Target strength Noise\n",
    "    # Ntimes: targets = Nitems/2; distractors = Nitems/2\n",
    "    # flag: 1, full matrix output; 2, contingency table\n",
    "    c,d,s = pars\n",
    "    out1 = np.zeros((Ntrials,int(Nitems/2),2))\n",
    "    out2 = np.zeros((Ntrials,2,2))\n",
    "    for n in range(Ntrials):\n",
    "        o = response_vector(c,d,s,Nitems)\n",
    "        out1[n,:,:] = o\n",
    "        out2[n,:,:] = np.array([[sum(o[:,0]),(Nitems/2)-sum(o[:,0])],\n",
    "                                [sum(o[:,1]),(Nitems/2)-sum(o[:,1])]])\n",
    "    if flag:\n",
    "        # first column: vector of Hit (1) and Miss (0) for targets\n",
    "        # second column: vector of Correct Rejection (0) and False Alarms (1) for distractors\n",
    "        return out1\n",
    "    else:\n",
    "        # first row (target): Hit and Miss\n",
    "        # second row (distractor): False Alarms and Correct Rejection\n",
    "        return out2\n",
    "    "
   ]
  },
  {
   "cell_type": "code",
   "execution_count": 6,
   "metadata": {},
   "outputs": [],
   "source": [
    "t = time.time()\n",
    "SDT([-1,2,1],40,1,1)\n",
    "elapsed = time.time() - t"
   ]
  },
  {
   "cell_type": "code",
   "execution_count": 7,
   "metadata": {},
   "outputs": [
    {
     "data": {
      "text/plain": [
       "0.008935689926147461"
      ]
     },
     "execution_count": 7,
     "metadata": {},
     "output_type": "execute_result"
    }
   ],
   "source": [
    "elapsed"
   ]
  },
  {
   "cell_type": "code",
   "execution_count": null,
   "metadata": {},
   "outputs": [],
   "source": []
  }
 ],
 "metadata": {
  "kernelspec": {
   "display_name": "Python 3",
   "language": "python",
   "name": "python3"
  },
  "language_info": {
   "codemirror_mode": {
    "name": "ipython",
    "version": 3
   },
   "file_extension": ".py",
   "mimetype": "text/x-python",
   "name": "python",
   "nbconvert_exporter": "python",
   "pygments_lexer": "ipython3",
   "version": "3.7.1"
  }
 },
 "nbformat": 4,
 "nbformat_minor": 2
}
