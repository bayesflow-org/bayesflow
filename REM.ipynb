{
 "cells": [
  {
   "cell_type": "code",
   "execution_count": 66,
   "metadata": {},
   "outputs": [],
   "source": [
    "import numpy as np\n",
    "import pandas as pd\n",
    "from collections import Counter"
   ]
  },
  {
   "cell_type": "code",
   "execution_count": 170,
   "metadata": {},
   "outputs": [],
   "source": [
    "# Generate a feature matrix in which each column consists in the 20 features representing an item in the task\n",
    "def item_features(Nitems,g):\n",
    "    return np.random.geometric(g,(20,Nitems))\n",
    "\n",
    "# Compute the episodic Matrix which is a noisy representation of the feature matrix related to the target items\n",
    "def episodic_matrix(wT,g,u,c):\n",
    "    M = wT*0 # initialize M. wT is the feature matrix representing the study targets\n",
    "    for i in range(len(wT[0])): # for each column in M\n",
    "        copy = np.random.binomial(1,u,20) # given an item, each feature has a probability u to be copied in M\n",
    "        trace = copy*wT[:,i] # some features of an item in wT are copied, providing a trace\n",
    "        correct = np.random.binomial(1,c,20) # some of the features copied are effectively copied correctly\n",
    "        wrong_copied = np.where((trace>0) * (correct==0)) # position of the feature which are copied non correctly in the trace\n",
    "        trace[wrong_copied] = np.random.geometric(g,len(wrong_copied)) # Random features substitute the wrong copied original features\n",
    "        M[:,i] = trace # a final trace is stored in the specific column of the episodic matrix\n",
    "        # M will be similar to the feature matrix for the study targets except for some elements (elements not copied or wrong copied)\n",
    "    return M\n",
    "\n",
    "# Compute the nonzero mismatches between a probe (a presented item in the task) and a trace\n",
    "def qtype(probe,trace):\n",
    "    # extract the nonzero elements from the trace to count only the nonzero mismatches\n",
    "    nonzero_probe = probe[trace > 0]\n",
    "    nonzero_trace = trace[trace > 0]\n",
    "    # sum mismatches \n",
    "    return sum(~(nonzero_probe == nonzero_trace))\n",
    "\n",
    "# Compute the nonzero matches between features in the probe and in the trace, and for each feature values\n",
    "def mtype(probe,trace):\n",
    "    m = np.tile(0,200) # initialize a table of matches count for each possible feature value from 1 to 200\n",
    "    # extract the nonzero elements from the trace to count only the nonzero matches\n",
    "    nonzero_probe = probe[trace > 0]\n",
    "    nonzero_trace = trace[trace > 0]\n",
    "    nonzero_match = nonzero_probe[nonzero_probe==nonzero_trace] # paired the matches between probe and trace\n",
    "    nonzero_match_count = pd.value_counts(nonzero_match) # compute a frequency table of matches for each feature\n",
    "    m[np.array(nonzero_match_count.keys().tolist(),dtype=np.int32)-1] = nonzero_match_count.tolist() # write the frequency of matched features in m such that posisiton i contains the frequency of matches for feature i\n",
    "    \n",
    "    return m\n",
    "\n",
    "# Compute the similarity between the probe and the trace feature vectors\n",
    "def similarity(probe,trace,c,g):\n",
    "    Qtype = qtype(probe,trace)\n",
    "    Mtype = mtype(probe,trace)\n",
    "    x1 = (1-c)**Qtype\n",
    "    x2 = 1\n",
    "    for i in range(len(Mtype)):\n",
    "        x2 = x2 * ((c+(1-c)*g*(1-g)**(i))/(0.0001+g*(1-g)**(i)))**Mtype[i] # product over 200 elements\n",
    "    \n",
    "    return(x1*x2)\n",
    "\n",
    "# Compute the decision rule for a given probe (target or distractor) based on the episodic matrix and the similarity\n",
    "def memory_strength(probe,M,c,g):\n",
    "    phi = np.zeros(len(M[0]))\n",
    "    for i in range(len(M[0])):\n",
    "        phi[i] = similarity(probe,M[:,i],c,g)\n",
    "    # for each item in the task compute a similarity between the item and the episodic matrix\n",
    "    return np.mean(phi)\n",
    "\n",
    "# Generate a binary response for each item (target and distractor)\n",
    "def response_vector(g,u,c,Nitems):\n",
    "    # STUDY PHASE #\n",
    "    W = item_features(Nitems,g) # Generate al the items in the task\n",
    "    wT = W[:,0:int(Nitems/2)] # Extract the study items\n",
    "    wD = W[:,int(Nitems/2):Nitems] # Extract the distractor items\n",
    "    M = episodic_matrix(wT,g,u,c) # Compute the episodic memory based on the study items\n",
    "    # RECOGNITION PHASE #\n",
    "    target = np.array([memory_strength(wT[:,i],M,c,g) for i in range(int(Nitems/2))]) # compute phi for each target\n",
    "    distractor = np.array([memory_strength(wD[:,i],M,c,g) for i in range(int(Nitems/2))]) # compute phi for each distractor\n",
    "    # Apply the decision rule\n",
    "    target = target > 1\n",
    "    distractor = distractor > 1\n",
    "    target = target.astype(int)\n",
    "    distractor = distractor.astype(int)\n",
    "    \n",
    "    return np.c_[target,distractor]\n",
    "\n",
    "\n",
    "def REM(pars,Nitems,Ntrials,flag):\n",
    "    # pars:[g,u,c]\n",
    "    # g: Environmental Base Rate\n",
    "    # u: Feature Copying\n",
    "    # c: Correct Feature Copying\n",
    "    # Ntimes: targets = Nitems/2; distractors = Nitems/2\n",
    "    # flag: 1, full matrix output; 2, contingency table\n",
    "    g,u,c = pars\n",
    "    out1 = np.zeros((Ntrials,int(Nitems/2),2))\n",
    "    out2 = np.zeros((Ntrials,2,2))\n",
    "    for n in range(Ntrials):\n",
    "        o = response_vector(g,u,c,Nitems)\n",
    "        out1[n,:,:] = o\n",
    "        out2[n,:,:] = np.array([[sum(o[:,0]),(Nitems/2)-sum(o[:,0])],\n",
    "                                [sum(o[:,1]),(Nitems/2)-sum(o[:,1])]])\n",
    "    if flag:\n",
    "        # first column: vector of Hit (1) and Miss (0) for targets\n",
    "        # second column: vector of Correct Rejection (0) and False Alarms (1) for distractors\n",
    "        return out1\n",
    "    else:\n",
    "        # first row (target): Hit and Miss\n",
    "        # second row (distractor): False Alarms and Correct Rejection\n",
    "        return out2\n",
    "                            \n",
    "    "
   ]
  },
  {
   "cell_type": "code",
   "execution_count": 187,
   "metadata": {},
   "outputs": [
    {
     "data": {
      "text/plain": [
       "array([[[14.,  6.],\n",
       "        [ 4., 16.]]])"
      ]
     },
     "execution_count": 187,
     "metadata": {},
     "output_type": "execute_result"
    }
   ],
   "source": [
    "REM([0.4,0.4,0.6],40,1,0)"
   ]
  },
  {
   "cell_type": "code",
   "execution_count": null,
   "metadata": {},
   "outputs": [],
   "source": []
  }
 ],
 "metadata": {
  "kernelspec": {
   "display_name": "Python 3",
   "language": "python",
   "name": "python3"
  },
  "language_info": {
   "codemirror_mode": {
    "name": "ipython",
    "version": 3
   },
   "file_extension": ".py",
   "mimetype": "text/x-python",
   "name": "python",
   "nbconvert_exporter": "python",
   "pygments_lexer": "ipython3",
   "version": "3.7.1"
  }
 },
 "nbformat": 4,
 "nbformat_minor": 2
}
