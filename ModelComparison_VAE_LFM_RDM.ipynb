{
 "cells": [
  {
   "cell_type": "code",
   "execution_count": null,
   "metadata": {},
   "outputs": [],
   "source": [
    "import tensorflow as tf\n",
    "from tensorflow.keras.regularizers import l2\n",
    "import tensorflow.contrib.eager as tfe\n",
    "from functools import partial\n",
    "from collections import OrderedDict\n",
    "import pandas as pd\n",
    "import seaborn as sns\n",
    "import matplotlib.pyplot as plt\n",
    "from tqdm import tqdm_notebook as tqdm\n",
    "import numpy as np\n",
    "from simulate_diffusion import simulate_diffusion\n",
    "np.set_printoptions(suppress=True)"
   ]
  },
  {
   "cell_type": "code",
   "execution_count": null,
   "metadata": {},
   "outputs": [],
   "source": [
    "tf.enable_eager_execution()"
   ]
  },
  {
   "cell_type": "markdown",
   "metadata": {},
   "source": [
    "# Introduction"
   ]
  },
  {
   "cell_type": "markdown",
   "metadata": {},
   "source": [
    "<p>Discriminate between the Ratcliff Diffusion Model and the Levy Flight Model (LFM)</p>"
   ]
  },
  {
   "cell_type": "markdown",
   "metadata": {},
   "source": [
    "# Model definitions"
   ]
  },
  {
   "cell_type": "code",
   "execution_count": null,
   "metadata": {
    "code_folding": [
     0,
     22,
     42,
     45,
     66
    ]
   },
   "outputs": [],
   "source": [
    "class InvariantModule(tf.keras.Model):\n",
    "    \"\"\"Implements an invariant nn module as proposed by Bloem-Reddy and Teh (2019).\"\"\"\n",
    "\n",
    "    def __init__(self, h_dim, n_dense=3):\n",
    "        \"\"\"\n",
    "        Creates an invariant function with mean pooling.\n",
    "        ----------\n",
    "\n",
    "        Arguments:\n",
    "        h_dim   : int -- the number of hidden units in each of the modules\n",
    "        n_dense : int -- the number of dense layers of the modules\n",
    "        \"\"\"\n",
    "        \n",
    "        super(InvariantModule, self).__init__()\n",
    "        \n",
    "        self.module = tf.keras.Sequential([\n",
    "            tf.keras.layers.Dense(h_dim, activation='elu', kernel_initializer='glorot_uniform') \n",
    "            for _ in range(n_dense)\n",
    "        ])\n",
    "\n",
    "        self.post_pooling_dense = tf.keras.layers.Dense(h_dim, activation='elu', kernel_initializer='glorot_uniform')   \n",
    "        \n",
    "    def call(self, x):\n",
    "        \"\"\"\n",
    "        Transofrms the input into an invariant representation.\n",
    "        ----------\n",
    "\n",
    "        Arguments:\n",
    "        x : tf.Tensor of shape (batch_size, n, m) - the input where n is the 'time' or 'samples' dimensions \n",
    "            over which pooling is performed and m is the input dimensionality\n",
    "        ----------\n",
    "\n",
    "        Returns:\n",
    "        out : tf.Tensor of shape (batch_size, h_dim) -- the pooled and invariant representation of the input\n",
    "        \"\"\"\n",
    "\n",
    "        x = self.module(x)\n",
    "        x = tf.reduce_mean(x, axis=1)\n",
    "        out = self.post_pooling_dense(x)\n",
    "        return out\n",
    "    \n",
    "\n",
    "class EquivariantModule(tf.keras.Model):\n",
    "    \"\"\"Implements an equivariant nn module as proposed by Bloem-Reddy and Teh (2019).\"\"\"\n",
    "\n",
    "    def __init__(self, h_dim, n_dense=3):\n",
    "        \"\"\"\n",
    "        Creates an equivariant neural network consisting of a FC network with\n",
    "        equal number of hidden units in each layer and an invariant module\n",
    "        with the same FC structure.\n",
    "        ----------\n",
    "\n",
    "        Arguments:\n",
    "        h_dim   : int -- the number of hidden units in each of the modules\n",
    "        n_dense : int -- the number of dense layers of the modules\n",
    "        \"\"\"\n",
    "        \n",
    "        super(EquivariantModule, self).__init__()\n",
    "        \n",
    "        self.module = tf.keras.Sequential([\n",
    "            tf.keras.layers.Dense(h_dim, activation='elu') \n",
    "            for _ in range(n_dense)\n",
    "        ])\n",
    "        \n",
    "        self.invariant_module = InvariantModule(h_dim, n_dense)\n",
    "        \n",
    "    def call(self, x):\n",
    "        \"\"\"\n",
    "        Transofrms the input into an equivariant representation.\n",
    "        ----------\n",
    "\n",
    "        Arguments:\n",
    "        x : tf.Tensor of shape (batch_size, n, m) - the input where n is the 'time' or 'samples' dimensions \n",
    "            over which pooling is performed and m is the input dimensionality\n",
    "        ----------\n",
    "\n",
    "        Returns:\n",
    "        out : tf.Tensor of shape (batch_size, h_dim) -- the pooled and invariant representation of the input\n",
    "        \"\"\"\n",
    "\n",
    "        x_inv = self.invariant_module(x)\n",
    "        x_inv = tf.stack([x_inv] * int(x.shape[1]), axis=1) # Repeat x_inv n times\n",
    "        x = tf.concat((x_inv, x), axis=-1)\n",
    "        out = self.module(x)\n",
    "        return out\n",
    "    \n",
    "\n",
    "class InvariantNetwork(tf.keras.Model):\n",
    "    \"\"\"\n",
    "    Implements a network which parameterizes a \n",
    "    permutationally invariant function according to Bloem-Reddy and Teh (2019).\n",
    "    \"\"\"\n",
    "\n",
    "    def __init__(self, h_dim, n_dense=3, n_equiv=2):\n",
    "        \"\"\"\n",
    "        Creates a permutationally invariant network \n",
    "        consisting of two equivariant modules and one invariant module.\n",
    "        ----------\n",
    "\n",
    "        Arguments:\n",
    "        h_dim   : int -- the number of hidden units in each of the modules\n",
    "        n_dense : int -- the number of dense layers of the modules\n",
    "        n_equiv : int -- the number of equivariant modules \n",
    "        \"\"\"\n",
    "        \n",
    "        super(InvariantNetwork, self).__init__()\n",
    "        \n",
    "        self.equiv = tf.keras.Sequential([\n",
    "            EquivariantModule(h_dim, n_dense)\n",
    "            for _ in range(n_equiv)\n",
    "        ])\n",
    "        self.inv = InvariantModule(h_dim, n_dense)\n",
    "        \n",
    "    def call(self, x, **kwargs):\n",
    "        \"\"\"\n",
    "        Transofrms the input into a permutationally invariant \n",
    "        representation by first passing it through multiple equivariant \n",
    "        modules in order to increase representational power.\n",
    "        ----------\n",
    "\n",
    "        Arguments:\n",
    "        x : tf.Tensor of shape (batch_size, n, m) - the input where n is the 'time' or \n",
    "        'samples' dimensions over which pooling is performed and m is the input dimensionality\n",
    "        ----------\n",
    "\n",
    "        Returns:\n",
    "        out : tf.Tensor of shape (batch_size, h_dim) -- the pooled and invariant representation of the input\n",
    "        \"\"\"\n",
    "\n",
    "        x = self.equiv(x)\n",
    "        out = self.inv(x)\n",
    "        return out\n",
    "\n",
    "\n",
    "# class ModelSelector(tf.keras.Model):\n",
    "    \n",
    "#     def __init__(self, k=2, inv_h_dim=32, n_equiv=2, z_dim=2, n_cond=2, n_dense=2, summary_dim=128):\n",
    "#         super(ModelSelector, self).__init__()\n",
    "        \n",
    "#         # Invariant net\n",
    "#         self.inv = [InvariantNetwork(inv_h_dim, n_equiv) for _ in range(n_cond)]\n",
    "        \n",
    "#         # Z mapping\n",
    "#         self.Wo = tf.keras.layers.Dense(summary_dim, use_bias=False)\n",
    "#         self.z_mapper = tf.keras.Sequential([\n",
    "#             tf.keras.layers.Dense(summary_dim, activation='elu', kernel_initializer='glorot_uniform') \n",
    "#             for _ in range(n_dense)\n",
    "#         ] +\n",
    "#         [tf.keras.layers.Dense(z_dim * 2, kernel_initializer='glorot_uniform')])\n",
    "        \n",
    "#         # Sigmoid classifier\n",
    "#         self.classifier = tf.keras.layers.Dense(1, kernel_initializer='glorot_uniform')\n",
    "#         self.n_cond = n_cond\n",
    "        \n",
    "#     def call(self, x, return_prob=False):\n",
    "#         \"\"\"Encodes x into z, samples and decodes.\"\"\"\n",
    "        \n",
    "#         # Encode\n",
    "#         x = tf.split(x, self.n_cond, axis=-1)\n",
    "#         x = tf.concat([net(x_cond) for x_cond, net in zip(x, self.inv)], axis=-1)\n",
    "#         x = self.Wo(x)\n",
    "        \n",
    "#         # Get z\n",
    "#         x = self.z_mapper(x)\n",
    "#         z_mean, z_logvar = tf.split(x, 2, axis=-1)\n",
    "        \n",
    "#         # Sample\n",
    "#         eps = tf.random_normal(shape=z_mean.shape)\n",
    "#         z = z_mean + eps * tf.exp(z_logvar * 0.5)\n",
    "        \n",
    "#         # Decode (returns model index)\n",
    "#         m_hat = self.classifier(z)\n",
    "#         if return_prob:\n",
    "#             m_hat = tf.sigmoid(m_hat)\n",
    "#         return z_mean, z_logvar, m_hat\n",
    "    \n",
    "#     def sample(self, x, n_samples):\n",
    "#         \"\"\"Samples model probabilities given data.\"\"\"\n",
    "        \n",
    "#         x = self.encoder(x)\n",
    "#         x = self.z_mapper(x)\n",
    "#         z_mean, z_logvar = tf.split(x, 2, axis=-1)\n",
    "#         eps = tf.random_normal(shape=(n_samples, z_mean.shape[0], z_mean.shape[1]))\n",
    "#         z = z_mean + eps * tf.exp(z_logvar * 0.5)\n",
    "#         z = tf.transpose(z, [1, 0, 2])\n",
    "#         m_probs = tf.sigmoid(self.classifier(z))\n",
    "#         return m_probs\n",
    "\n",
    "class ModelSelector(tf.keras.Model):\n",
    "    \n",
    "    def __init__(self, n_cond=2, inv_h_dim=128, n_equiv=3, z_dim=32, \n",
    "                 summary_dim=32, cls_dim=64, n_dense_cls=2):\n",
    "        super(ModelSelector, self).__init__()\n",
    "        \n",
    "        self.deterministic_encoder = [InvariantNetwork(h_dim=inv_h_dim, n_equiv=n_equiv) for _ in range(n_cond)]\n",
    "        self.probabilistic_encoder = [InvariantNetwork(h_dim=inv_h_dim, n_equiv=n_equiv) for _ in range(n_cond)]\n",
    "        self.Wd = tf.keras.layers.Dense(summary_dim, use_bias=False)\n",
    "        self.Wp = tf.keras.layers.Dense(summary_dim, use_bias=False)\n",
    "        self.z_mapper = tf.keras.Sequential([\n",
    "            tf.keras.layers.Dense(z_dim * 2)\n",
    "        ])\n",
    "        \n",
    "        self.classifier = tf.keras.Sequential([\n",
    "            tf.keras.layers.Dense(cls_dim, activation='elu')\n",
    "            for _ in range(n_dense_cls)\n",
    "        ] + [tf.keras.layers.Dense(1)])\n",
    "        \n",
    "        self.n_cond = n_cond\n",
    "        \n",
    "    def call(self, x, return_prob=False):\n",
    "        \n",
    "        # Encode deterministically\n",
    "        x_d = tf.split(x, self.n_cond, axis=-1)\n",
    "        x_d = tf.concat([net(x_cond) for x_cond, net in zip(x_d, self.deterministic_encoder)], axis=-1)\n",
    "        x_d = self.Wd(x_d)\n",
    "        \n",
    "        # Encode probabilistically\n",
    "        x_p = tf.split(x, self.n_cond, axis=-1)\n",
    "        x_p = tf.concat([net(x_cond) for x_cond, net in zip(x_p, self.probabilistic_encoder)], axis=-1)\n",
    "        x_p = self.Wp(x_p)\n",
    "        \n",
    "        # Sample z\n",
    "        x_p = self.z_mapper(x_p)\n",
    "        z_mean, z_logvar = tf.split(x_p, 2, axis=-1)\n",
    "        eps = tf.random_normal(shape=z_mean.shape)\n",
    "        z = z_mean + eps * tf.exp(z_logvar * 0.5)\n",
    "        \n",
    "        # Combine deterministic and probabilistic\n",
    "        d_o = tf.concat((x_d, z), axis=-1)\n",
    "        \n",
    "        # Decode\n",
    "        logits = self.classifier(d_o)\n",
    "        if return_prob:\n",
    "            p = tf.sigmoid(logits)\n",
    "            return z_mean, z_logvar, p\n",
    "        return z_mean, z_logvar, logits"
   ]
  },
  {
   "cell_type": "markdown",
   "metadata": {},
   "source": [
    "# Utility functions"
   ]
  },
  {
   "cell_type": "markdown",
   "metadata": {},
   "source": [
    "## Losses"
   ]
  },
  {
   "cell_type": "code",
   "execution_count": null,
   "metadata": {},
   "outputs": [],
   "source": [
    "def kl_loss(z_mean, z_logvar):\n",
    "    \"\"\"Computes the KL divergence between a unit Gaussian and an arbitrary Gaussian.\"\"\"\n",
    "    \n",
    "    loss = 1 + z_logvar - tf.square(z_mean) - tf.exp(z_logvar)\n",
    "    loss = -0.5 * tf.reduce_sum(loss, axis=-1)\n",
    "    return tf.reduce_mean(loss)\n",
    "\n",
    "def binary_crossentropy(m_true, logits):\n",
    "    \"\"\"Computes the binary cross-entropy loss.\"\"\"\n",
    "    \n",
    "    loss = tf.nn.sigmoid_cross_entropy_with_logits(labels=m_true, logits=logits)\n",
    "    return tf.reduce_mean(loss)\n",
    "\n",
    "def softmax_crossentropy(m_true, logits):\n",
    "    \"\"\"Computes the softmax cross-entropy loss.\"\"\"\n",
    "    \n",
    "    loss = tf.losses.softmax_cross_entropy(onehot_labels=m_true, logits=logits)\n",
    "    return tf.reduce_mean(loss)"
   ]
  },
  {
   "cell_type": "markdown",
   "metadata": {},
   "source": [
    "## Data generator"
   ]
  },
  {
   "cell_type": "code",
   "execution_count": null,
   "metadata": {},
   "outputs": [],
   "source": [
    "def generate_data(batch_size, parameter_settings_rdm, parameter_settings_lfm, \n",
    "                  n_points=None, n_points_min=60, n_points_max=600, to_tensor=True, \n",
    "                  return_params=False):\n",
    "    \"\"\"Generates data from the two models and returns the model indices.\"\"\"\n",
    "    \n",
    "    n = batch_size // 2\n",
    "    # Draw number of trials\n",
    "    if n_points is None:\n",
    "        n_points = np.random.randint(low=n_points_min, high=n_points_max)\n",
    "        \n",
    "    # Generate data\n",
    "    X_batch_rdm, theta_batch_rdm = simulate_diffusion(n, parameter_settings_rdm, n_points=n_points, \n",
    "                                              to_tensor=False, return_indices=False)\n",
    "    X_batch_lfm, theta_batch_lfm = simulate_diffusion(n, parameter_settings_lfm, n_points=n_points, \n",
    "                                              to_tensor=False, return_indices=False)\n",
    "    \n",
    "    # Create indices\n",
    "    X_batch = np.concatenate((X_batch_rdm, X_batch_lfm), axis=0)\n",
    "    theta_batch = np.concatenate((theta_batch_rdm, theta_batch_lfm), axis=0)\n",
    "    m_batch = np.concatenate((np.zeros(n), np.ones(n)))\n",
    "    \n",
    "    \n",
    "    # Shuffle indices and data\n",
    "    shuffle_idx = np.random.permutation(batch_size)\n",
    "    X_batch = X_batch[shuffle_idx]\n",
    "    theta_batch = theta_batch[shuffle_idx]\n",
    "    m_batch = m_batch[shuffle_idx][:, np.newaxis]\n",
    "    \n",
    "    if to_tensor:\n",
    "        X_batch = tf.convert_to_tensor(X_batch, dtype=tf.float32)\n",
    "        m_batch = tf.convert_to_tensor(m_batch, dtype=tf.float32)\n",
    "        if return_params:\n",
    "            theta_batch = tf.convert_to_tensor(theta_batch, dtype=tf.float32)\n",
    "    if return_params:\n",
    "        return X_batch, m_batch, theta_batch\n",
    "    return X_batch, m_batch"
   ]
  },
  {
   "cell_type": "markdown",
   "metadata": {},
   "source": [
    "## Epoch loop"
   ]
  },
  {
   "cell_type": "code",
   "execution_count": null,
   "metadata": {
    "code_folding": [
     0
    ]
   },
   "outputs": [],
   "source": [
    "def train_loop_online(model, optimizer, data_generator, iterations, batch_size, \n",
    "                 X_test, m_test, p_bar, beta, transform=None, max_beta=0.2,\n",
    "                 global_step=None, beta_update_every=1000, beta_increment=0.01, clip_value=5.):\n",
    "    \"\"\"\n",
    "    Utility function to perform the # number of training loops given by the itertations argument.\n",
    "    ---------\n",
    "\n",
    "    Arguments:\n",
    "    model           : tf.keras.Model -- the invertible chaoin with an optional summary net\n",
    "                                        both models are jointly trained\n",
    "    optimizer       : tf.train.optimizers.Optimizer -- the optimizer used for backprop\n",
    "    data_generator  : callable -- a function providing batches of X, theta (data, params)\n",
    "    iterations      : int -- the number of training loops to perform\n",
    "    batch_size      : int -- the batch_size used for training\n",
    "    p_bar           : ProgressBar -- an instance for tracking the training progress\n",
    "    clip_value      : float       -- the value used for clipping the gradients\n",
    "    global_step     : tf.EagerVariavle -- a scalar tensor tracking the number of \n",
    "                                            steps and used for learning rate decay  \n",
    "    transform       : callable ot None -- a function to transform X and theta, if given\n",
    "    n_smooth        : int -- a value indicating how many values to use for computing the running ML loss\n",
    "    ----------\n",
    "\n",
    "    Returns:\n",
    "    losses : dict -- a dictionary with the ml_loss and decay\n",
    "    \"\"\"\n",
    "    \n",
    "    for it in range(iterations):\n",
    "\n",
    "        X_batch, m_batch = data_generator(batch_size)\n",
    "\n",
    "        with tf.GradientTape() as tape:\n",
    "\n",
    "            # Forward pass\n",
    "            z_mean, z_logvar, m_hat = model(X_batch)\n",
    "\n",
    "            # Compute losses\n",
    "            kl = beta * kl_loss(z_mean, z_logvar)\n",
    "            rec = binary_crossentropy(m_batch, m_hat)\n",
    "            total_loss = kl + rec\n",
    "        \n",
    "        # Compute accuracies\n",
    "        m_hat_train = tf.cast(tf.sigmoid(m_hat) > 0.5, tf.int32).numpy()\n",
    "        _, _, m_hat_test = model(X_test, return_prob=True)\n",
    "        m_hat_test = tf.cast(m_hat_test > 0.5, tf.int32).numpy()\n",
    "        train_acc = np.sum(m_hat_train == m_batch.numpy()) / m_hat_train.shape[0]\n",
    "        test_acc = np.sum(m_hat_test == m_test.numpy()) / m_hat_test.shape[0]\n",
    "\n",
    "        # One step backprop\n",
    "        gradients = tape.gradient(total_loss, model.trainable_variables)\n",
    "        if clip_value is not None:\n",
    "            try:\n",
    "                gradients, _ = tf.clip_by_global_norm(gradients, clip_value)\n",
    "            except tf.errors.InvalidArgumentError as e:\n",
    "                print(str(e))\n",
    "                gradients = [tf.clip_by_value(grad, -clip_value, clip_value) for grad in gradients]\n",
    "        optimizer.apply_gradients(zip(gradients, model.trainable_variables), global_step=global_step)\n",
    "        \n",
    "        # Increase beta every 500 iterations\n",
    "        if (global_step.numpy() + 1) % beta_update_every == 0:\n",
    "            tf.assign(beta, min(max_beta, beta.numpy() + beta_increment))\n",
    "\n",
    "        # Update p-bar\n",
    "        p_bar.set_postfix_str(\"It: {0}, Loss:{1:.3f},Rec:{2:.3f},KL.:{3:.3f},Train Acc.:{4:.3f},Test Acc.:{5:.3f}\".format(\n",
    "        it, total_loss.numpy(), rec.numpy(), kl.numpy(), train_acc, test_acc))\n",
    "        p_bar.update(1)"
   ]
  },
  {
   "cell_type": "markdown",
   "metadata": {},
   "source": [
    "## Plot latent dimensions"
   ]
  },
  {
   "cell_type": "code",
   "execution_count": null,
   "metadata": {},
   "outputs": [],
   "source": [
    "def plot_latent_dim(z_mean, m_test, figsize=(8, 6)):\n",
    "    \"\"\"\n",
    "    Plots the distribution of models in the latent dimension.\n",
    "    Assumes a 2D latent dim.\n",
    "    \"\"\"\n",
    "    \n",
    "    f, ax = plt.subplots(1, 1, figsize=figsize)\n",
    "    s = ax.scatter(z_mean[:, 0], z_mean[:, 1], c=m_test.numpy().flatten())\n",
    "    ax.spines['right'].set_visible(False)\n",
    "    ax.spines['top'].set_visible(False)\n",
    "    ax.axvline(0, color='black')\n",
    "    ax.axhline(0, color='black')\n",
    "    plt.show()"
   ]
  },
  {
   "cell_type": "markdown",
   "metadata": {},
   "source": [
    "# Training parameters"
   ]
  },
  {
   "cell_type": "code",
   "execution_count": 21,
   "metadata": {},
   "outputs": [],
   "source": [
    "parameter_settings_rdm = OrderedDict([\n",
    "        ('v', [(-5, 5), (-5, 5)]),\n",
    "        ('sv', [(0.0, 2.0)]),\n",
    "        ('zr', [(0.25, 0.75)]),\n",
    "        ('szr', [(0.0, 0.3)]),\n",
    "        ('a', [(0.2, 3.0)]),\n",
    "        ('ndt', [(0.3, 1.5)]),\n",
    "        ('sndt', 0),\n",
    "        ('alpha', 2.0)\n",
    "])\n",
    "\n",
    "parameter_settings_lfm = OrderedDict([\n",
    "        ('v', [(-5, 5), (-5, 5)]),\n",
    "        ('sv', 0),\n",
    "        ('zr', [(0.25, 0.75)]),\n",
    "        ('szr', 0),\n",
    "        ('a', [(0.2, 3.0)]),\n",
    "        ('ndt', [(0.3, 1.5)]),\n",
    "        ('sndt', 0),\n",
    "        ('alpha', [(1.0, 2.0)])\n",
    "])\n",
    "nn_params = dict(n_cond=2, inv_h_dim=128, n_equiv=4, z_dim=64, summary_dim=64, cls_dim=128, n_dense_cls=2)\n",
    "n_post_samples = 1000\n",
    "n_trials = 500\n",
    "n_test = 300\n",
    "epochs = 100\n",
    "batch_size = 32\n",
    "learning_rate = 0.001\n",
    "iterations_per_epoch = 1000\n",
    "clip_value = 5.\n",
    "global_step = tfe.Variable(0, dtype=tf.int32)\n",
    "beta = tfe.Variable(0.0, dtype=tf.float32)\n",
    "data_gen = partial(generate_data, parameter_settings_rdm=parameter_settings_rdm, \n",
    "                   parameter_settings_lfm=parameter_settings_lfm, n_points=n_trials)"
   ]
  },
  {
   "cell_type": "markdown",
   "metadata": {},
   "source": [
    "## Create test"
   ]
  },
  {
   "cell_type": "code",
   "execution_count": 22,
   "metadata": {},
   "outputs": [],
   "source": [
    "X_test, m_test, theta_test = data_gen(n_test, return_params=True)"
   ]
  },
  {
   "cell_type": "markdown",
   "metadata": {},
   "source": [
    "## Create model and optimizer"
   ]
  },
  {
   "cell_type": "code",
   "execution_count": 29,
   "metadata": {},
   "outputs": [],
   "source": [
    "model = ModelSelector(**nn_params)\n",
    "optimizer = tf.train.AdamOptimizer(learning_rate=learning_rate)"
   ]
  },
  {
   "cell_type": "markdown",
   "metadata": {},
   "source": [
    "## Plot latent dim of untrained"
   ]
  },
  {
   "cell_type": "code",
   "execution_count": 33,
   "metadata": {},
   "outputs": [],
   "source": [
    "# z_means = model(X_test)[0]\n",
    "# plot_latent_dim(z_means, m_test)"
   ]
  },
  {
   "cell_type": "markdown",
   "metadata": {},
   "source": [
    "## Manage checkpoints"
   ]
  },
  {
   "cell_type": "code",
   "execution_count": 32,
   "metadata": {},
   "outputs": [
    {
     "name": "stdout",
     "output_type": "stream",
     "text": [
      "Initializing from scratch.\n"
     ]
    }
   ],
   "source": [
    "checkpoint = tf.train.Checkpoint(step=global_step, optimizer=optimizer, net=model)\n",
    "manager = tf.train.CheckpointManager(checkpoint, './checkpoints/rdm_lfm', max_to_keep=5)\n",
    "checkpoint.restore(manager.latest_checkpoint)\n",
    "if manager.latest_checkpoint:\n",
    "    print(\"Restored from {}\".format(manager.latest_checkpoint))\n",
    "else:\n",
    "    print(\"Initializing from scratch.\")"
   ]
  },
  {
   "cell_type": "markdown",
   "metadata": {},
   "source": [
    "## Run training loop"
   ]
  },
  {
   "cell_type": "code",
   "execution_count": 34,
   "metadata": {},
   "outputs": [
    {
     "data": {
      "application/vnd.jupyter.widget-view+json": {
       "model_id": "272d593ce3b84896b3e5b38eefde8f14",
       "version_major": 2,
       "version_minor": 0
      },
      "text/plain": [
       "HBox(children=(IntProgress(value=0, description='Training epoch 1', max=1000, style=ProgressStyle(description_…"
      ]
     },
     "metadata": {},
     "output_type": "display_data"
    },
    {
     "name": "stdout",
     "output_type": "stream",
     "text": [
      "Value of beta:  0.0\n",
      "\n"
     ]
    },
    {
     "data": {
      "application/vnd.jupyter.widget-view+json": {
       "model_id": "4c9de2abf3164b2088fd523107351df5",
       "version_major": 2,
       "version_minor": 0
      },
      "text/plain": [
       "HBox(children=(IntProgress(value=0, description='Training epoch 2', max=1000, style=ProgressStyle(description_…"
      ]
     },
     "metadata": {},
     "output_type": "display_data"
    },
    {
     "name": "stdout",
     "output_type": "stream",
     "text": [
      "Value of beta:  0.1\n",
      "\n"
     ]
    },
    {
     "data": {
      "application/vnd.jupyter.widget-view+json": {
       "model_id": "680e822b48b043d3af56438c587b6fdc",
       "version_major": 2,
       "version_minor": 0
      },
      "text/plain": [
       "HBox(children=(IntProgress(value=0, description='Training epoch 3', max=1000, style=ProgressStyle(description_…"
      ]
     },
     "metadata": {},
     "output_type": "display_data"
    },
    {
     "name": "stdout",
     "output_type": "stream",
     "text": [
      "Value of beta:  0.2\n",
      "\n"
     ]
    },
    {
     "data": {
      "application/vnd.jupyter.widget-view+json": {
       "model_id": "ed31ad6858554df2b1caadf4cd12cbc7",
       "version_major": 2,
       "version_minor": 0
      },
      "text/plain": [
       "HBox(children=(IntProgress(value=0, description='Training epoch 4', max=1000, style=ProgressStyle(description_…"
      ]
     },
     "metadata": {},
     "output_type": "display_data"
    },
    {
     "name": "stdout",
     "output_type": "stream",
     "text": [
      "Value of beta:  0.3\n",
      "\n"
     ]
    },
    {
     "data": {
      "application/vnd.jupyter.widget-view+json": {
       "model_id": "0fe64e8afade4e07b5dda8ca67828d4c",
       "version_major": 2,
       "version_minor": 0
      },
      "text/plain": [
       "HBox(children=(IntProgress(value=0, description='Training epoch 5', max=1000, style=ProgressStyle(description_…"
      ]
     },
     "metadata": {},
     "output_type": "display_data"
    },
    {
     "name": "stdout",
     "output_type": "stream",
     "text": [
      "Value of beta:  0.4\n",
      "\n"
     ]
    },
    {
     "data": {
      "application/vnd.jupyter.widget-view+json": {
       "model_id": "edecdeabd1bb42829f85beb68c94735c",
       "version_major": 2,
       "version_minor": 0
      },
      "text/plain": [
       "HBox(children=(IntProgress(value=0, description='Training epoch 6', max=1000, style=ProgressStyle(description_…"
      ]
     },
     "metadata": {},
     "output_type": "display_data"
    },
    {
     "name": "stdout",
     "output_type": "stream",
     "text": [
      "Value of beta:  0.5\n",
      "WARNING:tensorflow:From D:\\Anaconda3\\envs\\TensorFlowGpu\\lib\\site-packages\\tensorflow\\python\\training\\checkpoint_management.py:624: remove_checkpoint (from tensorflow.python.training.checkpoint_management) is deprecated and will be removed in a future version.\n",
      "Instructions for updating:\n",
      "Use standard file APIs to delete files with this prefix.\n",
      "\n"
     ]
    },
    {
     "data": {
      "application/vnd.jupyter.widget-view+json": {
       "model_id": "34a41c963c184ca8b02196d373520608",
       "version_major": 2,
       "version_minor": 0
      },
      "text/plain": [
       "HBox(children=(IntProgress(value=0, description='Training epoch 7', max=1000, style=ProgressStyle(description_…"
      ]
     },
     "metadata": {},
     "output_type": "display_data"
    },
    {
     "name": "stdout",
     "output_type": "stream",
     "text": [
      "Value of beta:  0.6\n",
      "\n"
     ]
    },
    {
     "data": {
      "application/vnd.jupyter.widget-view+json": {
       "model_id": "537466332b19402883909728e4a46f98",
       "version_major": 2,
       "version_minor": 0
      },
      "text/plain": [
       "HBox(children=(IntProgress(value=0, description='Training epoch 8', max=1000, style=ProgressStyle(description_…"
      ]
     },
     "metadata": {},
     "output_type": "display_data"
    },
    {
     "name": "stdout",
     "output_type": "stream",
     "text": [
      "Value of beta:  0.70000005\n",
      "\n"
     ]
    },
    {
     "ename": "KeyboardInterrupt",
     "evalue": "",
     "output_type": "error",
     "traceback": [
      "\u001b[1;31m---------------------------------------------------------------------------\u001b[0m",
      "\u001b[1;31mKeyboardInterrupt\u001b[0m                         Traceback (most recent call last)",
      "\u001b[1;32m<timed exec>\u001b[0m in \u001b[0;36m<module>\u001b[1;34m\u001b[0m\n",
      "\u001b[1;32m<ipython-input-7-b74eb43a9585>\u001b[0m in \u001b[0;36mtrain_loop_online\u001b[1;34m(model, optimizer, data_generator, iterations, batch_size, X_test, m_test, p_bar, beta, transform, max_beta, global_step, beta_update_every, beta_increment, clip_value)\u001b[0m\n\u001b[0;32m     54\u001b[0m                 \u001b[0mprint\u001b[0m\u001b[1;33m(\u001b[0m\u001b[0mstr\u001b[0m\u001b[1;33m(\u001b[0m\u001b[0me\u001b[0m\u001b[1;33m)\u001b[0m\u001b[1;33m)\u001b[0m\u001b[1;33m\u001b[0m\u001b[1;33m\u001b[0m\u001b[0m\n\u001b[0;32m     55\u001b[0m                 \u001b[0mgradients\u001b[0m \u001b[1;33m=\u001b[0m \u001b[1;33m[\u001b[0m\u001b[0mtf\u001b[0m\u001b[1;33m.\u001b[0m\u001b[0mclip_by_value\u001b[0m\u001b[1;33m(\u001b[0m\u001b[0mgrad\u001b[0m\u001b[1;33m,\u001b[0m \u001b[1;33m-\u001b[0m\u001b[0mclip_value\u001b[0m\u001b[1;33m,\u001b[0m \u001b[0mclip_value\u001b[0m\u001b[1;33m)\u001b[0m \u001b[1;32mfor\u001b[0m \u001b[0mgrad\u001b[0m \u001b[1;32min\u001b[0m \u001b[0mgradients\u001b[0m\u001b[1;33m]\u001b[0m\u001b[1;33m\u001b[0m\u001b[1;33m\u001b[0m\u001b[0m\n\u001b[1;32m---> 56\u001b[1;33m         \u001b[0moptimizer\u001b[0m\u001b[1;33m.\u001b[0m\u001b[0mapply_gradients\u001b[0m\u001b[1;33m(\u001b[0m\u001b[0mzip\u001b[0m\u001b[1;33m(\u001b[0m\u001b[0mgradients\u001b[0m\u001b[1;33m,\u001b[0m \u001b[0mmodel\u001b[0m\u001b[1;33m.\u001b[0m\u001b[0mtrainable_variables\u001b[0m\u001b[1;33m)\u001b[0m\u001b[1;33m,\u001b[0m \u001b[0mglobal_step\u001b[0m\u001b[1;33m=\u001b[0m\u001b[0mglobal_step\u001b[0m\u001b[1;33m)\u001b[0m\u001b[1;33m\u001b[0m\u001b[1;33m\u001b[0m\u001b[0m\n\u001b[0m\u001b[0;32m     57\u001b[0m \u001b[1;33m\u001b[0m\u001b[0m\n\u001b[0;32m     58\u001b[0m         \u001b[1;31m# Increase beta every 500 iterations\u001b[0m\u001b[1;33m\u001b[0m\u001b[1;33m\u001b[0m\u001b[1;33m\u001b[0m\u001b[0m\n",
      "\u001b[1;32mD:\\Anaconda3\\envs\\TensorFlowGpu\\lib\\site-packages\\tensorflow\\python\\training\\optimizer.py\u001b[0m in \u001b[0;36mapply_gradients\u001b[1;34m(self, grads_and_vars, global_step, name)\u001b[0m\n\u001b[0;32m    610\u001b[0m           \u001b[0mscope_name\u001b[0m \u001b[1;33m=\u001b[0m \u001b[0mvar\u001b[0m\u001b[1;33m.\u001b[0m\u001b[0mop\u001b[0m\u001b[1;33m.\u001b[0m\u001b[0mname\u001b[0m\u001b[1;33m\u001b[0m\u001b[1;33m\u001b[0m\u001b[0m\n\u001b[0;32m    611\u001b[0m         \u001b[1;32mwith\u001b[0m \u001b[0mops\u001b[0m\u001b[1;33m.\u001b[0m\u001b[0mname_scope\u001b[0m\u001b[1;33m(\u001b[0m\u001b[1;34m\"update_\"\u001b[0m \u001b[1;33m+\u001b[0m \u001b[0mscope_name\u001b[0m\u001b[1;33m)\u001b[0m\u001b[1;33m,\u001b[0m \u001b[0mops\u001b[0m\u001b[1;33m.\u001b[0m\u001b[0mcolocate_with\u001b[0m\u001b[1;33m(\u001b[0m\u001b[0mvar\u001b[0m\u001b[1;33m)\u001b[0m\u001b[1;33m:\u001b[0m\u001b[1;33m\u001b[0m\u001b[1;33m\u001b[0m\u001b[0m\n\u001b[1;32m--> 612\u001b[1;33m           \u001b[0mupdate_ops\u001b[0m\u001b[1;33m.\u001b[0m\u001b[0mappend\u001b[0m\u001b[1;33m(\u001b[0m\u001b[0mprocessor\u001b[0m\u001b[1;33m.\u001b[0m\u001b[0mupdate_op\u001b[0m\u001b[1;33m(\u001b[0m\u001b[0mself\u001b[0m\u001b[1;33m,\u001b[0m \u001b[0mgrad\u001b[0m\u001b[1;33m)\u001b[0m\u001b[1;33m)\u001b[0m\u001b[1;33m\u001b[0m\u001b[1;33m\u001b[0m\u001b[0m\n\u001b[0m\u001b[0;32m    613\u001b[0m       \u001b[1;32mif\u001b[0m \u001b[0mglobal_step\u001b[0m \u001b[1;32mis\u001b[0m \u001b[1;32mNone\u001b[0m\u001b[1;33m:\u001b[0m\u001b[1;33m\u001b[0m\u001b[1;33m\u001b[0m\u001b[0m\n\u001b[0;32m    614\u001b[0m         \u001b[0mapply_updates\u001b[0m \u001b[1;33m=\u001b[0m \u001b[0mself\u001b[0m\u001b[1;33m.\u001b[0m\u001b[0m_finish\u001b[0m\u001b[1;33m(\u001b[0m\u001b[0mupdate_ops\u001b[0m\u001b[1;33m,\u001b[0m \u001b[0mname\u001b[0m\u001b[1;33m)\u001b[0m\u001b[1;33m\u001b[0m\u001b[1;33m\u001b[0m\u001b[0m\n",
      "\u001b[1;32mD:\\Anaconda3\\envs\\TensorFlowGpu\\lib\\site-packages\\tensorflow\\python\\training\\optimizer.py\u001b[0m in \u001b[0;36mupdate_op\u001b[1;34m(self, optimizer, g)\u001b[0m\n\u001b[0;32m    169\u001b[0m       return optimizer._resource_apply_sparse_duplicate_indices(\n\u001b[0;32m    170\u001b[0m           g.values, self._v, g.indices)\n\u001b[1;32m--> 171\u001b[1;33m     \u001b[0mupdate_op\u001b[0m \u001b[1;33m=\u001b[0m \u001b[0moptimizer\u001b[0m\u001b[1;33m.\u001b[0m\u001b[0m_resource_apply_dense\u001b[0m\u001b[1;33m(\u001b[0m\u001b[0mg\u001b[0m\u001b[1;33m,\u001b[0m \u001b[0mself\u001b[0m\u001b[1;33m.\u001b[0m\u001b[0m_v\u001b[0m\u001b[1;33m)\u001b[0m\u001b[1;33m\u001b[0m\u001b[1;33m\u001b[0m\u001b[0m\n\u001b[0m\u001b[0;32m    172\u001b[0m     \u001b[1;32mif\u001b[0m \u001b[0mself\u001b[0m\u001b[1;33m.\u001b[0m\u001b[0m_v\u001b[0m\u001b[1;33m.\u001b[0m\u001b[0mconstraint\u001b[0m \u001b[1;32mis\u001b[0m \u001b[1;32mnot\u001b[0m \u001b[1;32mNone\u001b[0m\u001b[1;33m:\u001b[0m\u001b[1;33m\u001b[0m\u001b[1;33m\u001b[0m\u001b[0m\n\u001b[0;32m    173\u001b[0m       \u001b[1;32mwith\u001b[0m \u001b[0mops\u001b[0m\u001b[1;33m.\u001b[0m\u001b[0mcontrol_dependencies\u001b[0m\u001b[1;33m(\u001b[0m\u001b[1;33m[\u001b[0m\u001b[0mupdate_op\u001b[0m\u001b[1;33m]\u001b[0m\u001b[1;33m)\u001b[0m\u001b[1;33m:\u001b[0m\u001b[1;33m\u001b[0m\u001b[1;33m\u001b[0m\u001b[0m\n",
      "\u001b[1;32mD:\\Anaconda3\\envs\\TensorFlowGpu\\lib\\site-packages\\tensorflow\\python\\training\\adam.py\u001b[0m in \u001b[0;36m_resource_apply_dense\u001b[1;34m(self, grad, var)\u001b[0m\n\u001b[0;32m    173\u001b[0m         \u001b[0mmath_ops\u001b[0m\u001b[1;33m.\u001b[0m\u001b[0mcast\u001b[0m\u001b[1;33m(\u001b[0m\u001b[0mself\u001b[0m\u001b[1;33m.\u001b[0m\u001b[0m_beta2_t\u001b[0m\u001b[1;33m,\u001b[0m \u001b[0mgrad\u001b[0m\u001b[1;33m.\u001b[0m\u001b[0mdtype\u001b[0m\u001b[1;33m.\u001b[0m\u001b[0mbase_dtype\u001b[0m\u001b[1;33m)\u001b[0m\u001b[1;33m,\u001b[0m\u001b[1;33m\u001b[0m\u001b[1;33m\u001b[0m\u001b[0m\n\u001b[0;32m    174\u001b[0m         \u001b[0mmath_ops\u001b[0m\u001b[1;33m.\u001b[0m\u001b[0mcast\u001b[0m\u001b[1;33m(\u001b[0m\u001b[0mself\u001b[0m\u001b[1;33m.\u001b[0m\u001b[0m_epsilon_t\u001b[0m\u001b[1;33m,\u001b[0m \u001b[0mgrad\u001b[0m\u001b[1;33m.\u001b[0m\u001b[0mdtype\u001b[0m\u001b[1;33m.\u001b[0m\u001b[0mbase_dtype\u001b[0m\u001b[1;33m)\u001b[0m\u001b[1;33m,\u001b[0m\u001b[1;33m\u001b[0m\u001b[1;33m\u001b[0m\u001b[0m\n\u001b[1;32m--> 175\u001b[1;33m         grad, use_locking=self._use_locking)\n\u001b[0m\u001b[0;32m    176\u001b[0m \u001b[1;33m\u001b[0m\u001b[0m\n\u001b[0;32m    177\u001b[0m   \u001b[1;32mdef\u001b[0m \u001b[0m_apply_sparse_shared\u001b[0m\u001b[1;33m(\u001b[0m\u001b[0mself\u001b[0m\u001b[1;33m,\u001b[0m \u001b[0mgrad\u001b[0m\u001b[1;33m,\u001b[0m \u001b[0mvar\u001b[0m\u001b[1;33m,\u001b[0m \u001b[0mindices\u001b[0m\u001b[1;33m,\u001b[0m \u001b[0mscatter_add\u001b[0m\u001b[1;33m)\u001b[0m\u001b[1;33m:\u001b[0m\u001b[1;33m\u001b[0m\u001b[1;33m\u001b[0m\u001b[0m\n",
      "\u001b[1;32mD:\\Anaconda3\\envs\\TensorFlowGpu\\lib\\site-packages\\tensorflow\\python\\training\\gen_training_ops.py\u001b[0m in \u001b[0;36mresource_apply_adam\u001b[1;34m(var, m, v, beta1_power, beta2_power, lr, beta1, beta2, epsilon, grad, use_locking, use_nesterov, name)\u001b[0m\n\u001b[0;32m   1272\u001b[0m         \u001b[1;34m\"ResourceApplyAdam\"\u001b[0m\u001b[1;33m,\u001b[0m \u001b[0mname\u001b[0m\u001b[1;33m,\u001b[0m \u001b[0m_ctx\u001b[0m\u001b[1;33m.\u001b[0m\u001b[0m_post_execution_callbacks\u001b[0m\u001b[1;33m,\u001b[0m \u001b[0mvar\u001b[0m\u001b[1;33m,\u001b[0m \u001b[0mm\u001b[0m\u001b[1;33m,\u001b[0m \u001b[0mv\u001b[0m\u001b[1;33m,\u001b[0m\u001b[1;33m\u001b[0m\u001b[1;33m\u001b[0m\u001b[0m\n\u001b[0;32m   1273\u001b[0m         \u001b[0mbeta1_power\u001b[0m\u001b[1;33m,\u001b[0m \u001b[0mbeta2_power\u001b[0m\u001b[1;33m,\u001b[0m \u001b[0mlr\u001b[0m\u001b[1;33m,\u001b[0m \u001b[0mbeta1\u001b[0m\u001b[1;33m,\u001b[0m \u001b[0mbeta2\u001b[0m\u001b[1;33m,\u001b[0m \u001b[0mepsilon\u001b[0m\u001b[1;33m,\u001b[0m \u001b[0mgrad\u001b[0m\u001b[1;33m,\u001b[0m\u001b[1;33m\u001b[0m\u001b[1;33m\u001b[0m\u001b[0m\n\u001b[1;32m-> 1274\u001b[1;33m         \"use_locking\", use_locking, \"use_nesterov\", use_nesterov)\n\u001b[0m\u001b[0;32m   1275\u001b[0m       \u001b[1;32mreturn\u001b[0m \u001b[0m_result\u001b[0m\u001b[1;33m\u001b[0m\u001b[1;33m\u001b[0m\u001b[0m\n\u001b[0;32m   1276\u001b[0m     \u001b[1;32mexcept\u001b[0m \u001b[0m_core\u001b[0m\u001b[1;33m.\u001b[0m\u001b[0m_FallbackException\u001b[0m\u001b[1;33m:\u001b[0m\u001b[1;33m\u001b[0m\u001b[1;33m\u001b[0m\u001b[0m\n",
      "\u001b[1;31mKeyboardInterrupt\u001b[0m: "
     ]
    }
   ],
   "source": [
    "%%time\n",
    "for ep in range(1, epochs+1):\n",
    "    with tqdm(total=iterations_per_epoch, desc='Training epoch {}'.format(ep)) as p_bar:\n",
    "        print('Value of beta: ', beta.numpy())\n",
    "        losses = train_loop_online(model, optimizer, data_gen, iterations_per_epoch, \n",
    "                            batch_size, X_test, m_test, p_bar, beta, clip_value=clip_value, \n",
    "                            global_step=global_step, beta_update_every=1000, beta_increment=0.1, max_beta=1.0)\n",
    "#         z_mean, _, _ = model(X_test, return_prob=True)\n",
    "#         plot_latent_dim(z_mean, m_test)\n",
    "        manager.save()"
   ]
  },
  {
   "cell_type": "code",
   "execution_count": 62,
   "metadata": {},
   "outputs": [
    {
     "data": {
      "image/png": "[encoded data removed]",
      "text/plain": [
       "<Figure size 576x432 with 1 Axes>"
      ]
     },
     "metadata": {
      "needs_background": "light"
     },
     "output_type": "display_data"
    }
   ],
   "source": [
    "z_mean, z_var, _ = model(X_test, return_prob=True)\n",
    "plot_latent_dim(z_mean, m_test)"
   ]
  },
  {
   "cell_type": "code",
   "execution_count": null,
   "metadata": {},
   "outputs": [],
   "source": []
  },
  {
   "cell_type": "code",
   "execution_count": null,
   "metadata": {},
   "outputs": [],
   "source": []
  },
  {
   "cell_type": "code",
   "execution_count": null,
   "metadata": {},
   "outputs": [],
   "source": []
  },
  {
   "cell_type": "code",
   "execution_count": null,
   "metadata": {},
   "outputs": [],
   "source": []
  },
  {
   "cell_type": "code",
   "execution_count": null,
   "metadata": {},
   "outputs": [],
   "source": []
  },
  {
   "cell_type": "code",
   "execution_count": null,
   "metadata": {},
   "outputs": [],
   "source": []
  },
  {
   "cell_type": "markdown",
   "metadata": {},
   "source": [
    "# Evaluate performance"
   ]
  },
  {
   "cell_type": "code",
   "execution_count": null,
   "metadata": {},
   "outputs": [],
   "source": [
    "samples = model.sample(X_test, n_post_samples)"
   ]
  },
  {
   "cell_type": "code",
   "execution_count": null,
   "metadata": {},
   "outputs": [],
   "source": [
    "z_mean, z_var, m_hat = model(X_test, return_prob=True)"
   ]
  },
  {
   "cell_type": "code",
   "execution_count": null,
   "metadata": {},
   "outputs": [],
   "source": [
    "plot_latent(z_mean, m_test)"
   ]
  },
  {
   "cell_type": "code",
   "execution_count": null,
   "metadata": {},
   "outputs": [],
   "source": [
    "index_uncertain = np.logical_and(samples.numpy().mean(1) > .3, samples.numpy().mean(1) < .7)"
   ]
  },
  {
   "cell_type": "code",
   "execution_count": null,
   "metadata": {},
   "outputs": [],
   "source": [
    "index_wrong = (m_hat.numpy() > 0.5).astype(np.int32) != m_test.numpy()"
   ]
  },
  {
   "cell_type": "code",
   "execution_count": null,
   "metadata": {},
   "outputs": [],
   "source": [
    "np.argwhere(index_wrong)"
   ]
  },
  {
   "cell_type": "code",
   "execution_count": null,
   "metadata": {},
   "outputs": [],
   "source": [
    "f, axarr = plt.subplots(1, 5, figsize=(16, 3))\n",
    "axarr = axarr.flat\n",
    "\n",
    "sns.distplot(samples[89], hist=True, kde=True, ax=axarr[0])\n",
    "sns.distplot(1 - samples[89], hist=True, kde=True, ax=axarr[0])\n",
    "\n",
    "sns.distplot(samples[129], hist=True, kde=True, ax=axarr[1])\n",
    "sns.distplot(1 - samples[129], hist=True, kde=True, ax=axarr[1])\n",
    "\n",
    "sns.distplot(samples[133], hist=True, kde=True, ax=axarr[2])\n",
    "sns.distplot(1 - samples[133], hist=True, kde=True, ax=axarr[2])\n",
    "\n",
    "sns.distplot(samples[164], hist=True, kde=True, ax=axarr[3])\n",
    "sns.distplot(1 - samples[164], hist=True, kde=True, ax=axarr[3])\n",
    "\n",
    "sns.distplot(samples[293], hist=True, kde=True, ax=axarr[4])\n",
    "sns.distplot(1 - samples[293], hist=True, kde=True, ax=axarr[4])"
   ]
  },
  {
   "cell_type": "code",
   "execution_count": null,
   "metadata": {},
   "outputs": [],
   "source": [
    "f, axarr = plt.subplots(1, 5, figsize=(16, 3))\n",
    "axarr = axarr.flat\n",
    "\n",
    "sns.distplot(samples[0], hist=True, kde=True, ax=axarr[0])\n",
    "sns.distplot(1 - samples[0], hist=True, kde=True, ax=axarr[0])\n",
    "\n",
    "sns.distplot(samples[1], hist=True, kde=True, ax=axarr[1])\n",
    "sns.distplot(1 - samples[1], hist=True, kde=True, ax=axarr[1])\n",
    "\n",
    "sns.distplot(samples[2], hist=True, kde=True, ax=axarr[2])\n",
    "sns.distplot(1 - samples[2], hist=True, kde=True, ax=axarr[2])\n",
    "\n",
    "sns.distplot(samples[3], hist=True, kde=True, ax=axarr[3])\n",
    "sns.distplot(1 - samples[3], hist=True, kde=True, ax=axarr[3])\n",
    "\n",
    "sns.distplot(samples[4], hist=True, kde=True, ax=axarr[4])\n",
    "sns.distplot(1 - samples[4], hist=True, kde=True, ax=axarr[4])"
   ]
  },
  {
   "cell_type": "code",
   "execution_count": null,
   "metadata": {},
   "outputs": [],
   "source": [
    "m_hat.numpy()[index_wrong]"
   ]
  },
  {
   "cell_type": "code",
   "execution_count": null,
   "metadata": {},
   "outputs": [],
   "source": [
    "m_hat.numpy()[index_uncertain]"
   ]
  },
  {
   "cell_type": "code",
   "execution_count": null,
   "metadata": {},
   "outputs": [],
   "source": [
    "wrong = X_test.numpy()[index_wrong.flatten()]"
   ]
  },
  {
   "cell_type": "code",
   "execution_count": null,
   "metadata": {},
   "outputs": [],
   "source": [
    "means_wrong = z_mean.numpy()[index_wrong.flatten()]\n",
    "stds_wrong = np.exp(z_var.numpy()[index_wrong.flatten()] * 0.5)"
   ]
  },
  {
   "cell_type": "code",
   "execution_count": null,
   "metadata": {},
   "outputs": [],
   "source": [
    "z1 = np.random.normal(means_wrong[0, 0], stds_wrong[0, 0], 1000)\n",
    "z2 = np.random.normal(means_wrong[0, 1], stds_wrong[0, 1], 1000)\n",
    "sns.jointplot(z1, z2, kind=\"kde\")"
   ]
  },
  {
   "cell_type": "code",
   "execution_count": null,
   "metadata": {},
   "outputs": [],
   "source": [
    "z1 = np.random.normal(means_wrong[1, 0], stds_wrong[1, 0], 1000)\n",
    "z2 = np.random.normal(means_wrong[1, 1], stds_wrong[1, 1], 1000)\n",
    "sns.jointplot(z1, z2, kind=\"kde\")"
   ]
  },
  {
   "cell_type": "code",
   "execution_count": null,
   "metadata": {},
   "outputs": [],
   "source": [
    "z1 = np.random.normal(means_wrong[2, 0], stds_wrong[2, 0], 1000)\n",
    "z2 = np.random.normal(means_wrong[2, 1], stds_wrong[2, 1], 1000)\n",
    "sns.jointplot(z1, z2, kind=\"kde\")"
   ]
  },
  {
   "cell_type": "code",
   "execution_count": null,
   "metadata": {},
   "outputs": [],
   "source": [
    "sns.boxplot(m_test.numpy().flatten(), m_hat.numpy().flatten())"
   ]
  },
  {
   "cell_type": "code",
   "execution_count": null,
   "metadata": {},
   "outputs": [],
   "source": []
  }
 ],
 "metadata": {
  "kernelspec": {
   "display_name": "Python 3",
   "language": "python",
   "name": "python3"
  },
  "language_info": {
   "codemirror_mode": {
    "name": "ipython",
    "version": 3
   },
   "file_extension": ".py",
   "mimetype": "text/x-python",
   "name": "python",
   "nbconvert_exporter": "python",
   "pygments_lexer": "ipython3",
   "version": "3.6.8"
  },
  "toc": {
   "base_numbering": 1,
   "nav_menu": {},
   "number_sections": true,
   "sideBar": true,
   "skip_h1_title": false,
   "title_cell": "Table of Contents",
   "title_sidebar": "Contents",
   "toc_cell": false,
   "toc_position": {},
   "toc_section_display": true,
   "toc_window_display": true
  }
 },
 "nbformat": 4,
 "nbformat_minor": 2
}
