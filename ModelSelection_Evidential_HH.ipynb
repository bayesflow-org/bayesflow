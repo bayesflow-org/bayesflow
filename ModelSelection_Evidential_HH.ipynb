{
 "cells": [
  {
   "cell_type": "code",
   "execution_count": 22,
   "metadata": {},
   "outputs": [],
   "source": [
    "import tensorflow as tf\n",
    "from tensorflow.keras.regularizers import l2\n",
    "from tensorflow.keras.utils import to_categorical\n",
    "import tensorflow.contrib.eager as tfe\n",
    "from functools import partial\n",
    "import pandas as pd\n",
    "import seaborn as sns\n",
    "import matplotlib.pyplot as plt\n",
    "\n",
    "import matplotlib.tri as tri\n",
    "from scipy import stats\n",
    "from sklearn.metrics import confusion_matrix\n",
    "from scipy.special import gamma as gamma_fun\n",
    "import scipy.special as spec\n",
    "from scipy.stats import norm\n",
    "import matplotlib.pyplot as plt\n",
    "from tqdm import tqdm_notebook as tqdm\n",
    "import numpy as np\n",
    "\n",
    "\n",
    "from deep_bayes.models import DeepEvidentialModel\n",
    "from deep_bayes.settings import EVIDENTIAL_HH \n",
    "from deep_bayes.training import train_online\n",
    "from deep_bayes.losses import log_loss\n",
    "from deep_bayes.viz import plot_model_samples, plot_confusion_matrix\n",
    "from deep_bayes.diagnostics import accuracy, expected_calibration_error, overconfidence"
   ]
  },
  {
   "cell_type": "code",
   "execution_count": 13,
   "metadata": {},
   "outputs": [
    {
     "name": "stdout",
     "output_type": "stream",
     "text": [
      "The autoreload extension is already loaded. To reload it, use:\n",
      "  %reload_ext autoreload\n"
     ]
    }
   ],
   "source": [
    "%load_ext autoreload\n",
    "%autoreload 2"
   ]
  },
  {
   "cell_type": "code",
   "execution_count": 14,
   "metadata": {},
   "outputs": [],
   "source": [
    "tf.enable_eager_execution()"
   ]
  },
  {
   "cell_type": "code",
   "execution_count": 15,
   "metadata": {},
   "outputs": [],
   "source": [
    "%matplotlib inline"
   ]
  },
  {
   "cell_type": "markdown",
   "metadata": {},
   "source": [
    "# Generative model specifications"
   ]
  },
  {
   "cell_type": "markdown",
   "metadata": {},
   "source": [
    "## Model prior \n",
    "<p>Defines the prior probabilities over models $p(\\boldsymbol{m})$.</p>"
   ]
  },
  {
   "cell_type": "code",
   "execution_count": 16,
   "metadata": {},
   "outputs": [],
   "source": [
    "def model_prior(batch_size, n_models, p_vals=None):\n",
    "    \"\"\"\n",
    "    Samples from the models' prior batch size times and converts to one-hot.\n",
    "    Assumes equal model priors.\n",
    "    ----------\n",
    "    \n",
    "    Arguments:\n",
    "    batch_size : int  -- the number of samples to draw from the prior\n",
    "    n_models   : int  -- the number of generative models in queston\n",
    "    ----------\n",
    "    \n",
    "    Returns:\n",
    "    m_true : np.ndarray of shape (batch_size, theta_dim) -- the samples batch of parameters\n",
    "    \"\"\"\n",
    "    \n",
    "    # Equal priors, if nothign specified\n",
    "    if p_vals is None:\n",
    "        p_vals = [1/n_models] * n_models\n",
    "    m_idx = np.random.choice(n_models, size=batch_size, p=p_vals).astype(np.int32)\n",
    "    return m_idx"
   ]
  },
  {
   "cell_type": "markdown",
   "metadata": {},
   "source": [
    "## Model parameters priors\n",
    "<p>Defines how parameters are generated given a model $p(\\boldsymbol{\\theta}|\\boldsymbol{m})$.</p>"
   ]
  },
  {
   "cell_type": "code",
   "execution_count": 6,
   "metadata": {},
   "outputs": [],
   "source": [
    "def model1_params_prior(**args):\n",
    "    \"\"\"\n",
    "    Samples from the prior of the HH-2pars theta = (gbar_Na,gbar_K)\n",
    "    ----------\n",
    "    \n",
    "    Arguments:\n",
    "    ----------\n",
    "    \n",
    "    Output:\n",
    "    theta : np.ndarray of shape (1, theta_dim) -- the samples of parameters\n",
    "            or a dict with param key-values\n",
    "    \"\"\"\n",
    "    \n",
    "    theta = [\n",
    "         np.random.uniform(low=1.5, high=30), \n",
    "         np.random.uniform(low=0.3, high=15)\n",
    "    ]\n",
    "    return np.array(theta)\n",
    "\n",
    "\n",
    "def model2_params_prior(**args):\n",
    "    \"\"\"\n",
    "     Samples from the prior of the HH-3pars theta = (gbar_Na,gbar_K,gbar_M)\n",
    "    ----------\n",
    "    \n",
    "    Arguments:\n",
    "    ----------\n",
    "    \n",
    "    Output:\n",
    "    theta : np.ndarray of shape (1, theta_dim) -- the samples of parameters\n",
    "            or a dict with param key-values\n",
    "    \"\"\"\n",
    "    \n",
    "    theta = [\n",
    "        np.random.uniform(low=1.5, high=30), \n",
    "        np.random.uniform(low=0.3, high=15),\n",
    "        np.random.uniform(low=0.005, high=0.3)  \n",
    "    ]\n",
    "    return np.array(theta)\n",
    "\n",
    "\n",
    "def model3_params_prior(**args):\n",
    "    \"\"\"\n",
    "    Samples from the prior of the HH-4pars theta = (gbar_l,gbar_Na,gbar_K,gbar_M)\n",
    "    ----------\n",
    "    \n",
    "    Arguments:\n",
    "    ----------\n",
    "    \n",
    "    Output:\n",
    "    theta : np.ndarray of shape (1, theta_dim) -- the samples of parameters\n",
    "            or a dict with param key-values\n",
    "    \"\"\"\n",
    "    \n",
    "    theta = [\n",
    "        np.random.uniform(low=0.01, high=0.18),\n",
    "        np.random.uniform(low=1.5, high=30), \n",
    "        np.random.uniform(low=0.3, high=15),\n",
    "        np.random.uniform(low=0.005, high=0.3)\n",
    "    ]\n",
    "    return np.array(theta)"
   ]
  },
  {
   "cell_type": "markdown",
   "metadata": {},
   "source": [
    "## Generative models\n",
    "<p>Defines how the data are generated, that is, $\\boldsymbol{x}_{1:N} \\sim p(\\boldsymbol{x}|boldsymbol{\\theta},\\boldsymbol{m}).$"
   ]
  },
  {
   "cell_type": "code",
   "execution_count": 7,
   "metadata": {
    "code_folding": []
   },
   "outputs": [],
   "source": [
    "from numba import njit\n",
    "\n",
    "@njit\n",
    "def forward_model1(params, V0=-70, I_input=3, I_duration=200, dt=0.2):\n",
    "    \n",
    "    # HH-2pars    \n",
    "\n",
    "    # pars = [gbar_Na, gbar_K]\n",
    "    # I_input = input current in muA/cm2\n",
    "    # I_duration = duration of current input in ms\n",
    "    # dt = dt\n",
    "    \n",
    "    gbar_Na, gbar_K = params\n",
    "\n",
    "\n",
    "    # fixed parameters\n",
    "    tau_max = 6e2   # ms\n",
    "    Vt = -60.       # mV\n",
    "    nois_fact = 0.1 # uA/cm2\n",
    "    E_leak = -70.   # mV\n",
    "    E_Na = 53       # mV\n",
    "    E_K = -107      # mV\n",
    "    C = 1\n",
    "    g_l = 0.1\n",
    "    gbar_M = 0.07\n",
    "\n",
    "    tstep = float(dt)\n",
    "    \n",
    "    ####################################\n",
    "    # Current (I) muA/cm2\n",
    "    t_on = 10\n",
    "    t_off = I_duration + 10\n",
    "    t = np.arange(0, t_on+t_off+dt, dt)\n",
    "    I = np.zeros_like(t)\n",
    "    I[int(np.round(t_on/dt)):int(np.round(t_off/dt))] = I_input\n",
    "\n",
    "    ####################################\n",
    "    # kinetics\n",
    "    def efun(z):\n",
    "        if np.abs(z) < 1e-4:\n",
    "            return 1 - z/2\n",
    "        else:\n",
    "            return z / (np.exp(z) - 1)\n",
    "\n",
    "    def alpha_m(x):\n",
    "        v1 = x - Vt - 13.\n",
    "        return 0.32*efun(-0.25*v1)/0.25\n",
    "\n",
    "    def beta_m(x):\n",
    "        v1 = x - Vt - 40\n",
    "        return 0.28*efun(0.2*v1)/0.2\n",
    "\n",
    "    def alpha_h(x):\n",
    "        v1 = x - Vt - 17.\n",
    "        return 0.128*np.exp(-v1/18.)\n",
    "\n",
    "    def beta_h(x):\n",
    "        v1 = x - Vt - 40.\n",
    "        return 4.0/(1 + np.exp(-0.2*v1))\n",
    "\n",
    "    def alpha_n(x):\n",
    "        v1 = x - Vt - 15.\n",
    "        return 0.032*efun(-0.2*v1)/0.2\n",
    "\n",
    "    def beta_n(x):\n",
    "        v1 = x - Vt - 10.\n",
    "        return 0.5*np.exp(-v1/40)\n",
    "\n",
    "    # steady-states and time constants\n",
    "    def tau_n(x):\n",
    "         return 1/(alpha_n(x) + beta_n(x))\n",
    "    def n_inf(x):\n",
    "        return alpha_n(x)/(alpha_n(x) + beta_n(x))\n",
    "    def tau_m(x):\n",
    "        return 1/(alpha_m(x) + beta_m(x))\n",
    "    def m_inf(x):\n",
    "        return alpha_m(x)/(alpha_m(x) + beta_m(x))\n",
    "    def tau_h(x):\n",
    "        return 1/(alpha_h(x) + beta_h(x))\n",
    "    def h_inf(x):\n",
    "        return alpha_h(x)/(alpha_h(x) + beta_h(x))\n",
    "\n",
    "    # slow non-inactivating K+\n",
    "    def p_inf(x):\n",
    "        v1 = x + 35.\n",
    "        return 1.0/(1. + np.exp(-0.1*v1))\n",
    "\n",
    "    def tau_p(x):\n",
    "        v1 = x + 35.\n",
    "        return tau_max/(3.3*np.exp(0.05*v1) + np.exp(-0.05*v1))\n",
    "\n",
    "\n",
    "    ####################################\n",
    "    # simulation from initial point\n",
    "    V = np.zeros_like(t) # voltage\n",
    "    n = np.zeros_like(t)\n",
    "    m = np.zeros_like(t)\n",
    "    h = np.zeros_like(t)\n",
    "    p = np.zeros_like(t)\n",
    "\n",
    "    V[0] = float(V0)\n",
    "    n[0] = n_inf(V[0])\n",
    "    m[0] = m_inf(V[0])\n",
    "    h[0] = h_inf(V[0])\n",
    "    p[0] = p_inf(V[0])\n",
    "\n",
    "    for i in range(1, t.shape[0]):\n",
    "        tau_V_inv = ( (m[i-1]**3)*gbar_Na*h[i-1]+(n[i-1]**4)*gbar_K+g_l+gbar_M*p[i-1] )/C\n",
    "        V_inf = ( (m[i-1]**3)*gbar_Na*h[i-1]*E_Na+(n[i-1]**4)*gbar_K*E_K+g_l*E_leak+gbar_M*p[i-1]*E_K\n",
    "                +I[i-1]+nois_fact*np.random.randn()/(tstep**0.5) )/(tau_V_inv*C)\n",
    "        V[i] = V_inf + (V[i-1]-V_inf)*np.exp(-tstep*tau_V_inv)\n",
    "        n[i] = n_inf(V[i])+(n[i-1]-n_inf(V[i]))*np.exp(-tstep/tau_n(V[i]))\n",
    "        m[i] = m_inf(V[i])+(m[i-1]-m_inf(V[i]))*np.exp(-tstep/tau_m(V[i]))\n",
    "        h[i] = h_inf(V[i])+(h[i-1]-h_inf(V[i]))*np.exp(-tstep/tau_h(V[i]))\n",
    "        p[i] = p_inf(V[i])+(p[i-1]-p_inf(V[i]))*np.exp(-tstep/tau_p(V[i]))\n",
    "\n",
    "    return V\n",
    "\n",
    "\n",
    "@njit\n",
    "def forward_model2(params, V0=-70, I_input=3, I_duration=200, dt=0.2):\n",
    "    \n",
    "    # HH-3pars    \n",
    "\n",
    "    # pars = [gbar_Na, gbar_K, gbar_M]\n",
    "    # I_input = input current in muA/cm2\n",
    "    # I_duration = duration of current input in ms\n",
    "    # dt = dt\n",
    "    \n",
    "    gbar_Na, gbar_K, gbar_M = params\n",
    "\n",
    "\n",
    "    # fixed parameters\n",
    "    tau_max = 6e2   # ms\n",
    "    Vt = -60.       # mV\n",
    "    nois_fact = 0.1 # uA/cm2\n",
    "    E_leak = -70.   # mV\n",
    "    E_Na = 53       # mV\n",
    "    E_K = -107      # mV\n",
    "    C = 1\n",
    "    g_l = 0.1\n",
    "\n",
    "    tstep = float(dt)\n",
    "    \n",
    "    ####################################\n",
    "    # Current (I) muA/cm2\n",
    "    t_on = 10\n",
    "    t_off = I_duration + 10\n",
    "    t = np.arange(0, t_on+t_off+dt, dt)\n",
    "    I = np.zeros_like(t)\n",
    "    I[int(np.round(t_on/dt)):int(np.round(t_off/dt))] = I_input\n",
    "\n",
    "    ####################################\n",
    "    # kinetics\n",
    "    def efun(z):\n",
    "        if np.abs(z) < 1e-4:\n",
    "            return 1 - z/2\n",
    "        else:\n",
    "            return z / (np.exp(z) - 1)\n",
    "\n",
    "    def alpha_m(x):\n",
    "        v1 = x - Vt - 13.\n",
    "        return 0.32*efun(-0.25*v1)/0.25\n",
    "\n",
    "    def beta_m(x):\n",
    "        v1 = x - Vt - 40\n",
    "        return 0.28*efun(0.2*v1)/0.2\n",
    "\n",
    "    def alpha_h(x):\n",
    "        v1 = x - Vt - 17.\n",
    "        return 0.128*np.exp(-v1/18.)\n",
    "\n",
    "    def beta_h(x):\n",
    "        v1 = x - Vt - 40.\n",
    "        return 4.0/(1 + np.exp(-0.2*v1))\n",
    "\n",
    "    def alpha_n(x):\n",
    "        v1 = x - Vt - 15.\n",
    "        return 0.032*efun(-0.2*v1)/0.2\n",
    "\n",
    "    def beta_n(x):\n",
    "        v1 = x - Vt - 10.\n",
    "        return 0.5*np.exp(-v1/40)\n",
    "\n",
    "    # steady-states and time constants\n",
    "    def tau_n(x):\n",
    "         return 1/(alpha_n(x) + beta_n(x))\n",
    "    def n_inf(x):\n",
    "        return alpha_n(x)/(alpha_n(x) + beta_n(x))\n",
    "    def tau_m(x):\n",
    "        return 1/(alpha_m(x) + beta_m(x))\n",
    "    def m_inf(x):\n",
    "        return alpha_m(x)/(alpha_m(x) + beta_m(x))\n",
    "    def tau_h(x):\n",
    "        return 1/(alpha_h(x) + beta_h(x))\n",
    "    def h_inf(x):\n",
    "        return alpha_h(x)/(alpha_h(x) + beta_h(x))\n",
    "\n",
    "    # slow non-inactivating K+\n",
    "    def p_inf(x):\n",
    "        v1 = x + 35.\n",
    "        return 1.0/(1. + np.exp(-0.1*v1))\n",
    "\n",
    "    def tau_p(x):\n",
    "        v1 = x + 35.\n",
    "        return tau_max/(3.3*np.exp(0.05*v1) + np.exp(-0.05*v1))\n",
    "\n",
    "\n",
    "    ####################################\n",
    "    # simulation from initial point\n",
    "    V = np.zeros_like(t) # voltage\n",
    "    n = np.zeros_like(t)\n",
    "    m = np.zeros_like(t)\n",
    "    h = np.zeros_like(t)\n",
    "    p = np.zeros_like(t)\n",
    "\n",
    "    V[0] = float(V0)\n",
    "    n[0] = n_inf(V[0])\n",
    "    m[0] = m_inf(V[0])\n",
    "    h[0] = h_inf(V[0])\n",
    "    p[0] = p_inf(V[0])\n",
    "\n",
    "    for i in range(1, t.shape[0]):\n",
    "        tau_V_inv = ( (m[i-1]**3)*gbar_Na*h[i-1]+(n[i-1]**4)*gbar_K+g_l+gbar_M*p[i-1] )/C\n",
    "        V_inf = ( (m[i-1]**3)*gbar_Na*h[i-1]*E_Na+(n[i-1]**4)*gbar_K*E_K+g_l*E_leak+gbar_M*p[i-1]*E_K\n",
    "                +I[i-1]+nois_fact*np.random.randn()/(tstep**0.5) )/(tau_V_inv*C)\n",
    "        V[i] = V_inf + (V[i-1]-V_inf)*np.exp(-tstep*tau_V_inv)\n",
    "        n[i] = n_inf(V[i])+(n[i-1]-n_inf(V[i]))*np.exp(-tstep/tau_n(V[i]))\n",
    "        m[i] = m_inf(V[i])+(m[i-1]-m_inf(V[i]))*np.exp(-tstep/tau_m(V[i]))\n",
    "        h[i] = h_inf(V[i])+(h[i-1]-h_inf(V[i]))*np.exp(-tstep/tau_h(V[i]))\n",
    "        p[i] = p_inf(V[i])+(p[i-1]-p_inf(V[i]))*np.exp(-tstep/tau_p(V[i]))\n",
    "\n",
    "    return V\n",
    "\n",
    "\n",
    "@njit\n",
    "def forward_model3(params, V0=-70, I_input=3, I_duration=200, dt=0.2):\n",
    "    \n",
    "    # HH-4pars    \n",
    "\n",
    "    # pars = [gbar_l, gbar_Na, gbar_K, gbar_M]\n",
    "    # I_input = input current in muA/cm2\n",
    "    # I_duration = duration of current input in ms\n",
    "    # dt = dt\n",
    "    \n",
    "    g_l, gbar_Na, gbar_K, gbar_M = params\n",
    "\n",
    "\n",
    "    # fixed parameters\n",
    "    tau_max = 6e2   # ms\n",
    "    Vt = -60.       # mV\n",
    "    nois_fact = 0.1 # uA/cm2\n",
    "    E_leak = -70.   # mV\n",
    "    E_Na = 53       # mV\n",
    "    E_K = -107      # mV\n",
    "    C = 1\n",
    "\n",
    "    tstep = float(dt)\n",
    "    \n",
    "    ####################################\n",
    "    # Current (I) muA/cm2\n",
    "    t_on = 10\n",
    "    t_off = I_duration + 10\n",
    "    t = np.arange(0, t_on+t_off+dt, dt)\n",
    "    I = np.zeros_like(t)\n",
    "    I[int(np.round(t_on/dt)):int(np.round(t_off/dt))] = I_input\n",
    "\n",
    "    ####################################\n",
    "    # kinetics\n",
    "    def efun(z):\n",
    "        if np.abs(z) < 1e-4:\n",
    "            return 1 - z/2\n",
    "        else:\n",
    "            return z / (np.exp(z) - 1)\n",
    "\n",
    "    def alpha_m(x):\n",
    "        v1 = x - Vt - 13.\n",
    "        return 0.32*efun(-0.25*v1)/0.25\n",
    "\n",
    "    def beta_m(x):\n",
    "        v1 = x - Vt - 40\n",
    "        return 0.28*efun(0.2*v1)/0.2\n",
    "\n",
    "    def alpha_h(x):\n",
    "        v1 = x - Vt - 17.\n",
    "        return 0.128*np.exp(-v1/18.)\n",
    "\n",
    "    def beta_h(x):\n",
    "        v1 = x - Vt - 40.\n",
    "        return 4.0/(1 + np.exp(-0.2*v1))\n",
    "\n",
    "    def alpha_n(x):\n",
    "        v1 = x - Vt - 15.\n",
    "        return 0.032*efun(-0.2*v1)/0.2\n",
    "\n",
    "    def beta_n(x):\n",
    "        v1 = x - Vt - 10.\n",
    "        return 0.5*np.exp(-v1/40)\n",
    "\n",
    "    # steady-states and time constants\n",
    "    def tau_n(x):\n",
    "         return 1/(alpha_n(x) + beta_n(x))\n",
    "    def n_inf(x):\n",
    "        return alpha_n(x)/(alpha_n(x) + beta_n(x))\n",
    "    def tau_m(x):\n",
    "        return 1/(alpha_m(x) + beta_m(x))\n",
    "    def m_inf(x):\n",
    "        return alpha_m(x)/(alpha_m(x) + beta_m(x))\n",
    "    def tau_h(x):\n",
    "        return 1/(alpha_h(x) + beta_h(x))\n",
    "    def h_inf(x):\n",
    "        return alpha_h(x)/(alpha_h(x) + beta_h(x))\n",
    "\n",
    "    # slow non-inactivating K+\n",
    "    def p_inf(x):\n",
    "        v1 = x + 35.\n",
    "        return 1.0/(1. + np.exp(-0.1*v1))\n",
    "\n",
    "    def tau_p(x):\n",
    "        v1 = x + 35.\n",
    "        return tau_max/(3.3*np.exp(0.05*v1) + np.exp(-0.05*v1))\n",
    "\n",
    "\n",
    "    ####################################\n",
    "    # simulation from initial point\n",
    "    V = np.zeros_like(t) # voltage\n",
    "    n = np.zeros_like(t)\n",
    "    m = np.zeros_like(t)\n",
    "    h = np.zeros_like(t)\n",
    "    p = np.zeros_like(t)\n",
    "\n",
    "    V[0] = float(V0)\n",
    "    n[0] = n_inf(V[0])\n",
    "    m[0] = m_inf(V[0])\n",
    "    h[0] = h_inf(V[0])\n",
    "    p[0] = p_inf(V[0])\n",
    "\n",
    "    for i in range(1, t.shape[0]):\n",
    "        tau_V_inv = ( (m[i-1]**3)*gbar_Na*h[i-1]+(n[i-1]**4)*gbar_K+g_l+gbar_M*p[i-1] )/C\n",
    "        V_inf = ( (m[i-1]**3)*gbar_Na*h[i-1]*E_Na+(n[i-1]**4)*gbar_K*E_K+g_l*E_leak+gbar_M*p[i-1]*E_K\n",
    "                +I[i-1]+nois_fact*np.random.randn()/(tstep**0.5) )/(tau_V_inv*C)\n",
    "        V[i] = V_inf + (V[i-1]-V_inf)*np.exp(-tstep*tau_V_inv)\n",
    "        n[i] = n_inf(V[i])+(n[i-1]-n_inf(V[i]))*np.exp(-tstep/tau_n(V[i]))\n",
    "        m[i] = m_inf(V[i])+(m[i-1]-m_inf(V[i]))*np.exp(-tstep/tau_m(V[i]))\n",
    "        h[i] = h_inf(V[i])+(h[i-1]-h_inf(V[i]))*np.exp(-tstep/tau_h(V[i]))\n",
    "        p[i] = p_inf(V[i])+(p[i-1]-p_inf(V[i]))*np.exp(-tstep/tau_p(V[i]))\n",
    "\n",
    "    return V"
   ]
  },
  {
   "cell_type": "markdown",
   "metadata": {},
   "source": [
    "## Data generator\n",
    "<p>Define the algorithm:</p>\n",
    "1. <strong>for</strong> $i = 1,...,B$<br>\n",
    "2. &emsp;$\\boldsymbol{m}^{(i)} \\sim p(\\boldsymbol{m})$<br>\n",
    "3. &emsp;$\\boldsymbol{\\theta}^{(i)} \\sim p(\\boldsymbol{\\theta}|\\boldsymbol{m}^{(i)})$<br>\n",
    "4. &emsp;$\\boldsymbol{x}_{1:N}^{(i)} \\sim p(\\boldsymbol{x}|\\boldsymbol{\\theta}^{(i)},\\boldsymbol{m}^{(i)})$"
   ]
  },
  {
   "cell_type": "code",
   "execution_count": 8,
   "metadata": {},
   "outputs": [],
   "source": [
    "def data_generator(batch_size, model_prior, param_priors, forward_models, alpha_smooth=None,\n",
    "                   I_duration=None, I_duration_min=100, I_duration_max=500, to_tensor=True, **args):\n",
    "    \"\"\"\n",
    "    Runs the forward model 'batch_size' times by first sampling fromt the prior\n",
    "    theta ~ p(theta) and running x ~ p(x|theta).\n",
    "    ----------\n",
    "    \n",
    "    Arguments:\n",
    "    batch_size     : int -- the number of samples to draw from the prior\n",
    "    model_prior    : callable -- the prior which returns a sample of model indices\n",
    "    param_priors   : list of callables -- a list with model prior samplers\n",
    "    forward_models : list of generative models g(theta) -- a list of generatibve models\n",
    "    alpha_smooth   : float or None -- the label smoothing hyperparameter\n",
    "    n_obs          : int -- the numebr of observations to draw from p(x|theta)\n",
    "    n_obs_min      : int -- used when n_obs is None, draws n_obs ~ U(n_obs_min, n_obs_max)\n",
    "    n_obs_max      : int -- used when n_obs is None, draws n_obs ~ U(n_obs_min, n_obs_max)\n",
    "    to_tensor      : boolean -- converts theta and x to tensors if True\n",
    "    ----------\n",
    "    \n",
    "    Output:\n",
    "    m     : tf.Tensor or np.ndarray of shape (batch_size, n_models) - the one-hot encoded version of the models\n",
    "    theta : tf.Tensor or np.ndarray of shape (batch_size, theta_dim) - the data gen parameters \n",
    "    x     : tf.Tensor of np.ndarray of shape (batch_size, n_obs, x_dim)  - the generated data\n",
    "    \"\"\"\n",
    "    \n",
    "    # Sample from model prior\n",
    "    # m_indices is an np.int32 array of model indices  \n",
    "    n_models = len(forward_models)\n",
    "    m_indices = model_prior(batch_size, n_models)\n",
    "    \n",
    "    # Sample N, if not specified\n",
    "    if I_duration is None:\n",
    "        I_duration = np.random.randint(low=I_duration_min, high=I_duration_max+1)\n",
    "    \n",
    "    \n",
    "    # For each model index, sample from prior and run generative model.\n",
    "    x = []\n",
    "    theta = []\n",
    "    for m_idx in m_indices:\n",
    "        \n",
    "        # Draw from model prior theta ~ p(theta|\n",
    "        theta_m = param_priors[m_idx]()\n",
    "        \n",
    "        # Generate data from x = g_m(theta) <=> x ~ p(x|theta,m)\n",
    "        x_m = forward_models[m_idx](theta_m, I_duration=I_duration)[:, np.newaxis] \n",
    "        \n",
    "        # Store data and params\n",
    "        x.append(x_m)\n",
    "        theta.append(theta_m)\n",
    "    \n",
    "    # One-hot encode model indices\n",
    "    m = to_categorical(m_indices, num_classes=n_models)\n",
    "    \n",
    "    # Stote x into a tensor\n",
    "    x = np.array(x)\n",
    "    \n",
    "    # Apply label smoothing, if specified\n",
    "    if alpha_smooth is not None:\n",
    "        m = m * (1 - alpha_smooth) + alpha_smooth / n_models\n",
    "    \n",
    "    # Convert to tensor, if specified \n",
    "    if to_tensor:\n",
    "        x = tf.convert_to_tensor(x, dtype=tf.float32)\n",
    "        m = tf.convert_to_tensor(m, dtype=tf.float32)\n",
    "    return {'m': m, 'theta': theta, 'x': x}"
   ]
  },
  {
   "cell_type": "markdown",
   "metadata": {},
   "source": [
    "# Training hyperparameters"
   ]
  },
  {
   "cell_type": "code",
   "execution_count": 17,
   "metadata": {},
   "outputs": [],
   "source": [
    "#--- Training hyperparameters ---#\n",
    "ckpt_file = \"evidential_model_selection_hh\"\n",
    "batch_size = 32\n",
    "epochs = 50\n",
    "iterations_per_epoch = 1000\n",
    "I_duration_max = 400\n",
    "I_duration_min = 100\n",
    "n_test = 300\n",
    "\n",
    "\n",
    "#--- Optimizer hyperparameters ---#\n",
    "starter_learning_rate = 0.0001\n",
    "global_step = tfe.Variable(0, dtype=tf.int32)\n",
    "decay_steps = 1000\n",
    "decay_rate = .99\n",
    "learning_rate = tf.train.exponential_decay(starter_learning_rate, global_step, \n",
    "                                           decay_steps, decay_rate, staircase=True)\n",
    "optimizer = tf.train.AdamOptimizer(learning_rate=learning_rate)\n",
    "\n",
    "\n",
    "#--- Generative model hyperparameters ---#\n",
    "model_names = ['M1', 'M2', 'M3']\n",
    "param_priors = [model1_params_prior, model2_params_prior, model3_params_prior]\n",
    "forward_models = [forward_model1, forward_model2, forward_model3]\n",
    "data_gen = partial(data_generator, \n",
    "                   model_prior=model_prior, \n",
    "                   param_priors=param_priors,\n",
    "                   forward_models=forward_models,\n",
    "                   I_duration_min=I_duration_min,\n",
    "                   I_duration_max=I_duration_max)"
   ]
  },
  {
   "cell_type": "markdown",
   "metadata": {},
   "source": [
    "## Create test data"
   ]
  },
  {
   "cell_type": "code",
   "execution_count": 18,
   "metadata": {},
   "outputs": [
    {
     "name": "stdout",
     "output_type": "stream",
     "text": [
      "Wall time: 4.1 s\n"
     ]
    }
   ],
   "source": [
    "%%time\n",
    "test_data = data_gen(n_test, I_duration=200)\n",
    "test_data_cal = data_gen(5000, I_duration=400)"
   ]
  },
  {
   "cell_type": "markdown",
   "metadata": {},
   "source": [
    "## Create model"
   ]
  },
  {
   "cell_type": "code",
   "execution_count": 19,
   "metadata": {},
   "outputs": [],
   "source": [
    "model = DeepEvidentialModel(EVIDENTIAL_HH)"
   ]
  },
  {
   "cell_type": "markdown",
   "metadata": {},
   "source": [
    "## Manage checkpoints"
   ]
  },
  {
   "cell_type": "code",
   "execution_count": 20,
   "metadata": {},
   "outputs": [
    {
     "name": "stdout",
     "output_type": "stream",
     "text": [
      "Restored from ./checkpoints/evidential_model_selection_hh\\ckpt-57\n"
     ]
    }
   ],
   "source": [
    "checkpoint = tf.train.Checkpoint(step=global_step, optimizer=optimizer, net=model)\n",
    "manager = tf.train.CheckpointManager(checkpoint, './checkpoints/{}'.format(ckpt_file), max_to_keep=2)\n",
    "checkpoint.restore(manager.latest_checkpoint)\n",
    "if manager.latest_checkpoint:\n",
    "    print(\"Restored from {}\".format(manager.latest_checkpoint))\n",
    "else:\n",
    "    print(\"Initializing from scratch.\")"
   ]
  },
  {
   "cell_type": "markdown",
   "metadata": {},
   "source": [
    "# Train network"
   ]
  },
  {
   "cell_type": "code",
   "execution_count": 21,
   "metadata": {},
   "outputs": [],
   "source": [
    "# for ep in range(1, 1+1):\n",
    "#     with tqdm(total=iterations_per_epoch, desc='Training epoch {}'.format(ep)) as p_bar:\n",
    "#         losses = train_online(model=model, \n",
    "#                               optimizer=optimizer, \n",
    "#                               data_gen=data_gen, \n",
    "#                               loss_fun=partial(log_loss, lambd=0.0), \n",
    "#                               iterations=iterations_per_epoch,\n",
    "#                               batch_size=batch_size,\n",
    "#                               p_bar=p_bar,\n",
    "#                               global_step=global_step,\n",
    "#                               method='evidence')\n",
    "        \n",
    "        \n",
    "#         # Plot stuff\n",
    "#         m_pred = model(test_data['x'])['m_probs']\n",
    "#         plot_confusion_matrix(m_pred.numpy().argmax(axis=1), test_data['m'], model_names, figsize=(8,4),normalize=True)\n",
    "#         print(accuracy(test_data['m'], m_pred))\n",
    "                \n",
    "\n",
    "#         # Store checkpoint\n",
    "#         manager.save()"
   ]
  },
  {
   "cell_type": "markdown",
   "metadata": {},
   "source": [
    "# Validate evidential network"
   ]
  },
  {
   "cell_type": "markdown",
   "metadata": {},
   "source": [
    "## Plot some datasets"
   ]
  },
  {
   "cell_type": "code",
   "execution_count": 164,
   "metadata": {},
   "outputs": [],
   "source": [
    "params_1 = np.array([3, 2])\n",
    "params_2 = np.array([3, 2, 0.1])\n",
    "params_3 = np.array([0.1, 3, 2, 0.1])\n",
    "I_duration = 200\n",
    "t = np.linspace(0, 400, 1051)\n",
    "\n",
    "x1 = forward_model1(params_1, I_duration=I_duration)\n",
    "x2 = forward_model2(params_2, I_duration=I_duration)\n",
    "x3 = forward_model3(params_3, I_duration=I_duration)"
   ]
  },
  {
   "cell_type": "code",
   "execution_count": 184,
   "metadata": {},
   "outputs": [
    {
     "data": {
      "image/png": "[encoded data removed]",
      "text/plain": [
       "<Figure size 1152x288 with 1 Axes>"
      ]
     },
     "metadata": {
      "needs_background": "light"
     },
     "output_type": "display_data"
    }
   ],
   "source": [
    "f, ax = plt.subplots(1, 1, figsize=(16, 4))\n",
    "\n",
    "ax.plot(t, x1[50:], label=r'$\\mathcal{M}_1$', alpha=0.9, lw=1.5, color='#871414')\n",
    "ax.plot(t, x2[50:], label=r'$\\mathcal{M}_2$', alpha=0.9, lw=1.5, color='#1c8714')\n",
    "ax.plot(t, x3[50:], label=r'$\\mathcal{M}_3$', alpha=0.9, lw=1.5, color='#143187')\n",
    "ax.spines['right'].set_visible(False)\n",
    "ax.spines['top'].set_visible(False)\n",
    "ax.legend()\n",
    "ax.set_xlabel(r'Time step ($t$)')\n",
    "ax.set_ylabel(r'Voltage ($\\mu V$)')\n",
    "\n",
    "f.savefig('figures/HH_out.png', dpi=300, bbox_inches='tight')"
   ]
  },
  {
   "cell_type": "markdown",
   "metadata": {},
   "source": [
    "## Calibration"
   ]
  },
  {
   "cell_type": "code",
   "execution_count": 106,
   "metadata": {},
   "outputs": [],
   "source": [
    "n_bins = 10\n",
    "cal_errs_b = []\n",
    "cal_probs_b = []\n",
    "\n",
    "for _ in range(50):\n",
    "    test_data_cal = data_gen(5000, I_duration=400)\n",
    "    preds = np.concatenate([model.predict(x, to_numpy=True)['m_probs'] \n",
    "                            for x in tf.split(test_data_cal['x'], 20, axis=0)], axis=0)\n",
    "    cal_errs, cal_probs = expected_calibration_error(test_data_cal['m'], preds, n_bins=n_bins)\n",
    "    cal_errs_b.append(cal_errs)\n",
    "    cal_probs_b.append(cal_probs)"
   ]
  },
  {
   "cell_type": "code",
   "execution_count": 182,
   "metadata": {},
   "outputs": [
    {
     "data": {
      "image/png": "[encoded data removed]",
      "text/plain": [
       "<Figure size 864x288 with 3 Axes>"
      ]
     },
     "metadata": {
      "needs_background": "light"
     },
     "output_type": "display_data"
    }
   ],
   "source": [
    "\n",
    "plt.rcParams['font.size'] = 12\n",
    "\n",
    "\n",
    "ms = [r'$\\mathcal{M}_1$', r'$\\mathcal{M}_2$', r'$\\mathcal{M}_3$']\n",
    "c = np.array(cal_probs_b).mean(0)\n",
    "c_std = np.array(cal_probs_b).std(0)\n",
    "e = np.array(cal_errs_b).mean(0)\n",
    "\n",
    "\n",
    "# Plot calibration curves\n",
    "f, axarr = plt.subplots(1, 3, figsize=(12, 4))\n",
    "\n",
    "\n",
    "# Compute probabilities and calibrations\n",
    "\n",
    "for i, ax in enumerate(axarr.flat):\n",
    "    ax.plot(c[i, 0, :], c[i, 1, :])\n",
    "    ax.plot(ax.get_xlim(), ax.get_xlim(), '--', color='black')\n",
    "    ax.spines['right'].set_visible(False)\n",
    "    ax.spines['top'].set_visible(False)\n",
    "    ax.set_xlim([0, 1])\n",
    "    ax.set_ylim([0, 1])\n",
    "    ax.set_title(model_names[i])\n",
    "    ax.set_xlabel('Accuracy')\n",
    "    ax.set_ylabel('Confidence')\n",
    "    ax.set_xticks([0.2, 0.4, 0.6, 0.8, 1.0])\n",
    "    ax.set_yticks([0.2, 0.4, 0.6, 0.8, 1.0])\n",
    "    ax.text(0.1, 0.9, r'ECE = {0:.3f}'.format(e[i]),\n",
    "                     horizontalalignment='left',\n",
    "                     verticalalignment='center',\n",
    "                     transform=ax.transAxes,\n",
    "                     size=12)\n",
    "\n",
    "for i, ax in enumerate(axarr.flat):\n",
    "    ax.set_title(ms[i])\n",
    "f.tight_layout()\n",
    "f.savefig('figures/hh_calibration.png', dpi=300, bbox_inches='tight')"
   ]
  },
  {
   "cell_type": "markdown",
   "metadata": {},
   "source": [
    "## Accuracy"
   ]
  },
  {
   "cell_type": "code",
   "execution_count": 133,
   "metadata": {},
   "outputs": [],
   "source": [
    "accs = []\n",
    "accs_stds = []\n",
    "n_bootstrap = 50\n",
    "n_val = 5000\n",
    "n_chunks = 10 \n",
    "\n",
    "\n",
    "\n",
    "for I_duration in range(I_duration_min, I_duration_max+1, 4):\n",
    "    \n",
    "    test_data_acc = data_gen(n_val, I_duration=I_duration)\n",
    "    m_probs = np.concatenate([model.predict(x, to_numpy=True)['m_probs'] \n",
    "                              for x in tf.split(test_data_acc['x'], n_chunks, axis=0)], axis=0)\n",
    "    \n",
    "    # Compute bootstrapped probs\n",
    "    accs_b = []\n",
    "    for bi in range(n_bootstrap):\n",
    "        \n",
    "        # Get bootstrap samples\n",
    "        b_idx = np.random.choice(np.random.permutation(n_val), size=n_val, replace=True)\n",
    "        m_test_b = tf.gather(test_data_acc['m'], b_idx, axis=0).numpy()\n",
    "        m_probs_b = tf.gather(m_probs, b_idx, axis=0).numpy()\n",
    "        acc_b = accuracy(m_test_b, m_probs_b)\n",
    "        accs_b.append(acc_b)\n",
    "        \n",
    "    # Compute true and estimated BFs\n",
    "    accs.append(np.mean(accs_b))\n",
    "    accs_stds.append(np.std(accs_b, ddof=1))"
   ]
  },
  {
   "cell_type": "code",
   "execution_count": 30,
   "metadata": {},
   "outputs": [
    {
     "data": {
      "image/png": "[encoded data removed]",
      "text/plain": [
       "<Figure size 720x576 with 2 Axes>"
      ]
     },
     "metadata": {
      "needs_background": "light"
     },
     "output_type": "display_data"
    }
   ],
   "source": [
    "# Take argmax of test\n",
    "plt.rcParams['font.size'] = 12\n",
    "test_data_c = data_gen(5000, I_duration=100)\n",
    "m_pred = tf.concat([model(x)['m_probs'] for x in tf.split(test_data_c['x'], 20, axis=0)], axis=0)\n",
    "m_test = np.argmax(test_data_c['m'].numpy(), axis=1).astype(np.int32)\n",
    "ms = [r'$\\mathcal{M}_1$', r'$\\mathcal{M}_2$', r'$\\mathcal{M}_3$']\n",
    "\n",
    "\n",
    "# Compute confusion matrix\n",
    "cm = confusion_matrix(m_test, m_pred.numpy().argmax(1))\n",
    "cm = cm.astype('float') / cm.sum(axis=1)[:, np.newaxis]\n",
    "\n",
    "fig, ax = plt.subplots(1, 1, figsize=(10, 8))\n",
    "im = ax.imshow(cm, interpolation='nearest', cmap=plt.cm.Blues)\n",
    "ax.figure.colorbar(im, ax=ax)\n",
    "\n",
    "ax.set(xticks=np.arange(cm.shape[1]),\n",
    "           yticks=np.arange(cm.shape[0]),\n",
    "           xticklabels=ms, yticklabels=ms,\n",
    "           ylabel='True Model',\n",
    "           xlabel='Predicted Model')\n",
    "\n",
    "# Rotate the tick labels and set their alignment.\n",
    "plt.setp(ax.get_xticklabels(), rotation=45, ha=\"right\",\n",
    "         rotation_mode=\"anchor\")\n",
    "\n",
    "# Loop over data dimensions and create text annotations.\n",
    "\n",
    "fmt = '.2f'\n",
    "thresh = cm.max() / 2.\n",
    "for i in range(cm.shape[0]):\n",
    "    for j in range(cm.shape[1]):\n",
    "        ax.text(j, i, format(cm[i, j], fmt),\n",
    "                ha=\"center\", va=\"center\",\n",
    "                color=\"white\" if cm[i, j] > thresh else \"black\")\n",
    "fig.savefig('figures/HH_CM.png', dpi=300, bbox_inches='tight')"
   ]
  },
  {
   "cell_type": "markdown",
   "metadata": {},
   "source": [
    "# Train with KL"
   ]
  },
  {
   "cell_type": "code",
   "execution_count": 9,
   "metadata": {},
   "outputs": [],
   "source": [
    "#--- Training hyperparameters ---#\n",
    "ckpt_file = \"evidential_model_selection_hh_kl2\"\n",
    "batch_size = 64\n",
    "epochs = 50\n",
    "iterations_per_epoch = 1000\n",
    "I_duration_max = 400\n",
    "I_duration_min = 100\n",
    "n_test = 300\n",
    "\n",
    "\n",
    "#--- Optimizer hyperparameters ---#\n",
    "starter_learning_rate = 0.00005\n",
    "global_step = tfe.Variable(0, dtype=tf.int32)\n",
    "decay_steps = 1000\n",
    "decay_rate = .99\n",
    "learning_rate = tf.train.exponential_decay(starter_learning_rate, global_step, \n",
    "                                           decay_steps, decay_rate, staircase=True)\n",
    "optimizer = tf.train.AdamOptimizer(learning_rate=learning_rate)\n",
    "\n",
    "\n",
    "#--- Generative model hyperparameters ---#\n",
    "model_names = ['M1', 'M2', 'M3']\n",
    "param_priors = [model1_params_prior, model2_params_prior, model3_params_prior]\n",
    "forward_models = [forward_model1, forward_model2, forward_model3]\n",
    "data_gen = partial(data_generator, \n",
    "                   model_prior=model_prior, \n",
    "                   param_priors=param_priors,\n",
    "                   forward_models=forward_models,\n",
    "                   I_duration_min=I_duration_min,\n",
    "                   I_duration_max=I_duration_max,\n",
    "                   I_duration=200)"
   ]
  },
  {
   "cell_type": "code",
   "execution_count": 10,
   "metadata": {},
   "outputs": [
    {
     "name": "stdout",
     "output_type": "stream",
     "text": [
      "Wall time: 9.22 s\n"
     ]
    }
   ],
   "source": [
    "%%time\n",
    "test_data = data_gen(n_test, I_duration=200)"
   ]
  },
  {
   "cell_type": "code",
   "execution_count": 44,
   "metadata": {},
   "outputs": [],
   "source": [
    "model = DeepEvidentialModel(EVIDENTIAL_HH)"
   ]
  },
  {
   "cell_type": "code",
   "execution_count": 45,
   "metadata": {},
   "outputs": [
    {
     "name": "stdout",
     "output_type": "stream",
     "text": [
      "Restored from ./checkpoints/evidential_model_selection_hh_kl2\\ckpt-57\n"
     ]
    }
   ],
   "source": [
    "checkpoint = tf.train.Checkpoint(step=global_step, optimizer=optimizer, net=model)\n",
    "manager = tf.train.CheckpointManager(checkpoint, './checkpoints/{}'.format(ckpt_file), max_to_keep=2)\n",
    "checkpoint.restore(manager.latest_checkpoint)\n",
    "if manager.latest_checkpoint:\n",
    "    print(\"Restored from {}\".format(manager.latest_checkpoint))\n",
    "else:\n",
    "    print(\"Initializing from scratch.\")"
   ]
  },
  {
   "cell_type": "code",
   "execution_count": 43,
   "metadata": {},
   "outputs": [],
   "source": [
    "# for ep in range(1, epochs+1):\n",
    "#     with tqdm(total=iterations_per_epoch, desc='Training epoch {}'.format(ep)) as p_bar:\n",
    "#         losses = train_online(model=model, \n",
    "#                               optimizer=optimizer, \n",
    "#                               data_gen=data_gen, \n",
    "#                               loss_fun=partial(log_loss, lambd=5.0), \n",
    "#                               iterations=iterations_per_epoch,\n",
    "#                               batch_size=batch_size,\n",
    "#                               p_bar=p_bar,\n",
    "#                               global_step=global_step,\n",
    "#                               method='evidence')\n",
    "        \n",
    "        \n",
    "#         # Plot stuff\n",
    "#         m_pred = model(test_data['x'])['m_probs']\n",
    "#         plot_confusion_matrix(m_pred.numpy().argmax(axis=1), test_data['m'], model_names, figsize=(8,4),normalize=True)\n",
    "#         print(accuracy(test_data['m'], m_pred))\n",
    "                \n",
    "\n",
    "#         # Store checkpoint\n",
    "#         manager.save()"
   ]
  },
  {
   "cell_type": "code",
   "execution_count": 119,
   "metadata": {},
   "outputs": [
    {
     "data": {
      "image/png": "[encoded data removed]",
      "text/plain": [
       "<Figure size 576x288 with 2 Axes>"
      ]
     },
     "metadata": {
      "needs_background": "light"
     },
     "output_type": "display_data"
    },
    {
     "name": "stdout",
     "output_type": "stream",
     "text": [
      "0.9066666666666666\n"
     ]
    }
   ],
   "source": [
    "# Plot stuff\n",
    "m_pred = model(test_data['x'])['m_probs']\n",
    "plot_confusion_matrix(m_pred.numpy().argmax(axis=1), test_data['m'], model_names, figsize=(8,4),normalize=True)\n",
    "print(accuracy(test_data['m'], m_pred))"
   ]
  },
  {
   "cell_type": "code",
   "execution_count": 36,
   "metadata": {},
   "outputs": [],
   "source": [
    "@njit\n",
    "def forward_model_test(params, V0=-70, I_input=3, nois_fact = 0.1, E_leak = -70., E_K = -107, t_on = 10,\n",
    "                       I_duration=200, dt=0.2, E_Na = 53, tau_max = 6e2, Vt = -60., C = 1, g_l = 0.1,\n",
    "                       gbar_M = 0.07):\n",
    "    \n",
    "    # HH-2pars    \n",
    "\n",
    "    # pars = [gbar_Na, gbar_K]\n",
    "    # I_input = input current in muA/cm2\n",
    "    # I_duration = duration of current input in ms\n",
    "    # dt = dt\n",
    "    \n",
    "    gbar_Na, gbar_K = params\n",
    "\n",
    "    tstep = float(dt)\n",
    "    \n",
    "    ####################################\n",
    "    # Current (I) muA/cm2\n",
    "    t_off = I_duration + 10\n",
    "    t = np.arange(0, t_on+t_off+dt, dt)\n",
    "    I = np.zeros_like(t)\n",
    "    I[int(np.round(t_on/dt)):int(np.round(t_off/dt))] = I_input\n",
    "\n",
    "    ####################################\n",
    "    # kinetics\n",
    "    def efun(z):\n",
    "        if np.abs(z) < 1e-4:\n",
    "            return 1 - z/2\n",
    "        else:\n",
    "            return z / (np.exp(z) - 1)\n",
    "\n",
    "    def alpha_m(x):\n",
    "        v1 = x - Vt - 13.\n",
    "        return 0.32*efun(-0.25*v1)/0.25\n",
    "\n",
    "    def beta_m(x):\n",
    "        v1 = x - Vt - 40\n",
    "        return 0.28*efun(0.2*v1)/0.2\n",
    "\n",
    "    def alpha_h(x):\n",
    "        v1 = x - Vt - 17.\n",
    "        return 0.128*np.exp(-v1/18.)\n",
    "\n",
    "    def beta_h(x):\n",
    "        v1 = x - Vt - 40.\n",
    "        return 4.0/(1 + np.exp(-0.2*v1))\n",
    "\n",
    "    def alpha_n(x):\n",
    "        v1 = x - Vt - 15.\n",
    "        return 0.032*efun(-0.2*v1)/0.2\n",
    "\n",
    "    def beta_n(x):\n",
    "        v1 = x - Vt - 10.\n",
    "        return 0.5*np.exp(-v1/40)\n",
    "\n",
    "    # steady-states and time constants\n",
    "    def tau_n(x):\n",
    "         return 1/(alpha_n(x) + beta_n(x))\n",
    "    def n_inf(x):\n",
    "        return alpha_n(x)/(alpha_n(x) + beta_n(x))\n",
    "    def tau_m(x):\n",
    "        return 1/(alpha_m(x) + beta_m(x))\n",
    "    def m_inf(x):\n",
    "        return alpha_m(x)/(alpha_m(x) + beta_m(x))\n",
    "    def tau_h(x):\n",
    "        return 1/(alpha_h(x) + beta_h(x))\n",
    "    def h_inf(x):\n",
    "        return alpha_h(x)/(alpha_h(x) + beta_h(x))\n",
    "\n",
    "    # slow non-inactivating K+\n",
    "    def p_inf(x):\n",
    "        v1 = x + 35.\n",
    "        return 1.0/(1. + np.exp(-0.1*v1))\n",
    "\n",
    "    def tau_p(x):\n",
    "        v1 = x + 35.\n",
    "        return tau_max/(3.3*np.exp(0.05*v1) + np.exp(-0.05*v1))\n",
    "\n",
    "\n",
    "    ####################################\n",
    "    # simulation from initial point\n",
    "    V = np.zeros_like(t) # voltage\n",
    "    n = np.zeros_like(t)\n",
    "    m = np.zeros_like(t)\n",
    "    h = np.zeros_like(t)\n",
    "    p = np.zeros_like(t)\n",
    "\n",
    "    V[0] = float(V0)\n",
    "    n[0] = n_inf(V[0])\n",
    "    m[0] = m_inf(V[0])\n",
    "    h[0] = h_inf(V[0])\n",
    "    p[0] = p_inf(V[0])\n",
    "    \n",
    "\n",
    "    for i in range(1, t.shape[0]):\n",
    "        tau_V_inv = ( (m[i-1]**3)*gbar_Na*h[i-1]+(n[i-1]**4)*gbar_K+g_l+gbar_M*p[i-1] )/C\n",
    "        V_inf = ( (m[i-1]**3)*gbar_Na*h[i-1]*E_Na+(n[i-1]**4)*gbar_K*E_K+g_l*E_leak+gbar_M*p[i-1]*E_K\n",
    "                +I[i-1]+nois_fact*np.random.randn()/(tstep**0.5) )/(tau_V_inv*C)\n",
    "        V[i] = V_inf + (V[i-1]-V_inf)*np.exp(-tstep*tau_V_inv)\n",
    "        n[i] = n_inf(V[i])+(n[i-1]-n_inf(V[i]))*np.exp(-tstep/tau_n(V[i]))\n",
    "        m[i] = m_inf(V[i])+(m[i-1]-m_inf(V[i]))*np.exp(-tstep/tau_m(V[i]))\n",
    "        h[i] = h_inf(V[i])+(h[i-1]-h_inf(V[i]))*np.exp(-tstep/tau_h(V[i]))\n",
    "        p[i] = p_inf(V[i])+(p[i-1]-p_inf(V[i]))*np.exp(-tstep/tau_p(V[i]))\n",
    "\n",
    "    return V"
   ]
  },
  {
   "cell_type": "markdown",
   "metadata": {},
   "source": [
    "## Explore uncertainty"
   ]
  },
  {
   "cell_type": "code",
   "execution_count": 179,
   "metadata": {},
   "outputs": [],
   "source": [
    "ps = np.linspace(0.1, 2.0, 25)\n",
    "n_test = 500\n",
    "us = []\n",
    "\n",
    "for p in ps:\n",
    "    x = tf.concat([tf.convert_to_tensor(\n",
    "                        forward_model_test(np.array([4., p]))[np.newaxis, :, np.newaxis], dtype=tf.float32\n",
    "                    ) for _ in range(n_test)], axis=0)\n",
    "    u = model.predict(x)['uncertainty'].mean()\n",
    "    us.append(u)"
   ]
  },
  {
   "cell_type": "code",
   "execution_count": 181,
   "metadata": {},
   "outputs": [
    {
     "data": {
      "image/png": "[encoded data removed]",
      "text/plain": [
       "<Figure size 720x360 with 1 Axes>"
      ]
     },
     "metadata": {
      "needs_background": "light"
     },
     "output_type": "display_data"
    }
   ],
   "source": [
    "plt.rcParams['font.size'] = 12\n",
    "f, ax = plt.subplots(1, 1, figsize=(10, 5))\n",
    "ax.plot(ps, us, marker='o')\n",
    "ax.spines['right'].set_visible(False)\n",
    "ax.spines['top'].set_visible(False)\n",
    "ax.set_xlabel(r'$\\bar{g}_K$')\n",
    "ax.set_ylabel('Epistemic uncertainty')\n",
    "f.savefig('figures/hh_ood.png', dpi=300)"
   ]
  },
  {
   "cell_type": "code",
   "execution_count": 162,
   "metadata": {},
   "outputs": [],
   "source": [
    "from functools import reduce\n",
    "import math\n",
    "\n",
    "def xy2bc(xy, corners, midpoints, tol=1.e-3):\n",
    "    '''Converts 2D Cartesian coordinates to barycentric.'''\n",
    "    s = [(corners[i] - midpoints[i]).dot(xy - midpoints[i]) / 0.75 \\\n",
    "         for i in range(3)]\n",
    "    return np.clip(s, tol, 1.0 - tol)\n",
    "\n",
    "class Dirichlet:\n",
    "    def __init__(self, alpha):\n",
    "        from math import gamma\n",
    "        from operator import mul\n",
    "        self._alpha = np.array(alpha)\n",
    "        self._coef = gamma(np.sum(self._alpha)) / reduce(mul, [gamma(a) for a in self._alpha])\n",
    "    def pdf(self, x):\n",
    "        '''Returns pdf value for `x`.'''\n",
    "        from operator import mul\n",
    "        return self._coef * reduce(mul, [xx ** (aa - 1)\n",
    "                                         for (xx, aa)in zip(x, self._alpha)])\n",
    "    \n",
    "def draw_pdf_contours(dist, nlevels=200, subdiv=8, ax=None, f=None, **kwargs):\n",
    "    \n",
    "    \n",
    "    if ax is None and f is None:\n",
    "        f, ax = plt.subplots(1, 1, figsize=(5, 5))\n",
    "    \n",
    "    corners = np.array([[0, 0], [1, 0], [0.5, 0.75**0.5]])\n",
    "    midpoints = [(corners[(i + 1) % 3] + corners[(i + 2) % 3]) / 2.0 \\\n",
    "             for i in range(3)]\n",
    "    triangle = tri.Triangulation(corners[:, 0], corners[:, 1])\n",
    "\n",
    "    refiner = tri.UniformTriRefiner(triangle)\n",
    "    trimesh = refiner.refine_triangulation(subdiv=subdiv)\n",
    "    pvals = [dist.pdf(xy2bc(xy, corners, midpoints)) for xy in zip(trimesh.x, trimesh.y)]\n",
    "\n",
    "    ax.tricontourf(trimesh, pvals, nlevels, **kwargs)\n",
    "    return f"
   ]
  },
  {
   "cell_type": "code",
   "execution_count": 135,
   "metadata": {},
   "outputs": [
    {
     "data": {
      "image/png": "[encoded data removed]",
      "text/plain": [
       "<Figure size 360x360 with 25 Axes>"
      ]
     },
     "metadata": {
      "needs_background": "light"
     },
     "output_type": "display_data"
    }
   ],
   "source": [
    "np.random.seed(42)\n",
    "test =  tf.concat([tf.convert_to_tensor(\n",
    "                        forward_model_test(np.array([3., 0.75]))[np.newaxis, :, np.newaxis], dtype=tf.float32\n",
    "                    ) for _ in range(25)], axis=0)\n",
    "alphas = model(test)['alpha'].numpy()\n",
    "f, ax = plt.subplots(5, 5, figsize=(5, 5))\n",
    "\n",
    "for i, alpha in enumerate(alphas):\n",
    "    d = Dirichlet(alpha)\n",
    "    draw_pdf_contours(d, n_levels=100, subdiv=8, ax=ax.flat[i], f=f, cmap='viridis')"
   ]
  },
  {
   "cell_type": "code",
   "execution_count": 133,
   "metadata": {},
   "outputs": [],
   "source": [
    "np.random.seed(42)\n",
    "test =  tf.concat([tf.convert_to_tensor(\n",
    "                        forward_model_test(np.array([3., 0.5]))[np.newaxis, :, np.newaxis], dtype=tf.float32\n",
    "                    ) for _ in range(25)], axis=0)\n",
    "alphas = model(test)['alpha'].numpy()\n",
    "f, ax = plt.subplots(5, 5, figsize=(5, 5))\n",
    "\n",
    "for i, alpha in enumerate(alphas):\n",
    "    d = Dirichlet(alpha)\n",
    "    draw_pdf_contours(d, n_levels=100, subdiv=8, ax=ax.flat[i], f=f, cmap='viridis')"
   ]
  },
  {
   "cell_type": "code",
   "execution_count": null,
   "metadata": {},
   "outputs": [],
   "source": []
  },
  {
   "cell_type": "code",
   "execution_count": 148,
   "metadata": {},
   "outputs": [],
   "source": [
    "np.random.seed(45)\n",
    "test =  tf.concat([tf.convert_to_tensor(\n",
    "                        forward_model_test(np.array([3., 0.5]))[np.newaxis, :, np.newaxis], dtype=tf.float32\n",
    "                    ) for _ in range(25)], axis=0)\n",
    "alphas = model(test)['alpha'].numpy()\n"
   ]
  },
  {
   "cell_type": "code",
   "execution_count": 182,
   "metadata": {},
   "outputs": [
    {
     "data": {
      "image/png": "[encoded data removed]",
      "text/plain": [
       "<Figure size 720x720 with 25 Axes>"
      ]
     },
     "metadata": {
      "needs_background": "light"
     },
     "output_type": "display_data"
    }
   ],
   "source": [
    "f, ax = plt.subplots(5, 5, figsize=(10, 10))\n",
    "for i, p in enumerate(np.linspace(0.1, 1.0, 25)):\n",
    "    np.random.seed(42)\n",
    "    x = tf.convert_to_tensor(\n",
    "                        forward_model_test(np.array([4., p]))[np.newaxis, :, np.newaxis], dtype=tf.float32\n",
    "                    )\n",
    "    alpha = model(x)['alpha'].numpy().flatten()\n",
    "    d = Dirichlet(alpha)\n",
    "    draw_pdf_contours(d, n_levels=100, subdiv=8, ax=ax.flat[i], f=f, cmap='viridis')\n",
    "    ax.flat[i].axis('equal')\n",
    "    ax.flat[i].set_xlim([0, 1])\n",
    "    ax.flat[i].set_ylim([0, 0.75**0.5])\n",
    "    ax.flat[i].axis('off')\n",
    "    ax.flat[i].set_title(r'$u={0:.2f}$'.format(3/np.sum(alpha)))\n",
    "f.tight_layout()"
   ]
  },
  {
   "cell_type": "code",
   "execution_count": 183,
   "metadata": {},
   "outputs": [],
   "source": [
    "f.savefig('figures/hh_dir.png', dpi=300)"
   ]
  },
  {
   "cell_type": "code",
   "execution_count": null,
   "metadata": {},
   "outputs": [],
   "source": []
  }
 ],
 "metadata": {
  "kernelspec": {
   "display_name": "Python 3",
   "language": "python",
   "name": "python3"
  },
  "language_info": {
   "codemirror_mode": {
    "name": "ipython",
    "version": 3
   },
   "file_extension": ".py",
   "mimetype": "text/x-python",
   "name": "python",
   "nbconvert_exporter": "python",
   "pygments_lexer": "ipython3",
   "version": "3.6.8"
  },
  "toc": {
   "base_numbering": 1,
   "nav_menu": {},
   "number_sections": true,
   "sideBar": true,
   "skip_h1_title": false,
   "title_cell": "Table of Contents",
   "title_sidebar": "Contents",
   "toc_cell": false,
   "toc_position": {
    "height": "calc(100% - 180px)",
    "left": "10px",
    "top": "150px",
    "width": "199.6px"
   },
   "toc_section_display": true,
   "toc_window_display": true
  }
 },
 "nbformat": 4,
 "nbformat_minor": 2
}
