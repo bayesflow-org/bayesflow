{
 "cells": [
  {
   "cell_type": "markdown",
   "id": "62abf622-68b3-454c-9424-384b41ad6a38",
   "metadata": {},
   "source": [
    "# Generative Models\n",
    "\n",
    "*Disclaimer: This guide is in an early stage. We welcome contributions to the guide in form of issues and pull requests.*"
   ]
  },
  {
   "cell_type": "markdown",
   "id": "b8ae4db0-df11-4e90-9b9f-9422dd8529bc",
   "metadata": {},
   "source": [
    "From the perspective of BayesFlow, a generative model is more than just a prior (encoding beliefs about the parameters before observing data) and a data simulator (a likelihood function, often implicit, that generates data given parameters). \n",
    "\n",
    "In addition, a model consists of various implicit context assumptions, which we can make explicit at any time. Furthermore, we can also amortize over these context variables, thus making our real-world inference more flexible (i.e., applicable to more contexts). We are leveraging the concept of amortized inference and extending it to context variables as well."
   ]
  },
  {
   "cell_type": "markdown",
   "id": "d539c370-7798-4702-b082-f159f0147af3",
   "metadata": {},
   "source": [
    "The utilities for generative models are organized in the {py:mod}`~bayesflow.simulators` module."
   ]
  },
  {
   "cell_type": "markdown",
   "id": "ff6f9d36-e4b0-4919-9914-0505a76e09ec",
   "metadata": {},
   "source": [
    "## The `make_simulator` dispatch function\n",
    "\n",
    "The simplest way to define a simulator is the {py:func}`~bayesflow.simulators.make_simulator` function. It supports a number of different signatures. The most important one just takes a list of functions, and turns them into a {py:class}`~bayesflow.simulators.SequentialSimulator`. Let's try it out:"
   ]
  },
  {
   "cell_type": "code",
   "execution_count": 24,
   "id": "f0501046-e028-4e66-a0a9-cb1234a46714",
   "metadata": {},
   "outputs": [],
   "source": [
    "import bayesflow as bf"
   ]
  },
  {
   "cell_type": "code",
   "execution_count": 27,
   "id": "84d84f9d-1196-4a9f-9da4-a97856716191",
   "metadata": {},
   "outputs": [
    {
     "name": "stdout",
     "output_type": "stream",
     "text": [
      "<class 'bayesflow.simulators.sequential_simulator.SequentialSimulator'>\n"
     ]
    }
   ],
   "source": [
    "def foo():\n",
    "    return dict(a=5.0)\n",
    "\n",
    "def bar(a):\n",
    "    return dict(b=2*a)\n",
    "\n",
    "simulator = bf.make_simulator([foo, bar])\n",
    "print(type(simulator))"
   ]
  },
  {
   "cell_type": "markdown",
   "id": "c832da06-6cff-4c77-97db-cf987082cf50",
   "metadata": {},
   "source": [
    "We can now use the {py:meth}`~bayesflow.simulators.Simulator.sample` method to simulate a _batch_ of data."
   ]
  },
  {
   "cell_type": "code",
   "execution_count": 30,
   "id": "90da9a7b-5f06-4100-99ed-c8feb8978f4e",
   "metadata": {},
   "outputs": [
    {
     "name": "stdout",
     "output_type": "stream",
     "text": [
      "Data: {'a': array([[5.],\n",
      "       [5.]]), 'b': array([[10.],\n",
      "       [10.]])}\n",
      "Shapes: {'a': (2, 1), 'b': (2, 1)}\n"
     ]
    }
   ],
   "source": [
    "data = simulator.sample(2)\n",
    "print(\"Data:\", data)\n",
    "print(\"Shapes:\", {k: v.shape for k, v in data.items()})"
   ]
  },
  {
   "cell_type": "markdown",
   "id": "bb64e47b-2349-45ff-9bda-7e48e3b8f45a",
   "metadata": {},
   "source": [
    "As we can see from the output, the simulator has automatically combined the outputs of `foo` and `bar`. It has introduced a batch dimension, so that both outputs have the shape `(batch_size, 1)`. Note that there are limits to this. For example, if the length of `b` would be different for different samples, combining them into one array will fail. In this case, techniques like [padding](https://numpy.org/doc/stable/reference/generated/numpy.pad.html) can help to make them compatible again."
   ]
  },
  {
   "cell_type": "markdown",
   "id": "7950e573-9a96-4988-8bcf-8b54442e8c44",
   "metadata": {},
   "source": [
    "## Simulator Classes\n",
    "\n",
    "BayesFlow provides a number of different simulator classes for different use cases.\n",
    "\n",
    "### LambdaSimulator\n",
    "\n",
    "{py:class}`~bayesflow.simulators.LambdaSimulator` is the simplest simulator. It wraps a single function that produces samples. The function can either produce a single sample per call (`is_batched=False`), or produce a whole batch per call (`is_batched=True`). While the former is often more convenient, the latter might be a lot faster if your simulator can effeciently produce many samples in parallel. Let's try both options for a simple simulator, which just produces samples from a uniform distribution. We start with the non-batched variant:"
   ]
  },
  {
   "cell_type": "code",
   "execution_count": 31,
   "id": "c20d25b4-d131-488e-a954-371becd2ded1",
   "metadata": {},
   "outputs": [],
   "source": [
    "import numpy as np"
   ]
  },
  {
   "cell_type": "code",
   "execution_count": 36,
   "id": "383b64bc-05cb-495e-864e-622f58e7cccd",
   "metadata": {},
   "outputs": [
    {
     "name": "stdout",
     "output_type": "stream",
     "text": [
      "Calling the simulation_fn.\n",
      "Calling the simulation_fn.\n",
      "{'x': array([0.99445781, 0.38200974])}\n"
     ]
    }
   ],
   "source": [
    "rng = np.random.default_rng(seed=2025)\n",
    "def simulation_fn():\n",
    "    print(\"Calling the simulation_fn.\")\n",
    "    return {\"x\": rng.uniform()}\n",
    "\n",
    "simulator = bf.simulators.LambdaSimulator(simulation_fn)\n",
    "print(simulator.sample(2))"
   ]
  },
  {
   "cell_type": "markdown",
   "id": "a9606f38-2541-42cc-a8de-8f9d01e25235",
   "metadata": {},
   "source": [
    "Even though we only implemented how to obtain one sample, the simulator allows us to simulate a whole batch of data at once. It calls the provided function repeatedly and combines the outputs into a single dictionary."
   ]
  },
  {
   "cell_type": "markdown",
   "id": "a593a44c-0a30-465d-aea4-bac4d2153e25",
   "metadata": {},
   "source": [
    "For the batched function, we have to take a `batch_shape` as the first argument. It tells us how many samples we should produce, and which shape they should have. Here, we can simply pass it on to the `size` parameter of the {py:func}`~numpy.random.uniform` function. In addition, we have to tell the {py:class}`~bayesflow.simulators.LambdaSimulator` that we produce complete batches now, by setting `is_batched=True`."
   ]
  },
  {
   "cell_type": "code",
   "execution_count": 39,
   "id": "36191f87-4896-40ef-b702-ec111d4dc436",
   "metadata": {},
   "outputs": [
    {
     "name": "stdout",
     "output_type": "stream",
     "text": [
      "Calling the batched_simulation_fn.\n",
      "{'x': array([0.99445781, 0.38200974])}\n"
     ]
    }
   ],
   "source": [
    "rng = np.random.default_rng(seed=2025)\n",
    "def batched_simulation_fn(batch_shape):\n",
    "    print(\"Calling the batched_simulation_fn.\")\n",
    "    return {\"x\": rng.uniform(size=batch_shape)}\n",
    "\n",
    "simulator = bf.simulators.LambdaSimulator(batched_simulation_fn, is_batched=True)\n",
    "print(simulator.sample(2))"
   ]
  },
  {
   "cell_type": "markdown",
   "id": "2d8fe204-213d-4e2f-a1e2-1a1fcb6e2efe",
   "metadata": {},
   "source": [
    "As expected, we see that the function is only called once, but produces the same output."
   ]
  },
  {
   "cell_type": "markdown",
   "id": "5675d9b9-db86-4e61-8b45-75697bb696f6",
   "metadata": {},
   "source": [
    "### SequentialSimulator\n",
    "\n",
    "In many cases, there is a structure to the generative model we want to specify. In Bayesian inference, a very common one is the separation into the _prior_, which produces parameter values, and the _likelihood_, which produces data given for given parameter values. The {py:class}`~bayesflow.simulators.SequentialSimulator` provides an interface for such an information flow. It executes one Simulator after the other, and passes the combined outputs to the downstream ones. Note that it takes {py:class}`~bayesflow.simulators.Simulator`s as inputs, and not arbitrary functions. To create a {py:class}`~bayesflow.simulators.SequentialSimulator` from a list of functions, use {py:func}`~bayesflow.simulators.make_simulator`.\n",
    "\n",
    "We will demonstrate it with a simple example:"
   ]
  },
  {
   "cell_type": "code",
   "execution_count": 44,
   "id": "b3154c8f-d3f5-4e75-92cf-2209ea0bfffe",
   "metadata": {},
   "outputs": [
    {
     "name": "stdout",
     "output_type": "stream",
     "text": [
      "Data: {'loc': array([[-2.22125388],\n",
      "       [-0.53896902]]), 'scale': array([[0.38200974],\n",
      "       [0.83725528]]), 'x': array([[-3.15407072, -1.9288669 , -2.51147025],\n",
      "       [-0.31542505,  0.0486007 , -0.29438891]])}\n",
      "Shapes: {'loc': (2, 1), 'scale': (2, 1), 'x': (2, 3)}\n"
     ]
    }
   ],
   "source": [
    "rng = np.random.default_rng(seed=2025)\n",
    "def prior():\n",
    "    return {\"loc\": rng.normal(), \"scale\": rng.uniform()}\n",
    "\n",
    "def likelihood(loc, scale):\n",
    "    return {\"x\": rng.normal(loc=loc, scale=scale, size=3)}\n",
    "\n",
    "simulator = bf.simulators.SequentialSimulator([\n",
    "    bf.simulators.LambdaSimulator(prior),\n",
    "    bf.simulators.LambdaSimulator(likelihood),\n",
    "])\n",
    "# short form: bf.make_simulator([prior, likelihood])\n",
    "data = simulator.sample(2)\n",
    "print(\"Data:\", data)\n",
    "print(\"Shapes:\", {k: v.shape for k, v in data.items()})"
   ]
  },
  {
   "cell_type": "markdown",
   "id": "ad17854f-d416-4de7-aef4-bc07bc20f9a4",
   "metadata": {},
   "source": [
    "### ModelComparisonSimulator\n",
    "\n",
    "This simulator will be covered in the chapter on model comparison."
   ]
  },
  {
   "cell_type": "markdown",
   "id": "21e37fe7-11fa-4ca7-9883-61de49d1e910",
   "metadata": {},
   "source": [
    "## Rejection Sampling"
   ]
  },
  {
   "cell_type": "markdown",
   "id": "70367b17-19d6-4488-8166-d3302f559849",
   "metadata": {},
   "source": [
    "In some settings, we might want to exclude simulations after sampling, for example because we can already tell that they are not plausible. Using the {py:meth}`~bayesflow.simulators.Simulator.rejection_sample` method, we can specify a `predicate` function to provide a mask for the samples we consider valid.\n",
    "\n",
    "Let's make up a simple example. In our simulator, we generate two uniformly distributed values, `x` and `y`. We only want to accept samples that lie inside a circle with radius one, which gives the condition $\\sqrt{x^2+y^2}\\le1.$"
   ]
  },
  {
   "cell_type": "code",
   "execution_count": 53,
   "id": "2397eeb8-c65e-4f47-8a45-f077911b444f",
   "metadata": {},
   "outputs": [],
   "source": [
    "rng = np.random.default_rng(seed=2025)\n",
    "def simulator_fn():\n",
    "    return {\"x\": rng.uniform(-1.5, 1.5), \"y\": rng.uniform(-1.5, 1.5)}\n",
    "\n",
    "def predicate(data):\n",
    "    return np.sqrt(data[\"x\"]**2+data[\"y\"]**2) <= 1.0\n",
    "\n",
    "simulator = bf.make_simulator(simulator_fn)"
   ]
  },
  {
   "cell_type": "code",
   "execution_count": 64,
   "id": "e3cf86d5-45ee-4a8d-afb9-47a9bde53972",
   "metadata": {},
   "outputs": [
    {
     "data": {
      "image/png": "[encoded data removed]",
      "text/plain": [
       "<Figure size 380x380 with 1 Axes>"
      ]
     },
     "metadata": {},
     "output_type": "display_data"
    }
   ],
   "source": [
    "import matplotlib.pyplot as plt\n",
    "\n",
    "samples = simulator.sample(500)\n",
    "filtered_samples = simulator.rejection_sample(500, predicate=predicate, sample_size=100)\n",
    "plt.figure(figsize=(3.8,3.8))\n",
    "plt.scatter(samples[\"x\"], samples[\"y\"], s=4, label=\"Without rejection\")\n",
    "plt.scatter(filtered_samples[\"x\"], filtered_samples[\"y\"], s=4, label=\"With rejection\")\n",
    "plt.gca().set_aspect(\"equal\")\n",
    "plt.xlabel(\"x\")\n",
    "plt.ylabel(\"y\")\n",
    "plt.legend();"
   ]
  },
  {
   "cell_type": "code",
   "execution_count": 65,
   "id": "fb947ff9-1470-4ddd-aabd-967f5841c1e3",
   "metadata": {},
   "outputs": [
    {
     "name": "stdout",
     "output_type": "stream",
     "text": [
      "Shapes without rejection: {'x': (500,), 'y': (500,)}\n",
      "Shapes with rejection: {'x': (502,), 'y': (502,)}\n"
     ]
    }
   ],
   "source": [
    "print(\"Shapes without rejection:\", {k: v.shape for k, v in samples.items()})\n",
    "print(\"Shapes with rejection:\", {k: v.shape for k, v in filtered_samples.items()})"
   ]
  },
  {
   "cell_type": "markdown",
   "id": "cc79bce8-ea4b-4c97-b922-175e8c578fb8",
   "metadata": {},
   "source": [
    "The {py:meth}`~bayesflow.simulators.Simulator.rejection_sample` method automatically ensures that we get _at least_ the number of samples described in `batch_shape`. As the function produces `sample_size` samples before each filtering step, it will usually overshoot a bit, so that we get more samples than we requested. If this is not desired (e.g., for comparisons with a fixed number of training datasets), we have to discard the additional samples manually.\n",
    "\n",
    "**Caution**: If you misspecify the predicate function, or it is too restrictive, sampling can take very long (or forever) until the desired number of samples is reached."
   ]
  },
  {
   "cell_type": "markdown",
   "id": "c2a49542-d0c9-4f94-a724-871e3f530b2a",
   "metadata": {},
   "source": [
    "## Summary\n",
    "\n",
    "BayesFlow offers convenient wrapper classes that allow combining functions into more complex generative models, as well as utilities for sampling. For more detailed information, take a look at the API documentation of the {py:mod}`~bayesflow.simulators` module."
   ]
  }
 ],
 "metadata": {
  "kernelspec": {
   "display_name": "Python 3 (ipykernel)",
   "language": "python",
   "name": "python3"
  },
  "language_info": {
   "codemirror_mode": {
    "name": "ipython",
    "version": 3
   },
   "file_extension": ".py",
   "mimetype": "text/x-python",
   "name": "python",
   "nbconvert_exporter": "python",
   "pygments_lexer": "ipython3",
   "version": "3.11.11"
  }
 },
 "nbformat": 4,
 "nbformat_minor": 5
}
