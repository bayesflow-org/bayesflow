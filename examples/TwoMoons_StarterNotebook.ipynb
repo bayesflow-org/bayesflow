{
 "cells": [
  {
   "cell_type": "markdown",
   "id": "009b6adf",
   "metadata": {},
   "source": [
    "# Two Moons: Tackling Bimodal Posteriors"
   ]
  },
  {
   "cell_type": "code",
   "execution_count": 17,
   "id": "d5f88a59",
   "metadata": {
    "ExecuteTime": {
     "end_time": "2024-10-24T08:36:22.149034Z",
     "start_time": "2024-10-24T08:36:20.807192Z"
    }
   },
   "outputs": [],
   "source": [
    "import matplotlib.pyplot as plt\n",
    "import numpy as np\n",
    "import seaborn as sns\n",
    "\n",
    "# Ensure the backend is set\n",
    "import os\n",
    "if \"KERAS_BACKEND\" not in os.environ:\n",
    "    # set this to \"torch\", \"tensorflow\", or \"jax\"\n",
    "    os.environ[\"KERAS_BACKEND\"] = \"jax\"\n",
    "\n",
    "import keras\n",
    "\n",
    "# For BayesFlow devs: this ensures that the latest dev version can be found\n",
    "import sys\n",
    "sys.path.append('../')\n",
    "\n",
    "import bayesflow as bf"
   ]
  },
  {
   "cell_type": "markdown",
   "id": "c63b26ba",
   "metadata": {},
   "source": [
    "## Simulator<a class=\"anchor\" id=\"simulator\"></a>"
   ]
  },
  {
   "cell_type": "markdown",
   "id": "9525ffd7",
   "metadata": {},
   "source": [
    "This example will demonstrate amortized estimation of a somewhat strange Bayesian model, whose posterior evaluated at the origin $x = (0, 0)$ of the \"data\" will resemble two crescent moons. The forward process is a noisy non-linear transformation on a 2D plane:\n",
    "\n",
    "$$\n",
    "\\begin{align}\n",
    "x_1 &= -|\\theta_1 + \\theta_2|/\\sqrt{2} + r \\cos(\\alpha) + 0.25\\\\\n",
    "x_2 &= (-\\theta_1 + \\theta_2)/\\sqrt{2} + r\\sin{\\alpha}\n",
    "\\end{align}\n",
    "$$\n",
    "\n",
    "with $x = (x_1, x_2)$ playing the role of \"observables\" (data to be learned from), $\\alpha \\sim \\text{Uniform}(-\\pi/2, \\pi/2)$, and $r \\sim \\text{Normal}(0.1, 0.01)$ being latent variables creating noise in the data, and $\\theta = (\\theta_1, \\theta_2)$ being the parameters that we will later seek to infer from new $x$. We set their priors to\n",
    "\n",
    "$$\n",
    "\\begin{align}\n",
    "\\theta_1, \\theta_2 \\sim \\text{Uniform}(-1, 1).\n",
    "\\end{align}\n",
    "$$\n",
    "\n",
    "This model is typically used for benchmarking simulation-based inference (SBI) methods (see https://arxiv.org/pdf/2101.04653) and any method for amortized Bayesian inference should be capable of recovering the two moons posterior *without* using a gazillion of simulations. Note, that this is a considerably harder task than modeling the common unconditional two moons data set used often in the context of normalizing flows."
   ]
  },
  {
   "cell_type": "markdown",
   "id": "21bf228e706a010",
   "metadata": {},
   "source": [
    "BayesFlow offers many ways to define your data generating process. Here, we use sequential functions to build a simulator object for online training. Within this composite simulator, each function has access to the outputs of the previous functions. This effectively allows you to define any generative graph."
   ]
  },
  {
   "cell_type": "code",
   "execution_count": 18,
   "id": "f761b142a0e1da66",
   "metadata": {
    "ExecuteTime": {
     "end_time": "2024-10-24T08:36:22.160542Z",
     "start_time": "2024-10-24T08:36:22.155240Z"
    }
   },
   "outputs": [],
   "source": [
    "def theta_prior():\n",
    "    theta = np.random.uniform(-1, 1, 2)\n",
    "    return dict(theta=theta)\n",
    "\n",
    "def forward_model(theta):\n",
    "    alpha = np.random.uniform(-np.pi / 2, np.pi / 2)\n",
    "    r = np.random.normal(0.1, 0.01)\n",
    "    x1 = -np.abs(theta[0] + theta[1]) / np.sqrt(2) + r * np.cos(alpha) + 0.25\n",
    "    x2 = (-theta[0] + theta[1]) / np.sqrt(2) + r * np.sin(alpha)\n",
    "    return dict(x=np.array([x1, x2]))"
   ]
  },
  {
   "cell_type": "markdown",
   "id": "722cb773",
   "metadata": {},
   "source": [
    "Within the composite simulator, every simulator has access to the outputs of the previous simulators in the list. For example, the last simulator `forward_model` has access to the outputs of the three other simulators."
   ]
  },
  {
   "cell_type": "code",
   "execution_count": 19,
   "id": "4b89c861527c13b8",
   "metadata": {
    "ExecuteTime": {
     "end_time": "2024-10-24T08:36:22.305265Z",
     "start_time": "2024-10-24T08:36:22.301546Z"
    }
   },
   "outputs": [],
   "source": [
    "simulator = bf.make_simulator([theta_prior, forward_model])"
   ]
  },
  {
   "cell_type": "markdown",
   "id": "f6e1eb5777c59eba",
   "metadata": {},
   "source": [
    "Let's generate some data to see what the simulator does:"
   ]
  },
  {
   "cell_type": "code",
   "execution_count": 20,
   "id": "e6218e61d529e357",
   "metadata": {
    "ExecuteTime": {
     "end_time": "2024-10-24T08:36:22.350483Z",
     "start_time": "2024-10-24T08:36:22.345161Z"
    }
   },
   "outputs": [],
   "source": [
    "# generate 3 random draws from the joint distribution p(r, alpha, theta, x)\n",
    "sample_data = simulator.sample((3,))"
   ]
  },
  {
   "cell_type": "code",
   "execution_count": 21,
   "id": "46174ccb0167026c",
   "metadata": {
    "ExecuteTime": {
     "end_time": "2024-10-24T08:36:22.470435Z",
     "start_time": "2024-10-24T08:36:22.464836Z"
    }
   },
   "outputs": [
    {
     "name": "stdout",
     "output_type": "stream",
     "text": [
      "Type of sample_data:\n",
      "\t <class 'dict'>\n",
      "Keys of sample_data:\n",
      "\t dict_keys(['theta', 'x'])\n",
      "Types of sample_data values:\n",
      "\t {'theta': <class 'numpy.ndarray'>, 'x': <class 'numpy.ndarray'>}\n",
      "Shapes of sample_data values:\n",
      "\t {'theta': (3, 2), 'x': (3, 2)}\n"
     ]
    }
   ],
   "source": [
    "print(\"Type of sample_data:\\n\\t\", type(sample_data))\n",
    "print(\"Keys of sample_data:\\n\\t\", sample_data.keys())\n",
    "print(\"Types of sample_data values:\\n\\t\", {k: type(v) for k, v in sample_data.items()})\n",
    "print(\"Shapes of sample_data values:\\n\\t\", {k: v.shape for k, v in sample_data.items()})"
   ]
  },
  {
   "cell_type": "markdown",
   "id": "17f158bd2d7abf75",
   "metadata": {},
   "source": [
    "BayesFlow also provides this simulator and a collection of others in the `bayesflow.benchmarks` module."
   ]
  },
  {
   "cell_type": "markdown",
   "id": "f714c3a178b5a375",
   "metadata": {},
   "source": [
    "## Adapter\n",
    "\n",
    "The next step is to tell BayesFlow how to deal with all the simulated variables. You may also think of this as informing BayesFlow about the data flow, i.e., which variables go into which network and what transformations needs to be performed prior to passing the simulator outputs into the networks. This is done via an adapter layer, which is implemented as a sequence of fixed, pseudo-invertible data transforms.\n",
    "\n",
    "There are two ways to build this adapter:"
   ]
  },
  {
   "cell_type": "markdown",
   "id": "54a6d149ed3a622e",
   "metadata": {},
   "source": [
    "\n",
    "1. **Automatically**: You can use the `build_adapter` method of the approximator to create a data adapter with the right output keys for training. You can still modify the data adapter afterward if needed.\n",
    "\n",
    "For this example, we want to learn the posterior distribution $p(\\theta\\,|\\,x)$, so we **infer** $\\theta$, **conditioning** on $x$."
   ]
  },
  {
   "cell_type": "code",
   "execution_count": 22,
   "id": "b6f22643199950cf",
   "metadata": {
    "ExecuteTime": {
     "end_time": "2024-10-24T08:36:23.695091Z",
     "start_time": "2024-10-24T08:36:23.687089Z"
    }
   },
   "outputs": [
    {
     "data": {
      "text/plain": [
       "Adapter([ToArray -> ConvertDType -> Concatenate(['theta'] -> 'inference_variables') -> Concatenate(['x'] -> 'inference_conditions') -> Keep(['inference_variables', 'inference_conditions', 'summary_variables']) -> Standardize])"
      ]
     },
     "execution_count": 22,
     "metadata": {},
     "output_type": "execute_result"
    }
   ],
   "source": [
    "adapter = bf.approximators.ContinuousApproximator.build_adapter(\n",
    "    inference_variables=[\"theta\"],\n",
    "    inference_conditions=[\"x\"],\n",
    ")\n",
    "adapter"
   ]
  },
  {
   "cell_type": "markdown",
   "id": "68c58e4ee6a14614",
   "metadata": {},
   "source": [
    "\n",
    "2. **Manually**: You can define the data adapter by specifying the input and output keys and the transformations to be applied. This allows you full control over your data flow."
   ]
  },
  {
   "cell_type": "code",
   "execution_count": 23,
   "id": "5c9c2dc70f53d103",
   "metadata": {
    "ExecuteTime": {
     "end_time": "2024-10-24T08:36:26.618926Z",
     "start_time": "2024-10-24T08:36:26.614443Z"
    }
   },
   "outputs": [
    {
     "data": {
      "text/plain": [
       "Adapter([ToArray -> ConvertDType -> Standardize -> Rename('theta' -> 'inference_variables') -> Rename('x' -> 'inference_conditions')])"
      ]
     },
     "execution_count": 23,
     "metadata": {},
     "output_type": "execute_result"
    }
   ],
   "source": [
    "adapter = (\n",
    "    bf.adapters.Adapter()\n",
    "    \n",
    "    # convert any non-arrays to numpy arrays\n",
    "    .to_array()\n",
    "    \n",
    "    # convert from numpy's default float64 to deep learning friendly float32\n",
    "    .convert_dtype(\"float64\", \"float32\")\n",
    "    \n",
    "    # standardize all variables to zero mean and unit variance\n",
    "    .standardize()\n",
    "    \n",
    "    # rename the variables to match the required approximator inputs\n",
    "    .rename(\"theta\", \"inference_variables\")\n",
    "    .rename(\"x\", \"inference_conditions\")\n",
    ")\n",
    "adapter"
   ]
  },
  {
   "cell_type": "markdown",
   "id": "254e287b2bccdad",
   "metadata": {},
   "source": [
    "## Dataset\n",
    "\n",
    "For this example, we will sample our training data ahead of time and use offline training with a `bf.datasets.OfflineDataset`.\n",
    "\n",
    "This makes the training process faster, since we avoid repeated sampling. If you want to use online training, you can use an `OnlineDataset` analogously, or just pass your simulator directly to `approximator.fit()`!"
   ]
  },
  {
   "cell_type": "code",
   "execution_count": 24,
   "id": "39cb5a1c9824246f",
   "metadata": {
    "ExecuteTime": {
     "end_time": "2024-09-23T14:39:46.950573Z",
     "start_time": "2024-09-23T14:39:46.948624Z"
    }
   },
   "outputs": [],
   "source": [
    "num_training_batches = 512\n",
    "num_validation_batches = 128\n",
    "batch_size = 64\n",
    "epochs = 30\n",
    "total_steps = num_training_batches * epochs"
   ]
  },
  {
   "cell_type": "code",
   "execution_count": 25,
   "id": "9dee7252ef99affa",
   "metadata": {
    "ExecuteTime": {
     "end_time": "2024-09-23T14:39:53.268860Z",
     "start_time": "2024-09-23T14:39:46.994697Z"
    }
   },
   "outputs": [],
   "source": [
    "training_samples = simulator.sample((num_training_batches * batch_size,))\n",
    "validation_samples = simulator.sample((num_validation_batches * batch_size,))"
   ]
  },
  {
   "cell_type": "code",
   "execution_count": 26,
   "id": "51045bbed88cb5c2",
   "metadata": {
    "ExecuteTime": {
     "end_time": "2024-09-23T14:39:53.281170Z",
     "start_time": "2024-09-23T14:39:53.275921Z"
    }
   },
   "outputs": [],
   "source": [
    "training_dataset = bf.datasets.OfflineDataset(\n",
    "    data=training_samples, \n",
    "    batch_size=batch_size, \n",
    "    adapter=adapter\n",
    ")\n",
    "\n",
    "validation_dataset = bf.datasets.OfflineDataset(\n",
    "    data=validation_samples, \n",
    "    batch_size=batch_size, \n",
    "    adapter=adapter\n",
    ")"
   ]
  },
  {
   "cell_type": "markdown",
   "id": "2d4c6eb0",
   "metadata": {},
   "source": [
    "## Training a neural network to approximate all posteriors\n",
    "\n",
    "The next step is to set up the neural network that will approximate the posterior $p(\\theta\\,|\\,x)$.\n",
    "\n",
    "We choose **Flow Matching** [1, 2] as the backbone architecture for this example, as it can deal well with the multimodal nature of the posteriors that some observables imply.\n",
    "\n",
    "* [1] Lipman, Y., Chen, R. T., Ben-Hamu, H., Nickel, M., & Le, M. Flow Matching for Generative Modeling. In *The Eleventh International Conference on Learning Representations*.\n",
    "\n",
    "* [2] Wildberger, J. B., Dax, M., Buchholz, S., Green, S. R., Macke, J. H., & Schölkopf, B. Flow Matching for Scalable Simulation-Based Inference. In *Thirty-seventh Conference on Neural Information Processing Systems*."
   ]
  },
  {
   "cell_type": "code",
   "execution_count": 27,
   "id": "09206e6f",
   "metadata": {
    "ExecuteTime": {
     "end_time": "2024-09-23T14:39:53.339590Z",
     "start_time": "2024-09-23T14:39:53.319852Z"
    }
   },
   "outputs": [],
   "source": [
    "inference_network = bf.networks.FlowMatching(\n",
    "    subnet=\"mlp\", \n",
    "    subnet_kwargs={\"widths\": (256,)*6, \"dropout\": 0.0} # use an inner network with 6 hidden layers of 256 units\n",
    ")"
   ]
  },
  {
   "cell_type": "markdown",
   "id": "851e522f",
   "metadata": {},
   "source": [
    "This inference network is just a general Flow Matching backbone, not yet adapted to the specific inference task at hand (i.e., posterior appproximation). To achieve this adaptation, we combine the network with our data adapter, which together form an `approximator`. In this case, we need a `ContinuousApproximator` since the target we want to approximate is the posterior of the *continuous* parameter vector $\\theta$."
   ]
  },
  {
   "cell_type": "code",
   "execution_count": 28,
   "id": "96ca6ffa",
   "metadata": {
    "ExecuteTime": {
     "end_time": "2024-09-23T14:39:53.371691Z",
     "start_time": "2024-09-23T14:39:53.369375Z"
    }
   },
   "outputs": [],
   "source": [
    "fm_approximator = bf.ContinuousApproximator(\n",
    "    inference_network=inference_network,\n",
    "    adapter=adapter,\n",
    ")"
   ]
  },
  {
   "cell_type": "markdown",
   "id": "566264eadc76c2c",
   "metadata": {},
   "source": [
    "### Optimizer and Learning Rate\n",
    "We find learning rate schedules, such as [cosine decay](https://keras.io/api/optimizers/learning_rate_schedules/cosine_decay/), work well for a wide variety of approximation tasks."
   ]
  },
  {
   "cell_type": "code",
   "execution_count": 29,
   "id": "e8d7e053",
   "metadata": {
    "ExecuteTime": {
     "end_time": "2024-09-23T14:39:53.433012Z",
     "start_time": "2024-09-23T14:39:53.415903Z"
    }
   },
   "outputs": [],
   "source": [
    "initial_learning_rate = 5e-4\n",
    "scheduled_lr = keras.optimizers.schedules.CosineDecay(\n",
    "    initial_learning_rate=initial_learning_rate,\n",
    "    decay_steps=total_steps,\n",
    "    alpha=1e-8\n",
    ")\n",
    "\n",
    "optimizer = keras.optimizers.AdamW(learning_rate=scheduled_lr)"
   ]
  },
  {
   "cell_type": "code",
   "execution_count": 30,
   "id": "51808fcd560489ac",
   "metadata": {
    "ExecuteTime": {
     "end_time": "2024-09-23T14:39:53.476089Z",
     "start_time": "2024-09-23T14:39:53.466001Z"
    }
   },
   "outputs": [],
   "source": [
    "fm_approximator.compile(optimizer=optimizer)"
   ]
  },
  {
   "cell_type": "markdown",
   "id": "708b1303",
   "metadata": {},
   "source": [
    "### Training\n",
    "\n",
    "We are ready to train our deep posterior approximator on the two moons example. We pass the dataset object to the `fit` method and watch as Bayesflow trains."
   ]
  },
  {
   "cell_type": "code",
   "execution_count": 31,
   "id": "0f496bda",
   "metadata": {
    "ExecuteTime": {
     "end_time": "2024-09-23T14:42:36.067393Z",
     "start_time": "2024-09-23T14:39:53.513436Z"
    }
   },
   "outputs": [
    {
     "name": "stderr",
     "output_type": "stream",
     "text": [
      "INFO:bayesflow:Fitting on dataset instance of OfflineDataset.\n",
      "INFO:bayesflow:Building on a test batch.\n"
     ]
    },
    {
     "name": "stdout",
     "output_type": "stream",
     "text": [
      "Epoch 1/30\n",
      "\u001B[1m512/512\u001B[0m \u001B[32m━━━━━━━━━━━━━━━━━━━━\u001B[0m\u001B[37m\u001B[0m \u001B[1m4s\u001B[0m 3ms/step - loss: 0.7232 - loss/inference_loss: 0.7232 - val_loss: 0.8518 - val_loss/inference_loss: 0.8518\n",
      "Epoch 2/30\n",
      "\u001B[1m512/512\u001B[0m \u001B[32m━━━━━━━━━━━━━━━━━━━━\u001B[0m\u001B[37m\u001B[0m \u001B[1m2s\u001B[0m 3ms/step - loss: 0.6447 - loss/inference_loss: 0.6447 - val_loss: 0.5997 - val_loss/inference_loss: 0.5997\n",
      "Epoch 3/30\n",
      "\u001B[1m512/512\u001B[0m \u001B[32m━━━━━━━━━━━━━━━━━━━━\u001B[0m\u001B[37m\u001B[0m \u001B[1m2s\u001B[0m 3ms/step - loss: 0.6363 - loss/inference_loss: 0.6363 - val_loss: 0.6480 - val_loss/inference_loss: 0.6480\n",
      "Epoch 4/30\n",
      "\u001B[1m512/512\u001B[0m \u001B[32m━━━━━━━━━━━━━━━━━━━━\u001B[0m\u001B[37m\u001B[0m \u001B[1m2s\u001B[0m 3ms/step - loss: 0.6182 - loss/inference_loss: 0.6182 - val_loss: 0.8217 - val_loss/inference_loss: 0.8217\n",
      "Epoch 5/30\n",
      "\u001B[1m512/512\u001B[0m \u001B[32m━━━━━━━━━━━━━━━━━━━━\u001B[0m\u001B[37m\u001B[0m \u001B[1m2s\u001B[0m 3ms/step - loss: 0.6116 - loss/inference_loss: 0.6116 - val_loss: 0.5303 - val_loss/inference_loss: 0.5303\n",
      "Epoch 6/30\n",
      "\u001B[1m512/512\u001B[0m \u001B[32m━━━━━━━━━━━━━━━━━━━━\u001B[0m\u001B[37m\u001B[0m \u001B[1m2s\u001B[0m 4ms/step - loss: 0.6029 - loss/inference_loss: 0.6029 - val_loss: 0.4926 - val_loss/inference_loss: 0.4926\n",
      "Epoch 7/30\n",
      "\u001B[1m512/512\u001B[0m \u001B[32m━━━━━━━━━━━━━━━━━━━━\u001B[0m\u001B[37m\u001B[0m \u001B[1m3s\u001B[0m 5ms/step - loss: 0.5997 - loss/inference_loss: 0.5997 - val_loss: 0.4329 - val_loss/inference_loss: 0.4329\n",
      "Epoch 8/30\n",
      "\u001B[1m512/512\u001B[0m \u001B[32m━━━━━━━━━━━━━━━━━━━━\u001B[0m\u001B[37m\u001B[0m \u001B[1m3s\u001B[0m 6ms/step - loss: 0.5913 - loss/inference_loss: 0.5913 - val_loss: 0.4950 - val_loss/inference_loss: 0.4950\n",
      "Epoch 9/30\n",
      "\u001B[1m512/512\u001B[0m \u001B[32m━━━━━━━━━━━━━━━━━━━━\u001B[0m\u001B[37m\u001B[0m \u001B[1m4s\u001B[0m 7ms/step - loss: 0.5922 - loss/inference_loss: 0.5922 - val_loss: 0.5166 - val_loss/inference_loss: 0.5166\n",
      "Epoch 10/30\n",
      "\u001B[1m512/512\u001B[0m \u001B[32m━━━━━━━━━━━━━━━━━━━━\u001B[0m\u001B[37m\u001B[0m \u001B[1m4s\u001B[0m 7ms/step - loss: 0.5909 - loss/inference_loss: 0.5909 - val_loss: 0.4567 - val_loss/inference_loss: 0.4567\n",
      "Epoch 11/30\n",
      "\u001B[1m512/512\u001B[0m \u001B[32m━━━━━━━━━━━━━━━━━━━━\u001B[0m\u001B[37m\u001B[0m \u001B[1m4s\u001B[0m 7ms/step - loss: 0.5830 - loss/inference_loss: 0.5830 - val_loss: 0.5653 - val_loss/inference_loss: 0.5653\n",
      "Epoch 12/30\n",
      "\u001B[1m512/512\u001B[0m \u001B[32m━━━━━━━━━━━━━━━━━━━━\u001B[0m\u001B[37m\u001B[0m \u001B[1m3s\u001B[0m 5ms/step - loss: 0.5783 - loss/inference_loss: 0.5783 - val_loss: 0.3642 - val_loss/inference_loss: 0.3642\n",
      "Epoch 13/30\n",
      "\u001B[1m512/512\u001B[0m \u001B[32m━━━━━━━━━━━━━━━━━━━━\u001B[0m\u001B[37m\u001B[0m \u001B[1m2s\u001B[0m 5ms/step - loss: 0.5752 - loss/inference_loss: 0.5752 - val_loss: 0.3620 - val_loss/inference_loss: 0.3620\n",
      "Epoch 14/30\n",
      "\u001B[1m512/512\u001B[0m \u001B[32m━━━━━━━━━━━━━━━━━━━━\u001B[0m\u001B[37m\u001B[0m \u001B[1m3s\u001B[0m 6ms/step - loss: 0.5710 - loss/inference_loss: 0.5710 - val_loss: 0.5712 - val_loss/inference_loss: 0.5712\n",
      "Epoch 15/30\n",
      "\u001B[1m512/512\u001B[0m \u001B[32m━━━━━━━━━━━━━━━━━━━━\u001B[0m\u001B[37m\u001B[0m \u001B[1m3s\u001B[0m 5ms/step - loss: 0.5674 - loss/inference_loss: 0.5674 - val_loss: 0.4004 - val_loss/inference_loss: 0.4004\n",
      "Epoch 16/30\n",
      "\u001B[1m512/512\u001B[0m \u001B[32m━━━━━━━━━━━━━━━━━━━━\u001B[0m\u001B[37m\u001B[0m \u001B[1m2s\u001B[0m 4ms/step - loss: 0.5702 - loss/inference_loss: 0.5702 - val_loss: 0.6370 - val_loss/inference_loss: 0.6370\n",
      "Epoch 17/30\n",
      "\u001B[1m512/512\u001B[0m \u001B[32m━━━━━━━━━━━━━━━━━━━━\u001B[0m\u001B[37m\u001B[0m \u001B[1m2s\u001B[0m 4ms/step - loss: 0.5595 - loss/inference_loss: 0.5595 - val_loss: 0.6174 - val_loss/inference_loss: 0.6174\n",
      "Epoch 18/30\n",
      "\u001B[1m512/512\u001B[0m \u001B[32m━━━━━━━━━━━━━━━━━━━━\u001B[0m\u001B[37m\u001B[0m \u001B[1m2s\u001B[0m 4ms/step - loss: 0.5521 - loss/inference_loss: 0.5521 - val_loss: 0.5286 - val_loss/inference_loss: 0.5286\n",
      "Epoch 19/30\n",
      "\u001B[1m512/512\u001B[0m \u001B[32m━━━━━━━━━━━━━━━━━━━━\u001B[0m\u001B[37m\u001B[0m \u001B[1m2s\u001B[0m 4ms/step - loss: 0.5601 - loss/inference_loss: 0.5601 - val_loss: 0.6203 - val_loss/inference_loss: 0.6203\n",
      "Epoch 20/30\n",
      "\u001B[1m512/512\u001B[0m \u001B[32m━━━━━━━━━━━━━━━━━━━━\u001B[0m\u001B[37m\u001B[0m \u001B[1m2s\u001B[0m 4ms/step - loss: 0.5516 - loss/inference_loss: 0.5516 - val_loss: 0.5872 - val_loss/inference_loss: 0.5872\n",
      "Epoch 21/30\n",
      "\u001B[1m512/512\u001B[0m \u001B[32m━━━━━━━━━━━━━━━━━━━━\u001B[0m\u001B[37m\u001B[0m \u001B[1m2s\u001B[0m 4ms/step - loss: 0.5533 - loss/inference_loss: 0.5533 - val_loss: 0.6796 - val_loss/inference_loss: 0.6796\n",
      "Epoch 22/30\n",
      "\u001B[1m512/512\u001B[0m \u001B[32m━━━━━━━━━━━━━━━━━━━━\u001B[0m\u001B[37m\u001B[0m \u001B[1m2s\u001B[0m 4ms/step - loss: 0.5628 - loss/inference_loss: 0.5628 - val_loss: 0.3295 - val_loss/inference_loss: 0.3295\n",
      "Epoch 23/30\n",
      "\u001B[1m512/512\u001B[0m \u001B[32m━━━━━━━━━━━━━━━━━━━━\u001B[0m\u001B[37m\u001B[0m \u001B[1m2s\u001B[0m 4ms/step - loss: 0.5499 - loss/inference_loss: 0.5499 - val_loss: 0.4917 - val_loss/inference_loss: 0.4917\n",
      "Epoch 24/30\n",
      "\u001B[1m512/512\u001B[0m \u001B[32m━━━━━━━━━━━━━━━━━━━━\u001B[0m\u001B[37m\u001B[0m \u001B[1m2s\u001B[0m 4ms/step - loss: 0.5432 - loss/inference_loss: 0.5432 - val_loss: 0.3603 - val_loss/inference_loss: 0.3603\n",
      "Epoch 25/30\n",
      "\u001B[1m512/512\u001B[0m \u001B[32m━━━━━━━━━━━━━━━━━━━━\u001B[0m\u001B[37m\u001B[0m \u001B[1m2s\u001B[0m 4ms/step - loss: 0.5677 - loss/inference_loss: 0.5677 - val_loss: 0.3752 - val_loss/inference_loss: 0.3752\n",
      "Epoch 26/30\n",
      "\u001B[1m512/512\u001B[0m \u001B[32m━━━━━━━━━━━━━━━━━━━━\u001B[0m\u001B[37m\u001B[0m \u001B[1m2s\u001B[0m 3ms/step - loss: 0.5491 - loss/inference_loss: 0.5491 - val_loss: 0.6977 - val_loss/inference_loss: 0.6977\n",
      "Epoch 27/30\n",
      "\u001B[1m512/512\u001B[0m \u001B[32m━━━━━━━━━━━━━━━━━━━━\u001B[0m\u001B[37m\u001B[0m \u001B[1m2s\u001B[0m 3ms/step - loss: 0.5349 - loss/inference_loss: 0.5349 - val_loss: 0.5402 - val_loss/inference_loss: 0.5402\n",
      "Epoch 28/30\n",
      "\u001B[1m512/512\u001B[0m \u001B[32m━━━━━━━━━━━━━━━━━━━━\u001B[0m\u001B[37m\u001B[0m \u001B[1m2s\u001B[0m 3ms/step - loss: 0.5469 - loss/inference_loss: 0.5469 - val_loss: 0.5607 - val_loss/inference_loss: 0.5607\n",
      "Epoch 29/30\n",
      "\u001B[1m512/512\u001B[0m \u001B[32m━━━━━━━━━━━━━━━━━━━━\u001B[0m\u001B[37m\u001B[0m \u001B[1m2s\u001B[0m 4ms/step - loss: 0.5384 - loss/inference_loss: 0.5384 - val_loss: 0.5249 - val_loss/inference_loss: 0.5249\n",
      "Epoch 30/30\n",
      "\u001B[1m512/512\u001B[0m \u001B[32m━━━━━━━━━━━━━━━━━━━━\u001B[0m\u001B[37m\u001B[0m \u001B[1m2s\u001B[0m 3ms/step - loss: 0.5489 - loss/inference_loss: 0.5489 - val_loss: 0.5068 - val_loss/inference_loss: 0.5068\n",
      "CPU times: total: 21.5 s\n",
      "Wall time: 1min 8s\n"
     ]
    }
   ],
   "source": [
    "%%time\n",
    "fm_history = fm_approximator.fit(\n",
    "    epochs=epochs,\n",
    "    dataset=training_dataset,\n",
    "    validation_data=validation_dataset,\n",
    ")"
   ]
  },
  {
   "cell_type": "markdown",
   "id": "66248a2f",
   "metadata": {},
   "source": [
    "## Swapping Inference Networks <a class=\"anchor\" id=\"swapping\"></a>\n",
    "\n",
    "Using BayesFlow, it is easy to switch to a different backbone architecture for the inference network. For instance, the code below demonstrates the use of a **Consistency Model**, which can allow for faster sampling during inference."
   ]
  },
  {
   "cell_type": "markdown",
   "id": "80a97232",
   "metadata": {
    "ExecuteTime": {
     "end_time": "2024-09-23T14:42:38.639240Z",
     "start_time": "2024-09-23T14:42:38.637439Z"
    }
   },
   "source": [
    "### Consistency Models: Background\n",
    "\n",
    "Consistency Models (CM; [1]) leverage the nice properties of score-based diffusion to enable few-step sampling. Score-based diffusion initially relied on a stochastic differential equation (SDE) for sampling, but there is also a ordinary (non-stochastic) differential equation (ODE)that has the same _marginal_ distribution at each time step $t$ [2]. This means that even though SDE and ODE produce different paths from the noise distribution to the target distribution, the resulting distributions when looking at many paths at time $t$ is the same. The ODE is also called Probability Flow ODE.\n",
    "\n",
    "CMs leverage the fact that there is no randomness in the ODE formulation. That means, if you start at a certain point in the latent space, you will always take the same path and end up at the same point in the target $\\theta$-space. The same is true for every point on the path: if you integrate to get to time $t=0$, you will end up at the same point as well. In short: for each path, there is exactly one corresponding point in latent space (at $t=T$) and one corresponding point in data space (at $t=0$). \n",
    "\n",
    "The goal of CMs is the following: each point at a time point $t$ belongs to exactly one path, and we want to predict where this path will end up at $t=0$. The function that does this is called the _consistency function_ $f$. If we have the correct function for all $t\\in(0,T]$, we can just sample from the latent distribution ($t=T$) and use $f$ to directly map to the corresponding point at $t=0$, which is in the target distribution. So for sampling from the target distribution, we avoid any integration and only need one evaluation of the consistency function. In practice, the one-step sampling does not work very well. Instead, we leverage a multi-step sampling method where we call $f$ multiple times. Please check out the [1] for more background on this sampling procedure.\n",
    "\n",
    "When reading the above, you might wonder why we also learn the mapping to $t=0$ of all intermediate time steps $t\\in[0, T]$, and not only for $t=T$. The main answer is that for efficient training, we do not want to actually compute the two associated points explicitly. Doing so would require to do a precise integration at training time, which is often not feasible as it is too computationally costly. Learning all time steps opens up the possibility for a different training approach where we can avoid this. The details of this become a bit more complicated, and we advise you to take a look at [1] if you are interested in a more thorough and mathematical discussion. Below, we will give a rough description of the underlying concepts.\n",
    "\n",
    "\n",
    "**Training** First, we know that at $t=0$, it holds that $f(\\theta,t=0)=\\theta$, as $\\theta$ is part of the path that ends at $\\theta$. This _boundary condition_ serves as an \"anchor\" for our training, this is the information that the network knows at the start of the training procedure (we encode it with a time-dependent skip-connection, so the network is forced to be the identity function at $t=0$). For training, we now somehow have to propagate this information to the rest of the part. The basic idea for this is simple. We just take a point $\\theta_1$ closer to the data distribution (smaller time $t_1$) and integrate for a small time step $dt$ to a point $\\theta_2$ on the same path that is closer to the latent distribution (larger time $t_2=t_1+dt$). As we know that for $t=0$ our network provides the correct output for our path, we want to propagate the information from smaller times to larger times. Our training goal is to move the output of $f(\\theta_2, t=t_2)$ towards the output of $f(\\theta_1, t=t_1)$. How to choose $\\theta_1$, $t_1$ and $dt$ is an empirical question, see the [1] for some thoughts on what works well.\n",
    "\n",
    "**Distilling inference** In the case of _distillation_, we start with a trained score-based diffusion model. We can use it to integrate the Probability Flow ODE to get from $\\theta_1$ to $\\theta_2$. If we do not have such a model, it seems as if we were stuck. We do not know which points lie on the same path, so we do not know which outputs to make similar. Fortunately, it turns out that there is an _unbiased approximator_ that, if averaged over many samples (check out the paper for the exact description), will also give us the correct score. If we use this approximator instead of the score model, and use only a single Euler step to move along the path, we get an algorithm similar to the one described for distillation. It is called Consistency Training (CT) and allows us to train a consistency model using only _samples_ from the data distribution. The algorithm for this was improved a lot in [3], and we have incorporated those improvements into our implementation.\n",
    "\n",
    "**Improving consistency training** We have made several approximations to get to a standalone *consistency training* algorithm. As a consequence, the introduced hyperparameters and their choice unfortunately becomes somewhat unintuitive. We have to rely on empirical observations and heuristics to see what works. This was done in [4], we encourage you to use the values provided there as starting points. If you happen to find hyperparameters that work significantly better, please let us know (e.g., by opening an issue or sending an email). This will help others to find the correct region in the hyperparameter space.\n",
    "\n",
    "[1] Song, Y., Dhariwal, P., Chen, M., & Sutskever, I. (2023). Consistency Models. _arXiv preprint_. [https://doi.org/10.48550/arXiv.2303.01469](https://doi.org/10.48550/arXiv.2303.01469)\n",
    "\n",
    "[2] Song, Y., Sohl-Dickstein, J., Kingma, D. P., Kumar, A., Ermon, S., & Poole, B. (2021). Score-Based Generative Modeling through Stochastic Differential Equations. In _International Conference on Learning Representations_. [https://openreview.net/forum?id=PxTIG12RRHS](https://openreview.net/forum?id=PxTIG12RRHS)\n",
    "\n",
    "[3] Song, Y., & Dhariwal, P. (2023). Improved Techniques for Training Consistency Models. _arXiv preprint_. [https://doi.org/10.48550/arXiv.2310.14189](https://doi.org/10.48550/arXiv.2310.14189)\n",
    "\n",
    "[4] Schmitt, M., Pratz, V., Köthe, U., Bürkner, P.-C., & Radev, S. T. (2024). Consistency Models for Scalable and Fast Simulation-Based Inference. _arXiv preprint_. [https://doi.org/10.48550/arXiv.2312.05440](https://doi.org/10.48550/arXiv.2312.05440)"
   ]
  },
  {
   "cell_type": "markdown",
   "id": "24b69117",
   "metadata": {},
   "source": [
    "### Consistency Models: Specification"
   ]
  },
  {
   "cell_type": "markdown",
   "id": "3016f08f",
   "metadata": {},
   "source": [
    "We can now go ahead and define our new inference network backbone. Apart from the usual parameters like learning rate and batch size, CMs come with a number of different hyperparameters. Unfortunately, they can heavily interact, so they can be hard to tune. The main hyperparameters are:\n",
    "\n",
    "- Maximum time `max_time`: This also serves as the standard deviation of the latent distribution. You can experiment with this, values from 10-200 seem to work well. In any case, it should be larger than the standard deviation of the target distribution.\n",
    "- Minimum/maximum number of discretization steps during training `s0`/`s1`: The effect of those is hard to grasp. 10 works well for `s0`. Intuitively, increasing `s1` along with the number of epochs should lead to better result, but in practice we sometimes observe a breakdown for high values of `s1`. This seems to be problem-dependent, so just try it out.\n",
    "- `sigma2` modifies the time-dependency of the skip connection. Its effect on the training is unclear, we recommend leaving it at 1.0 or setting it to the approximate variance of the target distribution.\n",
    "- Smallest time value `eps` ($t=\\epsilon$ is used instead of $t=0$ for numerical reasons): No large effect in our experiments, as long as it is kept small enough. Probably not worth tuning.\n",
    "\n",
    "You may find that different hyperparameter values work better for your tasks.\n",
    "\n",
    "A short note on dropout: in our experiments, dropout usually lead to worse performance, so generally we recommend setting the droput rate to $0.0$. Consistency training takes advantage of a noisy estimator of the score, so probably the training is already sufficiently noisy and extra dropout for regularization is not necessary."
   ]
  },
  {
   "cell_type": "code",
   "execution_count": 32,
   "id": "d53a41b8",
   "metadata": {},
   "outputs": [],
   "source": [
    "# Compute the empirical variance of the draws from the prior θ ~ p(θ)\n",
    "inference_network = bf.networks.ConsistencyModel(\n",
    "    subnet=\"mlp\",\n",
    "    subnet_kwargs={\"widths\": (256,)*6, \"dropout\": 0.0},\n",
    "    total_steps=total_steps,\n",
    "    max_time=10,\n",
    "    sigma2=1.0,  # the data adapter standardizes our parameters, so set to 1.0\n",
    ")\n",
    "\n",
    "cm_approximator = bf.ContinuousApproximator(\n",
    "    inference_network=inference_network,\n",
    "    adapter=adapter,\n",
    ")"
   ]
  },
  {
   "cell_type": "markdown",
   "id": "3cc0fed5",
   "metadata": {},
   "source": [
    "### Optimizer and Learning Rate\n",
    "We use the same settings as for the **Flow Matching** run above."
   ]
  },
  {
   "cell_type": "code",
   "execution_count": 33,
   "id": "d1bc228a",
   "metadata": {},
   "outputs": [],
   "source": [
    "initial_learning_rate = 5e-4\n",
    "scheduled_lr = keras.optimizers.schedules.CosineDecay(\n",
    "    initial_learning_rate=initial_learning_rate,\n",
    "    decay_steps=total_steps,\n",
    "    alpha=1e-8\n",
    ")\n",
    "\n",
    "optimizer = keras.optimizers.Adam(learning_rate=scheduled_lr)"
   ]
  },
  {
   "cell_type": "code",
   "execution_count": 34,
   "id": "41c4599f",
   "metadata": {},
   "outputs": [],
   "source": [
    "cm_approximator.compile(optimizer=optimizer)"
   ]
  },
  {
   "cell_type": "markdown",
   "id": "9fbcca16",
   "metadata": {},
   "source": [
    "### Consistency Training"
   ]
  },
  {
   "cell_type": "code",
   "execution_count": 35,
   "id": "c3c1a812",
   "metadata": {},
   "outputs": [
    {
     "name": "stderr",
     "output_type": "stream",
     "text": [
      "INFO:bayesflow:Fitting on dataset instance of OfflineDataset.\n",
      "INFO:bayesflow:Building on a test batch.\n"
     ]
    },
    {
     "name": "stdout",
     "output_type": "stream",
     "text": [
      "Epoch 1/30\n",
      "\u001B[1m512/512\u001B[0m \u001B[32m━━━━━━━━━━━━━━━━━━━━\u001B[0m\u001B[37m\u001B[0m \u001B[1m3s\u001B[0m 4ms/step - loss: 0.4194 - loss/inference_loss: 0.4194 - val_loss: 0.4176 - val_loss/inference_loss: 0.4176\n",
      "Epoch 2/30\n",
      "\u001B[1m512/512\u001B[0m \u001B[32m━━━━━━━━━━━━━━━━━━━━\u001B[0m\u001B[37m\u001B[0m \u001B[1m2s\u001B[0m 3ms/step - loss: 0.3623 - loss/inference_loss: 0.3623 - val_loss: 0.3541 - val_loss/inference_loss: 0.3541\n",
      "Epoch 3/30\n",
      "\u001B[1m512/512\u001B[0m \u001B[32m━━━━━━━━━━━━━━━━━━━━\u001B[0m\u001B[37m\u001B[0m \u001B[1m2s\u001B[0m 4ms/step - loss: 0.3421 - loss/inference_loss: 0.3421 - val_loss: 0.3560 - val_loss/inference_loss: 0.3560\n",
      "Epoch 4/30\n",
      "\u001B[1m512/512\u001B[0m \u001B[32m━━━━━━━━━━━━━━━━━━━━\u001B[0m\u001B[37m\u001B[0m \u001B[1m2s\u001B[0m 3ms/step - loss: 0.3296 - loss/inference_loss: 0.3296 - val_loss: 0.2882 - val_loss/inference_loss: 0.2882\n",
      "Epoch 5/30\n",
      "\u001B[1m512/512\u001B[0m \u001B[32m━━━━━━━━━━━━━━━━━━━━\u001B[0m\u001B[37m\u001B[0m \u001B[1m2s\u001B[0m 3ms/step - loss: 0.3243 - loss/inference_loss: 0.3243 - val_loss: 0.2542 - val_loss/inference_loss: 0.2542\n",
      "Epoch 6/30\n",
      "\u001B[1m512/512\u001B[0m \u001B[32m━━━━━━━━━━━━━━━━━━━━\u001B[0m\u001B[37m\u001B[0m \u001B[1m2s\u001B[0m 3ms/step - loss: 0.3246 - loss/inference_loss: 0.3246 - val_loss: 0.2464 - val_loss/inference_loss: 0.2464\n",
      "Epoch 7/30\n",
      "\u001B[1m512/512\u001B[0m \u001B[32m━━━━━━━━━━━━━━━━━━━━\u001B[0m\u001B[37m\u001B[0m \u001B[1m2s\u001B[0m 3ms/step - loss: 0.3192 - loss/inference_loss: 0.3192 - val_loss: 0.2521 - val_loss/inference_loss: 0.2521\n",
      "Epoch 8/30\n",
      "\u001B[1m512/512\u001B[0m \u001B[32m━━━━━━━━━━━━━━━━━━━━\u001B[0m\u001B[37m\u001B[0m \u001B[1m2s\u001B[0m 3ms/step - loss: 0.3139 - loss/inference_loss: 0.3139 - val_loss: 0.3357 - val_loss/inference_loss: 0.3357\n",
      "Epoch 9/30\n",
      "\u001B[1m512/512\u001B[0m \u001B[32m━━━━━━━━━━━━━━━━━━━━\u001B[0m\u001B[37m\u001B[0m \u001B[1m2s\u001B[0m 3ms/step - loss: 0.3119 - loss/inference_loss: 0.3119 - val_loss: 0.2906 - val_loss/inference_loss: 0.2906\n",
      "Epoch 10/30\n",
      "\u001B[1m512/512\u001B[0m \u001B[32m━━━━━━━━━━━━━━━━━━━━\u001B[0m\u001B[37m\u001B[0m \u001B[1m2s\u001B[0m 3ms/step - loss: 0.3265 - loss/inference_loss: 0.3265 - val_loss: 0.2483 - val_loss/inference_loss: 0.2483\n",
      "Epoch 11/30\n",
      "\u001B[1m512/512\u001B[0m \u001B[32m━━━━━━━━━━━━━━━━━━━━\u001B[0m\u001B[37m\u001B[0m \u001B[1m2s\u001B[0m 3ms/step - loss: 0.3174 - loss/inference_loss: 0.3174 - val_loss: 0.3993 - val_loss/inference_loss: 0.3993\n",
      "Epoch 12/30\n",
      "\u001B[1m512/512\u001B[0m \u001B[32m━━━━━━━━━━━━━━━━━━━━\u001B[0m\u001B[37m\u001B[0m \u001B[1m2s\u001B[0m 3ms/step - loss: 0.3184 - loss/inference_loss: 0.3184 - val_loss: 0.2872 - val_loss/inference_loss: 0.2872\n",
      "Epoch 13/30\n",
      "\u001B[1m512/512\u001B[0m \u001B[32m━━━━━━━━━━━━━━━━━━━━\u001B[0m\u001B[37m\u001B[0m \u001B[1m2s\u001B[0m 3ms/step - loss: 0.3059 - loss/inference_loss: 0.3059 - val_loss: 0.2526 - val_loss/inference_loss: 0.2526\n",
      "Epoch 14/30\n",
      "\u001B[1m512/512\u001B[0m \u001B[32m━━━━━━━━━━━━━━━━━━━━\u001B[0m\u001B[37m\u001B[0m \u001B[1m2s\u001B[0m 3ms/step - loss: 0.3064 - loss/inference_loss: 0.3064 - val_loss: 0.4011 - val_loss/inference_loss: 0.4011\n",
      "Epoch 15/30\n",
      "\u001B[1m512/512\u001B[0m \u001B[32m━━━━━━━━━━━━━━━━━━━━\u001B[0m\u001B[37m\u001B[0m \u001B[1m2s\u001B[0m 3ms/step - loss: 0.3064 - loss/inference_loss: 0.3064 - val_loss: 0.3331 - val_loss/inference_loss: 0.3331\n",
      "Epoch 16/30\n",
      "\u001B[1m512/512\u001B[0m \u001B[32m━━━━━━━━━━━━━━━━━━━━\u001B[0m\u001B[37m\u001B[0m \u001B[1m2s\u001B[0m 3ms/step - loss: 0.3040 - loss/inference_loss: 0.3040 - val_loss: 0.3372 - val_loss/inference_loss: 0.3372\n",
      "Epoch 17/30\n",
      "\u001B[1m512/512\u001B[0m \u001B[32m━━━━━━━━━━━━━━━━━━━━\u001B[0m\u001B[37m\u001B[0m \u001B[1m2s\u001B[0m 3ms/step - loss: 0.2976 - loss/inference_loss: 0.2976 - val_loss: 0.2693 - val_loss/inference_loss: 0.2693\n",
      "Epoch 18/30\n",
      "\u001B[1m512/512\u001B[0m \u001B[32m━━━━━━━━━━━━━━━━━━━━\u001B[0m\u001B[37m\u001B[0m \u001B[1m2s\u001B[0m 3ms/step - loss: 0.2904 - loss/inference_loss: 0.2904 - val_loss: 0.3465 - val_loss/inference_loss: 0.3465\n",
      "Epoch 19/30\n",
      "\u001B[1m512/512\u001B[0m \u001B[32m━━━━━━━━━━━━━━━━━━━━\u001B[0m\u001B[37m\u001B[0m \u001B[1m2s\u001B[0m 3ms/step - loss: 0.2860 - loss/inference_loss: 0.2860 - val_loss: 0.4690 - val_loss/inference_loss: 0.4690\n",
      "Epoch 20/30\n",
      "\u001B[1m512/512\u001B[0m \u001B[32m━━━━━━━━━━━━━━━━━━━━\u001B[0m\u001B[37m\u001B[0m \u001B[1m2s\u001B[0m 3ms/step - loss: 0.2865 - loss/inference_loss: 0.2865 - val_loss: 0.2238 - val_loss/inference_loss: 0.2238\n",
      "Epoch 21/30\n",
      "\u001B[1m512/512\u001B[0m \u001B[32m━━━━━━━━━━━━━━━━━━━━\u001B[0m\u001B[37m\u001B[0m \u001B[1m2s\u001B[0m 3ms/step - loss: 0.2766 - loss/inference_loss: 0.2766 - val_loss: 0.4027 - val_loss/inference_loss: 0.4027\n",
      "Epoch 22/30\n",
      "\u001B[1m512/512\u001B[0m \u001B[32m━━━━━━━━━━━━━━━━━━━━\u001B[0m\u001B[37m\u001B[0m \u001B[1m2s\u001B[0m 3ms/step - loss: 0.2752 - loss/inference_loss: 0.2752 - val_loss: 0.2340 - val_loss/inference_loss: 0.2340\n",
      "Epoch 23/30\n",
      "\u001B[1m512/512\u001B[0m \u001B[32m━━━━━━━━━━━━━━━━━━━━\u001B[0m\u001B[37m\u001B[0m \u001B[1m2s\u001B[0m 3ms/step - loss: 0.2693 - loss/inference_loss: 0.2693 - val_loss: 0.2653 - val_loss/inference_loss: 0.2653\n",
      "Epoch 24/30\n",
      "\u001B[1m512/512\u001B[0m \u001B[32m━━━━━━━━━━━━━━━━━━━━\u001B[0m\u001B[37m\u001B[0m \u001B[1m2s\u001B[0m 3ms/step - loss: 0.2681 - loss/inference_loss: 0.2681 - val_loss: 0.2882 - val_loss/inference_loss: 0.2882\n",
      "Epoch 25/30\n",
      "\u001B[1m512/512\u001B[0m \u001B[32m━━━━━━━━━━━━━━━━━━━━\u001B[0m\u001B[37m\u001B[0m \u001B[1m2s\u001B[0m 3ms/step - loss: 0.2665 - loss/inference_loss: 0.2665 - val_loss: 0.2893 - val_loss/inference_loss: 0.2893\n",
      "Epoch 26/30\n",
      "\u001B[1m512/512\u001B[0m \u001B[32m━━━━━━━━━━━━━━━━━━━━\u001B[0m\u001B[37m\u001B[0m \u001B[1m2s\u001B[0m 3ms/step - loss: 0.2747 - loss/inference_loss: 0.2747 - val_loss: 0.3671 - val_loss/inference_loss: 0.3671\n",
      "Epoch 27/30\n",
      "\u001B[1m512/512\u001B[0m \u001B[32m━━━━━━━━━━━━━━━━━━━━\u001B[0m\u001B[37m\u001B[0m \u001B[1m2s\u001B[0m 3ms/step - loss: 0.2769 - loss/inference_loss: 0.2769 - val_loss: 0.2384 - val_loss/inference_loss: 0.2384\n",
      "Epoch 28/30\n",
      "\u001B[1m512/512\u001B[0m \u001B[32m━━━━━━━━━━━━━━━━━━━━\u001B[0m\u001B[37m\u001B[0m \u001B[1m2s\u001B[0m 3ms/step - loss: 0.2689 - loss/inference_loss: 0.2689 - val_loss: 0.2956 - val_loss/inference_loss: 0.2956\n",
      "Epoch 29/30\n",
      "\u001B[1m512/512\u001B[0m \u001B[32m━━━━━━━━━━━━━━━━━━━━\u001B[0m\u001B[37m\u001B[0m \u001B[1m2s\u001B[0m 3ms/step - loss: 0.2611 - loss/inference_loss: 0.2611 - val_loss: 0.2490 - val_loss/inference_loss: 0.2490\n",
      "Epoch 30/30\n",
      "\u001B[1m512/512\u001B[0m \u001B[32m━━━━━━━━━━━━━━━━━━━━\u001B[0m\u001B[37m\u001B[0m \u001B[1m2s\u001B[0m 3ms/step - loss: 0.2563 - loss/inference_loss: 0.2563 - val_loss: 0.3297 - val_loss/inference_loss: 0.3297\n",
      "CPU times: total: 15.8 s\n",
      "Wall time: 1min 2s\n"
     ]
    }
   ],
   "source": [
    "%%time\n",
    "cm_history = cm_approximator.fit(\n",
    "    epochs=epochs,\n",
    "    dataset=training_dataset,\n",
    "    validation_data=validation_dataset,\n",
    ")"
   ]
  },
  {
   "cell_type": "markdown",
   "id": "f6ffbb96",
   "metadata": {},
   "source": [
    "## Validation"
   ]
  },
  {
   "cell_type": "markdown",
   "id": "c0ca73c8",
   "metadata": {},
   "source": [
    "### Two Moons Posterior\n",
    "\n",
    "The two moons posterior at point $x = (0, 0)$ should resemble two crescent shapes. Below, we plot the corresponding posterior samples and posterior density. \n",
    "\n",
    "These results suggest that both **Flow Matching** and **Consistency Models** can approximate the expected analytical posterior well. You can achieve an even better fit if you use online training, more epochs, or better optimizer hyperparameters."
   ]
  },
  {
   "cell_type": "code",
   "execution_count": 36,
   "id": "073bcd0b",
   "metadata": {},
   "outputs": [
    {
     "data": {
      "image/png": "[encoded data removed]",
      "text/plain": [
       "<Figure size 1200x600 with 2 Axes>"
      ]
     },
     "metadata": {},
     "output_type": "display_data"
    }
   ],
   "source": [
    "# Set the number of posterior draws you want to get\n",
    "num_samples = 3000\n",
    "\n",
    "# Obtain samples from amortized posterior\n",
    "conditions = {\"x\": np.array([[0.0, 0.0]]).astype(\"float32\")}\n",
    "\n",
    "# Prepare figure\n",
    "f, axes = plt.subplots(1, 2, figsize=(12, 6))\n",
    "\n",
    "# Obtain samples from the two approximators\n",
    "nets = [fm_approximator, cm_approximator]\n",
    "names = [\"Flow Matching\", \"Consistency Model\"]\n",
    "colors = [\"#153c7a\", \"#7a1515\"]\n",
    "\n",
    "for ax, net, name, color in zip(axes, nets, names, colors):\n",
    "\n",
    "    # Obtain samples\n",
    "    samples = net.sample(conditions=conditions, batch_size=1, num_samples=num_samples)[\"theta\"]\n",
    "    \n",
    "    # Plot samples\n",
    "    ax.scatter(samples[0, :, 0], samples[0, :, 1], color=color, alpha=0.75, s=0.5)\n",
    "    sns.despine(ax=ax)\n",
    "    ax.set_title(f\"{name}\", fontsize=16)\n",
    "    ax.grid(alpha=0.3)\n",
    "    ax.set_aspect(\"equal\", adjustable=\"box\")\n",
    "    ax.set_xlim([-0.5, 0.5])\n",
    "    ax.set_ylim([-0.5, 0.5])\n",
    "    ax.set_xlabel(r\"$\\theta_1$\", fontsize=15)\n",
    "    ax.set_ylabel(r\"$\\theta_2$\", fontsize=15)\n",
    "\n",
    "f.tight_layout()"
   ]
  },
  {
   "cell_type": "markdown",
   "id": "895b03ae",
   "metadata": {},
   "source": [
    "The posterior looks as we have expected in this case. However, in general, we do not know how the posterior is supposed to look like for any specific dataset. As such, we need diagnostics that validate the correctness of the inferred posterior. One such diagnostic is simulation-based calibration(SBC), which we can apply for free due to amortization. For more details on SBC and diagnostic plots, see:\n",
    "\n",
    "1. Talts, S., Betancourt, M., Simpson, D., Vehtari, A., & Gelman, A. (2018). Validating Bayesian inference algorithms with simulation-based calibration. *arXiv preprint*.\n",
    "2. Säilynoja, T., Bürkner, P. C., & Vehtari, A. (2022). Graphical test for discrete uniformity and its applications in goodness-of-fit evaluation and multiple sample comparison. *Statistics and Computing*."
   ]
  },
  {
   "cell_type": "code",
   "execution_count": 37,
   "id": "df35a911",
   "metadata": {},
   "outputs": [],
   "source": [
    "## TODO"
   ]
  }
 ],
 "metadata": {
  "kernelspec": {
   "display_name": "Python 3 (ipykernel)",
   "language": "python",
   "name": "python3"
  },
  "language_info": {
   "codemirror_mode": {
    "name": "ipython",
    "version": 3
   },
   "file_extension": ".py",
   "mimetype": "text/x-python",
   "name": "python",
   "nbconvert_exporter": "python",
   "pygments_lexer": "ipython3",
   "version": "3.11.5"
  },
  "toc": {
   "base_numbering": 1,
   "nav_menu": {},
   "number_sections": true,
   "sideBar": true,
   "skip_h1_title": true,
   "title_cell": "Table of Contents",
   "title_sidebar": "Contents",
   "toc_cell": true,
   "toc_position": {
    "height": "calc(100% - 180px)",
    "left": "10px",
    "top": "150px",
    "width": "165px"
   },
   "toc_section_display": true,
   "toc_window_display": true
  }
 },
 "nbformat": 4,
 "nbformat_minor": 5
}
