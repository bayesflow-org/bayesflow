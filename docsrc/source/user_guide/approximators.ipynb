{
 "cells": [
  {
   "cell_type": "markdown",
   "id": "2eb7a0f2-6017-4a45-90e4-d149d10193b7",
   "metadata": {},
   "source": [
    "# Approximators\n",
    "\n",
    "*Disclaimer: This guide is in an early stage. We welcome contributions to the guide in form of issues and pull requests.*\n",
    "\n",
    "Neural approximators provide an approximation of a distribution or a value. To achieve this, they combine the things we have discussed in the previous chapters: simulated data, adapters, summary networks and inference networks. Approximators are at the heart of BayesFlow, as they organize the different components and provide the `fit()` function used for training."
   ]
  }
 ],
 "metadata": {
  "kernelspec": {
   "display_name": "Python 3 (ipykernel)",
   "language": "python",
   "name": "python3"
  },
  "language_info": {
   "codemirror_mode": {
    "name": "ipython",
    "version": 3
   },
   "file_extension": ".py",
   "mimetype": "text/x-python",
   "name": "python",
   "nbconvert_exporter": "python",
   "pygments_lexer": "ipython3",
   "version": "3.11.11"
  }
 },
 "nbformat": 4,
 "nbformat_minor": 5
}
