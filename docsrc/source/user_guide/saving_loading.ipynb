{
 "cells": [
  {
   "cell_type": "markdown",
   "id": "743f4071-009d-48e6-bc27-9785f37071c4",
   "metadata": {},
   "source": [
    "# Saving & Loading Models\n",
    "\n",
    "*Disclaimer: This guide is in an early stage. We welcome contributions to the guide in form of issues and pull requests.*\n",
    "\n",
    "Saving and loading of models takes place via our backend, [Keras 3](https://keras.io/). Objects that can be saved have a `save` method, which allows saving to a `.keras` file.\n",
    "\n",
    "The [`keras.saving.load_model`](https://keras.io/api/models/model_saving_apis/model_saving_and_loading/#load_model-function) function can be used to load the stored models. There is a lot more to say about this topic. For now, refer to the respective [Keras guide](https://keras.io/guides/serialization_and_saving/).\n",
    "\n",
    "**Important:** We try to avoid it, but changes to model architectures can lead to a situation where the model is not successfully loaded after updating BayesFlow. This can also happen silently (i.e., without an error/warning being shown), so we recommend to conduct a quick sanity check on the model outputs after loading. In practice, pinning the BayesFlow version for each project can also help to avoid problems in this regard."
   ]
  }
 ],
 "metadata": {
  "kernelspec": {
   "display_name": "Python 3 (ipykernel)",
   "language": "python",
   "name": "python3"
  },
  "language_info": {
   "codemirror_mode": {
    "name": "ipython",
    "version": 3
   },
   "file_extension": ".py",
   "mimetype": "text/x-python",
   "name": "python",
   "nbconvert_exporter": "python",
   "pygments_lexer": "ipython3",
   "version": "3.11.11"
  }
 },
 "nbformat": 4,
 "nbformat_minor": 5
}
