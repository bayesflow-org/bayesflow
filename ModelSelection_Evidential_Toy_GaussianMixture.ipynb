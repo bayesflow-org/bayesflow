{
 "cells": [
  {
   "cell_type": "code",
   "execution_count": 93,
   "metadata": {},
   "outputs": [],
   "source": [
    "import tensorflow as tf\n",
    "from tensorflow.keras.regularizers import l2\n",
    "from tensorflow.keras.utils import to_categorical\n",
    "import tensorflow.contrib.eager as tfe\n",
    "from functools import partial\n",
    "import pandas as pd\n",
    "import seaborn as sns\n",
    "import matplotlib.pyplot as plt\n",
    "\n",
    "from sklearn.calibration import calibration_curve\n",
    "import matplotlib.tri as tri\n",
    "from scipy.special import betaln\n",
    "from scipy.stats import beta\n",
    "from scipy import stats\n",
    "from scipy.special import gamma as gamma_fun\n",
    "import scipy.special as spec\n",
    "import matplotlib.pyplot as plt\n",
    "from tqdm import tqdm_notebook as tqdm\n",
    "import numpy as np\n",
    "from sklearn.metrics import confusion_matrix\n",
    "np.set_printoptions(suppress=True)\n",
    "\n",
    "\n",
    "from deep_bayes.models import DeepEvidentialModel\n",
    "from deep_bayes.settings import EVIDENTIAL_GAUSSIAN\n",
    "from deep_bayes.training import train_online\n",
    "from deep_bayes.losses import log_loss\n",
    "from deep_bayes.diagnostics import accuracy, expected_calibration_error\n",
    "from deep_bayes.viz import plot_model_samples, plot_confusion_matrix"
   ]
  },
  {
   "cell_type": "code",
   "execution_count": 5,
   "metadata": {},
   "outputs": [
    {
     "name": "stdout",
     "output_type": "stream",
     "text": [
      "The autoreload extension is already loaded. To reload it, use:\n",
      "  %reload_ext autoreload\n"
     ]
    }
   ],
   "source": [
    "%load_ext autoreload\n",
    "%autoreload 2"
   ]
  },
  {
   "cell_type": "code",
   "execution_count": 6,
   "metadata": {},
   "outputs": [],
   "source": [
    "tf.enable_eager_execution()"
   ]
  },
  {
   "cell_type": "code",
   "execution_count": 7,
   "metadata": {},
   "outputs": [],
   "source": [
    "%matplotlib inline"
   ]
  },
  {
   "cell_type": "markdown",
   "metadata": {},
   "source": [
    "# Generative model specifications"
   ]
  },
  {
   "cell_type": "markdown",
   "metadata": {},
   "source": [
    "## Model prior \n",
    "<p>Defines the prior probabilities over models $p(\\boldsymbol{m})$.</p>"
   ]
  },
  {
   "cell_type": "code",
   "execution_count": 8,
   "metadata": {},
   "outputs": [],
   "source": [
    "def model_prior(batch_size, n_models, p_vals=None):\n",
    "    \"\"\"\n",
    "    Samples from the models' prior batch size times and converts to one-hot.\n",
    "    Assumes equal model priors.\n",
    "    ----------\n",
    "    \n",
    "    Arguments:\n",
    "    batch_size : int  -- the number of samples to draw from the prior\n",
    "    n_models   : int  -- the number of generative models in queston\n",
    "    ----------\n",
    "    \n",
    "    Returns:\n",
    "    m_true : np.ndarray of shape (batch_size, theta_dim) -- the samples batch of parameters\n",
    "    \"\"\"\n",
    "    \n",
    "    # Equal priors, if nothign specified\n",
    "    if p_vals is None:\n",
    "        p_vals = [1/n_models] * n_models\n",
    "    m_idx = np.random.choice(n_models, size=batch_size, p=p_vals).astype(np.int32)\n",
    "    return m_idx"
   ]
  },
  {
   "cell_type": "markdown",
   "metadata": {},
   "source": [
    "## Data generator"
   ]
  },
  {
   "cell_type": "code",
   "execution_count": 9,
   "metadata": {},
   "outputs": [],
   "source": [
    "def data_generator(batch_size, model_prior, param_priors, forward_models, alpha_smooth=None,\n",
    "                   n_obs=None, n_obs_min=100, n_obs_max=500, to_tensor=True, **args):\n",
    "    \"\"\"\n",
    "    Runs the forward model 'batch_size' times by first sampling fromt the prior\n",
    "    theta ~ p(theta) and running x ~ p(x|theta).\n",
    "    ----------\n",
    "    \n",
    "    Arguments:\n",
    "    batch_size     : int -- the number of samples to draw from the prior\n",
    "    model_prior    : callable -- the prior which returns a sample of model indices\n",
    "    param_priors   : list of callables -- a list with model prior samplers\n",
    "    forward_models : list of generative models g(theta) -- a list of generatibve models\n",
    "    n_obs          : int -- the numebr of observations to draw from p(x|theta)\n",
    "    n_obs_min      : int -- used when n_obs is None, draws n_obs ~ U(n_obs_min, n_obs_max)\n",
    "    n_obs_max      : int -- used when n_obs is None, draws n_obs ~ U(n_obs_min, n_obs_max)\n",
    "    to_tensor      : boolean -- converts theta and x to tensors if True\n",
    "    ----------\n",
    "    \n",
    "    Output:\n",
    "    m     : tf.Tensor or np.ndarray of shape (batch_size, n_models) - the one-hot encoded version of the models\n",
    "    theta : tf.Tensor or np.ndarray of shape (batch_size, theta_dim) - the data gen parameters \n",
    "    x     : tf.Tensor of np.ndarray of shape (batch_size, n_obs, x_dim)  - the generated data\n",
    "    \"\"\"\n",
    "    \n",
    "    # Sample from model prior\n",
    "    # m_indices is an np.int32 array of model indices  \n",
    "    n_models = len(forward_models)\n",
    "    m_indices = model_prior(batch_size, n_models)\n",
    "    \n",
    "    # Sample N, if not specified\n",
    "    if n_obs is None:\n",
    "        n_obs = np.random.randint(low=n_obs_min, high=n_obs_max+1)\n",
    "    \n",
    "    # For each model index, sample from prior and run generative model.\n",
    "    x = []\n",
    "    theta = []\n",
    "    for m_idx in m_indices:\n",
    "        \n",
    "        # Draw from model prior theta ~ p(theta|\n",
    "        theta_m = param_priors[m_idx]()\n",
    "        \n",
    "        # Generate data from x = g_m(theta) <=> x ~ p(x|theta,m)\n",
    "        x_m = forward_models[m_idx](theta_m, n_obs)\n",
    "        \n",
    "        # Store data and params\n",
    "        x.append(x_m)\n",
    "        theta.append(theta_m)\n",
    "    \n",
    "    # One-hot encode model indices\n",
    "    m = to_categorical(m_indices, num_classes=n_models)\n",
    "    \n",
    "    # Apply label smoothing, if specified\n",
    "    if alpha_smooth is not None:\n",
    "        m = m * (1 - alpha_smooth) + alpha_smooth / n_models\n",
    "    \n",
    "    # Convert to tensor, if specified \n",
    "    if to_tensor:\n",
    "        theta = tf.convert_to_tensor(theta, dtype=tf.float32)\n",
    "        x = tf.convert_to_tensor(x, dtype=tf.float32)\n",
    "        m = tf.convert_to_tensor(m, dtype=tf.float32)\n",
    "    return {'m': m, 'theta': theta, 'x': x}"
   ]
  },
  {
   "cell_type": "markdown",
   "metadata": {},
   "source": [
    "## GMM Setup"
   ]
  },
  {
   "cell_type": "code",
   "execution_count": 21,
   "metadata": {},
   "outputs": [],
   "source": [
    "def forward_model(theta, n_obs, mu):\n",
    "    \"\"\"\n",
    "    Generates n_obs samples from a 2D GMM.\n",
    "    \"\"\"\n",
    "    \n",
    "    I = np.random.multinomial(1, pvals=theta, size=n_obs)\n",
    "    means = mu[I.argmax(1)]\n",
    "    x = np.random.normal(means)\n",
    "    return x\n",
    "\n",
    "\n",
    "ps = [0.5, 0.5]\n",
    "nx, ny = (20, 20)\n",
    "x1 = np.linspace(-10, 0, nx)\n",
    "y1 = np.linspace(-10, 0, ny)\n",
    "xv1, yv1 = np.meshgrid(x1, y1)\n",
    "\n",
    "\n",
    "x2 = np.linspace(0, 5, nx)\n",
    "y2 = np.linspace(0, 5, ny)\n",
    "xv2, yv2 = np.meshgrid(x2, y2)\n",
    "\n",
    "mus = []\n",
    "\n",
    "for i in range(20):\n",
    "    for j in range(20):\n",
    "        mus.append( np.array([[xv1[i, j], yv1[i, j]], [xv2[i, j], yv2[i, j]]]))\n",
    "        \n",
    "param_priors = [lambda: np.random.dirichlet([30, 30]) for _ in range(400)]\n",
    "forward_models = [partial(forward_model, mu=mus[i]) for i in range(400)]"
   ]
  },
  {
   "cell_type": "markdown",
   "metadata": {},
   "source": [
    "# Training hyperparameters (fixed N)"
   ]
  },
  {
   "cell_type": "code",
   "execution_count": 68,
   "metadata": {},
   "outputs": [],
   "source": [
    "#--- Training hyperparameters ---#\n",
    "n_obs_min = 1\n",
    "n_obs_max = 250\n",
    "n_test = 5000\n",
    "alpha_smooth = None\n",
    "epochs = 50\n",
    "iterations_per_epoch = 1000\n",
    "batch_size = 128\n",
    "ckpt_file = 'toy_gaussian'\n",
    "\n",
    "#--- Optimizer hyperparameters ---#\n",
    "starter_learning_rate = 0.0001\n",
    "decay_steps = 10000\n",
    "decay_rate = .99\n",
    "\n",
    "#--- Data generation ---#\n",
    "model_names = ['{}'.format(i) for i in range(1, 401)]\n",
    "data_gen = partial(data_generator, \n",
    "                   model_prior=model_prior, \n",
    "                   param_priors=param_priors,\n",
    "                   forward_models=forward_models,\n",
    "                   n_obs_min=n_obs_min,\n",
    "                   n_obs_max=n_obs_max,\n",
    "                   alpha_smooth=alpha_smooth)\n",
    "\n",
    "\n",
    "# --- Optimizer --- #\n",
    "global_step = tfe.Variable(0, dtype=tf.int32)\n",
    "learning_rate = tf.train.exponential_decay(starter_learning_rate, global_step, \n",
    "                                           decay_steps, decay_rate, staircase=True)\n",
    "optimizer = tf.train.AdamOptimizer(learning_rate=learning_rate)"
   ]
  },
  {
   "cell_type": "markdown",
   "metadata": {},
   "source": [
    "## Create test data and compute true BFs"
   ]
  },
  {
   "cell_type": "code",
   "execution_count": 69,
   "metadata": {},
   "outputs": [
    {
     "name": "stdout",
     "output_type": "stream",
     "text": [
      "Wall time: 2.16 s\n"
     ]
    }
   ],
   "source": [
    "%%time\n",
    "test_data = data_gen(n_test, n_obs=250)"
   ]
  },
  {
   "cell_type": "markdown",
   "metadata": {},
   "source": [
    "## Create model"
   ]
  },
  {
   "cell_type": "code",
   "execution_count": 70,
   "metadata": {},
   "outputs": [],
   "source": [
    "model = DeepEvidentialModel(EVIDENTIAL_GAUSSIAN)"
   ]
  },
  {
   "cell_type": "markdown",
   "metadata": {},
   "source": [
    "## Manage checkpoints"
   ]
  },
  {
   "cell_type": "code",
   "execution_count": 71,
   "metadata": {},
   "outputs": [
    {
     "name": "stdout",
     "output_type": "stream",
     "text": [
      "Initializing from scratch.\n"
     ]
    }
   ],
   "source": [
    "checkpoint = tf.train.Checkpoint(step=global_step, optimizer=optimizer, net=model)\n",
    "manager = tf.train.CheckpointManager(checkpoint, './checkpoints/{}'.format(ckpt_file), max_to_keep=2)\n",
    "checkpoint.restore(manager.latest_checkpoint)\n",
    "if manager.latest_checkpoint:\n",
    "    print(\"Restored from {}\".format(manager.latest_checkpoint))\n",
    "else:\n",
    "    print(\"Initializing from scratch.\")"
   ]
  },
  {
   "cell_type": "markdown",
   "metadata": {},
   "source": [
    "## Train network"
   ]
  },
  {
   "cell_type": "code",
   "execution_count": 132,
   "metadata": {},
   "outputs": [
    {
     "data": {
      "application/vnd.jupyter.widget-view+json": {
       "model_id": "9af4d010afdd43d0b3fd09b26da64165",
       "version_major": 2,
       "version_minor": 0
      },
      "text/plain": [
       "HBox(children=(IntProgress(value=0, description='Training epoch 1', max=1000, style=ProgressStyle(description_…"
      ]
     },
     "metadata": {},
     "output_type": "display_data"
    },
    {
     "name": "stdout",
     "output_type": "stream",
     "text": [
      "0.4886\n",
      "\n",
      "Wall time: 2min 31s\n"
     ]
    }
   ],
   "source": [
    "%%time\n",
    "for ep in range(1, 1+1):\n",
    "    with tqdm(total=iterations_per_epoch, desc='Training epoch {}'.format(ep)) as p_bar:\n",
    "        losses = train_online(model=model, \n",
    "                              optimizer=optimizer, \n",
    "                              data_gen=data_gen, \n",
    "                              loss_fun=partial(log_loss, lambd=0), \n",
    "                              iterations=iterations_per_epoch,\n",
    "                              batch_size=batch_size,\n",
    "                              p_bar=p_bar,\n",
    "                              global_step=global_step,\n",
    "                              method='evidence')\n",
    "        \n",
    "        # Plot stuff\n",
    "        m_pred = tf.concat([model(x)['m_probs'] for x in tf.split(test_data['x'], 20, axis=0)], axis=0)\n",
    "        print(accuracy(test_data['m'], m_pred))\n",
    "#         plot_confusion_matrix(m_pred.numpy().argmax(axis=1), test_data['m'], \n",
    "#                               model_names, figsize=(14,6),annotate=False, normalize=True)        \n",
    "        manager.save()"
   ]
  },
  {
   "cell_type": "markdown",
   "metadata": {},
   "source": [
    "## Evaluate accuracy"
   ]
  },
  {
   "cell_type": "code",
   "execution_count": 75,
   "metadata": {},
   "outputs": [],
   "source": [
    "accs = []\n",
    "accs_stds = []\n",
    "n_bootstrap = 50\n",
    "n_val = 5000\n",
    "n_chunks = 10\n",
    "\n",
    "for n in range(n_obs_min, n_obs_max, 2):\n",
    "    \n",
    "    # Obtain probs\n",
    "    test_data_n = data_gen(n_val, n_obs=n)\n",
    "    m_probs = np.concatenate([model.predict(x, to_numpy=True)['m_probs'] \n",
    "                              for x in tf.split(test_data_n['x'], n_chunks, axis=0)], axis=0)\n",
    "    \n",
    "    # Compute bootstrapped probs\n",
    "    accs_b = []\n",
    "    for bi in range(n_bootstrap):\n",
    "        \n",
    "        # Get bootstrap samples\n",
    "        b_idx = np.random.choice(np.random.permutation(n_val), size=n_val, replace=True)\n",
    "        m_test_b = tf.gather(test_data_n['m'], b_idx, axis=0).numpy()\n",
    "        m_probs_b = tf.gather(m_probs, b_idx, axis=0).numpy()\n",
    "        acc_b = accuracy(m_test_b, m_probs_b)\n",
    "        accs_b.append(acc_b)\n",
    "        \n",
    "    # Compute true and estimated BFs\n",
    "    accs.append(np.mean(accs_b))\n",
    "    accs_stds.append(np.std(accs_b, ddof=1))"
   ]
  },
  {
   "cell_type": "code",
   "execution_count": 133,
   "metadata": {},
   "outputs": [
    {
     "data": {
      "text/plain": [
       "[0.002088,\n",
       " 0.033448,\n",
       " 0.069832,\n",
       " 0.086572,\n",
       " 0.11381200000000001,\n",
       " 0.128764,\n",
       " 0.144756,\n",
       " 0.169104,\n",
       " 0.18064400000000003,\n",
       " 0.18663200000000002,\n",
       " 0.19238799999999998,\n",
       " 0.217412,\n",
       " 0.22017999999999996,\n",
       " 0.232088,\n",
       " 0.24092799999999998,\n",
       " 0.25482,\n",
       " 0.24655200000000005,\n",
       " 0.271548,\n",
       " 0.27335600000000004,\n",
       " 0.279284,\n",
       " 0.290456,\n",
       " 0.299776,\n",
       " 0.294056,\n",
       " 0.31632,\n",
       " 0.3172,\n",
       " 0.31588,\n",
       " 0.31373999999999996,\n",
       " 0.32833199999999996,\n",
       " 0.341316,\n",
       " 0.326712,\n",
       " 0.33420800000000006,\n",
       " 0.33486,\n",
       " 0.354508,\n",
       " 0.350204,\n",
       " 0.349712,\n",
       " 0.3637519999999999,\n",
       " 0.3608840000000001,\n",
       " 0.37639599999999995,\n",
       " 0.35592399999999996,\n",
       " 0.36983199999999994,\n",
       " 0.38259200000000004,\n",
       " 0.3709160000000001,\n",
       " 0.382928,\n",
       " 0.3670360000000001,\n",
       " 0.38664000000000004,\n",
       " 0.370028,\n",
       " 0.375488,\n",
       " 0.39031200000000005,\n",
       " 0.3801839999999999,\n",
       " 0.3904359999999999,\n",
       " 0.38883199999999996,\n",
       " 0.3997720000000001,\n",
       " 0.38607199999999997,\n",
       " 0.41481199999999996,\n",
       " 0.39724800000000005,\n",
       " 0.403164,\n",
       " 0.398148,\n",
       " 0.40443199999999996,\n",
       " 0.398472,\n",
       " 0.408296,\n",
       " 0.41671199999999997,\n",
       " 0.42306799999999994,\n",
       " 0.4128560000000001,\n",
       " 0.425316,\n",
       " 0.425156,\n",
       " 0.41275200000000006,\n",
       " 0.41450399999999993,\n",
       " 0.4199759999999999,\n",
       " 0.42337600000000003,\n",
       " 0.413868,\n",
       " 0.413872,\n",
       " 0.417844,\n",
       " 0.42033199999999993,\n",
       " 0.41025600000000007,\n",
       " 0.42320399999999997,\n",
       " 0.41736399999999996,\n",
       " 0.43136,\n",
       " 0.4340839999999999,\n",
       " 0.425892,\n",
       " 0.433416,\n",
       " 0.42503599999999997,\n",
       " 0.43835599999999997,\n",
       " 0.43471200000000004,\n",
       " 0.4367800000000001,\n",
       " 0.43662,\n",
       " 0.42066000000000003,\n",
       " 0.43240800000000007,\n",
       " 0.43979199999999996,\n",
       " 0.43577999999999995,\n",
       " 0.444464,\n",
       " 0.43123200000000006,\n",
       " 0.443208,\n",
       " 0.44226400000000005,\n",
       " 0.44582,\n",
       " 0.4326,\n",
       " 0.43532799999999994,\n",
       " 0.4355399999999999,\n",
       " 0.4371959999999999,\n",
       " 0.43670000000000003,\n",
       " 0.43794,\n",
       " 0.4326920000000001,\n",
       " 0.451772,\n",
       " 0.45860799999999996,\n",
       " 0.450508,\n",
       " 0.44522000000000006,\n",
       " 0.438816,\n",
       " 0.446368,\n",
       " 0.43132,\n",
       " 0.4388120000000001,\n",
       " 0.433016,\n",
       " 0.43326,\n",
       " 0.450432,\n",
       " 0.44450399999999995,\n",
       " 0.44156,\n",
       " 0.43620400000000004,\n",
       " 0.436044,\n",
       " 0.44236799999999993,\n",
       " 0.446372,\n",
       " 0.45094,\n",
       " 0.44751199999999997,\n",
       " 0.45503599999999994,\n",
       " 0.43955200000000005,\n",
       " 0.44806000000000007,\n",
       " 0.4553360000000001,\n",
       " 0.4513480000000001]"
      ]
     },
     "execution_count": 133,
     "metadata": {},
     "output_type": "execute_result"
    }
   ],
   "source": [
    "accs"
   ]
  },
  {
   "cell_type": "code",
   "execution_count": 89,
   "metadata": {},
   "outputs": [
    {
     "data": {
      "image/png": "[encoded data removed]",
      "text/plain": [
       "<Figure size 864x432 with 1 Axes>"
      ]
     },
     "metadata": {
      "needs_background": "light"
     },
     "output_type": "display_data"
    }
   ],
   "source": [
    "plt.rcParams['font.size'] = 12\n",
    "\n",
    "# Bayes factors\n",
    "f, ax = plt.subplots(1, 1, figsize=(12, 6))\n",
    "ax.plot(range(n_obs_min, n_obs_max, 2), accs, lw=2)\n",
    "ax.fill_between(range(n_obs_min, n_obs_max, 2), \n",
    "                np.array(accs)-1.98*np.array(accs_stds), \n",
    "                np.array(accs)+1.98*np.array(accs_stds), \n",
    "                interpolate=True, alpha=0.2)\n",
    "\n",
    "ax.spines['right'].set_visible(False)\n",
    "ax.spines['top'].set_visible(False)\n",
    "ax.set_xlabel(r'Sample Size $N$')\n",
    "ax.set_ylabel('Accuracy')\n",
    "f.savefig('figures/GMM_Toy.png', dpi=300, bbox_inches='tight')"
   ]
  },
  {
   "cell_type": "code",
   "execution_count": 134,
   "metadata": {},
   "outputs": [
    {
     "data": {
      "text/plain": [
       "[0.0005586572824045825,\n",
       " 0.0028487190103623767,\n",
       " 0.003878009167348734,\n",
       " 0.0038718260207160488,\n",
       " 0.004476589445238919,\n",
       " 0.0045259686075728245,\n",
       " 0.006072929562360141,\n",
       " 0.006127787495649364,\n",
       " 0.004719441336706311,\n",
       " 0.005565837487636116,\n",
       " 0.004608140091407899,\n",
       " 0.005221370529284589,\n",
       " 0.006165374014177395,\n",
       " 0.0062701313334551055,\n",
       " 0.006092854295762189,\n",
       " 0.007068325437456592,\n",
       " 0.005551916014185683,\n",
       " 0.005147586714140117,\n",
       " 0.006507802538303619,\n",
       " 0.0070673829697290615,\n",
       " 0.005733544688399795,\n",
       " 0.006685059797024701,\n",
       " 0.006767272986474637,\n",
       " 0.006495964210216075,\n",
       " 0.007806747473977175,\n",
       " 0.007228966674682731,\n",
       " 0.0068425141578224,\n",
       " 0.007086706151776907,\n",
       " 0.005856946338166609,\n",
       " 0.006867035720879619,\n",
       " 0.00854309220890164,\n",
       " 0.00632794256791709,\n",
       " 0.006370366343228526,\n",
       " 0.00680281934350811,\n",
       " 0.006329736751788244,\n",
       " 0.0066468418156632085,\n",
       " 0.006335915120025146,\n",
       " 0.00604277136041781,\n",
       " 0.006663931547777886,\n",
       " 0.006944133921402104,\n",
       " 0.006051339537993356,\n",
       " 0.006881396393649373,\n",
       " 0.006770857118744197,\n",
       " 0.005738760443560215,\n",
       " 0.005706423162202613,\n",
       " 0.006155536416221466,\n",
       " 0.00727378968121368,\n",
       " 0.007740079628341122,\n",
       " 0.006617335304381387,\n",
       " 0.007233108683304142,\n",
       " 0.00707157113853399,\n",
       " 0.007030314534142807,\n",
       " 0.006658768654939139,\n",
       " 0.00844375484712621,\n",
       " 0.006464289344908216,\n",
       " 0.006073117748214132,\n",
       " 0.006073268292698919,\n",
       " 0.007569580367416381,\n",
       " 0.006902086049647211,\n",
       " 0.006777301853109632,\n",
       " 0.007840154100942825,\n",
       " 0.008297096615376849,\n",
       " 0.007133941864818651,\n",
       " 0.006109088578937625,\n",
       " 0.0057218935070588745,\n",
       " 0.005810133301361664,\n",
       " 0.007111960606855846,\n",
       " 0.006660960278873809,\n",
       " 0.006848880736802092,\n",
       " 0.005693621207015759,\n",
       " 0.007813411808015288,\n",
       " 0.006490720534826967,\n",
       " 0.007004559448046996,\n",
       " 0.006165478613263713,\n",
       " 0.005314207372694442,\n",
       " 0.005916657909354448,\n",
       " 0.006763406942465292,\n",
       " 0.007181619395572085,\n",
       " 0.006349830143959986,\n",
       " 0.0068058606197534035,\n",
       " 0.00643861944893183,\n",
       " 0.0070226792956674285,\n",
       " 0.006837729662598213,\n",
       " 0.00606364206579188,\n",
       " 0.005430112563196051,\n",
       " 0.006401562309311691,\n",
       " 0.00808747683969809,\n",
       " 0.006596840307360514,\n",
       " 0.006549809157525124,\n",
       " 0.007842369487831685,\n",
       " 0.006832259613668927,\n",
       " 0.006767383963858243,\n",
       " 0.007567647573448326,\n",
       " 0.006817893624088585,\n",
       " 0.0064711605116352195,\n",
       " 0.0062915245873041824,\n",
       " 0.0073154295980538,\n",
       " 0.007085540320445086,\n",
       " 0.006785368412237902,\n",
       " 0.007246364324153687,\n",
       " 0.00684358302144634,\n",
       " 0.007456432368999894,\n",
       " 0.007772054596634099,\n",
       " 0.007094258673212374,\n",
       " 0.00738849077405984,\n",
       " 0.006410812295311279,\n",
       " 0.007679005037590933,\n",
       " 0.009868606170838009,\n",
       " 0.0077107303976540476,\n",
       " 0.006385294329431445,\n",
       " 0.00816375763821478,\n",
       " 0.00702303614789885,\n",
       " 0.006764280736157465,\n",
       " 0.006883164910393578,\n",
       " 0.006842781389380863,\n",
       " 0.00626389589925748,\n",
       " 0.006479022350034369,\n",
       " 0.007583764613586427,\n",
       " 0.007259982571520093,\n",
       " 0.007386270772072154,\n",
       " 0.006699459618780717,\n",
       " 0.006994407095118563,\n",
       " 0.007181864916125159,\n",
       " 0.006412798427634336,\n",
       " 0.006978311590425099]"
      ]
     },
     "execution_count": 134,
     "metadata": {},
     "output_type": "execute_result"
    }
   ],
   "source": [
    "accs_stds"
   ]
  },
  {
   "cell_type": "markdown",
   "metadata": {},
   "source": [
    "## Evaluate"
   ]
  },
  {
   "cell_type": "code",
   "execution_count": 128,
   "metadata": {},
   "outputs": [
    {
     "name": "stdout",
     "output_type": "stream",
     "text": [
      "[[-10. -10.]\n",
      " [  0.   0.]]\n",
      "[[ -9.47368421 -10.        ]\n",
      " [  0.26315789   0.        ]]\n",
      "[[ -8.94736842 -10.        ]\n",
      " [  0.52631579   0.        ]]\n",
      "[[ -8.42105263 -10.        ]\n",
      " [  0.78947368   0.        ]]\n",
      "[[ -7.89473684 -10.        ]\n",
      " [  1.05263158   0.        ]]\n",
      "[[ -7.36842105 -10.        ]\n",
      " [  1.31578947   0.        ]]\n",
      "[[ -6.84210526 -10.        ]\n",
      " [  1.57894737   0.        ]]\n",
      "[[ -6.31578947 -10.        ]\n",
      " [  1.84210526   0.        ]]\n",
      "[[ -5.78947368 -10.        ]\n",
      " [  2.10526316   0.        ]]\n"
     ]
    },
    {
     "data": {
      "image/png": "[encoded data removed]",
      "text/plain": [
       "<Figure size 720x576 with 9 Axes>"
      ]
     },
     "metadata": {
      "needs_background": "light"
     },
     "output_type": "display_data"
    }
   ],
   "source": [
    "f, axarr = plt.subplots(3, 3, figsize=(10, 8))\n",
    "colormap = np.array(['#b35454', '#3e7a3f'])\n",
    "\n",
    "for i, ax in enumerate(axarr.flat):\n",
    "    \n",
    "\n",
    "    # 2D Gaussian Mixture with 3 clusters\n",
    "    ps = [0.5, 0.5]\n",
    "    I = np.random.multinomial(1, pvals=ps, size=250)\n",
    "    m = mus[i]\n",
    "    \n",
    "    means = m[I.argmax(1)]\n",
    "    x = np.random.normal(means)\n",
    "    print(m)\n",
    "    \n",
    "    ax.scatter(x[:, 0], x[:, 1], c=colormap[I.argmax(1)], alpha=0.7)\n",
    "    ax.set_xlim([-14, 14])\n",
    "    ax.set_ylim([-14, 14])\n",
    "    ax.set_yticks([-10, 0, 10])\n",
    "    \n",
    "f.savefig('figures/GMM_example.png', dpi=300, bbox_inches='tight')"
   ]
  },
  {
   "cell_type": "code",
   "execution_count": 130,
   "metadata": {},
   "outputs": [
    {
     "data": {
      "image/png": "[encoded data removed]",
      "text/plain": [
       "<Figure size 720x576 with 2 Axes>"
      ]
     },
     "metadata": {
      "needs_background": "light"
     },
     "output_type": "display_data"
    }
   ],
   "source": [
    "# Take argmax of test\n",
    "m_pred = tf.concat([model(x)['m_probs'] for x in tf.split(test_data['x'], 20, axis=0)], axis=0)\n",
    "m_test = np.argmax(test_data['m'].numpy(), axis=1).astype(np.int32)\n",
    "\n",
    "\n",
    "# Compute confusion matrix\n",
    "cm = confusion_matrix(m_test, m_pred.numpy().argmax(1))\n",
    "cm = cm.astype('float') / cm.sum(axis=1)[:, np.newaxis]\n",
    "\n",
    "fig, ax = plt.subplots(1, 1, figsize=(10, 8))\n",
    "im = ax.imshow(cm, interpolation='nearest')\n",
    "ax.figure.colorbar(im, ax=ax)\n",
    "fig.savefig('figures/GMM_CM.png', dpi=300, bbox_inches='tight')"
   ]
  },
  {
   "cell_type": "code",
   "execution_count": null,
   "metadata": {},
   "outputs": [],
   "source": []
  },
  {
   "cell_type": "code",
   "execution_count": null,
   "metadata": {},
   "outputs": [],
   "source": []
  }
 ],
 "metadata": {
  "kernelspec": {
   "display_name": "Python 3",
   "language": "python",
   "name": "python3"
  },
  "language_info": {
   "codemirror_mode": {
    "name": "ipython",
    "version": 3
   },
   "file_extension": ".py",
   "mimetype": "text/x-python",
   "name": "python",
   "nbconvert_exporter": "python",
   "pygments_lexer": "ipython3",
   "version": "3.6.8"
  },
  "toc": {
   "base_numbering": 1,
   "nav_menu": {},
   "number_sections": true,
   "sideBar": true,
   "skip_h1_title": false,
   "title_cell": "Table of Contents",
   "title_sidebar": "Contents",
   "toc_cell": false,
   "toc_position": {
    "height": "calc(100% - 180px)",
    "left": "10px",
    "top": "150px",
    "width": "199.6px"
   },
   "toc_section_display": true,
   "toc_window_display": true
  }
 },
 "nbformat": 4,
 "nbformat_minor": 2
}
