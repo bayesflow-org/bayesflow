{
 "cells": [
  {
   "metadata": {
    "ExecuteTime": {
     "end_time": "2024-07-05T09:34:24.795052Z",
     "start_time": "2024-07-05T09:34:24.793193Z"
    }
   },
   "cell_type": "code",
   "source": [
    "import os\n",
    "os.environ[\"KERAS_BACKEND\"] = \"torch\""
   ],
   "id": "bd762a0c418ac495",
   "outputs": [],
   "execution_count": 1
  },
  {
   "metadata": {
    "ExecuteTime": {
     "end_time": "2024-07-05T09:34:26.966176Z",
     "start_time": "2024-07-05T09:34:25.573255Z"
    }
   },
   "cell_type": "code",
   "source": [
    "import keras\n",
    "\n",
    "if keras.backend.backend() == \"torch\":\n",
    "    import torch\n",
    "    torch.autograd.set_grad_enabled(False)"
   ],
   "id": "4731ae2a5a9cb1d1",
   "outputs": [],
   "execution_count": 2
  },
  {
   "cell_type": "code",
   "id": "initial_id",
   "metadata": {
    "collapsed": true,
    "ExecuteTime": {
     "end_time": "2024-07-05T09:34:26.977651Z",
     "start_time": "2024-07-05T09:34:26.967183Z"
    }
   },
   "source": [
    "import bayesflow as bf\n",
    "import matplotlib.pyplot as plt\n",
    "import seaborn as sns"
   ],
   "outputs": [],
   "execution_count": 3
  },
  {
   "metadata": {
    "ExecuteTime": {
     "end_time": "2024-07-05T09:34:26.979983Z",
     "start_time": "2024-07-05T09:34:26.978254Z"
    }
   },
   "cell_type": "code",
   "source": [
    "simulator = bf.simulators.TwoMoonsSimulator()\n",
    "dataset = bf.datasets.OnlineDataset(simulator, batch_size=256)"
   ],
   "id": "e3eb7a82097c2f13",
   "outputs": [],
   "execution_count": 4
  },
  {
   "metadata": {
    "ExecuteTime": {
     "end_time": "2024-07-05T09:34:27.071724Z",
     "start_time": "2024-07-05T09:34:27.036054Z"
    }
   },
   "cell_type": "code",
   "source": [
    "inference_network = bf.networks.CouplingFlow()\n",
    "# inference_network = bf.networks.FlowMatching()"
   ],
   "id": "a8203755e43ffb4",
   "outputs": [],
   "execution_count": 5
  },
  {
   "metadata": {
    "ExecuteTime": {
     "end_time": "2024-07-05T09:34:27.545816Z",
     "start_time": "2024-07-05T09:34:27.542971Z"
    }
   },
   "cell_type": "code",
   "source": [
    "approximator = bf.Approximator(\n",
    "    inference_network=inference_network,\n",
    "    inference_variables=[\"theta\"],\n",
    "    inference_conditions=[\"x\"],\n",
    ")"
   ],
   "id": "f6a91e86042cd61e",
   "outputs": [],
   "execution_count": 6
  },
  {
   "metadata": {
    "ExecuteTime": {
     "end_time": "2024-07-05T09:34:28.318372Z",
     "start_time": "2024-07-05T09:34:28.311365Z"
    }
   },
   "cell_type": "code",
   "source": "approximator.compile(optimizer=\"AdamW\")",
   "id": "87b2d9a950356d3d",
   "outputs": [],
   "execution_count": 7
  },
  {
   "metadata": {
    "ExecuteTime": {
     "end_time": "2024-07-05T09:35:12.493839Z",
     "start_time": "2024-07-05T09:34:29.135009Z"
    }
   },
   "cell_type": "code",
   "source": "approximator.fit(dataset, epochs=50, steps_per_epoch=16)",
   "id": "de25136230318646",
   "outputs": [
    {
     "name": "stdout",
     "output_type": "stream",
     "text": [
      "Epoch 1/50\n",
      "\u001B[1m16/16\u001B[0m \u001B[32m━━━━━━━━━━━━━━━━━━━━\u001B[0m\u001B[37m\u001B[0m \u001B[1m1s\u001B[0m 46ms/step - loss: 0.6250\n",
      "Epoch 2/50\n",
      "\u001B[1m16/16\u001B[0m \u001B[32m━━━━━━━━━━━━━━━━━━━━\u001B[0m\u001B[37m\u001B[0m \u001B[1m1s\u001B[0m 45ms/step - loss: -0.8286\n",
      "Epoch 3/50\n",
      "\u001B[1m16/16\u001B[0m \u001B[32m━━━━━━━━━━━━━━━━━━━━\u001B[0m\u001B[37m\u001B[0m \u001B[1m1s\u001B[0m 50ms/step - loss: -0.5241\n",
      "Epoch 4/50\n",
      "\u001B[1m16/16\u001B[0m \u001B[32m━━━━━━━━━━━━━━━━━━━━\u001B[0m\u001B[37m\u001B[0m \u001B[1m1s\u001B[0m 49ms/step - loss: -0.6141\n",
      "Epoch 5/50\n",
      "\u001B[1m16/16\u001B[0m \u001B[32m━━━━━━━━━━━━━━━━━━━━\u001B[0m\u001B[37m\u001B[0m \u001B[1m1s\u001B[0m 46ms/step - loss: -1.4221\n",
      "Epoch 6/50\n",
      "\u001B[1m16/16\u001B[0m \u001B[32m━━━━━━━━━━━━━━━━━━━━\u001B[0m\u001B[37m\u001B[0m \u001B[1m1s\u001B[0m 48ms/step - loss: -1.6415\n",
      "Epoch 7/50\n",
      "\u001B[1m16/16\u001B[0m \u001B[32m━━━━━━━━━━━━━━━━━━━━\u001B[0m\u001B[37m\u001B[0m \u001B[1m1s\u001B[0m 52ms/step - loss: -1.9118\n",
      "Epoch 8/50\n",
      "\u001B[1m16/16\u001B[0m \u001B[32m━━━━━━━━━━━━━━━━━━━━\u001B[0m\u001B[37m\u001B[0m \u001B[1m1s\u001B[0m 47ms/step - loss: -2.1536\n",
      "Epoch 9/50\n",
      "\u001B[1m16/16\u001B[0m \u001B[32m━━━━━━━━━━━━━━━━━━━━\u001B[0m\u001B[37m\u001B[0m \u001B[1m1s\u001B[0m 49ms/step - loss: -0.1571\n",
      "Epoch 10/50\n",
      "\u001B[1m16/16\u001B[0m \u001B[32m━━━━━━━━━━━━━━━━━━━━\u001B[0m\u001B[37m\u001B[0m \u001B[1m1s\u001B[0m 50ms/step - loss: -0.5735\n",
      "Epoch 11/50\n",
      "\u001B[1m16/16\u001B[0m \u001B[32m━━━━━━━━━━━━━━━━━━━━\u001B[0m\u001B[37m\u001B[0m \u001B[1m1s\u001B[0m 51ms/step - loss: -1.0978\n",
      "Epoch 12/50\n",
      "\u001B[1m16/16\u001B[0m \u001B[32m━━━━━━━━━━━━━━━━━━━━\u001B[0m\u001B[37m\u001B[0m \u001B[1m1s\u001B[0m 52ms/step - loss: -1.9203\n",
      "Epoch 13/50\n",
      "\u001B[1m16/16\u001B[0m \u001B[32m━━━━━━━━━━━━━━━━━━━━\u001B[0m\u001B[37m\u001B[0m \u001B[1m1s\u001B[0m 51ms/step - loss: 2.0561\n",
      "Epoch 14/50\n",
      "\u001B[1m16/16\u001B[0m \u001B[32m━━━━━━━━━━━━━━━━━━━━\u001B[0m\u001B[37m\u001B[0m \u001B[1m1s\u001B[0m 50ms/step - loss: 0.0239\n",
      "Epoch 15/50\n",
      "\u001B[1m16/16\u001B[0m \u001B[32m━━━━━━━━━━━━━━━━━━━━\u001B[0m\u001B[37m\u001B[0m \u001B[1m1s\u001B[0m 50ms/step - loss: -0.6670\n",
      "Epoch 16/50\n",
      "\u001B[1m16/16\u001B[0m \u001B[32m━━━━━━━━━━━━━━━━━━━━\u001B[0m\u001B[37m\u001B[0m \u001B[1m1s\u001B[0m 49ms/step - loss: -1.1553\n",
      "Epoch 17/50\n",
      "\u001B[1m16/16\u001B[0m \u001B[32m━━━━━━━━━━━━━━━━━━━━\u001B[0m\u001B[37m\u001B[0m \u001B[1m1s\u001B[0m 49ms/step - loss: -1.7463\n",
      "Epoch 18/50\n",
      "\u001B[1m16/16\u001B[0m \u001B[32m━━━━━━━━━━━━━━━━━━━━\u001B[0m\u001B[37m\u001B[0m \u001B[1m1s\u001B[0m 55ms/step - loss: -1.7701\n",
      "Epoch 19/50\n",
      "\u001B[1m16/16\u001B[0m \u001B[32m━━━━━━━━━━━━━━━━━━━━\u001B[0m\u001B[37m\u001B[0m \u001B[1m1s\u001B[0m 56ms/step - loss: -1.7408\n",
      "Epoch 20/50\n",
      "\u001B[1m16/16\u001B[0m \u001B[32m━━━━━━━━━━━━━━━━━━━━\u001B[0m\u001B[37m\u001B[0m \u001B[1m1s\u001B[0m 60ms/step - loss: -2.0385\n",
      "Epoch 21/50\n",
      "\u001B[1m16/16\u001B[0m \u001B[32m━━━━━━━━━━━━━━━━━━━━\u001B[0m\u001B[37m\u001B[0m \u001B[1m1s\u001B[0m 57ms/step - loss: -2.1057\n",
      "Epoch 22/50\n",
      "\u001B[1m16/16\u001B[0m \u001B[32m━━━━━━━━━━━━━━━━━━━━\u001B[0m\u001B[37m\u001B[0m \u001B[1m1s\u001B[0m 59ms/step - loss: -2.2064\n",
      "Epoch 23/50\n",
      "\u001B[1m16/16\u001B[0m \u001B[32m━━━━━━━━━━━━━━━━━━━━\u001B[0m\u001B[37m\u001B[0m \u001B[1m1s\u001B[0m 57ms/step - loss: -2.3408\n",
      "Epoch 24/50\n",
      "\u001B[1m16/16\u001B[0m \u001B[32m━━━━━━━━━━━━━━━━━━━━\u001B[0m\u001B[37m\u001B[0m \u001B[1m1s\u001B[0m 60ms/step - loss: -2.2976\n",
      "Epoch 25/50\n",
      "\u001B[1m16/16\u001B[0m \u001B[32m━━━━━━━━━━━━━━━━━━━━\u001B[0m\u001B[37m\u001B[0m \u001B[1m1s\u001B[0m 61ms/step - loss: -2.3197\n",
      "Epoch 26/50\n",
      "\u001B[1m16/16\u001B[0m \u001B[32m━━━━━━━━━━━━━━━━━━━━\u001B[0m\u001B[37m\u001B[0m \u001B[1m1s\u001B[0m 57ms/step - loss: -2.5118\n",
      "Epoch 27/50\n",
      "\u001B[1m16/16\u001B[0m \u001B[32m━━━━━━━━━━━━━━━━━━━━\u001B[0m\u001B[37m\u001B[0m \u001B[1m1s\u001B[0m 55ms/step - loss: -2.3171\n",
      "Epoch 28/50\n",
      "\u001B[1m16/16\u001B[0m \u001B[32m━━━━━━━━━━━━━━━━━━━━\u001B[0m\u001B[37m\u001B[0m \u001B[1m1s\u001B[0m 56ms/step - loss: -2.3925\n",
      "Epoch 29/50\n",
      "\u001B[1m16/16\u001B[0m \u001B[32m━━━━━━━━━━━━━━━━━━━━\u001B[0m\u001B[37m\u001B[0m \u001B[1m1s\u001B[0m 53ms/step - loss: -2.4281\n",
      "Epoch 30/50\n",
      "\u001B[1m16/16\u001B[0m \u001B[32m━━━━━━━━━━━━━━━━━━━━\u001B[0m\u001B[37m\u001B[0m \u001B[1m1s\u001B[0m 54ms/step - loss: -2.5256\n",
      "Epoch 31/50\n",
      "\u001B[1m16/16\u001B[0m \u001B[32m━━━━━━━━━━━━━━━━━━━━\u001B[0m\u001B[37m\u001B[0m \u001B[1m1s\u001B[0m 54ms/step - loss: -2.5504\n",
      "Epoch 32/50\n",
      "\u001B[1m16/16\u001B[0m \u001B[32m━━━━━━━━━━━━━━━━━━━━\u001B[0m\u001B[37m\u001B[0m \u001B[1m1s\u001B[0m 58ms/step - loss: -2.4759\n",
      "Epoch 33/50\n",
      "\u001B[1m16/16\u001B[0m \u001B[32m━━━━━━━━━━━━━━━━━━━━\u001B[0m\u001B[37m\u001B[0m \u001B[1m1s\u001B[0m 59ms/step - loss: -2.5452\n",
      "Epoch 34/50\n",
      "\u001B[1m16/16\u001B[0m \u001B[32m━━━━━━━━━━━━━━━━━━━━\u001B[0m\u001B[37m\u001B[0m \u001B[1m1s\u001B[0m 63ms/step - loss: -2.3731\n",
      "Epoch 35/50\n",
      "\u001B[1m16/16\u001B[0m \u001B[32m━━━━━━━━━━━━━━━━━━━━\u001B[0m\u001B[37m\u001B[0m \u001B[1m1s\u001B[0m 59ms/step - loss: -2.0714\n",
      "Epoch 36/50\n",
      "\u001B[1m16/16\u001B[0m \u001B[32m━━━━━━━━━━━━━━━━━━━━\u001B[0m\u001B[37m\u001B[0m \u001B[1m1s\u001B[0m 60ms/step - loss: -2.4807\n",
      "Epoch 37/50\n",
      "\u001B[1m16/16\u001B[0m \u001B[32m━━━━━━━━━━━━━━━━━━━━\u001B[0m\u001B[37m\u001B[0m \u001B[1m1s\u001B[0m 58ms/step - loss: -2.5612\n",
      "Epoch 38/50\n",
      "\u001B[1m16/16\u001B[0m \u001B[32m━━━━━━━━━━━━━━━━━━━━\u001B[0m\u001B[37m\u001B[0m \u001B[1m1s\u001B[0m 54ms/step - loss: -2.7577\n",
      "Epoch 39/50\n",
      "\u001B[1m16/16\u001B[0m \u001B[32m━━━━━━━━━━━━━━━━━━━━\u001B[0m\u001B[37m\u001B[0m \u001B[1m1s\u001B[0m 54ms/step - loss: -2.4770\n",
      "Epoch 40/50\n",
      "\u001B[1m16/16\u001B[0m \u001B[32m━━━━━━━━━━━━━━━━━━━━\u001B[0m\u001B[37m\u001B[0m \u001B[1m1s\u001B[0m 56ms/step - loss: -2.6609\n",
      "Epoch 41/50\n",
      "\u001B[1m16/16\u001B[0m \u001B[32m━━━━━━━━━━━━━━━━━━━━\u001B[0m\u001B[37m\u001B[0m \u001B[1m1s\u001B[0m 54ms/step - loss: -2.6440\n",
      "Epoch 42/50\n",
      "\u001B[1m16/16\u001B[0m \u001B[32m━━━━━━━━━━━━━━━━━━━━\u001B[0m\u001B[37m\u001B[0m \u001B[1m1s\u001B[0m 53ms/step - loss: -2.7710\n",
      "Epoch 43/50\n",
      "\u001B[1m16/16\u001B[0m \u001B[32m━━━━━━━━━━━━━━━━━━━━\u001B[0m\u001B[37m\u001B[0m \u001B[1m1s\u001B[0m 53ms/step - loss: -2.5900\n",
      "Epoch 44/50\n",
      "\u001B[1m16/16\u001B[0m \u001B[32m━━━━━━━━━━━━━━━━━━━━\u001B[0m\u001B[37m\u001B[0m \u001B[1m1s\u001B[0m 56ms/step - loss: -2.4044\n",
      "Epoch 45/50\n",
      "\u001B[1m16/16\u001B[0m \u001B[32m━━━━━━━━━━━━━━━━━━━━\u001B[0m\u001B[37m\u001B[0m \u001B[1m1s\u001B[0m 54ms/step - loss: -2.6969\n",
      "Epoch 46/50\n",
      "\u001B[1m16/16\u001B[0m \u001B[32m━━━━━━━━━━━━━━━━━━━━\u001B[0m\u001B[37m\u001B[0m \u001B[1m1s\u001B[0m 53ms/step - loss: -2.8281\n",
      "Epoch 47/50\n",
      "\u001B[1m16/16\u001B[0m \u001B[32m━━━━━━━━━━━━━━━━━━━━\u001B[0m\u001B[37m\u001B[0m \u001B[1m1s\u001B[0m 53ms/step - loss: -2.7609\n",
      "Epoch 48/50\n",
      "\u001B[1m16/16\u001B[0m \u001B[32m━━━━━━━━━━━━━━━━━━━━\u001B[0m\u001B[37m\u001B[0m \u001B[1m1s\u001B[0m 56ms/step - loss: -2.7708\n",
      "Epoch 49/50\n",
      "\u001B[1m16/16\u001B[0m \u001B[32m━━━━━━━━━━━━━━━━━━━━\u001B[0m\u001B[37m\u001B[0m \u001B[1m1s\u001B[0m 59ms/step - loss: -2.7137\n",
      "Epoch 50/50\n",
      "\u001B[1m16/16\u001B[0m \u001B[32m━━━━━━━━━━━━━━━━━━━━\u001B[0m\u001B[37m\u001B[0m \u001B[1m1s\u001B[0m 54ms/step - loss: -2.8101\n"
     ]
    },
    {
     "data": {
      "text/plain": [
       "<keras.src.callbacks.history.History at 0x7762237879d0>"
      ]
     },
     "execution_count": 8,
     "metadata": {},
     "output_type": "execute_result"
    }
   ],
   "execution_count": 8
  },
  {
   "metadata": {
    "ExecuteTime": {
     "end_time": "2024-07-05T09:35:17.192766Z",
     "start_time": "2024-07-05T09:35:17.165330Z"
    }
   },
   "cell_type": "code",
   "source": [
    "data = {\"x\": keras.ops.zeros((256, 2))}\n",
    "samples = approximator.sample(256, data=data)"
   ],
   "id": "4057fe23a322b509",
   "outputs": [],
   "execution_count": 9
  },
  {
   "metadata": {
    "ExecuteTime": {
     "end_time": "2024-07-05T09:35:19.832901Z",
     "start_time": "2024-07-05T09:35:19.830094Z"
    }
   },
   "cell_type": "code",
   "source": "samples = {\"theta1\": samples[\"theta\"][:, 0], \"theta2\": samples[\"theta\"][:, 1]}",
   "id": "d274f2877d420388",
   "outputs": [],
   "execution_count": 10
  },
  {
   "metadata": {
    "ExecuteTime": {
     "end_time": "2024-07-05T09:35:20.769905Z",
     "start_time": "2024-07-05T09:35:20.674802Z"
    }
   },
   "cell_type": "code",
   "source": [
    "sns.scatterplot(samples, x=\"theta1\", y=\"theta2\")\n",
    "plt.show()"
   ],
   "id": "c26e1ad124dc8a7a",
   "outputs": [
    {
     "data": {
      "text/plain": [
       "<Figure size 640x480 with 1 Axes>"
      ],
      "image/png": "[encoded data removed]"
     },
     "metadata": {},
     "output_type": "display_data"
    }
   ],
   "execution_count": 11
  },
  {
   "metadata": {},
   "cell_type": "code",
   "source": "",
   "id": "a8ee53e0bce008c0",
   "outputs": [],
   "execution_count": null
  }
 ],
 "metadata": {
  "kernelspec": {
   "display_name": "Python 3",
   "language": "python",
   "name": "python3"
  },
  "language_info": {
   "codemirror_mode": {
    "name": "ipython",
    "version": 2
   },
   "file_extension": ".py",
   "mimetype": "text/x-python",
   "name": "python",
   "nbconvert_exporter": "python",
   "pygments_lexer": "ipython2",
   "version": "2.7.6"
  }
 },
 "nbformat": 4,
 "nbformat_minor": 5
}
