{
 "cells": [
  {
   "cell_type": "markdown",
   "id": "83d9cd3f-85cd-4faf-9ea8-5d1473b67fd9",
   "metadata": {},
   "source": [
    "# Summary Networks\n",
    "\n",
    "*Disclaimer: This guide is in an early stage. We welcome contributions to the guide in form of issues and pull requests.*\n",
    "\n",
    "Learnable summary statistics provide several advantages for amortized Bayesian inference. By reducing the dimensionality of the data, they enable more efficient processing by the inference network. Additionally, they can encode knowledge about the data (e.g., that different observations are exchangeable) directly into the network architecture. Finally, the resulting _summary space_ can serve as a diagnostic tool. In some cases, we also require a summary network to convert observations of variable size into a fixed-size representation.\n",
    "\n",
    "You can find the summary networks in the {py:mod}`~bayesflow.networks` module. You can identify them by the \"Bases: {py:class}`~bayesflow.networks.SummaryNetwork`\" label."
   ]
  }
 ],
 "metadata": {
  "kernelspec": {
   "display_name": "Python 3 (ipykernel)",
   "language": "python",
   "name": "python3"
  },
  "language_info": {
   "codemirror_mode": {
    "name": "ipython",
    "version": 3
   },
   "file_extension": ".py",
   "mimetype": "text/x-python",
   "name": "python",
   "nbconvert_exporter": "python",
   "pygments_lexer": "ipython3",
   "version": "3.11.11"
  }
 },
 "nbformat": 4,
 "nbformat_minor": 5
}
