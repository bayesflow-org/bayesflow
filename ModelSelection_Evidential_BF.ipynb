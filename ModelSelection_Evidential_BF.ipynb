{
 "cells": [
  {
   "cell_type": "code",
   "execution_count": 1,
   "metadata": {},
   "outputs": [
    {
     "name": "stderr",
     "output_type": "stream",
     "text": [
      "D:\\Anaconda3\\envs\\TensorFlowGpu\\lib\\site-packages\\tensorflow\\python\\framework\\dtypes.py:526: FutureWarning: Passing (type, 1) or '1type' as a synonym of type is deprecated; in a future version of numpy, it will be understood as (type, (1,)) / '(1,)type'.\n",
      "  _np_qint8 = np.dtype([(\"qint8\", np.int8, 1)])\n",
      "D:\\Anaconda3\\envs\\TensorFlowGpu\\lib\\site-packages\\tensorflow\\python\\framework\\dtypes.py:527: FutureWarning: Passing (type, 1) or '1type' as a synonym of type is deprecated; in a future version of numpy, it will be understood as (type, (1,)) / '(1,)type'.\n",
      "  _np_quint8 = np.dtype([(\"quint8\", np.uint8, 1)])\n",
      "D:\\Anaconda3\\envs\\TensorFlowGpu\\lib\\site-packages\\tensorflow\\python\\framework\\dtypes.py:528: FutureWarning: Passing (type, 1) or '1type' as a synonym of type is deprecated; in a future version of numpy, it will be understood as (type, (1,)) / '(1,)type'.\n",
      "  _np_qint16 = np.dtype([(\"qint16\", np.int16, 1)])\n",
      "D:\\Anaconda3\\envs\\TensorFlowGpu\\lib\\site-packages\\tensorflow\\python\\framework\\dtypes.py:529: FutureWarning: Passing (type, 1) or '1type' as a synonym of type is deprecated; in a future version of numpy, it will be understood as (type, (1,)) / '(1,)type'.\n",
      "  _np_quint16 = np.dtype([(\"quint16\", np.uint16, 1)])\n",
      "D:\\Anaconda3\\envs\\TensorFlowGpu\\lib\\site-packages\\tensorflow\\python\\framework\\dtypes.py:530: FutureWarning: Passing (type, 1) or '1type' as a synonym of type is deprecated; in a future version of numpy, it will be understood as (type, (1,)) / '(1,)type'.\n",
      "  _np_qint32 = np.dtype([(\"qint32\", np.int32, 1)])\n",
      "D:\\Anaconda3\\envs\\TensorFlowGpu\\lib\\site-packages\\tensorflow\\python\\framework\\dtypes.py:535: FutureWarning: Passing (type, 1) or '1type' as a synonym of type is deprecated; in a future version of numpy, it will be understood as (type, (1,)) / '(1,)type'.\n",
      "  np_resource = np.dtype([(\"resource\", np.ubyte, 1)])\n",
      "D:\\Anaconda3\\envs\\TensorFlowGpu\\lib\\site-packages\\h5py\\__init__.py:72: UserWarning: h5py is running against HDF5 1.10.2 when it was built against 1.10.3, this may cause problems\n",
      "  '{0}.{1}.{2}'.format(*version.hdf5_built_version_tuple)\n"
     ]
    }
   ],
   "source": [
    "import tensorflow as tf\n",
    "from tensorflow.keras.regularizers import l2\n",
    "from tensorflow.keras.utils import to_categorical\n",
    "import tensorflow.contrib.eager as tfe\n",
    "from functools import partial\n",
    "import pandas as pd\n",
    "import seaborn as sns\n",
    "import matplotlib.pyplot as plt\n",
    "\n",
    "from sklearn.calibration import calibration_curve\n",
    "import matplotlib.tri as tri\n",
    "from scipy.special import betaln\n",
    "from scipy.stats import beta\n",
    "from scipy import stats\n",
    "from scipy.special import gamma as gamma_fun\n",
    "import scipy.special as spec\n",
    "import matplotlib.pyplot as plt\n",
    "from tqdm import tqdm_notebook as tqdm\n",
    "import numpy as np\n",
    "np.set_printoptions(suppress=True)\n",
    "\n",
    "\n",
    "from deep_bayes.models import DeepEvidentialModel\n",
    "from deep_bayes.settings import EVIDENTIAL_BF\n",
    "from deep_bayes.training import train_online\n",
    "from deep_bayes.losses import log_loss\n",
    "from deep_bayes.diagnostics import accuracy, expected_calibration_error"
   ]
  },
  {
   "cell_type": "code",
   "execution_count": 2,
   "metadata": {},
   "outputs": [],
   "source": [
    "%load_ext autoreload\n",
    "%autoreload 2"
   ]
  },
  {
   "cell_type": "code",
   "execution_count": 3,
   "metadata": {},
   "outputs": [],
   "source": [
    "tf.enable_eager_execution()"
   ]
  },
  {
   "cell_type": "code",
   "execution_count": 4,
   "metadata": {},
   "outputs": [],
   "source": [
    "%matplotlib inline"
   ]
  },
  {
   "cell_type": "markdown",
   "metadata": {},
   "source": [
    "# Generative model specifications"
   ]
  },
  {
   "cell_type": "markdown",
   "metadata": {},
   "source": [
    "## Model prior \n",
    "<p>Defines the prior probabilities over models $p(\\boldsymbol{m})$.</p>"
   ]
  },
  {
   "cell_type": "code",
   "execution_count": 5,
   "metadata": {},
   "outputs": [],
   "source": [
    "def model_prior(batch_size, n_models, p_vals=None):\n",
    "    \"\"\"\n",
    "    Samples from the models' prior batch size times and converts to one-hot.\n",
    "    Assumes equal model priors.\n",
    "    ----------\n",
    "    \n",
    "    Arguments:\n",
    "    batch_size : int  -- the number of samples to draw from the prior\n",
    "    n_models   : int  -- the number of generative models in queston\n",
    "    ----------\n",
    "    \n",
    "    Returns:\n",
    "    m_true : np.ndarray of shape (batch_size, theta_dim) -- the samples batch of parameters\n",
    "    \"\"\"\n",
    "    \n",
    "    # Equal priors, if nothign specified\n",
    "    if p_vals is None:\n",
    "        p_vals = [1/n_models] * n_models\n",
    "    m_idx = np.random.choice(n_models, size=batch_size, p=p_vals).astype(np.int32)\n",
    "    return m_idx"
   ]
  },
  {
   "cell_type": "markdown",
   "metadata": {},
   "source": [
    "## Model parameters priors\n",
    "<p>Defines how parameters are generated given a model $p(\\boldsymbol{\\theta}|\\boldsymbol{m})$.</p>"
   ]
  },
  {
   "cell_type": "code",
   "execution_count": 6,
   "metadata": {},
   "outputs": [],
   "source": [
    "def beta_wide_prior(**args):\n",
    "    \n",
    "    return beta.rvs(1, 1)\n",
    "\n",
    "def beta_sharp_prior(**args):\n",
    "    \n",
    "    return beta.rvs(30, 30)"
   ]
  },
  {
   "cell_type": "markdown",
   "metadata": {},
   "source": [
    "## Generative models\n",
    "<p>Defines how the data are generated, that is, $\\boldsymbol{x}_{1:N} \\sim p(\\boldsymbol{x}|boldsymbol{\\theta},\\boldsymbol{m}).$"
   ]
  },
  {
   "cell_type": "code",
   "execution_count": 7,
   "metadata": {},
   "outputs": [],
   "source": [
    "def beta_model1(p, n_obs, **args):\n",
    "    \n",
    "    return np.random.binomial(n=1, p=p, size=(n_obs, 1))\n",
    "\n",
    "def beta_model2(p, n_obs, **args):\n",
    "    \n",
    "    return np.random.binomial(n=1, p=p, size=(n_obs, 1))"
   ]
  },
  {
   "cell_type": "markdown",
   "metadata": {},
   "source": [
    "## Data generator\n",
    "<p>Define the algorithm:</p>\n",
    "1. <strong>for</strong> $i = 1,...,B$<br>\n",
    "2. &emsp;$\\boldsymbol{m}^{(i)} \\sim p(\\boldsymbol{m})$<br>\n",
    "3. &emsp;$\\boldsymbol{\\theta}^{(i)} \\sim p(\\boldsymbol{\\theta}|\\boldsymbol{m}^{(i)})$<br>\n",
    "4. &emsp;$\\boldsymbol{x}_{1:N}^{(i)} \\sim p(\\boldsymbol{x}|\\boldsymbol{\\theta}^{(i)},\\boldsymbol{m}^{(i)})$"
   ]
  },
  {
   "cell_type": "code",
   "execution_count": 8,
   "metadata": {},
   "outputs": [],
   "source": [
    "def data_generator(batch_size, model_prior, param_priors, forward_models, alpha_smooth=None,\n",
    "                   n_obs=None, n_obs_min=100, n_obs_max=500, to_tensor=True, **args):\n",
    "    \"\"\"\n",
    "    Runs the forward model 'batch_size' times by first sampling fromt the prior\n",
    "    theta ~ p(theta) and running x ~ p(x|theta).\n",
    "    ----------\n",
    "    \n",
    "    Arguments:\n",
    "    batch_size     : int -- the number of samples to draw from the prior\n",
    "    model_prior    : callable -- the prior which returns a sample of model indices\n",
    "    param_priors   : list of callables -- a list with model prior samplers\n",
    "    forward_models : list of generative models g(theta) -- a list of generatibve models\n",
    "    n_obs          : int -- the numebr of observations to draw from p(x|theta)\n",
    "    n_obs_min      : int -- used when n_obs is None, draws n_obs ~ U(n_obs_min, n_obs_max)\n",
    "    n_obs_max      : int -- used when n_obs is None, draws n_obs ~ U(n_obs_min, n_obs_max)\n",
    "    to_tensor      : boolean -- converts theta and x to tensors if True\n",
    "    ----------\n",
    "    \n",
    "    Output:\n",
    "    m     : tf.Tensor or np.ndarray of shape (batch_size, n_models) - the one-hot encoded version of the models\n",
    "    theta : tf.Tensor or np.ndarray of shape (batch_size, theta_dim) - the data gen parameters \n",
    "    x     : tf.Tensor of np.ndarray of shape (batch_size, n_obs, x_dim)  - the generated data\n",
    "    \"\"\"\n",
    "    \n",
    "    # Sample from model prior\n",
    "    # m_indices is an np.int32 array of model indices  \n",
    "    n_models = len(forward_models)\n",
    "    m_indices = model_prior(batch_size, n_models)\n",
    "    \n",
    "    # Sample N, if not specified\n",
    "    if n_obs is None:\n",
    "        n_obs = np.random.randint(low=n_obs_min, high=n_obs_max+1)\n",
    "    \n",
    "    # For each model index, sample from prior and run generative model.\n",
    "    x = []\n",
    "    theta = []\n",
    "    for m_idx in m_indices:\n",
    "        \n",
    "        # Draw from model prior theta ~ p(theta|\n",
    "        theta_m = param_priors[m_idx]()\n",
    "        \n",
    "        # Generate data from x = g_m(theta) <=> x ~ p(x|theta,m)\n",
    "        x_m = forward_models[m_idx](theta_m, n_obs)\n",
    "        \n",
    "        # Store data and params\n",
    "        x.append(x_m)\n",
    "        theta.append(theta_m)\n",
    "    \n",
    "    # One-hot encode model indices\n",
    "    m = to_categorical(m_indices, num_classes=n_models)\n",
    "    \n",
    "    # Apply label smoothing, if specified\n",
    "    if alpha_smooth is not None:\n",
    "        m = m * (1 - alpha_smooth) + alpha_smooth / n_models\n",
    "    \n",
    "    # Convert to tensor, if specified \n",
    "    if to_tensor:\n",
    "        theta = tf.convert_to_tensor(theta, dtype=tf.float32)\n",
    "        x = tf.convert_to_tensor(x, dtype=tf.float32)\n",
    "        m = tf.convert_to_tensor(m, dtype=tf.float32)\n",
    "    return {'m': m, 'theta': theta, 'x': x}"
   ]
  },
  {
   "cell_type": "markdown",
   "metadata": {},
   "source": [
    "## Marginal likelihood"
   ]
  },
  {
   "cell_type": "code",
   "execution_count": 9,
   "metadata": {},
   "outputs": [],
   "source": [
    "def beta_binom(prior, x):\n",
    "    \"\"\"\n",
    "    Compute the marginal likelihood, analytically, for a beta-binomial model.\n",
    "\n",
    "    prior : tuple\n",
    "        tuple of alpha and beta parameter for the prior (beta distribution)\n",
    "    y : array\n",
    "        array with \"1\" and \"0\" corresponding to the success and fails respectively\n",
    "    \"\"\"\n",
    "    \n",
    "    alpha, beta = prior\n",
    "    h = np.sum(x, axis=(1, 2))\n",
    "    n = x.shape[1]\n",
    "    p_x = np.exp(betaln(alpha + h, beta+n-h) - betaln(alpha, beta))\n",
    "    return p_x"
   ]
  },
  {
   "cell_type": "markdown",
   "metadata": {},
   "source": [
    "# Training hyperparameters (fixed N)"
   ]
  },
  {
   "cell_type": "code",
   "execution_count": 110,
   "metadata": {},
   "outputs": [],
   "source": [
    "#--- Training hyperparameters ---#\n",
    "n_obs = 100\n",
    "n_test = 500\n",
    "n_cal = 5000\n",
    "alpha_smooth = None\n",
    "epochs = 50\n",
    "iterations_per_epoch = 1000\n",
    "batch_size = 128\n",
    "ckpt_file = 'toy_bf'\n",
    "\n",
    "#--- Optimizer hyperparameters ---#\n",
    "starter_learning_rate = 0.0005\n",
    "decay_steps = 1000\n",
    "decay_rate = .95\n",
    "\n",
    "#--- Data generation ---#\n",
    "model_names = ['Model 1', 'Model 2']\n",
    "param_priors = [beta_wide_prior, beta_sharp_prior]\n",
    "forward_models = [beta_model1, beta_model2]\n",
    "data_gen = partial(data_generator, \n",
    "                   model_prior=model_prior, \n",
    "                   param_priors=param_priors,\n",
    "                   forward_models=forward_models,\n",
    "                   n_obs=n_obs,\n",
    "                   alpha_smooth=alpha_smooth)\n",
    "\n",
    "\n",
    "# --- Optimizer --- #\n",
    "global_step = tfe.Variable(0, dtype=tf.int32)\n",
    "learning_rate = tf.train.exponential_decay(starter_learning_rate, global_step, \n",
    "                                           decay_steps, decay_rate, staircase=True)\n",
    "optimizer = tf.train.AdamOptimizer(learning_rate=learning_rate)"
   ]
  },
  {
   "cell_type": "markdown",
   "metadata": {},
   "source": [
    "## Create test data and compute true BFs"
   ]
  },
  {
   "cell_type": "code",
   "execution_count": 114,
   "metadata": {},
   "outputs": [
    {
     "name": "stdout",
     "output_type": "stream",
     "text": [
      "Wall time: 804 ms\n"
     ]
    }
   ],
   "source": [
    "%%time\n",
    "test_data = data_gen(n_test)\n",
    "test_data_c = data_gen(n_cal)"
   ]
  },
  {
   "cell_type": "code",
   "execution_count": 115,
   "metadata": {},
   "outputs": [],
   "source": [
    "priors = ((1, 1), (30, 30))\n",
    "bf = beta_binom(priors[1], test_data['x'].numpy()) / beta_binom(priors[0], test_data['x'].numpy())"
   ]
  },
  {
   "cell_type": "markdown",
   "metadata": {},
   "source": [
    "## Create model"
   ]
  },
  {
   "cell_type": "code",
   "execution_count": 111,
   "metadata": {},
   "outputs": [],
   "source": [
    "model = DeepEvidentialModel(EVIDENTIAL_BF)"
   ]
  },
  {
   "cell_type": "markdown",
   "metadata": {},
   "source": [
    "## Manage checkpoints"
   ]
  },
  {
   "cell_type": "code",
   "execution_count": 112,
   "metadata": {},
   "outputs": [
    {
     "name": "stdout",
     "output_type": "stream",
     "text": [
      "Restored from ./checkpoints/toy_bf\\ckpt-12\n"
     ]
    }
   ],
   "source": [
    "checkpoint = tf.train.Checkpoint(step=global_step, optimizer=optimizer, net=model)\n",
    "manager = tf.train.CheckpointManager(checkpoint, './checkpoints/{}'.format(ckpt_file), max_to_keep=2)\n",
    "checkpoint.restore(manager.latest_checkpoint)\n",
    "if manager.latest_checkpoint:\n",
    "    print(\"Restored from {}\".format(manager.latest_checkpoint))\n",
    "else:\n",
    "    print(\"Initializing from scratch.\")"
   ]
  },
  {
   "cell_type": "markdown",
   "metadata": {},
   "source": [
    "## Train network"
   ]
  },
  {
   "cell_type": "code",
   "execution_count": 106,
   "metadata": {},
   "outputs": [],
   "source": [
    "# Train current model\n",
    "for ep in range(1, epochs + 1):\n",
    "    with tqdm(total=iterations_per_epoch, desc='Training epoch {}'.format(ep)) as p_bar:\n",
    "        losses = train_online(model=model, \n",
    "                              optimizer=optimizer, \n",
    "                              data_gen=data_gen, \n",
    "                              loss_fun=partial(log_loss, lambd=0), \n",
    "                              iterations=iterations_per_epoch,\n",
    "                              batch_size=batch_size,\n",
    "                              p_bar=p_bar,\n",
    "                              global_step=global_step,\n",
    "                              method='evidence')\n",
    "        \n",
    "        # Bayes factors\n",
    "        m_probs = model(test_data['x'])['m_probs'].numpy()\n",
    "        bf_hat = m_probs[:, 1] / m_probs[:, 0]\n",
    "\n",
    "        f, ax = plt.subplots(1, 1, figsize=(8, 6))\n",
    "        ax.scatter(bf, bf_hat)\n",
    "        ax.plot(ax.get_xlim(), ax.get_xlim(), '--', color='black')\n",
    "        ax.spines['right'].set_visible(False)\n",
    "        ax.spines['top'].set_visible(False)\n",
    "        ax.set_xlabel(r'True $BF_{10}$')\n",
    "        ax.set_ylabel('Estimated $BF_{10}$')\n",
    "        plt.show()\n",
    "        \n",
    "        \n",
    "        n_chunks = 10\n",
    "        test_data_c = data_gen(5000)\n",
    "        preds = np.concatenate([model.predict(x, to_numpy=True)['m_probs'] \n",
    "                                for x in tf.split(test_data_c['x'], n_chunks, axis=0)], axis=0)\n",
    "\n",
    "\n",
    "        plt.rcParams['font.size'] = 12\n",
    "        f, ax = plt.subplots(1, 1, figsize=(8, 6))\n",
    "        prob_true, prob_pred = calibration_curve(test_data_c['m'].numpy().argmax(axis=1), preds[:, 1])\n",
    "        ax.plot(prob_true, prob_pred)\n",
    "        ax.plot(ax.get_xlim(), ax.get_xlim(), '--', color='black')\n",
    "        ax.spines['right'].set_visible(False)\n",
    "        ax.spines['top'].set_visible(False)\n",
    "        ax.set_xlabel('Accuracy')\n",
    "        ax.set_ylabel('Confidence')\n",
    "        plt.show()\n",
    "    \n",
    "        print(accuracy(test_data['m'], m_probs))\n",
    "        manager.save()"
   ]
  },
  {
   "cell_type": "markdown",
   "metadata": {},
   "source": [
    "## Evaluate"
   ]
  },
  {
   "cell_type": "markdown",
   "metadata": {},
   "source": [
    "### Bayes factors"
   ]
  },
  {
   "cell_type": "code",
   "execution_count": 108,
   "metadata": {},
   "outputs": [],
   "source": [
    "plt.rcParams['font.size'] = 12"
   ]
  },
  {
   "cell_type": "code",
   "execution_count": 116,
   "metadata": {},
   "outputs": [
    {
     "data": {
      "image/png": "[encoded data removed]",
      "text/plain": [
       "<Figure size 576x432 with 1 Axes>"
      ]
     },
     "metadata": {
      "needs_background": "light"
     },
     "output_type": "display_data"
    }
   ],
   "source": [
    "# Bayes factors\n",
    "m_probs = model(test_data['x'])['m_probs'].numpy()\n",
    "bf_hat = m_probs[:, 1] / m_probs[:, 0]\n",
    "\n",
    "f, ax = plt.subplots(1, 1, figsize=(8, 6))\n",
    "ax.scatter(bf, bf_hat)\n",
    "ax.plot(ax.get_xlim(), ax.get_xlim(), '--', color='black')\n",
    "ax.spines['right'].set_visible(False)\n",
    "ax.spines['top'].set_visible(False)\n",
    "ax.set_xlabel(r'True $BF_{10}$')\n",
    "ax.set_ylabel('Estimated $BF_{10}$')\n",
    "f.savefig('figures/BF_toy.png', dpi=300, bbox_inches='tight')"
   ]
  },
  {
   "cell_type": "markdown",
   "metadata": {},
   "source": [
    "### Calibration"
   ]
  },
  {
   "cell_type": "code",
   "execution_count": 17,
   "metadata": {},
   "outputs": [
    {
     "data": {
      "image/png": "[encoded data removed]",
      "text/plain": [
       "<Figure size 576x432 with 1 Axes>"
      ]
     },
     "metadata": {
      "needs_background": "light"
     },
     "output_type": "display_data"
    }
   ],
   "source": [
    "n_chunks = 10\n",
    "test_data_c = data_gen(5000)\n",
    "preds = np.concatenate([model.predict(x, to_numpy=True)['m_probs'] \n",
    "                        for x in tf.split(test_data_c['x'], n_chunks, axis=0)], axis=0)\n",
    "\n",
    "\n",
    "plt.rcParams['font.size'] = 12\n",
    "f, ax = plt.subplots(1, 1, figsize=(8, 6))\n",
    "prob_true, prob_pred = calibration_curve(test_data_c['m'].numpy().argmax(axis=1), preds[:, 1], n_bins=10)\n",
    "ax.plot(prob_true, prob_pred, lw=2)\n",
    "ax.plot(ax.get_xlim(), ax.get_xlim(), '--', color='black')\n",
    "ax.spines['right'].set_visible(False)\n",
    "ax.spines['top'].set_visible(False)\n",
    "ax.set_xlabel('Accuracy')\n",
    "ax.set_ylabel('Confidence')\n",
    "f.savefig('figures/Calibration_Toy.png', dpi=300, bbox_inches='tight')"
   ]
  },
  {
   "cell_type": "markdown",
   "metadata": {},
   "source": [
    "# Training hyperparameters (var N)"
   ]
  },
  {
   "cell_type": "code",
   "execution_count": 43,
   "metadata": {},
   "outputs": [],
   "source": [
    "#--- Training hyperparameters ---#\n",
    "n_obs_min = 1\n",
    "n_obs_max = 100\n",
    "n_test = 500\n",
    "n_cal = 5000\n",
    "alpha_smooth = None\n",
    "epochs = 50\n",
    "iterations_per_epoch = 1000\n",
    "batch_size = 128\n",
    "\n",
    "\n",
    "#--- Optimizer hyperparameters ---#\n",
    "starter_learning_rate = 0.0001\n",
    "decay_steps = 1000\n",
    "decay_rate = .95\n",
    "\n",
    "#--- Data generation ---#\n",
    "model_names = ['Model 1', 'Model 2']\n",
    "param_priors = [beta_wide_prior, beta_sharp_prior]\n",
    "forward_models = [beta_model1, beta_model2]\n",
    "data_gen = partial(data_generator, \n",
    "                   model_prior=model_prior, \n",
    "                   param_priors=param_priors,\n",
    "                   forward_models=forward_models,\n",
    "                   n_obs_min=n_obs_min,\n",
    "                   n_obs_max=n_obs_max,\n",
    "                   alpha_smooth=alpha_smooth)\n",
    "\n",
    "\n",
    "# --- Optimizer --- #\n",
    "global_step = tfe.Variable(0, dtype=tf.int32)\n",
    "learning_rate = tf.train.exponential_decay(starter_learning_rate, global_step, \n",
    "                                           decay_steps, decay_rate, staircase=True)\n",
    "optimizer = tf.train.AdamOptimizer(learning_rate=learning_rate)"
   ]
  },
  {
   "cell_type": "markdown",
   "metadata": {},
   "source": [
    "## Manage checkpoints"
   ]
  },
  {
   "cell_type": "code",
   "execution_count": 45,
   "metadata": {},
   "outputs": [],
   "source": [
    "test_data = data_gen(n_test, n_obs=100)\n",
    "ckpt_file = 'toy_bf_var_n'\n",
    "checkpoint = tf.train.Checkpoint(step=global_step, optimizer=optimizer, net=model)\n",
    "manager = tf.train.CheckpointManager(checkpoint, './checkpoints/{}'.format(ckpt_file), max_to_keep=2)"
   ]
  },
  {
   "cell_type": "code",
   "execution_count": 47,
   "metadata": {},
   "outputs": [],
   "source": [
    "test_data = data_gen(n_test, n_obs=100)\n",
    "priors = ((1, 1), (30, 30))\n",
    "bf = beta_binom(priors[1], test_data['x'].numpy()) / beta_binom(priors[0], test_data['x'].numpy())"
   ]
  },
  {
   "cell_type": "markdown",
   "metadata": {},
   "source": [
    "## Train network"
   ]
  },
  {
   "cell_type": "code",
   "execution_count": 88,
   "metadata": {},
   "outputs": [],
   "source": [
    "# Train current model\n",
    "for ep in range(1, epochs + 1):\n",
    "    with tqdm(total=iterations_per_epoch, desc='Training epoch {}'.format(ep)) as p_bar:\n",
    "        losses = train_online(model=model, \n",
    "                              optimizer=optimizer, \n",
    "                              data_gen=data_gen, \n",
    "                              loss_fun=partial(log_loss, lambd=0), \n",
    "                              iterations=iterations_per_epoch,\n",
    "                              batch_size=batch_size,\n",
    "                              p_bar=p_bar,\n",
    "                              global_step=global_step,\n",
    "                              method='evidence')\n",
    "        manager.save()"
   ]
  },
  {
   "cell_type": "code",
   "execution_count": 92,
   "metadata": {},
   "outputs": [],
   "source": [
    "accs = []\n",
    "accs_stds = []\n",
    "accs_bf = []\n",
    "bfs = []\n",
    "bf_hats = []\n",
    "n_bootstrap = 50\n",
    "n_val = 5000\n",
    "n_chunks = 10\n",
    "\n",
    "for n in range(n_obs_min, n_obs_max, 2):\n",
    "    \n",
    "    # Obtain probs\n",
    "    test_data_n = data_gen(n_val, n_obs=n)\n",
    "    m_probs = np.concatenate([model.predict(x, to_numpy=True)['m_probs'] \n",
    "                              for x in tf.split(test_data_n['x'], n_chunks, axis=0)], axis=0)\n",
    "    \n",
    "    # Compute bootstrapped probs\n",
    "    accs_b = []\n",
    "    for bi in range(n_bootstrap):\n",
    "        \n",
    "        # Get bootstrap samples\n",
    "        b_idx = np.random.choice(np.random.permutation(n_val), size=n_val, replace=True)\n",
    "        m_test_b = tf.gather(test_data_n['m'], b_idx, axis=0).numpy()\n",
    "        m_probs_b = tf.gather(m_probs, b_idx, axis=0).numpy()\n",
    "        acc_b = accuracy(m_test_b, m_probs_b)\n",
    "        accs_b.append(acc_b)\n",
    "        \n",
    "    # Compute true and estimated BFs\n",
    "    BF_hat = m_probs[:, 1] / m_probs[:, 0]\n",
    "    BF = beta_binom(priors[1], test_data_n['x'].numpy()) / beta_binom(priors[0], test_data_n['x'].numpy())\n",
    "    acc_bf = np.sum(test_data_n['m'].numpy().argmax(axis=1) == (BF > 1)) / BF.shape[0]\n",
    "    accs.append(np.mean(accs_b))\n",
    "    accs_stds.append(np.std(accs_b, ddof=1))\n",
    "    accs_bf.append(acc_bf)\n",
    "    bfs.append(BF)\n",
    "    bf_hats.append(BF_hat)"
   ]
  },
  {
   "cell_type": "code",
   "execution_count": 107,
   "metadata": {},
   "outputs": [
    {
     "data": {
      "image/png": "[encoded data removed]",
      "text/plain": [
       "<Figure size 576x432 with 1 Axes>"
      ]
     },
     "metadata": {
      "needs_background": "light"
     },
     "output_type": "display_data"
    }
   ],
   "source": [
    "# Bayes factors\n",
    "f, ax = plt.subplots(1, 1, figsize=(8, 6))\n",
    "ax.plot(range(n_obs_min, n_obs_max, 2), accs, label='Estimated BF', lw=2)\n",
    "ax.plot(range(n_obs_min, n_obs_max, 2), accs_bf, label='True BF', lw=2)\n",
    "ax.fill_between(range(n_obs_min, n_obs_max, 2), \n",
    "                np.array(accs)-1.98*np.array(accs_stds), \n",
    "                np.array(accs)+1.98*np.array(accs_stds), \n",
    "                interpolate=True, alpha=0.2)\n",
    "\n",
    "ax.spines['right'].set_visible(False)\n",
    "ax.spines['top'].set_visible(False)\n",
    "ax.set_xlabel(r'Sample Size $N$')\n",
    "ax.set_ylabel('Accuracy')\n",
    "ax.legend(loc='lower right')\n",
    "f.savefig('figures/BF_N_Toy.png', dpi=300, bbox_inches='tight')"
   ]
  }
 ],
 "metadata": {
  "kernelspec": {
   "display_name": "Python 3",
   "language": "python",
   "name": "python3"
  },
  "language_info": {
   "codemirror_mode": {
    "name": "ipython",
    "version": 3
   },
   "file_extension": ".py",
   "mimetype": "text/x-python",
   "name": "python",
   "nbconvert_exporter": "python",
   "pygments_lexer": "ipython3",
   "version": "3.6.8"
  },
  "toc": {
   "base_numbering": 1,
   "nav_menu": {},
   "number_sections": true,
   "sideBar": true,
   "skip_h1_title": false,
   "title_cell": "Table of Contents",
   "title_sidebar": "Contents",
   "toc_cell": false,
   "toc_position": {
    "height": "calc(100% - 180px)",
    "left": "10px",
    "top": "150px",
    "width": "199.6px"
   },
   "toc_section_display": true,
   "toc_window_display": true
  }
 },
 "nbformat": 4,
 "nbformat_minor": 2
}
