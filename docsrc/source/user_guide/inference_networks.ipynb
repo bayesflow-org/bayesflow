{
 "cells": [
  {
   "cell_type": "markdown",
   "id": "83d9cd3f-85cd-4faf-9ea8-5d1473b67fd9",
   "metadata": {},
   "source": [
    "# Inference Networks\n",
    "\n",
    "*Disclaimer: This guide is in an early stage. We welcome contributions to the guide in form of issues and pull requests.*\n",
    "\n",
    "Inference networks form the backbone of neural amortized Bayesian inference methods. They are generative models (usually _invertible_ ones, but they do not have to be), that can transform samples from a simple distribution (e.g., a unit Gaussian) to a complicated one (e.g., a posterior distribution).\n",
    "\n",
    "You can find the inference networks in the {py:mod}`~bayesflow.networks` module. You can identify them by the \"Bases: {py:class}`~bayesflow.networks.InferenceNetwork`\" label.\n",
    "\n",
    "## CouplingFlow\n",
    "\n",
    "The {py:class}`~bayesflow.networks.CouplingFlow` is the traditional inference network in SBI. It features fast inference, but can lack expressivity, especially when the density changes quickly (e.g., at the bounds of a uniform distribution). For training, it uses a negative log-likelihood loss, so the loss is indicative of the performance (lower is better, but zero has no special meaning).\n",
    "\n",
    "## FlowMatching\n",
    "\n",
    "{py:class}`~bayesflow.networks.FlowMatching` is a continuous flow, and one of the most expressive architectures currently available. We recommend it for more complex models and posteriors. The expressivity comes at the cost of inference speed, as inference requires solving an ordinary differential equation (ODE), which requires many network passes. In addition, after an initial drop, the loss is not indicative of the performance anymore, so one has to rely on different means to evaluate performance during training (or just hope for the best and evaluate after training)."
   ]
  }
 ],
 "metadata": {
  "kernelspec": {
   "display_name": "Python 3 (ipykernel)",
   "language": "python",
   "name": "python3"
  },
  "language_info": {
   "codemirror_mode": {
    "name": "ipython",
    "version": 3
   },
   "file_extension": ".py",
   "mimetype": "text/x-python",
   "name": "python",
   "nbconvert_exporter": "python",
   "pygments_lexer": "ipython3",
   "version": "3.11.11"
  }
 },
 "nbformat": 4,
 "nbformat_minor": 5
}
