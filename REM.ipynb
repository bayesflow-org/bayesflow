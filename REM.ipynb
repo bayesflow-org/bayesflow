{
 "cells": [
  {
   "cell_type": "code",
   "execution_count": 66,
   "metadata": {},
   "outputs": [],
   "source": [
    "import numpy as np\n",
    "import pandas as pd\n",
    "from collections import Counter"
   ]
  },
  {
   "cell_type": "code",
   "execution_count": 170,
   "metadata": {},
   "outputs": [],
   "source": [
    "def item_features(Nitems,g):\n",
    "    return np.random.geometric(g,(20,Nitems))\n",
    "\n",
    "\n",
    "def episodic_matrix(wT,g,u,c):\n",
    "    M = wT*0\n",
    "    for i in range(len(wT[0])):\n",
    "        copy = np.random.binomial(1,u,20)\n",
    "        trace = copy*wT[:,i]\n",
    "        correct = np.random.binomial(1,c,20)\n",
    "        wrong_copied = np.where((trace>0) * (correct==0))\n",
    "        trace[wrong_copied] = np.random.geometric(g,len(wrong_copied))\n",
    "        M[:,i] = trace\n",
    "        \n",
    "    return M\n",
    "\n",
    "\n",
    "def qtype(probe,trace):\n",
    "    nonzero_probe = probe[trace > 0]\n",
    "    nonzero_trace = trace[trace > 0]\n",
    "    \n",
    "    return sum(~(nonzero_probe == nonzero_trace))\n",
    "\n",
    "def mtype(probe,trace):\n",
    "    m = np.tile(0,200)\n",
    "    nonzero_probe = probe[trace > 0]\n",
    "    nonzero_trace = trace[trace > 0]\n",
    "    nonzero_match = nonzero_probe[nonzero_probe==nonzero_trace]\n",
    "    nonzero_match_count = pd.value_counts(nonzero_match)\n",
    "    m[np.array(nonzero_match_count.keys().tolist(),dtype=np.int32)-1] = nonzero_match_count.tolist()\n",
    "    \n",
    "    return m\n",
    "\n",
    "\n",
    "def similarity(probe,trace,c,g):\n",
    "    Qtype = qtype(probe,trace)\n",
    "    Mtype = mtype(probe,trace)\n",
    "    x1 = (1-c)**Qtype\n",
    "    x2 = 1\n",
    "    for i in range(len(Mtype)):\n",
    "        x2 = x2 * ((c+(1-c)*g*(1-g)**(i))/(0.0001+g*(1-g)**(i)))**Mtype[i]\n",
    "    \n",
    "    return(x1*x2)\n",
    "\n",
    "\n",
    "def memory_strength(probe,M,c,g):\n",
    "    phi = np.zeros(len(M[0]))\n",
    "    for i in range(len(M[0])):\n",
    "        phi[i] = similarity(probe,M[:,i],c,g)\n",
    "    \n",
    "    return np.mean(phi)\n",
    "\n",
    "\n",
    "def response_vector(g,u,c,Nitems):\n",
    "    W = item_features(Nitems,g)\n",
    "    wT = W[:,0:int(Nitems/2)]\n",
    "    wD = W[:,int(Nitems/2):Nitems]\n",
    "    M = episodic_matrix(wT,g,u,c)\n",
    "    target = np.array([memory_strength(wT[:,i],M,c,g) for i in range(int(Nitems/2))])\n",
    "    distractor = np.array([memory_strength(wD[:,i],M,c,g) for i in range(int(Nitems/2))])\n",
    "    target = target > 1\n",
    "    distractor = distractor > 1\n",
    "    target = target.astype(int)\n",
    "    distractor = distractor.astype(int)\n",
    "    \n",
    "    return np.c_[target,distractor]\n",
    "\n",
    "\n",
    "def REM(pars,Nitems,Ntrials,flag):\n",
    "    # pars:[g,u,c]\n",
    "    # g: Environmental Base Rate\n",
    "    # u: Feature Copying\n",
    "    # c: Correct Feature Copying\n",
    "    # Ntimes: targets = Nitems/2; distractors = Nitems/2\n",
    "    # flag: 1, full matrix output; 2, contingency table\n",
    "    g,u,c = pars\n",
    "    out1 = np.zeros((Ntrials,int(Nitems/2),2))\n",
    "    out2 = np.zeros((Ntrials,2,2))\n",
    "    for n in range(Ntrials):\n",
    "        o = response_vector(g,u,c,Nitems)\n",
    "        out1[n,:,:] = o\n",
    "        out2[n,:,:] = np.array([[sum(o[:,0]),(Nitems/2)-sum(o[:,0])],\n",
    "                                [sum(o[:,1]),(Nitems/2)-sum(o[:,1])]])\n",
    "    if flag:\n",
    "        # first column: vector of Hit (1) and Miss (0) for targets\n",
    "        # second column: vector of Correct Rejection (0) and False Alarms (1) for distractors\n",
    "        return out1\n",
    "    else:\n",
    "        # first row (target): Hit and Miss\n",
    "        # second row (distractor): False Alarms and Correct Rejection\n",
    "        return out2\n",
    "                            \n",
    "    "
   ]
  },
  {
   "cell_type": "code",
   "execution_count": 187,
   "metadata": {},
   "outputs": [
    {
     "data": {
      "text/plain": [
       "array([[[14.,  6.],\n",
       "        [ 4., 16.]]])"
      ]
     },
     "execution_count": 187,
     "metadata": {},
     "output_type": "execute_result"
    }
   ],
   "source": [
    "REM([0.4,0.4,0.6],40,1,0)"
   ]
  },
  {
   "cell_type": "code",
   "execution_count": null,
   "metadata": {},
   "outputs": [],
   "source": []
  }
 ],
 "metadata": {
  "kernelspec": {
   "display_name": "Python 3",
   "language": "python",
   "name": "python3"
  },
  "language_info": {
   "codemirror_mode": {
    "name": "ipython",
    "version": 3
   },
   "file_extension": ".py",
   "mimetype": "text/x-python",
   "name": "python",
   "nbconvert_exporter": "python",
   "pygments_lexer": "ipython3",
   "version": "3.7.1"
  }
 },
 "nbformat": 4,
 "nbformat_minor": 2
}
