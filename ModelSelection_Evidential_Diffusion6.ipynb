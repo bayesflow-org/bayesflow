{
 "cells": [
  {
   "cell_type": "code",
   "execution_count": 1,
   "metadata": {},
   "outputs": [
    {
     "name": "stderr",
     "output_type": "stream",
     "text": [
      "D:\\Anaconda3\\envs\\TensorFlowGpu\\lib\\site-packages\\tensorflow\\python\\framework\\dtypes.py:526: FutureWarning: Passing (type, 1) or '1type' as a synonym of type is deprecated; in a future version of numpy, it will be understood as (type, (1,)) / '(1,)type'.\n",
      "  _np_qint8 = np.dtype([(\"qint8\", np.int8, 1)])\n",
      "D:\\Anaconda3\\envs\\TensorFlowGpu\\lib\\site-packages\\tensorflow\\python\\framework\\dtypes.py:527: FutureWarning: Passing (type, 1) or '1type' as a synonym of type is deprecated; in a future version of numpy, it will be understood as (type, (1,)) / '(1,)type'.\n",
      "  _np_quint8 = np.dtype([(\"quint8\", np.uint8, 1)])\n",
      "D:\\Anaconda3\\envs\\TensorFlowGpu\\lib\\site-packages\\tensorflow\\python\\framework\\dtypes.py:528: FutureWarning: Passing (type, 1) or '1type' as a synonym of type is deprecated; in a future version of numpy, it will be understood as (type, (1,)) / '(1,)type'.\n",
      "  _np_qint16 = np.dtype([(\"qint16\", np.int16, 1)])\n",
      "D:\\Anaconda3\\envs\\TensorFlowGpu\\lib\\site-packages\\tensorflow\\python\\framework\\dtypes.py:529: FutureWarning: Passing (type, 1) or '1type' as a synonym of type is deprecated; in a future version of numpy, it will be understood as (type, (1,)) / '(1,)type'.\n",
      "  _np_quint16 = np.dtype([(\"quint16\", np.uint16, 1)])\n",
      "D:\\Anaconda3\\envs\\TensorFlowGpu\\lib\\site-packages\\tensorflow\\python\\framework\\dtypes.py:530: FutureWarning: Passing (type, 1) or '1type' as a synonym of type is deprecated; in a future version of numpy, it will be understood as (type, (1,)) / '(1,)type'.\n",
      "  _np_qint32 = np.dtype([(\"qint32\", np.int32, 1)])\n",
      "D:\\Anaconda3\\envs\\TensorFlowGpu\\lib\\site-packages\\tensorflow\\python\\framework\\dtypes.py:535: FutureWarning: Passing (type, 1) or '1type' as a synonym of type is deprecated; in a future version of numpy, it will be understood as (type, (1,)) / '(1,)type'.\n",
      "  np_resource = np.dtype([(\"resource\", np.ubyte, 1)])\n",
      "D:\\Anaconda3\\envs\\TensorFlowGpu\\lib\\site-packages\\h5py\\__init__.py:72: UserWarning: h5py is running against HDF5 1.10.2 when it was built against 1.10.3, this may cause problems\n",
      "  '{0}.{1}.{2}'.format(*version.hdf5_built_version_tuple)\n"
     ]
    }
   ],
   "source": [
    "import tensorflow as tf\n",
    "from tensorflow.keras.utils import to_categorical\n",
    "import tensorflow.contrib.eager as tfe\n",
    "from functools import partial\n",
    "import pandas as pd\n",
    "import seaborn as sns\n",
    "import matplotlib.pyplot as plt\n",
    "\n",
    "import matplotlib.tri as tri\n",
    "from scipy import stats\n",
    "from scipy.special import gamma as gamma_fun\n",
    "import scipy.special as spec\n",
    "import matplotlib.pyplot as plt\n",
    "from tqdm import tqdm_notebook as tqdm\n",
    "import numpy as np\n",
    "np.set_printoptions(suppress=True)\n",
    "import timeit\n",
    "\n",
    "\n",
    "from deep_bayes.models import DeepEvidentialModel, MCDropOutModel, SoftmaxModel, VAE\n",
    "from deep_bayes.settings import EVIDENTIAL_DIFFUSION, SOFTMAX_DIFFUSION, VAE_DIFFUSION, DROPOUT_DIFFUSION\n",
    "from deep_bayes.training import train_online, train_online_vae, train_online_dropout, train_online_softmax\n",
    "from deep_bayes.losses import log_loss\n",
    "from deep_bayes.viz import plot_model_samples, plot_confusion_matrix\n",
    "from deep_bayes.diagnostics import accuracy, expected_calibration_error\n",
    "\n",
    "from simulators.diffusion_lib import simulate_diffusion"
   ]
  },
  {
   "cell_type": "code",
   "execution_count": 2,
   "metadata": {},
   "outputs": [],
   "source": [
    "tf.enable_eager_execution()"
   ]
  },
  {
   "cell_type": "code",
   "execution_count": 3,
   "metadata": {},
   "outputs": [],
   "source": [
    "%load_ext autoreload\n",
    "%autoreload 2"
   ]
  },
  {
   "cell_type": "code",
   "execution_count": 4,
   "metadata": {},
   "outputs": [],
   "source": [
    "%matplotlib inline"
   ]
  },
  {
   "cell_type": "markdown",
   "metadata": {},
   "source": [
    "# Generative model specifications"
   ]
  },
  {
   "cell_type": "markdown",
   "metadata": {},
   "source": [
    "## Model prior \n",
    "<p>Defines the prior probabilities over models $p(\\boldsymbol{m})$.</p>"
   ]
  },
  {
   "cell_type": "code",
   "execution_count": 5,
   "metadata": {},
   "outputs": [],
   "source": [
    "def model_prior(batch_size, n_models, p_vals=None):\n",
    "    \"\"\"\n",
    "    Samples from the models' prior batch size times and converts to one-hot.\n",
    "    Assumes equal model priors.\n",
    "    ----------\n",
    "    \n",
    "    Arguments:\n",
    "    batch_size : int  -- the number of samples to draw from the prior\n",
    "    n_models   : int  -- the number of generative models in queston\n",
    "    ----------\n",
    "    \n",
    "    Returns:\n",
    "    m_true : np.ndarray of shape (batch_size, theta_dim) -- the samples batch of parameters\n",
    "    \"\"\"\n",
    "    \n",
    "    # Equal priors, if nothign specified\n",
    "    if p_vals is None:\n",
    "        p_vals = [1/n_models] * n_models\n",
    "    m_idx = np.random.choice(n_models, size=batch_size, p=p_vals).astype(np.int32)\n",
    "    return m_idx"
   ]
  },
  {
   "cell_type": "markdown",
   "metadata": {},
   "source": [
    "## Model parameters priors\n",
    "<p>Defines how parameters are generated given a model $p(\\boldsymbol{\\theta}|\\boldsymbol{m})$.</p>"
   ]
  },
  {
   "cell_type": "code",
   "execution_count": 6,
   "metadata": {},
   "outputs": [],
   "source": [
    "def model1_params_prior(**args):\n",
    "    \"\"\"\n",
    "    Samples from the prior of the simple diffusion model theta = (v, zr, a, ndt)\n",
    "    ----------\n",
    "    \n",
    "    Arguments:\n",
    "    ----------\n",
    "    \n",
    "    Output:\n",
    "    theta : np.ndarray of shape (1, theta_dim) -- the samples of parameters\n",
    "            or a dict with param key-values\n",
    "    \"\"\"\n",
    "    \n",
    "    # Just as a toy example, sample from 2-D unit Gaussian\n",
    "    theta = {\n",
    "        'drifts': np.array([np.random.uniform(low=0.0, high=6.0),\n",
    "                            np.random.uniform(low=-6.0, high=0.0)]),\n",
    "        'a': np.random.uniform(low=0.6, high=3.0),\n",
    "        'ndt': np.random.uniform(low=0.2, high=1.5)\n",
    "    }\n",
    "    return theta\n",
    "\n",
    "\n",
    "def model2_params_prior(**args):\n",
    "    \"\"\"\n",
    "    Samples from the prior of the simple diffusion model theta = (v, zr, a, ndt)\n",
    "    ----------\n",
    "    \n",
    "    Arguments:\n",
    "    ----------\n",
    "    \n",
    "    Output:\n",
    "    theta : np.ndarray of shape (1, theta_dim) -- the samples of parameters\n",
    "            or a dict with param key-values\n",
    "    \"\"\"\n",
    "    \n",
    "    # Just as a toy example, sample from 2-D unit Gaussian\n",
    "    theta = {\n",
    "        'drifts': np.array([np.random.uniform(low=0.0, high=6.0),\n",
    "                            np.random.uniform(low=-6.0, high=0.0)]),\n",
    "        'a': np.random.uniform(low=0.6, high=3.0),\n",
    "        'zr': np.random.uniform(low=0.3, high=0.7),\n",
    "        'ndt': np.random.uniform(low=0.2, high=1.5)\n",
    "    }\n",
    "    return theta\n",
    "\n",
    "\n",
    "def model3_params_prior(**args):\n",
    "    \"\"\"\n",
    "    Samples from the prior of the simple diffusion model theta = (v, zr, a, ndt, alpha)\n",
    "    ----------\n",
    "    \n",
    "    Arguments:\n",
    "    ----------\n",
    "    \n",
    "    Output:\n",
    "    theta : np.ndarray of shape (1, theta_dim) -- the samples of parameters\n",
    "            or a dict with param key-values\n",
    "    \"\"\"\n",
    "    \n",
    "    # Just as a toy example, sample from 2-D unit Gaussian\n",
    "    theta = {\n",
    "        'drifts': np.array([np.random.uniform(low=0.0, high=6.0),\n",
    "                            np.random.uniform(low=-6.0, high=0.0)]),\n",
    "        'a': np.random.uniform(low=0.6, high=3.0),\n",
    "        'zr': np.random.uniform(low=0.3, high=0.7),\n",
    "        'ndt': np.random.uniform(low=0.2, high=1.5),\n",
    "        'alpha': np.random.uniform(low=1.0, high=2.0)\n",
    "    }\n",
    "    return theta\n",
    "\n",
    "\n",
    "def model4_params_prior(**args):\n",
    "    \"\"\"\n",
    "    Samples from the prior of the simple diffusion model theta = (v, zr, szr, a, ndt, alpha)\n",
    "    ----------\n",
    "    \n",
    "    Arguments:\n",
    "    ----------\n",
    "    \n",
    "    Output:\n",
    "    theta : np.ndarray of shape (1, theta_dim) -- the samples of parameters\n",
    "            or a dict with param key-values\n",
    "    \"\"\"\n",
    "    \n",
    "    # Just as a toy example, sample from 2-D unit Gaussian\n",
    "    theta = {\n",
    "        'drifts': np.array([np.random.uniform(low=0.0, high=6.0),\n",
    "                            np.random.uniform(low=-6.0, high=0.0)]),\n",
    "        'a': np.random.uniform(low=0.6, high=3.0),\n",
    "        'zr': np.random.uniform(low=0.3, high=0.7),\n",
    "        'ndt': np.random.uniform(low=0.2, high=1.5),\n",
    "        'sndt': np.random.uniform(low=0.0, high=0.6),\n",
    "        'alpha': np.random.uniform(low=1.0, high=2.0)\n",
    "    }\n",
    "    return theta\n",
    "\n",
    "\n",
    "def model5_params_prior(**args):\n",
    "    \"\"\"\n",
    "    Samples from the prior of the simple diffusion model theta = (v, sv, zr, szr, a, ndt, alpha)\n",
    "    ----------\n",
    "    \n",
    "    Arguments:\n",
    "    ----------\n",
    "    \n",
    "    Output:\n",
    "    theta : np.ndarray of shape (1, theta_dim) -- the samples of parameters\n",
    "            or a dict with param key-values\n",
    "    \"\"\"\n",
    "    \n",
    "    # Just as a toy example, sample from 2-D unit Gaussian\n",
    "    theta = {\n",
    "        'drifts': np.array([np.random.uniform(low=0.0, high=6.0),\n",
    "                            np.random.uniform(low=-6.0, high=0.0)]),\n",
    "        'sv': np.random.uniform(low=0.0, high=2.0),\n",
    "        'a': np.random.uniform(low=0.6, high=3.0),\n",
    "        'zr': np.random.uniform(low=0.3, high=0.7),\n",
    "        'ndt': np.random.uniform(low=0.2, high=1.5),\n",
    "        'sndt': np.random.uniform(low=0.2, high=1.5),\n",
    "        'alpha': np.random.uniform(low=1.0, high=2.0)\n",
    "    }\n",
    "    return theta\n",
    "\n",
    "\n",
    "def model6_params_prior(**args):\n",
    "    \"\"\"\n",
    "    Samples from the prior of the simple diffusion model theta = (v, sv, zr, szr, a, ndt, sndt, alpha)\n",
    "    ----------\n",
    "    \n",
    "    Arguments:\n",
    "    ----------\n",
    "    \n",
    "    Output:\n",
    "    theta : np.ndarray of shape (1, theta_dim) -- the samples of parameters\n",
    "            or a dict with param key-values\n",
    "    \"\"\"\n",
    "    \n",
    "    # Just as a toy example, sample from 2-D unit Gaussian\n",
    "    theta = {\n",
    "        'drifts':  np.array([np.random.uniform(low=0.0, high=6.0),\n",
    "                             np.random.uniform(low=-6.0, high=0.0)]),\n",
    "        'sv': np.random.uniform(low=0.0, high=2.0),\n",
    "        'a': np.random.uniform(low=0.6, high=3.0),\n",
    "        'zr': np.random.uniform(low=0.3, high=0.7),\n",
    "        'szr': np.random.uniform(low=0.0, high=0.6),\n",
    "        'ndt': np.random.uniform(low=0.2, high=1.5),\n",
    "        'sndt': np.random.uniform(low=0.0, high=0.4),\n",
    "        'alpha': np.random.uniform(low=1.0, high=2.0)\n",
    "    }\n",
    "    return theta"
   ]
  },
  {
   "cell_type": "markdown",
   "metadata": {},
   "source": [
    "## Generative models\n",
    "<p>Defines how the data are generated, that is, $\\boldsymbol{x}_{1:N} \\sim p(\\boldsymbol{x}|boldsymbol{\\theta},\\boldsymbol{m}).$"
   ]
  },
  {
   "cell_type": "code",
   "execution_count": 7,
   "metadata": {},
   "outputs": [],
   "source": [
    "def forward_model1(params, n_obs, **args):\n",
    "    \"\"\"\n",
    "    Runs the forward model once, i.e., generates a sample from p(x|theta, m).\n",
    "    ----------\n",
    "    \n",
    "    Arguments:\n",
    "    params : dict with key value pairs -- the data generating parameters\n",
    "    n_obs  : int -- the numebr of observations to draw from p(x|theta)\n",
    "    ----------\n",
    "    \n",
    "    Output:\n",
    "    x      : np.ndarray of shape (n_obs, x_dim)\n",
    "    \"\"\"\n",
    "    \n",
    "    # Again, toy\n",
    "    x = simulate_diffusion(**params, n_points=n_obs)\n",
    "    return x\n",
    "\n",
    "\n",
    "def forward_model2(params, n_obs, **args):\n",
    "    \"\"\"\n",
    "    Runs the forward model once, i.e., generates a sample from p(x|theta, m).\n",
    "    ----------\n",
    "    \n",
    "    Arguments:\n",
    "    params : dict with key value pairs -- the data generating parameters\n",
    "    n_obs  : int -- the numebr of observations to draw from p(x|theta)\n",
    "    ----------\n",
    "    \n",
    "    Output:\n",
    "    x      : np.ndarray of shape (n_obs, x_dim)\n",
    "    \"\"\"\n",
    "    \n",
    "    # Again, toy\n",
    "    x = simulate_diffusion(**params, n_points=n_obs)\n",
    "    return x\n",
    "\n",
    "\n",
    "def forward_model3(params, n_obs, **args):\n",
    "    \"\"\"\n",
    "    Runs the forward model once, i.e., generates a sample from p(x|theta, m).\n",
    "    ----------\n",
    "    \n",
    "    Arguments:\n",
    "    params : dict with key value pairs -- the data generating parameters\n",
    "    n_obs  : int -- the numebr of observations to draw from p(x|theta)\n",
    "    ----------\n",
    "    \n",
    "    Output:\n",
    "    x      : np.ndarray of shape (n_obs, x_dim)\n",
    "    \"\"\"\n",
    "    \n",
    "    # Again, toy\n",
    "    x = simulate_diffusion(**params, n_points=n_obs)\n",
    "    return x\n",
    "\n",
    "\n",
    "def forward_model4(params, n_obs, **args):\n",
    "    \"\"\"\n",
    "    Runs the forward model once, i.e., generates a sample from p(x|theta, m).\n",
    "    ----------\n",
    "    \n",
    "    Arguments:\n",
    "    params : dict with key value pairs -- the data generating parameters\n",
    "    n_obs  : int -- the numebr of observations to draw from p(x|theta)\n",
    "    ----------\n",
    "    \n",
    "    Output:\n",
    "    x      : np.ndarray of shape (n_obs, x_dim)\n",
    "    \"\"\"\n",
    "    \n",
    "    # Again, toy\n",
    "    x = simulate_diffusion(**params, n_points=n_obs)\n",
    "    return x\n",
    "\n",
    "\n",
    "def forward_model5(params, n_obs, **args):\n",
    "    \"\"\"\n",
    "    Runs the forward model once, i.e., generates a sample from p(x|theta, m).\n",
    "    ----------\n",
    "    \n",
    "    Arguments:\n",
    "    params : dict with key value pairs -- the data generating parameters\n",
    "    n_obs  : int -- the numebr of observations to draw from p(x|theta)\n",
    "    ----------\n",
    "    \n",
    "    Output:\n",
    "    x      : np.ndarray of shape (n_obs, x_dim)\n",
    "    \"\"\"\n",
    "    \n",
    "    # Again, toy\n",
    "    x = simulate_diffusion(**params, n_points=n_obs) \n",
    "    return x\n",
    "\n",
    "def forward_model6(params, n_obs, **args):\n",
    "    \"\"\"\n",
    "    Runs the forward model once, i.e., generates a sample from p(x|theta, m).\n",
    "    ----------\n",
    "    \n",
    "    Arguments:\n",
    "    params : dict with key value pairs -- the data generating parameters\n",
    "    n_obs  : int -- the numebr of observations to draw from p(x|theta)\n",
    "    ----------\n",
    "    \n",
    "    Output:\n",
    "    x      : np.ndarray of shape (n_obs, x_dim)\n",
    "    \"\"\"\n",
    "    \n",
    "    # Again, toy\n",
    "    x = simulate_diffusion(**params, n_points=n_obs) \n",
    "    return x"
   ]
  },
  {
   "cell_type": "markdown",
   "metadata": {},
   "source": [
    "## Data generator\n",
    "<p>Define the algorithm:</p>\n",
    "1. <strong>for</strong> $i = 1,...,B$<br>\n",
    "2. &emsp;$\\boldsymbol{m}^{(i)} \\sim p(\\boldsymbol{m})$<br>\n",
    "3. &emsp;$\\boldsymbol{\\theta}^{(i)} \\sim p(\\boldsymbol{\\theta}|\\boldsymbol{m}^{(i)})$<br>\n",
    "4. &emsp;$\\boldsymbol{x}_{1:N}^{(i)} \\sim p(\\boldsymbol{x}|\\boldsymbol{\\theta}^{(i)},\\boldsymbol{m}^{(i)})$"
   ]
  },
  {
   "cell_type": "code",
   "execution_count": 8,
   "metadata": {},
   "outputs": [],
   "source": [
    "def data_generator(batch_size, model_prior, param_priors, forward_models, alpha_smooth=None,\n",
    "                   n_obs=None, n_obs_min=100, n_obs_max=500, to_tensor=True, **args):\n",
    "    \"\"\"\n",
    "    Runs the forward model 'batch_size' times by first sampling fromt the prior\n",
    "    theta ~ p(theta) and running x ~ p(x|theta).\n",
    "    ----------\n",
    "    \n",
    "    Arguments:\n",
    "    batch_size     : int -- the number of samples to draw from the prior\n",
    "    model_prior    : callable -- the prior which returns a sample of model indices\n",
    "    param_priors   : list of callables -- a list with model prior samplers\n",
    "    forward_models : list of generative models g(theta) -- a list of generatibve models\n",
    "    alpha_smooth   : float or None -- the label smoothing hyperparameter\n",
    "    n_obs          : int -- the numebr of observations to draw from p(x|theta)\n",
    "    n_obs_min      : int -- used when n_obs is None, draws n_obs ~ U(n_obs_min, n_obs_max)\n",
    "    n_obs_max      : int -- used when n_obs is None, draws n_obs ~ U(n_obs_min, n_obs_max)\n",
    "    to_tensor      : boolean -- converts theta and x to tensors if True\n",
    "    ----------\n",
    "    \n",
    "    Output:\n",
    "    m     : tf.Tensor or np.ndarray of shape (batch_size, n_models) - the one-hot encoded version of the models\n",
    "    x     : tf.Tensor of np.ndarray of shape (batch_size, n_obs, x_dim)  - the generated data\n",
    "    \"\"\"\n",
    "    \n",
    "    # Sample from model prior\n",
    "    # m_indices is an np.int32 array of model indices  \n",
    "    n_models = len(forward_models)\n",
    "    m_indices = model_prior(batch_size, n_models)\n",
    "    \n",
    "    # Sample N, if not specified\n",
    "    if n_obs is None:\n",
    "        n_obs = np.random.randint(low=n_obs_min, high=n_obs_max+1)\n",
    "    \n",
    "    # For each model index, sample from prior and run generative model.\n",
    "    x = []\n",
    "    theta = []\n",
    "    for m_idx in m_indices:\n",
    "        \n",
    "        # Draw from model prior theta ~ p(theta|\n",
    "        theta_m = param_priors[m_idx]()\n",
    "        \n",
    "        # Generate data from x = g_m(theta) <=> x ~ p(x|theta,m)\n",
    "        x_m = forward_models[m_idx](theta_m, n_obs=n_obs)\n",
    "        \n",
    "        # Store data and params\n",
    "        x.append(x_m)\n",
    "    \n",
    "    # One-hot encode model indices\n",
    "    m = to_categorical(m_indices, num_classes=n_models)\n",
    "    \n",
    "    if alpha_smooth is not None:\n",
    "        m = m * (1 - alpha_smooth) + alpha_smooth / n_models\n",
    "    \n",
    "    # Convert to tensor, if specified \n",
    "    if to_tensor:\n",
    "        x = tf.convert_to_tensor(x, dtype=tf.float32)\n",
    "        m = tf.convert_to_tensor(m, dtype=tf.float32)\n",
    "    return {'m': m, 'x': x}"
   ]
  },
  {
   "cell_type": "markdown",
   "metadata": {},
   "source": [
    "## Utilities"
   ]
  },
  {
   "cell_type": "code",
   "execution_count": 9,
   "metadata": {},
   "outputs": [],
   "source": [
    "def plot_calibration(model, test_data_c, model_names, n_chunks=10, n_bins=15):\n",
    "    \n",
    "    # Compute probabilities and calibrations\n",
    "    preds = np.concatenate([model.predict(x, to_numpy=True)['m_probs'] \n",
    "                            for x in tf.split(test_data_c['x'], n_chunks, axis=0)], axis=0)\n",
    "    cal_errs, cal_probs = expected_calibration_error(test_data_c['m'], preds, n_bins=n_bins)\n",
    "    \n",
    "    # Plot calibration curves\n",
    "    f, axarr = plt.subplots(2, 3, figsize=(10, 6))\n",
    "    for i, ax in enumerate(axarr.flat):\n",
    "        ax.plot(cal_probs[i][0], cal_probs[i][1])\n",
    "        ax.plot(ax.get_xlim(), ax.get_xlim(), '--', color='black')\n",
    "        ax.spines['right'].set_visible(False)\n",
    "        ax.spines['top'].set_visible(False)\n",
    "        ax.set_xlim([0, 1])\n",
    "        ax.set_ylim([0, 1])\n",
    "        ax.set_title(model_names[i])\n",
    "        ax.set_xlabel('Accuracy')\n",
    "        ax.set_ylabel('Confidence')\n",
    "        ax.set_xticks([0.2, 0.4, 0.6, 0.8, 1.0])\n",
    "        ax.set_yticks([0.2, 0.4, 0.6, 0.8, 1.0])\n",
    "    f.tight_layout()"
   ]
  },
  {
   "cell_type": "code",
   "execution_count": 10,
   "metadata": {},
   "outputs": [],
   "source": [
    "def load_validation_data():\n",
    "    \n",
    "    X = np.load('./sim_data/validation/X_diff.npy')\n",
    "    m = np.load('./sim_data/validation/m_diff.npy')\n",
    "    \n",
    "    X_cal = np.load('./sim_data/validation/X_cal_diff.npy')\n",
    "    m_cal = np.load('./sim_data/validation/m_cal_diff.npy')\n",
    "    \n",
    "    return ({'x': tf.convert_to_tensor(X, dtype=tf.float32), \n",
    "             'm': tf.convert_to_tensor(m, dtype=tf.float32)},\n",
    "            \n",
    "            {'x': tf.convert_to_tensor(X_cal, dtype=tf.float32), \n",
    "             'm': tf.convert_to_tensor(m_cal, dtype=tf.float32)}\n",
    "           ) "
   ]
  },
  {
   "cell_type": "markdown",
   "metadata": {},
   "source": [
    "# Train network with KL"
   ]
  },
  {
   "cell_type": "code",
   "execution_count": 10,
   "metadata": {},
   "outputs": [],
   "source": [
    "#--- Training hyperparameters ---#\n",
    "ckpt_file = \"diffusion_model_selection/var\"\n",
    "batch_size = 64\n",
    "epochs = 50\n",
    "iterations_per_epoch = 1000\n",
    "n_obs = 50\n",
    "n_obs_min = 1\n",
    "n_obs_max = 300\n",
    "n_test = 500\n",
    "alpha_smooth = None\n",
    "\n",
    "\n",
    "#--- Optimizer hyperparameters ---#\n",
    "starter_learning_rate = 0.0005\n",
    "global_step = tfe.Variable(0, dtype=tf.int32)\n",
    "decay_steps = 1000\n",
    "decay_rate = .99\n",
    "learning_rate = tf.train.exponential_decay(starter_learning_rate, global_step, \n",
    "                                           decay_steps, decay_rate, staircase=True)\n",
    "optimizer = tf.train.AdamOptimizer(learning_rate=learning_rate)\n",
    "\n",
    "\n",
    "#--- Generative model hyperparameters ---#\n",
    "\n",
    "model_names = ['Diff1', \n",
    "               'Diff2', \n",
    "               'Diff3', \n",
    "               'Diff4', \n",
    "               'Diff5', \n",
    "               'Diff6']\n",
    "model_names_l = [r'$\\mathcal{M}_{1}$', r'$\\mathcal{M}_{2}$', r'$\\mathcal{M}_{3}$',\n",
    "                 r'$\\mathcal{M}_{4}$', r'$\\mathcal{M}_{5}$', r'$\\mathcal{M}_{6}$']\n",
    "\n",
    "param_priors = [model1_params_prior, \n",
    "                model2_params_prior, \n",
    "                model3_params_prior,\n",
    "                model4_params_prior, \n",
    "                model5_params_prior,\n",
    "                model6_params_prior]\n",
    "\n",
    "forward_models = [forward_model1, \n",
    "                  forward_model2, \n",
    "                  forward_model3,\n",
    "                  forward_model4, \n",
    "                  forward_model5,\n",
    "                  forward_model6]\n",
    "\n",
    "data_gen = partial(data_generator, \n",
    "                   model_prior=model_prior, \n",
    "                   param_priors=param_priors,\n",
    "                   forward_models=forward_models,\n",
    "                   n_obs_max=n_obs_max,\n",
    "                   n_obs_min=n_obs_min)"
   ]
  },
  {
   "cell_type": "markdown",
   "metadata": {},
   "source": [
    "## Create test data"
   ]
  },
  {
   "cell_type": "code",
   "execution_count": 12,
   "metadata": {},
   "outputs": [
    {
     "name": "stdout",
     "output_type": "stream",
     "text": [
      "Wall time: 92.1 ms\n"
     ]
    }
   ],
   "source": [
    "%%time\n",
    "test_data, test_data_c = load_validation_data() "
   ]
  },
  {
   "cell_type": "markdown",
   "metadata": {},
   "source": [
    "## Create model"
   ]
  },
  {
   "cell_type": "code",
   "execution_count": 13,
   "metadata": {},
   "outputs": [],
   "source": [
    "model = DeepEvidentialModel(EVIDENTIAL_DIFFUSION)"
   ]
  },
  {
   "cell_type": "markdown",
   "metadata": {},
   "source": [
    "## Manage checkpoints"
   ]
  },
  {
   "cell_type": "code",
   "execution_count": 14,
   "metadata": {},
   "outputs": [
    {
     "name": "stdout",
     "output_type": "stream",
     "text": [
      "Restored from ./checkpoints/diffusion_model_selection\\ckpt-46\n"
     ]
    }
   ],
   "source": [
    "checkpoint = tf.train.Checkpoint(step=global_step, optimizer=optimizer, net=model)\n",
    "manager = tf.train.CheckpointManager(checkpoint, './checkpoints/{}'.format(ckpt_file), max_to_keep=2)\n",
    "checkpoint.restore(manager.latest_checkpoint)\n",
    "if manager.latest_checkpoint:\n",
    "    print(\"Restored from {}\".format(manager.latest_checkpoint))\n",
    "else:\n",
    "    print(\"Initializing from scratch.\")"
   ]
  },
  {
   "cell_type": "markdown",
   "metadata": {},
   "source": [
    "## Train network"
   ]
  },
  {
   "cell_type": "code",
   "execution_count": 23,
   "metadata": {},
   "outputs": [],
   "source": [
    "%%time\n",
    "for ep in range(1, epochs+1):\n",
    "    with tqdm(total=iterations_per_epoch, desc='Training epoch {}'.format(ep)) as p_bar:\n",
    "        losses = train_online(model=model, \n",
    "                              optimizer=optimizer, \n",
    "                              data_gen=data_gen, \n",
    "                              loss_fun=partial(log_loss, lambd=0.1), \n",
    "                              iterations=iterations_per_epoch,\n",
    "                              batch_size=batch_size,\n",
    "                              p_bar=p_bar,\n",
    "                              global_step=global_step,\n",
    "                              method='evidence')\n",
    "        \n",
    "        \n",
    "        # Plot stuff\n",
    "        m_pred = model(test_data['x'])['m_probs']\n",
    "        plot_confusion_matrix(m_pred.numpy().argmax(axis=1), test_data['m'], model_names, figsize=(8,4),normalize=True)\n",
    "        print(accuracy(test_data['m'], m_pred))\n",
    "        \n",
    "        # Calibration\n",
    "        plot_calibration(model, test_data_c, model_names_l)\n",
    "\n",
    "        # Store checkpoint\n",
    "        manager.save()"
   ]
  },
  {
   "cell_type": "markdown",
   "metadata": {},
   "source": [
    "## Validate network"
   ]
  },
  {
   "cell_type": "markdown",
   "metadata": {},
   "source": [
    "### Accuracy and uncertainty"
   ]
  },
  {
   "cell_type": "code",
   "execution_count": 91,
   "metadata": {},
   "outputs": [],
   "source": [
    "accs_stds = []\n",
    "us_stds = []\n",
    "resolution = 100\n",
    "n_bootstrap = 50\n",
    "ns = np.linspace(n_obs_min, n_obs_max, resolution).astype(np.int32)\n",
    "\n",
    "# loop through possible Ns\n",
    "for n in ns:\n",
    "    \n",
    "    # For each bootstrap sample, compute accuracy and uncertainty\n",
    "    accs_n = []\n",
    "    us_n = []\n",
    "    for b in range(n_bootstrap):\n",
    "        \n",
    "        b_idx = np.random.choice(np.random.permutation(n_obs_max), size=n, replace=False)\n",
    "        x_b = tf.gather(test_data['x'], b_idx, axis=1)\n",
    "        out_b = model.predict(x_b)\n",
    "        acc_b = accuracy(test_data['m'], out_b['m_probs'])\n",
    "        u_b = out_b['uncertainty'].mean()\n",
    "        accs_n.append(acc_b)\n",
    "        us_n.append(u_b)\n",
    "    \n",
    "    # Get mean and std of the bootstrap result for n number of obs\n",
    "    accs_stds.append((np.mean(accs_n), np.std(accs_n, ddof=1)))\n",
    "    us_stds.append((np.mean(us_n), np.std(us_n, ddof=1)))\n",
    "    \n",
    "# Extract into numpy arrays \n",
    "accs = np.array([a[0] for a in accs_stds])\n",
    "accs_stds = np.array([a[1] for a in accs_stds])\n",
    "us = np.array([u[0] for u in us_stds])\n",
    "us_stds = np.array([u[1] for u in us_stds])"
   ]
  },
  {
   "cell_type": "code",
   "execution_count": 102,
   "metadata": {},
   "outputs": [
    {
     "data": {
      "image/png": "[encoded data removed]",
      "text/plain": [
       "<Figure size 720x288 with 2 Axes>"
      ]
     },
     "metadata": {
      "needs_background": "light"
     },
     "output_type": "display_data"
    }
   ],
   "source": [
    "plt.rcParams['font.size'] = 12\n",
    "\n",
    "f, ax = plt.subplots(1, 2, figsize=(10, 4))\n",
    "\n",
    "ax[0].plot(ns, accs)\n",
    "ax[0].fill_between(ns, \n",
    "                accs-1.98*accs_stds, \n",
    "                accs+1.98*accs_stds, \n",
    "                interpolate=True, alpha=0.2)\n",
    "ax[0].spines['right'].set_visible(False)\n",
    "ax[0].spines['top'].set_visible(False)\n",
    "ax[0].set_xlabel(r'Sample Size $N$')\n",
    "ax[0].set_ylabel('Accuracy')\n",
    "\n",
    "\n",
    "ax[1].plot(ns, us)\n",
    "ax[1].fill_between(ns, \n",
    "                us-1.98*us_stds, \n",
    "                us+1.98*us_stds, \n",
    "                interpolate=True, alpha=0.2)\n",
    "ax[1].spines['right'].set_visible(False)\n",
    "ax[1].spines['top'].set_visible(False)\n",
    "ax[1].set_xlabel(r'Sample Size $N$')\n",
    "ax[1].set_ylabel('Uncertainty')\n",
    "\n",
    "f.tight_layout()"
   ]
  },
  {
   "cell_type": "markdown",
   "metadata": {},
   "source": [
    "### Calibration"
   ]
  },
  {
   "cell_type": "code",
   "execution_count": 22,
   "metadata": {},
   "outputs": [
    {
     "data": {
      "image/png": "[encoded data removed]",
      "text/plain": [
       "<Figure size 720x432 with 6 Axes>"
      ]
     },
     "metadata": {
      "needs_background": "light"
     },
     "output_type": "display_data"
    }
   ],
   "source": [
    "plot_calibration(model, test_data_c, model_names_l)"
   ]
  },
  {
   "cell_type": "markdown",
   "metadata": {},
   "source": [
    "### Test Occam's Razor"
   ]
  },
  {
   "cell_type": "code",
   "execution_count": 138,
   "metadata": {},
   "outputs": [],
   "source": [
    "data_d1 = np.array([simulate_diffusion(**model1_params_prior(), n_points=n_obs_max) for _ in range(n_test)])\n",
    "data_d2 = np.array([simulate_diffusion(**model2_params_prior(), n_points=n_obs_max) for _ in range(n_test)])\n",
    "data_d3 = np.array([simulate_diffusion(**model3_params_prior(), n_points=n_obs_max) for _ in range(n_test)])\n",
    "data_d4 = np.array([simulate_diffusion(**model4_params_prior(), n_points=n_obs_max) for _ in range(n_test)])\n",
    "data_d5 = np.array([simulate_diffusion(**model5_params_prior(), n_points=n_obs_max) for _ in range(n_test)])\n",
    "data_d6 = np.array([simulate_diffusion(**model6_params_prior(), n_points=n_obs_max) for _ in range(n_test)])"
   ]
  },
  {
   "cell_type": "code",
   "execution_count": 139,
   "metadata": {},
   "outputs": [],
   "source": [
    "out = []\n",
    "for d in [data_d1, data_d2, data_d3, data_d4, data_d5, data_d6]:\n",
    "    d = tf.convert_to_tensor(d, dtype=tf.float32)\n",
    "    out.append(model.predict(d))"
   ]
  },
  {
   "cell_type": "code",
   "execution_count": 165,
   "metadata": {},
   "outputs": [
    {
     "data": {
      "image/png": "[encoded data removed]",
      "text/plain": [
       "<Figure size 1152x576 with 6 Axes>"
      ]
     },
     "metadata": {
      "needs_background": "light"
     },
     "output_type": "display_data"
    }
   ],
   "source": [
    "ms = [r'$\\mathcal{M}_{1}$', r'$\\mathcal{M}_{2}$', r'$\\mathcgmal{M}_{3}$',\n",
    "      r'$\\mathcal{M}_{4}$', r'$\\mathcal{M}_{5}$', r'$\\mathcal{M}_{6}$']\n",
    "\n",
    "plt.rcParams['font.size'] = 12\n",
    "error_kw = {'capsize': 5, 'capthick': 1, 'ecolor': 'black'}\n",
    "xpos = np.arange(len(model_names))\n",
    "f, axarr = plt.subplots(2, 3, figsize=(16, 8))\n",
    "for i, ax in enumerate(axarr.flat):\n",
    "    ax.bar(ms,out[i]['m_probs'].mean(axis=0), \n",
    "           yerr=out[i]['m_probs'].var(axis=0), error_kw=error_kw, color=sns.color_palette()[i])\n",
    "    ax.set_xticks(xpos, ms)\n",
    "    ax.set_title('True Model: {}'.format(ms[i]))\n",
    "    ax.set_ylabel('Mean Predicted Probability')\n",
    "    ax.spines['right'].set_visible(False)\n",
    "    ax.spines['top'].set_visible(False)\n",
    "    ax.set_ylim([0, 0.9])\n",
    "f.tight_layout()\n",
    "f.savefig(\"figures/dm_bars.png\", dpi=300)"
   ]
  },
  {
   "cell_type": "markdown",
   "metadata": {},
   "source": [
    "### Latent space viz"
   ]
  },
  {
   "cell_type": "code",
   "execution_count": 235,
   "metadata": {},
   "outputs": [],
   "source": [
    "summary = model.compute_summary(test_data['x']).numpy()\n",
    "m_pred = model(test_data['x'])['m_probs'].numpy().argmax(axis=1)\n",
    "\n",
    "tsne = TSNE(n_components=2, verbose=1, perplexity=100, n_iter=1000)\n",
    "tsne_results = tsne.fit_transform(summary)\n",
    "\n",
    "f, ax = plt.subplots(1, 2, figsize=(15, 6))\n",
    "\n",
    "sns.scatterplot(\n",
    "    x=tsne_results[:, 0], \n",
    "    y=tsne_results[:, 1],\n",
    "    hue=test_data['m'].numpy().argmax(axis=1),\n",
    "    palette=sns.color_palette(\"hls\", 6),\n",
    "    legend=\"full\",\n",
    "    alpha=0.9,\n",
    "    ax=ax[0]\n",
    ")\n",
    "\n",
    "sns.scatterplot(\n",
    "    x=tsne_results[:, 0], \n",
    "    y=tsne_results[:, 1],\n",
    "    hue=m_pred,\n",
    "    palette=sns.color_palette(\"hls\", 6),\n",
    "    legend=\"full\",\n",
    "    alpha=0.9,\n",
    "    ax=ax[1]\n",
    ")\n",
    "\n",
    "ax[0].set_title('Latent space projection true')\n",
    "ax[1].set_title('Latent space projection predicted')"
   ]
  },
  {
   "cell_type": "markdown",
   "metadata": {},
   "source": [
    "# Train network without KL"
   ]
  },
  {
   "cell_type": "code",
   "execution_count": 11,
   "metadata": {},
   "outputs": [],
   "source": [
    "#--- Training hyperparameters ---#\n",
    "ckpt_file = \"diffusion_model_selection/fixed\"\n",
    "batch_size = 64\n",
    "epochs = 50\n",
    "iterations_per_epoch = 1000\n",
    "n_obs = 50\n",
    "n_obs_min = 1\n",
    "n_obs_max = 300\n",
    "n_test = 500\n",
    "alpha_smooth = None\n",
    "\n",
    "\n",
    "#--- Optimizer hyperparameters ---#\n",
    "starter_learning_rate = 0.0005\n",
    "global_step = tfe.Variable(0, dtype=tf.int32)\n",
    "decay_steps = 1000\n",
    "decay_rate = .99\n",
    "learning_rate = tf.train.exponential_decay(starter_learning_rate, global_step, \n",
    "                                           decay_steps, decay_rate, staircase=True)\n",
    "optimizer = tf.train.AdamOptimizer(learning_rate=learning_rate)\n",
    "\n",
    "\n",
    "#--- Generative model hyperparameters ---#\n",
    "\n",
    "model_names = ['Diff1', \n",
    "               'Diff2', \n",
    "               'Diff3', \n",
    "               'Diff4', \n",
    "               'Diff5', \n",
    "               'Diff6']\n",
    "\n",
    "model_names_l = [r'$\\mathcal{M}_{1}$', r'$\\mathcal{M}_{2}$', r'$\\mathcal{M}_{3}$',\n",
    "                 r'$\\mathcal{M}_{4}$', r'$\\mathcal{M}_{5}$', r'$\\mathcal{M}_{6}$']\n",
    "\n",
    "param_priors = [model1_params_prior, \n",
    "                model2_params_prior, \n",
    "                model3_params_prior,\n",
    "                model4_params_prior, \n",
    "                model5_params_prior,\n",
    "                model6_params_prior]\n",
    "\n",
    "forward_models = [forward_model1, \n",
    "                  forward_model2, \n",
    "                  forward_model3,\n",
    "                  forward_model4, \n",
    "                  forward_model5,\n",
    "                  forward_model6]\n",
    "\n",
    "data_gen = partial(data_generator, \n",
    "                   model_prior=model_prior, \n",
    "                   param_priors=param_priors,\n",
    "                   forward_models=forward_models,\n",
    "                   n_obs_max=n_obs_max,\n",
    "                   n_obs_min=n_obs_min)"
   ]
  },
  {
   "cell_type": "markdown",
   "metadata": {},
   "source": [
    "## Create network"
   ]
  },
  {
   "cell_type": "code",
   "execution_count": 13,
   "metadata": {},
   "outputs": [],
   "source": [
    "model_unreg = DeepEvidentialModel(EVIDENTIAL_DIFFUSION)"
   ]
  },
  {
   "cell_type": "markdown",
   "metadata": {},
   "source": [
    "## Manage checkpoints"
   ]
  },
  {
   "cell_type": "code",
   "execution_count": 14,
   "metadata": {},
   "outputs": [
    {
     "name": "stdout",
     "output_type": "stream",
     "text": [
      "Restored from ./checkpoints/diffusion_model_selection/fixed\\ckpt-33\n"
     ]
    }
   ],
   "source": [
    "checkpoint = tf.train.Checkpoint(step=global_step, optimizer=optimizer, net=model_unreg)\n",
    "manager = tf.train.CheckpointManager(checkpoint, './checkpoints/{}'.format(ckpt_file), max_to_keep=2)\n",
    "checkpoint.restore(manager.latest_checkpoint)\n",
    "if manager.latest_checkpoint:\n",
    "    print(\"Restored from {}\".format(manager.latest_checkpoint))\n",
    "else:\n",
    "    print(\"Initializing from scratch.\")"
   ]
  },
  {
   "cell_type": "markdown",
   "metadata": {},
   "source": [
    "## Train network"
   ]
  },
  {
   "cell_type": "code",
   "execution_count": 16,
   "metadata": {},
   "outputs": [],
   "source": [
    "%%time\n",
    "for ep in range(1, 17+1):\n",
    "    with tqdm(total=iterations_per_epoch, desc='Training epoch {}'.format(ep)) as p_bar:\n",
    "        losses = train_online(model=model_unreg, \n",
    "                              optimizer=optimizer, \n",
    "                              data_gen=data_gen, \n",
    "                              loss_fun=partial(log_loss, lambd=0.0), \n",
    "                              iterations=iterations_per_epoch,\n",
    "                              batch_size=batch_size,\n",
    "                              p_bar=p_bar,\n",
    "                              global_step=global_step,\n",
    "                              method='evidence')\n",
    "        \n",
    "        \n",
    "        # Plot stuff\n",
    "        m_pred = model_unreg(test_data['x'])['m_probs']\n",
    "        plot_confusion_matrix(m_pred.numpy().argmax(axis=1), test_data['m'], model_names, figsize=(8,4),normalize=True)\n",
    "        print(accuracy(test_data['m'], m_pred))\n",
    "        \n",
    "        # Calibration\n",
    "        plot_calibration(model_unreg, test_data_c, model_names_l)\n",
    "\n",
    "        # Store checkpoint\n",
    "        manager.save()"
   ]
  },
  {
   "cell_type": "markdown",
   "metadata": {},
   "source": [
    "## Validate network"
   ]
  },
  {
   "cell_type": "code",
   "execution_count": 17,
   "metadata": {},
   "outputs": [
    {
     "data": {
      "image/png": "[encoded data removed]",
      "text/plain": [
       "<Figure size 720x432 with 6 Axes>"
      ]
     },
     "metadata": {
      "needs_background": "light"
     },
     "output_type": "display_data"
    }
   ],
   "source": [
    "plot_calibration(model_unreg, test_data_c, model_names_l)"
   ]
  },
  {
   "cell_type": "code",
   "execution_count": null,
   "metadata": {},
   "outputs": [],
   "source": []
  },
  {
   "cell_type": "markdown",
   "metadata": {},
   "source": [
    "# Compare models"
   ]
  },
  {
   "cell_type": "markdown",
   "metadata": {},
   "source": [
    "## Hyperparameters"
   ]
  },
  {
   "cell_type": "code",
   "execution_count": 85,
   "metadata": {},
   "outputs": [],
   "source": [
    "# Training hyperparameters\n",
    "batch_size = 64\n",
    "epochs = 1\n",
    "iterations_per_epoch = 10\n",
    "n_obs_min = 2\n",
    "n_obs_max = 500\n",
    "n_test = 500\n",
    "alpha_smooth = None\n",
    "starter_learning_rate = 0.0005\n",
    "decay_steps = 1000\n",
    "decay_rate = .99"
   ]
  },
  {
   "cell_type": "markdown",
   "metadata": {},
   "source": [
    "## Competitors"
   ]
  },
  {
   "cell_type": "code",
   "execution_count": 86,
   "metadata": {},
   "outputs": [],
   "source": [
    "# Competitor models\n",
    "models = {\n",
    "    'evidential': {\n",
    "        'model': DeepEvidentialModel(EVIDENTIAL_DIFFUSION),\n",
    "        'checkpoint': 'diffusion_model_selection_evidential',\n",
    "        'train_fn': partial(train_online, loss_fun=log_loss, method='evidence')\n",
    "    },\n",
    "    \n",
    "    'softmax': {\n",
    "        'model': SoftmaxModel(SOFTMAX_DIFFUSION),\n",
    "        'checkpoint': \"diffusion_model_selection_softmax\",\n",
    "        'train_fn': train_online_softmax\n",
    "    },\n",
    "    \n",
    "    'dropout': {\n",
    "        'model': MCDropOutModel(DROPOUT_DIFFUSION),\n",
    "        'checkpoint': 'diffusion_model_selection_dropout',\n",
    "        'train_fn': train_online_dropout\n",
    "    },\n",
    "    \n",
    "    'infovae': {\n",
    "        'model': VAE(VAE_DIFFUSION),\n",
    "        'checkpoint': \"diffusion_model_selection_infovae\",\n",
    "        'train_fn': partial(train_online_vae, regularization='MMD', regularization_weight=0.1)\n",
    "    },\n",
    "    \n",
    "    'vae': {\n",
    "        'model': VAE(VAE_DIFFUSION),\n",
    "        'checkpoint': \"diffusion_model_selection_vae\",\n",
    "        'train_fn': partial(train_online_vae, regularization='KL', regularization_weight=0.1)\n",
    "    }\n",
    "}"
   ]
  },
  {
   "cell_type": "markdown",
   "metadata": {},
   "source": [
    "## Data generator"
   ]
  },
  {
   "cell_type": "code",
   "execution_count": 87,
   "metadata": {},
   "outputs": [],
   "source": [
    "# Generative model hyperparameters\n",
    "model_names = ['Diff1', 'Diff2', 'Diff3', 'Diff4', 'Diff5', 'Diff6']\n",
    "\n",
    "param_priors = [model1_params_prior, \n",
    "                model2_params_prior, \n",
    "                model3_params_prior,\n",
    "                model4_params_prior, \n",
    "                model5_params_prior,\n",
    "                model6_params_prior]\n",
    "\n",
    "forward_models = [forward_model1, \n",
    "                  forward_model2, \n",
    "                  forward_model3,\n",
    "                  forward_model4, \n",
    "                  forward_model5,\n",
    "                  forward_model6]\n",
    "\n",
    "\n",
    "data_gen = partial(data_generator, \n",
    "                   model_prior=model_prior, \n",
    "                   param_priors=param_priors,\n",
    "                   forward_models=forward_models,\n",
    "                   n_obs_min=n_obs_min,\n",
    "                   n_obs_max=n_obs_max)"
   ]
  },
  {
   "cell_type": "markdown",
   "metadata": {},
   "source": [
    "## Train all models"
   ]
  },
  {
   "cell_type": "code",
   "execution_count": 89,
   "metadata": {},
   "outputs": [],
   "source": [
    "times = []\n",
    "\n",
    "# Train all models\n",
    "for model_name, model in models.items():\n",
    "    \n",
    "    \n",
    "    # Create optimizer\n",
    "    global_step = tfe.Variable(0, dtype=tf.int32)\n",
    "    learning_rate = tf.train.exponential_decay(starter_learning_rate,\n",
    "                                               global_step, decay_steps, decay_rate, staircase=True)\n",
    "    optimizer = tf.train.AdamOptimizer(learning_rate=learning_rate)\n",
    "    \n",
    "    # Create checkpoint manager\n",
    "    checkpoint = tf.train.Checkpoint(step=global_step, \n",
    "                                     optimizer=optimizer, \n",
    "                                     net=model['model'])\n",
    "    manager = tf.train.CheckpointManager(checkpoint, \n",
    "                                         './checkpoints/{}'.format(model['checkpoint']), \n",
    "                                         max_to_keep=2)\n",
    "    \n",
    "    start = timeit.default_timer()\n",
    "    # Loop for each epoch\n",
    "    for ep in range(1, epochs+1):\n",
    "        with tqdm(total=iterations_per_epoch, desc='{}, Training epoch {}'.format(model_name.capitalize(), ep)) as p_bar:\n",
    "            losses = model['train_fn'](model=model['model'], \n",
    "                                       optimizer=optimizer, \n",
    "                                       data_gen=data_gen, \n",
    "                                       iterations=iterations_per_epoch,\n",
    "                                       batch_size=batch_size,\n",
    "                                       p_bar=p_bar,\n",
    "                                       global_step=global_step)\n",
    "            manager.save()\n",
    "    stop = timeit.default_timer()\n",
    "    times.append(stop - start)"
   ]
  },
  {
   "cell_type": "code",
   "execution_count": null,
   "metadata": {},
   "outputs": [],
   "source": []
  }
 ],
 "metadata": {
  "kernelspec": {
   "display_name": "Python 3",
   "language": "python",
   "name": "python3"
  },
  "language_info": {
   "codemirror_mode": {
    "name": "ipython",
    "version": 3
   },
   "file_extension": ".py",
   "mimetype": "text/x-python",
   "name": "python",
   "nbconvert_exporter": "python",
   "pygments_lexer": "ipython3",
   "version": "3.6.8"
  },
  "toc": {
   "base_numbering": 1,
   "nav_menu": {},
   "number_sections": true,
   "sideBar": true,
   "skip_h1_title": false,
   "title_cell": "Table of Contents",
   "title_sidebar": "Contents",
   "toc_cell": false,
   "toc_position": {
    "height": "calc(100% - 180px)",
    "left": "10px",
    "top": "150px",
    "width": "199.6px"
   },
   "toc_section_display": true,
   "toc_window_display": true
  }
 },
 "nbformat": 4,
 "nbformat_minor": 2
}
