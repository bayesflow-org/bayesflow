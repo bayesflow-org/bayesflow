{
 "cells": [
  {
   "cell_type": "markdown",
   "id": "009b6adf",
   "metadata": {},
   "source": [
    "# Two Moons: Tackling Bimodal Posteriors\n",
    "\n",
    "_Authors: Lars Kühmichel, Marvin Schmitt, Valentin Pratz, Stefan T. Radev_"
   ]
  },
  {
   "cell_type": "code",
   "execution_count": 1,
   "id": "1b50a364-4043-42cf-a7d4-267dd72a1345",
   "metadata": {},
   "outputs": [],
   "source": [
    "%load_ext autoreload\n",
    "%autoreload 2"
   ]
  },
  {
   "cell_type": "code",
   "execution_count": 2,
   "id": "d5f88a59",
   "metadata": {
    "ExecuteTime": {
     "end_time": "2025-04-11T19:54:01.403328Z",
     "start_time": "2025-04-11T19:53:24.823026Z"
    }
   },
   "outputs": [],
   "source": [
    "import os\n",
    "# Set to your favorite backend\n",
    "if \"KERAS_BACKEND\" not in os.environ:\n",
    "    # set this to \"torch\", \"tensorflow\", or \"jax\"\n",
    "    os.environ[\"KERAS_BACKEND\"] = \"tensorflow\"\n",
    "else:\n",
    "    print(f\"Using '{os.environ['KERAS_BACKEND']}' backend\")"
   ]
  },
  {
   "cell_type": "code",
   "execution_count": 3,
   "id": "0551e46f",
   "metadata": {},
   "outputs": [
    {
     "name": "stderr",
     "output_type": "stream",
     "text": [
      "2025-04-29 08:45:08.361053: E external/local_xla/xla/stream_executor/cuda/cuda_fft.cc:477] Unable to register cuFFT factory: Attempting to register factory for plugin cuFFT when one has already been registered\n",
      "WARNING: All log messages before absl::InitializeLog() is called are written to STDERR\n",
      "E0000 00:00:1745916308.373731   71278 cuda_dnn.cc:8310] Unable to register cuDNN factory: Attempting to register factory for plugin cuDNN when one has already been registered\n",
      "E0000 00:00:1745916308.378030   71278 cuda_blas.cc:1418] Unable to register cuBLAS factory: Attempting to register factory for plugin cuBLAS when one has already been registered\n",
      "2025-04-29 08:45:08.393220: I tensorflow/core/platform/cpu_feature_guard.cc:210] This TensorFlow binary is optimized to use available CPU instructions in performance-critical operations.\n",
      "To enable the following instructions: AVX2 FMA, in other operations, rebuild TensorFlow with the appropriate compiler flags.\n",
      "2025-04-29 08:45:09.884415: E external/local_xla/xla/stream_executor/cuda/cuda_driver.cc:152] failed call to cuInit: INTERNAL: CUDA error: Failed call to cuInit: UNKNOWN ERROR (303)\n"
     ]
    }
   ],
   "source": [
    "import numpy as np\n",
    "\n",
    "import matplotlib.pyplot as plt\n",
    "import seaborn as sns\n",
    "\n",
    "import bayesflow as bf"
   ]
  },
  {
   "cell_type": "markdown",
   "id": "c63b26ba",
   "metadata": {},
   "source": [
    "## Simulator<a class=\"anchor\" id=\"simulator\"></a>"
   ]
  },
  {
   "cell_type": "code",
   "execution_count": 4,
   "id": "4b89c861527c13b8",
   "metadata": {
    "ExecuteTime": {
     "end_time": "2024-10-24T08:36:22.305265Z",
     "start_time": "2024-10-24T08:36:22.301546Z"
    }
   },
   "outputs": [],
   "source": [
    "from bayesflow.simulators.benchmark_simulators import TwoMoons\n",
    "\n",
    "simulator = TwoMoons()"
   ]
  },
  {
   "cell_type": "markdown",
   "id": "f6e1eb5777c59eba",
   "metadata": {},
   "source": [
    "Let's generate some data to see what the simulator does:"
   ]
  },
  {
   "cell_type": "code",
   "execution_count": 5,
   "id": "e6218e61d529e357",
   "metadata": {
    "ExecuteTime": {
     "end_time": "2024-10-24T08:36:22.350483Z",
     "start_time": "2024-10-24T08:36:22.345161Z"
    }
   },
   "outputs": [],
   "source": [
    "# generate 3 random draws from the joint distribution p(r, alpha, theta, x)\n",
    "sample_data = simulator.sample(3)"
   ]
  },
  {
   "cell_type": "code",
   "execution_count": 6,
   "id": "46174ccb0167026c",
   "metadata": {
    "ExecuteTime": {
     "end_time": "2024-10-24T08:36:22.470435Z",
     "start_time": "2024-10-24T08:36:22.464836Z"
    }
   },
   "outputs": [
    {
     "name": "stdout",
     "output_type": "stream",
     "text": [
      "Type of sample_data:\n",
      "\t <class 'dict'>\n",
      "Keys of sample_data:\n",
      "\t dict_keys(['parameters', 'observables'])\n",
      "Types of sample_data values:\n",
      "\t {'parameters': <class 'numpy.ndarray'>, 'observables': <class 'numpy.ndarray'>}\n",
      "Shapes of sample_data values:\n",
      "\t {'parameters': (3, 2), 'observables': (3, 2)}\n"
     ]
    }
   ],
   "source": [
    "print(\"Type of sample_data:\\n\\t\", type(sample_data))\n",
    "print(\"Keys of sample_data:\\n\\t\", sample_data.keys())\n",
    "print(\"Types of sample_data values:\\n\\t\", {k: type(v) for k, v in sample_data.items()})\n",
    "print(\"Shapes of sample_data values:\\n\\t\", {k: v.shape for k, v in sample_data.items()})"
   ]
  },
  {
   "cell_type": "markdown",
   "id": "17f158bd2d7abf75",
   "metadata": {},
   "source": [
    "BayesFlow also provides this simulator and a collection of others in the `bayesflow.benchmarks` module."
   ]
  },
  {
   "cell_type": "markdown",
   "id": "f714c3a178b5a375",
   "metadata": {},
   "source": [
    "## Adapter"
   ]
  },
  {
   "cell_type": "code",
   "execution_count": 7,
   "id": "5c9c2dc70f53d103",
   "metadata": {
    "ExecuteTime": {
     "end_time": "2024-10-24T08:36:26.618926Z",
     "start_time": "2024-10-24T08:36:26.614443Z"
    }
   },
   "outputs": [
    {
     "data": {
      "text/plain": [
       "Adapter([0: ToArray -> 1: ConvertDType -> 2: Concatenate(['parameters'] -> 'inference_variables') -> 3: Standardize(exclude=['inference_variables']) -> 4: Rename('observables' -> 'inference_conditions')])"
      ]
     },
     "execution_count": 7,
     "metadata": {},
     "output_type": "execute_result"
    }
   ],
   "source": [
    "adapter = (\n",
    "    bf.adapters.Adapter.create_default(inference_variables=[\"parameters\"])\n",
    "    # standardize data variables to zero mean and unit variance\n",
    "    .standardize(exclude=\"inference_variables\")\n",
    "    # rename the variables to match the required approximator inputs\n",
    "    .rename(\"observables\", \"inference_conditions\")\n",
    ")\n",
    "adapter"
   ]
  },
  {
   "cell_type": "markdown",
   "id": "254e287b2bccdad",
   "metadata": {},
   "source": [
    "## Dataset\n",
    "\n",
    "For this example, we will sample our training data ahead of time and use offline training with a very small number of epochs. In actual applications, you usually want to train much longer in order to max our performance."
   ]
  },
  {
   "cell_type": "code",
   "execution_count": 8,
   "id": "39cb5a1c9824246f",
   "metadata": {
    "ExecuteTime": {
     "end_time": "2024-09-23T14:39:46.950573Z",
     "start_time": "2024-09-23T14:39:46.948624Z"
    }
   },
   "outputs": [],
   "source": [
    "num_batches_per_epoch = 512\n",
    "num_validation_sets = 300\n",
    "batch_size = 64\n",
    "epochs = 50"
   ]
  },
  {
   "cell_type": "code",
   "execution_count": 9,
   "id": "9dee7252ef99affa",
   "metadata": {
    "ExecuteTime": {
     "end_time": "2024-09-23T14:39:53.268860Z",
     "start_time": "2024-09-23T14:39:46.994697Z"
    }
   },
   "outputs": [],
   "source": [
    "validation_data = simulator.sample(num_validation_sets)"
   ]
  },
  {
   "cell_type": "markdown",
   "id": "2d4c6eb0",
   "metadata": {},
   "source": [
    "## Training a neural network to approximate all posteriors"
   ]
  },
  {
   "cell_type": "code",
   "execution_count": 10,
   "id": "09206e6f",
   "metadata": {
    "ExecuteTime": {
     "end_time": "2024-09-23T14:39:53.339590Z",
     "start_time": "2024-09-23T14:39:53.319852Z"
    }
   },
   "outputs": [],
   "source": [
    "diffusion_model = bf.experimental.DiffusionModel(\n",
    "    subnet=\"mlp\",\n",
    "    subnet_kwargs={\"dropout\": 0.0, \"widths\": (256,)*6}, # override default dropout = 0.05 and widths = (256,)*5\n",
    "    noise_schedule=\"edm\",\n",
    "    prediction_type=\"F\",\n",
    ")"
   ]
  },
  {
   "cell_type": "markdown",
   "id": "76722c33",
   "metadata": {},
   "source": [
    "### Basic Workflow\n",
    "We can hide many of the traditional deep learning steps (e.g., specifying a learning rate and an optimizer) within a `Workflow` object. This object just wraps everything together and includes some nice utility functions for training and *in silico* validation."
   ]
  },
  {
   "cell_type": "code",
   "execution_count": 11,
   "id": "96ca6ffa",
   "metadata": {
    "ExecuteTime": {
     "end_time": "2024-09-23T14:39:53.371691Z",
     "start_time": "2024-09-23T14:39:53.369375Z"
    }
   },
   "outputs": [],
   "source": [
    "diffusion_model_workflow = bf.BasicWorkflow(\n",
    "    simulator=simulator,\n",
    "    adapter=adapter,\n",
    "    inference_network=diffusion_model,\n",
    "    initial_learning_rate=1e-3,\n",
    ")"
   ]
  },
  {
   "cell_type": "markdown",
   "id": "708b1303",
   "metadata": {},
   "source": [
    "### Training\n",
    "\n",
    "We are ready to train our deep posterior approximator on the two moons example. We use the utility function `fit_offline`, which wraps the approximator's super flexible `fit` method."
   ]
  },
  {
   "cell_type": "code",
   "execution_count": 12,
   "id": "0f496bda",
   "metadata": {
    "ExecuteTime": {
     "end_time": "2024-09-23T14:42:36.067393Z",
     "start_time": "2024-09-23T14:39:53.513436Z"
    }
   },
   "outputs": [
    {
     "name": "stderr",
     "output_type": "stream",
     "text": [
      "INFO:bayesflow:Fitting on dataset instance of OnlineDataset.\n",
      "INFO:bayesflow:Building on a test batch.\n"
     ]
    },
    {
     "name": "stdout",
     "output_type": "stream",
     "text": [
      "Epoch 1/50\n",
      "\u001b[1m512/512\u001b[0m \u001b[32m━━━━━━━━━━━━━━━━━━━━\u001b[0m\u001b[37m\u001b[0m \u001b[1m4s\u001b[0m 5ms/step - loss: 3.5213 - loss/inference_loss: 3.5213 - val_loss: 1.9474 - val_loss/inference_loss: 1.9474\n",
      "Epoch 2/50\n",
      "\u001b[1m512/512\u001b[0m \u001b[32m━━━━━━━━━━━━━━━━━━━━\u001b[0m\u001b[37m\u001b[0m \u001b[1m2s\u001b[0m 4ms/step - loss: 1.4044 - loss/inference_loss: 1.4044 - val_loss: 0.9011 - val_loss/inference_loss: 0.9011\n",
      "Epoch 3/50\n",
      "\u001b[1m512/512\u001b[0m \u001b[32m━━━━━━━━━━━━━━━━━━━━\u001b[0m\u001b[37m\u001b[0m \u001b[1m2s\u001b[0m 4ms/step - loss: 0.8857 - loss/inference_loss: 0.8857 - val_loss: 0.5213 - val_loss/inference_loss: 0.5213\n",
      "Epoch 4/50\n",
      "\u001b[1m512/512\u001b[0m \u001b[32m━━━━━━━━━━━━━━━━━━━━\u001b[0m\u001b[37m\u001b[0m \u001b[1m2s\u001b[0m 4ms/step - loss: 0.7341 - loss/inference_loss: 0.7341 - val_loss: 0.7266 - val_loss/inference_loss: 0.7266\n",
      "Epoch 5/50\n",
      "\u001b[1m512/512\u001b[0m \u001b[32m━━━━━━━━━━━━━━━━━━━━\u001b[0m\u001b[37m\u001b[0m \u001b[1m2s\u001b[0m 4ms/step - loss: 0.7106 - loss/inference_loss: 0.7106 - val_loss: 0.5299 - val_loss/inference_loss: 0.5299\n",
      "Epoch 6/50\n",
      "\u001b[1m512/512\u001b[0m \u001b[32m━━━━━━━━━━━━━━━━━━━━\u001b[0m\u001b[37m\u001b[0m \u001b[1m2s\u001b[0m 4ms/step - loss: 0.6149 - loss/inference_loss: 0.6149 - val_loss: 0.3700 - val_loss/inference_loss: 0.3700\n",
      "Epoch 7/50\n",
      "\u001b[1m512/512\u001b[0m \u001b[32m━━━━━━━━━━━━━━━━━━━━\u001b[0m\u001b[37m\u001b[0m \u001b[1m2s\u001b[0m 4ms/step - loss: 0.6752 - loss/inference_loss: 0.6752 - val_loss: 0.4283 - val_loss/inference_loss: 0.4283\n",
      "Epoch 8/50\n",
      "\u001b[1m512/512\u001b[0m \u001b[32m━━━━━━━━━━━━━━━━━━━━\u001b[0m\u001b[37m\u001b[0m \u001b[1m2s\u001b[0m 4ms/step - loss: 0.6572 - loss/inference_loss: 0.6572 - val_loss: 1.1328 - val_loss/inference_loss: 1.1328\n",
      "Epoch 9/50\n",
      "\u001b[1m512/512\u001b[0m \u001b[32m━━━━━━━━━━━━━━━━━━━━\u001b[0m\u001b[37m\u001b[0m \u001b[1m2s\u001b[0m 4ms/step - loss: 0.5929 - loss/inference_loss: 0.5929 - val_loss: 1.1387 - val_loss/inference_loss: 1.1387\n",
      "Epoch 10/50\n",
      "\u001b[1m512/512\u001b[0m \u001b[32m━━━━━━━━━━━━━━━━━━━━\u001b[0m\u001b[37m\u001b[0m \u001b[1m2s\u001b[0m 4ms/step - loss: 0.6393 - loss/inference_loss: 0.6393 - val_loss: 0.4131 - val_loss/inference_loss: 0.4131\n",
      "Epoch 11/50\n",
      "\u001b[1m512/512\u001b[0m \u001b[32m━━━━━━━━━━━━━━━━━━━━\u001b[0m\u001b[37m\u001b[0m \u001b[1m2s\u001b[0m 4ms/step - loss: 0.6065 - loss/inference_loss: 0.6065 - val_loss: 1.1639 - val_loss/inference_loss: 1.1639\n",
      "Epoch 12/50\n",
      "\u001b[1m512/512\u001b[0m \u001b[32m━━━━━━━━━━━━━━━━━━━━\u001b[0m\u001b[37m\u001b[0m \u001b[1m2s\u001b[0m 4ms/step - loss: 0.6273 - loss/inference_loss: 0.6273 - val_loss: 0.4163 - val_loss/inference_loss: 0.4163\n",
      "Epoch 13/50\n",
      "\u001b[1m512/512\u001b[0m \u001b[32m━━━━━━━━━━━━━━━━━━━━\u001b[0m\u001b[37m\u001b[0m \u001b[1m2s\u001b[0m 4ms/step - loss: 0.5711 - loss/inference_loss: 0.5711 - val_loss: 0.3509 - val_loss/inference_loss: 0.3509\n",
      "Epoch 14/50\n",
      "\u001b[1m512/512\u001b[0m \u001b[32m━━━━━━━━━━━━━━━━━━━━\u001b[0m\u001b[37m\u001b[0m \u001b[1m2s\u001b[0m 4ms/step - loss: 0.6108 - loss/inference_loss: 0.6108 - val_loss: 0.6391 - val_loss/inference_loss: 0.6391\n",
      "Epoch 15/50\n",
      "\u001b[1m512/512\u001b[0m \u001b[32m━━━━━━━━━━━━━━━━━━━━\u001b[0m\u001b[37m\u001b[0m \u001b[1m2s\u001b[0m 4ms/step - loss: 0.5303 - loss/inference_loss: 0.5303 - val_loss: 0.4730 - val_loss/inference_loss: 0.4730\n",
      "Epoch 16/50\n",
      "\u001b[1m512/512\u001b[0m \u001b[32m━━━━━━━━━━━━━━━━━━━━\u001b[0m\u001b[37m\u001b[0m \u001b[1m2s\u001b[0m 4ms/step - loss: 0.5640 - loss/inference_loss: 0.5640 - val_loss: 0.5148 - val_loss/inference_loss: 0.5148\n",
      "Epoch 17/50\n",
      "\u001b[1m512/512\u001b[0m \u001b[32m━━━━━━━━━━━━━━━━━━━━\u001b[0m\u001b[37m\u001b[0m \u001b[1m2s\u001b[0m 4ms/step - loss: 0.5579 - loss/inference_loss: 0.5579 - val_loss: 0.9192 - val_loss/inference_loss: 0.9192\n",
      "Epoch 18/50\n",
      "\u001b[1m512/512\u001b[0m \u001b[32m━━━━━━━━━━━━━━━━━━━━\u001b[0m\u001b[37m\u001b[0m \u001b[1m2s\u001b[0m 4ms/step - loss: 0.5347 - loss/inference_loss: 0.5347 - val_loss: 0.4404 - val_loss/inference_loss: 0.4404\n",
      "Epoch 19/50\n",
      "\u001b[1m512/512\u001b[0m \u001b[32m━━━━━━━━━━━━━━━━━━━━\u001b[0m\u001b[37m\u001b[0m \u001b[1m2s\u001b[0m 4ms/step - loss: 0.5394 - loss/inference_loss: 0.5394 - val_loss: 0.7056 - val_loss/inference_loss: 0.7056\n",
      "Epoch 20/50\n",
      "\u001b[1m512/512\u001b[0m \u001b[32m━━━━━━━━━━━━━━━━━━━━\u001b[0m\u001b[37m\u001b[0m \u001b[1m2s\u001b[0m 4ms/step - loss: 0.5330 - loss/inference_loss: 0.5330 - val_loss: 0.6121 - val_loss/inference_loss: 0.6121\n",
      "Epoch 21/50\n",
      "\u001b[1m512/512\u001b[0m \u001b[32m━━━━━━━━━━━━━━━━━━━━\u001b[0m\u001b[37m\u001b[0m \u001b[1m2s\u001b[0m 5ms/step - loss: 0.5522 - loss/inference_loss: 0.5522 - val_loss: 0.7118 - val_loss/inference_loss: 0.7118\n",
      "Epoch 22/50\n",
      "\u001b[1m512/512\u001b[0m \u001b[32m━━━━━━━━━━━━━━━━━━━━\u001b[0m\u001b[37m\u001b[0m \u001b[1m3s\u001b[0m 5ms/step - loss: 0.5340 - loss/inference_loss: 0.5340 - val_loss: 0.1866 - val_loss/inference_loss: 0.1866\n",
      "Epoch 23/50\n",
      "\u001b[1m512/512\u001b[0m \u001b[32m━━━━━━━━━━━━━━━━━━━━\u001b[0m\u001b[37m\u001b[0m \u001b[1m3s\u001b[0m 5ms/step - loss: 0.5288 - loss/inference_loss: 0.5288 - val_loss: 0.4453 - val_loss/inference_loss: 0.4453\n",
      "Epoch 24/50\n",
      "\u001b[1m512/512\u001b[0m \u001b[32m━━━━━━━━━━━━━━━━━━━━\u001b[0m\u001b[37m\u001b[0m \u001b[1m3s\u001b[0m 5ms/step - loss: 0.5489 - loss/inference_loss: 0.5489 - val_loss: 0.8552 - val_loss/inference_loss: 0.8552\n",
      "Epoch 25/50\n",
      "\u001b[1m512/512\u001b[0m \u001b[32m━━━━━━━━━━━━━━━━━━━━\u001b[0m\u001b[37m\u001b[0m \u001b[1m3s\u001b[0m 5ms/step - loss: 0.5237 - loss/inference_loss: 0.5237 - val_loss: 0.3817 - val_loss/inference_loss: 0.3817\n",
      "Epoch 26/50\n",
      "\u001b[1m512/512\u001b[0m \u001b[32m━━━━━━━━━━━━━━━━━━━━\u001b[0m\u001b[37m\u001b[0m \u001b[1m2s\u001b[0m 5ms/step - loss: 0.5354 - loss/inference_loss: 0.5354 - val_loss: 0.4136 - val_loss/inference_loss: 0.4136\n",
      "Epoch 27/50\n",
      "\u001b[1m512/512\u001b[0m \u001b[32m━━━━━━━━━━━━━━━━━━━━\u001b[0m\u001b[37m\u001b[0m \u001b[1m2s\u001b[0m 5ms/step - loss: 0.4888 - loss/inference_loss: 0.4888 - val_loss: 1.0347 - val_loss/inference_loss: 1.0347\n",
      "Epoch 28/50\n",
      "\u001b[1m512/512\u001b[0m \u001b[32m━━━━━━━━━━━━━━━━━━━━\u001b[0m\u001b[37m\u001b[0m \u001b[1m2s\u001b[0m 4ms/step - loss: 0.5256 - loss/inference_loss: 0.5256 - val_loss: 1.0939 - val_loss/inference_loss: 1.0939\n",
      "Epoch 29/50\n",
      "\u001b[1m512/512\u001b[0m \u001b[32m━━━━━━━━━━━━━━━━━━━━\u001b[0m\u001b[37m\u001b[0m \u001b[1m2s\u001b[0m 4ms/step - loss: 0.4705 - loss/inference_loss: 0.4705 - val_loss: 0.3689 - val_loss/inference_loss: 0.3689\n",
      "Epoch 30/50\n",
      "\u001b[1m512/512\u001b[0m \u001b[32m━━━━━━━━━━━━━━━━━━━━\u001b[0m\u001b[37m\u001b[0m \u001b[1m2s\u001b[0m 4ms/step - loss: 0.5880 - loss/inference_loss: 0.5880 - val_loss: 0.2554 - val_loss/inference_loss: 0.2554\n",
      "Epoch 31/50\n",
      "\u001b[1m512/512\u001b[0m \u001b[32m━━━━━━━━━━━━━━━━━━━━\u001b[0m\u001b[37m\u001b[0m \u001b[1m2s\u001b[0m 5ms/step - loss: 0.4782 - loss/inference_loss: 0.4782 - val_loss: 0.2805 - val_loss/inference_loss: 0.2805\n",
      "Epoch 32/50\n",
      "\u001b[1m512/512\u001b[0m \u001b[32m━━━━━━━━━━━━━━━━━━━━\u001b[0m\u001b[37m\u001b[0m \u001b[1m2s\u001b[0m 4ms/step - loss: 0.4871 - loss/inference_loss: 0.4871 - val_loss: 0.3951 - val_loss/inference_loss: 0.3951\n",
      "Epoch 33/50\n",
      "\u001b[1m512/512\u001b[0m \u001b[32m━━━━━━━━━━━━━━━━━━━━\u001b[0m\u001b[37m\u001b[0m \u001b[1m2s\u001b[0m 5ms/step - loss: 0.5094 - loss/inference_loss: 0.5094 - val_loss: 0.6404 - val_loss/inference_loss: 0.6404\n",
      "Epoch 34/50\n",
      "\u001b[1m512/512\u001b[0m \u001b[32m━━━━━━━━━━━━━━━━━━━━\u001b[0m\u001b[37m\u001b[0m \u001b[1m2s\u001b[0m 4ms/step - loss: 0.4886 - loss/inference_loss: 0.4886 - val_loss: 0.3277 - val_loss/inference_loss: 0.3277\n",
      "Epoch 35/50\n",
      "\u001b[1m512/512\u001b[0m \u001b[32m━━━━━━━━━━━━━━━━━━━━\u001b[0m\u001b[37m\u001b[0m \u001b[1m2s\u001b[0m 5ms/step - loss: 0.4680 - loss/inference_loss: 0.4680 - val_loss: 0.3643 - val_loss/inference_loss: 0.3643\n",
      "Epoch 36/50\n",
      "\u001b[1m512/512\u001b[0m \u001b[32m━━━━━━━━━━━━━━━━━━━━\u001b[0m\u001b[37m\u001b[0m \u001b[1m2s\u001b[0m 5ms/step - loss: 0.4695 - loss/inference_loss: 0.4695 - val_loss: 0.4899 - val_loss/inference_loss: 0.4899\n",
      "Epoch 37/50\n",
      "\u001b[1m512/512\u001b[0m \u001b[32m━━━━━━━━━━━━━━━━━━━━\u001b[0m\u001b[37m\u001b[0m \u001b[1m2s\u001b[0m 5ms/step - loss: 0.4700 - loss/inference_loss: 0.4700 - val_loss: 0.2931 - val_loss/inference_loss: 0.2931\n",
      "Epoch 38/50\n",
      "\u001b[1m512/512\u001b[0m \u001b[32m━━━━━━━━━━━━━━━━━━━━\u001b[0m\u001b[37m\u001b[0m \u001b[1m2s\u001b[0m 5ms/step - loss: 0.4630 - loss/inference_loss: 0.4630 - val_loss: 1.4956 - val_loss/inference_loss: 1.4956\n",
      "Epoch 39/50\n",
      "\u001b[1m512/512\u001b[0m \u001b[32m━━━━━━━━━━━━━━━━━━━━\u001b[0m\u001b[37m\u001b[0m \u001b[1m2s\u001b[0m 5ms/step - loss: 0.4722 - loss/inference_loss: 0.4722 - val_loss: 0.4394 - val_loss/inference_loss: 0.4394\n",
      "Epoch 40/50\n",
      "\u001b[1m512/512\u001b[0m \u001b[32m━━━━━━━━━━━━━━━━━━━━\u001b[0m\u001b[37m\u001b[0m \u001b[1m2s\u001b[0m 5ms/step - loss: 0.4929 - loss/inference_loss: 0.4929 - val_loss: 0.3670 - val_loss/inference_loss: 0.3670\n",
      "Epoch 41/50\n",
      "\u001b[1m512/512\u001b[0m \u001b[32m━━━━━━━━━━━━━━━━━━━━\u001b[0m\u001b[37m\u001b[0m \u001b[1m2s\u001b[0m 5ms/step - loss: 0.5650 - loss/inference_loss: 0.5650 - val_loss: 0.3733 - val_loss/inference_loss: 0.3733\n",
      "Epoch 42/50\n",
      "\u001b[1m512/512\u001b[0m \u001b[32m━━━━━━━━━━━━━━━━━━━━\u001b[0m\u001b[37m\u001b[0m \u001b[1m2s\u001b[0m 5ms/step - loss: 0.5021 - loss/inference_loss: 0.5021 - val_loss: 0.3183 - val_loss/inference_loss: 0.3183\n",
      "Epoch 43/50\n",
      "\u001b[1m512/512\u001b[0m \u001b[32m━━━━━━━━━━━━━━━━━━━━\u001b[0m\u001b[37m\u001b[0m \u001b[1m2s\u001b[0m 5ms/step - loss: 0.4778 - loss/inference_loss: 0.4778 - val_loss: 0.4093 - val_loss/inference_loss: 0.4093\n",
      "Epoch 44/50\n",
      "\u001b[1m512/512\u001b[0m \u001b[32m━━━━━━━━━━━━━━━━━━━━\u001b[0m\u001b[37m\u001b[0m \u001b[1m2s\u001b[0m 5ms/step - loss: 0.5932 - loss/inference_loss: 0.5932 - val_loss: 0.3301 - val_loss/inference_loss: 0.3301\n",
      "Epoch 45/50\n",
      "\u001b[1m512/512\u001b[0m \u001b[32m━━━━━━━━━━━━━━━━━━━━\u001b[0m\u001b[37m\u001b[0m \u001b[1m2s\u001b[0m 5ms/step - loss: 0.4518 - loss/inference_loss: 0.4518 - val_loss: 0.4177 - val_loss/inference_loss: 0.4177\n",
      "Epoch 46/50\n",
      "\u001b[1m512/512\u001b[0m \u001b[32m━━━━━━━━━━━━━━━━━━━━\u001b[0m\u001b[37m\u001b[0m \u001b[1m2s\u001b[0m 5ms/step - loss: 0.4791 - loss/inference_loss: 0.4791 - val_loss: 0.2887 - val_loss/inference_loss: 0.2887\n",
      "Epoch 47/50\n",
      "\u001b[1m512/512\u001b[0m \u001b[32m━━━━━━━━━━━━━━━━━━━━\u001b[0m\u001b[37m\u001b[0m \u001b[1m2s\u001b[0m 5ms/step - loss: 0.4427 - loss/inference_loss: 0.4427 - val_loss: 0.4038 - val_loss/inference_loss: 0.4038\n",
      "Epoch 48/50\n",
      "\u001b[1m512/512\u001b[0m \u001b[32m━━━━━━━━━━━━━━━━━━━━\u001b[0m\u001b[37m\u001b[0m \u001b[1m2s\u001b[0m 5ms/step - loss: 0.4609 - loss/inference_loss: 0.4609 - val_loss: 0.3336 - val_loss/inference_loss: 0.3336\n",
      "Epoch 49/50\n",
      "\u001b[1m512/512\u001b[0m \u001b[32m━━━━━━━━━━━━━━━━━━━━\u001b[0m\u001b[37m\u001b[0m \u001b[1m2s\u001b[0m 5ms/step - loss: 0.4462 - loss/inference_loss: 0.4462 - val_loss: 0.4002 - val_loss/inference_loss: 0.4002\n",
      "Epoch 50/50\n",
      "\u001b[1m512/512\u001b[0m \u001b[32m━━━━━━━━━━━━━━━━━━━━\u001b[0m\u001b[37m\u001b[0m \u001b[1m2s\u001b[0m 5ms/step - loss: 0.4557 - loss/inference_loss: 0.4557 - val_loss: 0.4553 - val_loss/inference_loss: 0.4553\n"
     ]
    }
   ],
   "source": [
    "history = diffusion_model_workflow.fit_online(\n",
    "    epochs=epochs,\n",
    "    num_batches_per_epoch=num_batches_per_epoch,\n",
    "    batch_size=batch_size, \n",
    "    validation_data=validation_data,\n",
    ")"
   ]
  },
  {
   "cell_type": "code",
   "execution_count": 13,
   "id": "e2fbe42f-b6e8-45f3-a53a-4015fb84e78f",
   "metadata": {},
   "outputs": [
    {
     "data": {
      "text/plain": [
       "(-0.5, 0.5)"
      ]
     },
     "execution_count": 13,
     "metadata": {},
     "output_type": "execute_result"
    },
    {
     "data": {
      "image/png": "[encoded data removed]",
      "text/plain": [
       "<Figure size 640x480 with 1 Axes>"
      ]
     },
     "metadata": {},
     "output_type": "display_data"
    }
   ],
   "source": [
    "samples = diffusion_model_workflow.sample(num_samples=3000, conditions={\"observables\":np.array([[0.0, 0.0]], dtype=np.float32)}, steps=1000)\n",
    "plt.scatter(samples[\"parameters\"][0, :, 0], samples[\"parameters\"][0, :, 1], alpha=0.75, s=0.5)\n",
    "plt.gca().set_aspect(\"equal\", adjustable=\"box\")\n",
    "plt.xlim([-0.5, 0.5])\n",
    "plt.ylim([-0.5, 0.5])"
   ]
  },
  {
   "cell_type": "code",
   "execution_count": 14,
   "id": "d2e23898-84de-4adf-bffb-95eb547e63de",
   "metadata": {},
   "outputs": [
    {
     "data": {
      "text/plain": [
       "(-0.5, 0.5)"
      ]
     },
     "execution_count": 14,
     "metadata": {},
     "output_type": "execute_result"
    },
    {
     "data": {
      "image/png": "[encoded data removed]",
      "text/plain": [
       "<Figure size 640x480 with 1 Axes>"
      ]
     },
     "metadata": {},
     "output_type": "display_data"
    }
   ],
   "source": [
    "plt.scatter(samples[\"parameters\"][0, :, 0], samples[\"parameters\"][0, :, 1], alpha=0.75, s=0.5)\n",
    "plt.gca().set_aspect(\"equal\", adjustable=\"box\")\n",
    "plt.xlim([-0.5, 0.5])\n",
    "plt.ylim([-0.5, 0.5])"
   ]
  },
  {
   "cell_type": "markdown",
   "id": "18d81a7e-3916-4822-b036-67f9f53ca856",
   "metadata": {},
   "source": [
    "## EDM only"
   ]
  },
  {
   "cell_type": "code",
   "execution_count": 15,
   "id": "a3dbcade-9beb-41ef-bdf3-aec3503eba50",
   "metadata": {},
   "outputs": [],
   "source": [
    "from collections.abc import Sequence\n",
    "import keras\n",
    "from keras import ops\n",
    "\n",
    "from bayesflow.types import Tensor, Shape\n",
    "import bayesflow as bf\n",
    "from bayesflow.networks import InferenceNetwork\n",
    "from bayesflow.utils.serialization import serialize, deserialize, serializable\n",
    "\n",
    "from bayesflow.utils import (\n",
    "    expand_right_as,\n",
    "    find_network,\n",
    "    jacobian_trace,\n",
    "    weighted_mean,\n",
    "    integrate,\n",
    ")\n",
    "\n",
    "\n",
    "@serializable\n",
    "class EDM(InferenceNetwork):\n",
    "    \"\"\"Diffusion Model as described as Elucidated Diffusion Model in [1].\n",
    "\n",
    "    [1] Elucidating the Design Space of Diffusion-Based Generative Models: arXiv:2206.00364\n",
    "    \"\"\"\n",
    "\n",
    "    MLP_DEFAULT_CONFIG = {\n",
    "        \"widths\": (256, 256, 256, 256, 256),\n",
    "        \"activation\": \"mish\",\n",
    "        \"kernel_initializer\": \"he_normal\",\n",
    "        \"residual\": True,\n",
    "        \"dropout\": 0.0,\n",
    "        \"spectral_normalization\": False,\n",
    "    }\n",
    "\n",
    "    INTEGRATE_DEFAULT_CONFIG = {\n",
    "        \"method\": \"euler\",\n",
    "        \"steps\": 100,\n",
    "    }\n",
    "\n",
    "    def __init__(\n",
    "        self,\n",
    "        subnet: str | type = \"mlp\",\n",
    "        integrate_kwargs: dict[str, any] = None,\n",
    "        subnet_kwargs: dict[str, any] = None,\n",
    "        sigma_data=1.0,\n",
    "        **kwargs,\n",
    "    ):\n",
    "        \"\"\"\n",
    "        Initializes a diffusion model with configurable subnet architecture.\n",
    "\n",
    "        This model learns a transformation from a Gaussian latent distribution to a target distribution using a\n",
    "        specified subnet type, which can be an MLP or a custom network.\n",
    "\n",
    "        The integration steps can be customized with additional parameters available in the respective\n",
    "        configuration dictionary.\n",
    "\n",
    "        Parameters\n",
    "        ----------\n",
    "        subnet : str or type, optional\n",
    "            The architecture used for the transformation network. Can be \"mlp\" or a custom\n",
    "            callable network. Default is \"mlp\".\n",
    "        integrate_kwargs : dict[str, any], optional\n",
    "            Additional keyword arguments for the integration process. Default is None.\n",
    "        subnet_kwargs : dict[str, any], optional\n",
    "            Keyword arguments passed to the subnet constructor or used to update the default MLP settings.\n",
    "        sigma_data : float, optional\n",
    "            Averaged standard deviation of the target distribution. Default is 1.0.\n",
    "        **kwargs\n",
    "            Additional keyword arguments passed to the subnet and other components.\n",
    "        \"\"\"\n",
    "\n",
    "        super().__init__(base_distribution=None, **kwargs)\n",
    "\n",
    "        # tunable parameters not intended to be modified by the average user\n",
    "        self.max_sigma = kwargs.get(\"max_sigma\", 80.0)\n",
    "        self.min_sigma = kwargs.get(\"min_sigma\", 1e-4)\n",
    "        self.rho = kwargs.get(\"rho\", 7)\n",
    "\n",
    "        # latent distribution (not configurable)\n",
    "        self.base_distribution = bf.distributions.DiagonalNormal(\n",
    "            mean=0.0, std=self.max_sigma\n",
    "        )\n",
    "        self.integrate_kwargs = self.INTEGRATE_DEFAULT_CONFIG | (integrate_kwargs or {})\n",
    "\n",
    "        self.sigma_data = sigma_data\n",
    "\n",
    "        self.seed_generator = keras.random.SeedGenerator()\n",
    "\n",
    "        subnet_kwargs = subnet_kwargs or {}\n",
    "        if subnet == \"mlp\":\n",
    "            subnet_kwargs = self.MLP_DEFAULT_CONFIG | subnet_kwargs\n",
    "\n",
    "        self.subnet = find_network(subnet, **subnet_kwargs)\n",
    "        self.output_projector = keras.layers.Dense(units=None, bias_initializer=\"zeros\")\n",
    "\n",
    "    def build(self, xz_shape: Shape, conditions_shape: Shape = None) -> None:\n",
    "        self.base_distribution.build(xz_shape)\n",
    "        self.output_projector.units = xz_shape[-1]\n",
    "        input_shape = list(xz_shape)\n",
    "\n",
    "        # construct time vector\n",
    "        input_shape[-1] += 1\n",
    "        if conditions_shape is not None:\n",
    "            input_shape[-1] += conditions_shape[-1]\n",
    "\n",
    "        input_shape = tuple(input_shape)\n",
    "\n",
    "        self.subnet.build(input_shape)\n",
    "        out_shape = self.subnet.compute_output_shape(input_shape)\n",
    "        self.output_projector.build(out_shape)\n",
    "\n",
    "    def get_config(self):\n",
    "        base_config = super().get_config()\n",
    "        config = {\n",
    "            \"integrate_kwargs\": self.integrate_kwargs,\n",
    "            \"subnet\": self.subnet,\n",
    "            \"sigma_data\": self.sigma_data,\n",
    "        }\n",
    "        return base_config | serialize(config)\n",
    "\n",
    "    @classmethod\n",
    "    def from_config(cls, config, custom_objects=None):\n",
    "        return cls(**deserialize(config, custom_objects=custom_objects))\n",
    "\n",
    "    def _c_skip_fn(self, sigma):\n",
    "        return self.sigma_data**2 / (sigma**2 + self.sigma_data**2)\n",
    "\n",
    "    def _c_out_fn(self, sigma):\n",
    "        return sigma * self.sigma_data / ops.sqrt(self.sigma_data**2 + sigma**2)\n",
    "\n",
    "    def _c_in_fn(self, sigma):\n",
    "        return 1.0 / ops.sqrt(sigma**2 + self.sigma_data**2)\n",
    "\n",
    "    def _c_noise_fn(self, sigma):\n",
    "        return 0.25 * ops.log(sigma)\n",
    "\n",
    "    def _denoiser_fn(\n",
    "        self,\n",
    "        xz: Tensor,\n",
    "        sigma: Tensor,\n",
    "        conditions: Tensor = None,\n",
    "        training: bool = False,\n",
    "    ):\n",
    "        # calculate output of the network\n",
    "        c_in = self._c_in_fn(sigma)\n",
    "        c_noise = self._c_noise_fn(sigma)\n",
    "        xz_pre = c_in * xz\n",
    "        if conditions is None:\n",
    "            xtc = keras.ops.concatenate([xz_pre, c_noise], axis=-1)\n",
    "        else:\n",
    "            xtc = keras.ops.concatenate([xz_pre, c_noise, conditions], axis=-1)\n",
    "        out = self.output_projector(\n",
    "            self.subnet(xtc, training=training), training=training\n",
    "        )\n",
    "        return self._c_skip_fn(sigma) * xz + self._c_out_fn(sigma) * out\n",
    "\n",
    "    def velocity(\n",
    "        self,\n",
    "        xz: Tensor,\n",
    "        sigma: float | Tensor,\n",
    "        conditions: Tensor = None,\n",
    "        training: bool = False,\n",
    "    ) -> Tensor:\n",
    "        # transform sigma vector into correct shape\n",
    "        sigma = keras.ops.convert_to_tensor(sigma, dtype=keras.ops.dtype(xz))\n",
    "        sigma = expand_right_as(sigma, xz)\n",
    "        sigma = keras.ops.broadcast_to(sigma, keras.ops.shape(xz)[:-1] + (1,))\n",
    "\n",
    "        d = self._denoiser_fn(xz, sigma, conditions, training=training)\n",
    "        return (xz - d) / sigma\n",
    "\n",
    "    def _velocity_trace(\n",
    "        self,\n",
    "        xz: Tensor,\n",
    "        sigma: Tensor,\n",
    "        conditions: Tensor = None,\n",
    "        max_steps: int = None,\n",
    "        training: bool = False,\n",
    "    ) -> (Tensor, Tensor):\n",
    "        def f(x):\n",
    "            return self.velocity(\n",
    "                x, sigma=sigma, conditions=conditions, training=training\n",
    "            )\n",
    "\n",
    "        v, trace = jacobian_trace(\n",
    "            f, xz, max_steps=max_steps, seed=self.seed_generator, return_output=True\n",
    "        )\n",
    "\n",
    "        return v, keras.ops.expand_dims(trace, axis=-1)\n",
    "\n",
    "    def _forward(\n",
    "        self,\n",
    "        x: Tensor,\n",
    "        conditions: Tensor = None,\n",
    "        density: bool = False,\n",
    "        training: bool = False,\n",
    "        **kwargs,\n",
    "    ) -> Tensor | tuple[Tensor, Tensor]:\n",
    "        integrate_kwargs = self.integrate_kwargs | kwargs\n",
    "        if isinstance(integrate_kwargs[\"steps\"], int):\n",
    "            # set schedule for specified number of steps\n",
    "            integrate_kwargs[\"steps\"] = self._integration_schedule(\n",
    "                integrate_kwargs[\"steps\"], dtype=ops.dtype(x)\n",
    "            )\n",
    "        if density:\n",
    "\n",
    "            def deltas(time, xz):\n",
    "                v, trace = self._velocity_trace(\n",
    "                    xz, sigma=time, conditions=conditions, training=training\n",
    "                )\n",
    "                return {\"xz\": v, \"trace\": trace}\n",
    "\n",
    "            state = {\n",
    "                \"xz\": x,\n",
    "                \"trace\": keras.ops.zeros(\n",
    "                    keras.ops.shape(x)[:-1] + (1,), dtype=keras.ops.dtype(x)\n",
    "                ),\n",
    "            }\n",
    "            state = integrate(\n",
    "                deltas,\n",
    "                state,\n",
    "                **integrate_kwargs,\n",
    "            )\n",
    "\n",
    "            z = state[\"xz\"]\n",
    "            log_density = self.base_distribution.log_prob(z) + keras.ops.squeeze(\n",
    "                state[\"trace\"], axis=-1\n",
    "            )\n",
    "\n",
    "            return z, log_density\n",
    "\n",
    "        def deltas(time, xz):\n",
    "            return {\n",
    "                \"xz\": self.velocity(\n",
    "                    xz, sigma=time, conditions=conditions, training=training\n",
    "                )\n",
    "            }\n",
    "\n",
    "        state = {\"xz\": x}\n",
    "        state = integrate(\n",
    "            deltas,\n",
    "            state,\n",
    "            **integrate_kwargs,\n",
    "        )\n",
    "\n",
    "        z = state[\"xz\"]\n",
    "\n",
    "        return z\n",
    "\n",
    "    def _inverse(\n",
    "        self,\n",
    "        z: Tensor,\n",
    "        conditions: Tensor = None,\n",
    "        density: bool = False,\n",
    "        training: bool = False,\n",
    "        **kwargs,\n",
    "    ) -> Tensor | tuple[Tensor, Tensor]:\n",
    "        integrate_kwargs = self.integrate_kwargs | kwargs\n",
    "        if isinstance(integrate_kwargs[\"steps\"], int):\n",
    "            # set schedule for specified number of steps\n",
    "            integrate_kwargs[\"steps\"] = self._integration_schedule(\n",
    "                integrate_kwargs[\"steps\"], inverse=True, dtype=ops.dtype(z)\n",
    "            )\n",
    "        if density:\n",
    "\n",
    "            def deltas(time, xz):\n",
    "                v, trace = self._velocity_trace(\n",
    "                    xz, sigma=time, conditions=conditions, training=training\n",
    "                )\n",
    "                return {\"xz\": v, \"trace\": trace}\n",
    "\n",
    "            state = {\n",
    "                \"xz\": z,\n",
    "                \"trace\": keras.ops.zeros(\n",
    "                    keras.ops.shape(z)[:-1] + (1,), dtype=keras.ops.dtype(z)\n",
    "                ),\n",
    "            }\n",
    "            state = integrate(deltas, state, **integrate_kwargs)\n",
    "\n",
    "            x = state[\"xz\"]\n",
    "            log_density = self.base_distribution.log_prob(z) - keras.ops.squeeze(\n",
    "                state[\"trace\"], axis=-1\n",
    "            )\n",
    "\n",
    "            return x, log_density\n",
    "\n",
    "        def deltas(time, xz):\n",
    "            return {\n",
    "                \"xz\": self.velocity(\n",
    "                    xz, sigma=time, conditions=conditions, training=training\n",
    "                )\n",
    "            }\n",
    "\n",
    "        state = {\"xz\": z}\n",
    "        state = integrate(\n",
    "            deltas,\n",
    "            state,\n",
    "            **integrate_kwargs,\n",
    "        )\n",
    "\n",
    "        x = state[\"xz\"]\n",
    "\n",
    "        return x\n",
    "\n",
    "    def compute_metrics(\n",
    "        self,\n",
    "        x: Tensor | Sequence[Tensor, ...],\n",
    "        conditions: Tensor = None,\n",
    "        sample_weight: Tensor = None,\n",
    "        stage: str = \"training\",\n",
    "    ) -> dict[str, Tensor]:\n",
    "        training = stage == \"training\"\n",
    "        if not self.built:\n",
    "            xz_shape = keras.ops.shape(x)\n",
    "            conditions_shape = (\n",
    "                None if conditions is None else keras.ops.shape(conditions)\n",
    "            )\n",
    "            self.build(xz_shape, conditions_shape)\n",
    "        # hyper-parameters for sampling the noise level\n",
    "        p_mean = -1.2\n",
    "        p_std = 1.2\n",
    "\n",
    "        # sample log-noise level\n",
    "        log_sigma = p_mean + p_std * keras.random.normal(\n",
    "            ops.shape(x)[:1], dtype=ops.dtype(x), seed=self.seed_generator\n",
    "        )\n",
    "        # noise level with shape (batch_size, 1)\n",
    "        sigma = ops.exp(log_sigma)[:, None]\n",
    "\n",
    "        # generate noise vector\n",
    "        z = sigma * keras.random.normal(\n",
    "            ops.shape(x), dtype=ops.dtype(x), seed=self.seed_generator\n",
    "        )\n",
    "\n",
    "        # calculate preconditioning\n",
    "        c_skip = self._c_skip_fn(sigma)\n",
    "        c_out = self._c_out_fn(sigma)\n",
    "        c_in = self._c_in_fn(sigma)\n",
    "        c_noise = self._c_noise_fn(sigma)\n",
    "        xz_pre = c_in * (x + z)\n",
    "\n",
    "        # calculate output of the network\n",
    "        if conditions is None:\n",
    "            xtc = keras.ops.concatenate([xz_pre, c_noise], axis=-1)\n",
    "        else:\n",
    "            xtc = keras.ops.concatenate([xz_pre, c_noise, conditions], axis=-1)\n",
    "\n",
    "        out = self.output_projector(\n",
    "            self.subnet(xtc, training=training), training=training\n",
    "        )\n",
    "\n",
    "        # Calculate loss:\n",
    "        lam = 1 / c_out[:, 0] ** 2\n",
    "        effective_weight = lam * c_out[:, 0] ** 2\n",
    "        unweighted_loss = ops.mean(\n",
    "            (out - 1 / c_out * (x - c_skip * (x + z))) ** 2, axis=-1\n",
    "        )\n",
    "        loss = effective_weight * unweighted_loss\n",
    "        loss = weighted_mean(loss, sample_weight)\n",
    "\n",
    "        base_metrics = super().compute_metrics(x, conditions, sample_weight, stage)\n",
    "        return base_metrics | {\"loss\": loss}\n",
    "\n",
    "    def _integration_schedule(self, steps, inverse=False, dtype=None):\n",
    "        def sigma_i(i, steps):\n",
    "            N = steps + 1\n",
    "            return (\n",
    "                self.max_sigma ** (1 / self.rho)\n",
    "                + (i / (N - 1))\n",
    "                * (self.min_sigma ** (1 / self.rho) - self.max_sigma ** (1 / self.rho))\n",
    "            ) ** self.rho\n",
    "\n",
    "        steps = sigma_i(ops.arange(steps + 1, dtype=dtype), steps)\n",
    "        if not inverse:\n",
    "            steps = ops.flip(steps)\n",
    "        return steps"
   ]
  },
  {
   "cell_type": "code",
   "execution_count": 16,
   "id": "fb1d3911-4c67-4b13-9a3b-43980ab1226f",
   "metadata": {
    "ExecuteTime": {
     "end_time": "2024-10-24T08:36:26.618926Z",
     "start_time": "2024-10-24T08:36:26.614443Z"
    }
   },
   "outputs": [
    {
     "data": {
      "text/plain": [
       "Adapter([0: ToArray -> 1: ConvertDType -> 2: Concatenate(['parameters'] -> 'inference_variables') -> 3: Standardize(exclude=['inference_variables']) -> 4: Rename('observables' -> 'inference_conditions')])"
      ]
     },
     "execution_count": 16,
     "metadata": {},
     "output_type": "execute_result"
    }
   ],
   "source": [
    "adapter_edm = (\n",
    "    bf.adapters.Adapter.create_default(inference_variables=[\"parameters\"])\n",
    "    # standardize data variables to zero mean and unit variance\n",
    "    .standardize(exclude=\"inference_variables\")\n",
    "    # rename the variables to match the required approximator inputs\n",
    "    .rename(\"observables\", \"inference_conditions\")\n",
    ")\n",
    "adapter_edm"
   ]
  },
  {
   "cell_type": "markdown",
   "id": "ba1a7152-06b6-4f8c-a410-3cc6bb52dde5",
   "metadata": {},
   "source": [
    "## Dataset\n",
    "\n",
    "For this example, we will sample our training data ahead of time and use offline training with a very small number of epochs. In actual applications, you usually want to train much longer in order to max our performance."
   ]
  },
  {
   "cell_type": "markdown",
   "id": "246e59b9-10f5-45a5-9144-302032c64546",
   "metadata": {
    "ExecuteTime": {
     "end_time": "2024-09-23T14:39:46.950573Z",
     "start_time": "2024-09-23T14:39:46.948624Z"
    }
   },
   "source": [
    "num_training_batches = 512\n",
    "num_validation_sets = 300\n",
    "batch_size = 64\n",
    "epochs = 50"
   ]
  },
  {
   "cell_type": "markdown",
   "id": "7eede657-15eb-4af4-8ea2-01e98a1cb785",
   "metadata": {
    "ExecuteTime": {
     "end_time": "2024-09-23T14:39:53.268860Z",
     "start_time": "2024-09-23T14:39:46.994697Z"
    }
   },
   "source": [
    "training_data = simulator.sample(num_training_batches * batch_size)\n",
    "validation_data = simulator.sample(num_validation_sets)"
   ]
  },
  {
   "cell_type": "markdown",
   "id": "45d81023-b167-4710-9f46-91d7a1f34a4d",
   "metadata": {},
   "source": [
    "## Training a neural network to approximate all posteriors\n",
    "\n",
    "The next step is to set up the neural network that will approximate the posterior $p(\\theta\\,|\\,x)$.\n",
    "\n",
    "We choose **Flow Matching** [1, 2] as the backbone architecture for this example, as it can deal well with the multimodal nature of the posteriors that some observables imply.\n",
    "\n",
    "* [1] Lipman, Y., Chen, R. T., Ben-Hamu, H., Nickel, M., & Le, M. Flow Matching for Generative Modeling. In *The Eleventh International Conference on Learning Representations*.\n",
    "\n",
    "* [2] Wildberger, J. B., Dax, M., Buchholz, S., Green, S. R., Macke, J. H., & Schölkopf, B. Flow Matching for Scalable Simulation-Based Inference. In *Thirty-seventh Conference on Neural Information Processing Systems*."
   ]
  },
  {
   "cell_type": "code",
   "execution_count": 17,
   "id": "8838e4d9-eeb0-4d26-8cda-48df9dadaa85",
   "metadata": {
    "ExecuteTime": {
     "end_time": "2024-09-23T14:39:53.339590Z",
     "start_time": "2024-09-23T14:39:53.319852Z"
    }
   },
   "outputs": [],
   "source": [
    "edm = EDM(\n",
    "    subnet=\"mlp\", \n",
    "    subnet_kwargs={\"dropout\": 0.0, \"widths\": (256,)*6}, # override default dropout = 0.05 and widths = (256,)*5\n",
    ")"
   ]
  },
  {
   "cell_type": "markdown",
   "id": "b93b2378-8b06-42d3-bca0-9787f3a81205",
   "metadata": {},
   "source": [
    "This inference network is just a general Flow Matching backbone, not yet adapted to the specific inference task at hand (i.e., posterior appproximation). To achieve this adaptation, we combine the network with our data adapter, which together form an `approximator`. In this case, we need a `ContinuousApproximator` since the target we want to approximate is the posterior of the *continuous* parameter vector $\\theta$."
   ]
  },
  {
   "cell_type": "markdown",
   "id": "e436903a-a025-4269-b02f-cd84e8ce6902",
   "metadata": {},
   "source": [
    "### Basic Workflow\n",
    "We can hide many of the traditional deep learning steps (e.g., specifying a learning rate and an optimizer) within a `Workflow` object. This object just wraps everything together and includes some nice utility functions for training and *in silico* validation."
   ]
  },
  {
   "cell_type": "code",
   "execution_count": 18,
   "id": "c93d17aa-fa3d-455d-8c7a-30a02aea207c",
   "metadata": {
    "ExecuteTime": {
     "end_time": "2024-09-23T14:39:53.371691Z",
     "start_time": "2024-09-23T14:39:53.369375Z"
    }
   },
   "outputs": [],
   "source": [
    "edm_workflow = bf.BasicWorkflow(\n",
    "    simulator=simulator,\n",
    "    adapter=adapter_edm,\n",
    "    inference_network=edm,\n",
    "    initial_learning_rate=1e-3\n",
    ")"
   ]
  },
  {
   "cell_type": "markdown",
   "id": "36707fe1-15b1-42df-a14c-7449645b0955",
   "metadata": {},
   "source": [
    "### Training\n",
    "\n",
    "We are ready to train our deep posterior approximator on the two moons example. We use the utility function `fit_offline`, which wraps the approximator's super flexible `fit` method."
   ]
  },
  {
   "cell_type": "markdown",
   "id": "bc331f9f-04b0-45d3-bbf7-0099a1b966a3",
   "metadata": {},
   "source": [
    "diffusion_model_workflow.approximator.build_from_data(diffusion_model_workflow.adapter(validation_data))"
   ]
  },
  {
   "cell_type": "code",
   "execution_count": 19,
   "id": "e23cd1d5-92a5-41fe-b273-96d7420760af",
   "metadata": {
    "ExecuteTime": {
     "end_time": "2024-09-23T14:42:36.067393Z",
     "start_time": "2024-09-23T14:39:53.513436Z"
    }
   },
   "outputs": [
    {
     "name": "stderr",
     "output_type": "stream",
     "text": [
      "INFO:bayesflow:Fitting on dataset instance of OnlineDataset.\n",
      "INFO:bayesflow:Building on a test batch.\n"
     ]
    },
    {
     "name": "stdout",
     "output_type": "stream",
     "text": [
      "Epoch 1/50\n",
      "\u001b[1m512/512\u001b[0m \u001b[32m━━━━━━━━━━━━━━━━━━━━\u001b[0m\u001b[37m\u001b[0m \u001b[1m4s\u001b[0m 4ms/step - loss: 0.8323 - loss/inference_loss: 0.8323 - val_loss: 0.6503 - val_loss/inference_loss: 0.6503\n",
      "Epoch 2/50\n",
      "\u001b[1m512/512\u001b[0m \u001b[32m━━━━━━━━━━━━━━━━━━━━\u001b[0m\u001b[37m\u001b[0m \u001b[1m2s\u001b[0m 4ms/step - loss: 0.4613 - loss/inference_loss: 0.4613 - val_loss: 0.4215 - val_loss/inference_loss: 0.4215\n",
      "Epoch 3/50\n",
      "\u001b[1m512/512\u001b[0m \u001b[32m━━━━━━━━━━━━━━━━━━━━\u001b[0m\u001b[37m\u001b[0m \u001b[1m2s\u001b[0m 4ms/step - loss: 0.3344 - loss/inference_loss: 0.3344 - val_loss: 0.3557 - val_loss/inference_loss: 0.3557\n",
      "Epoch 4/50\n",
      "\u001b[1m512/512\u001b[0m \u001b[32m━━━━━━━━━━━━━━━━━━━━\u001b[0m\u001b[37m\u001b[0m \u001b[1m2s\u001b[0m 4ms/step - loss: 0.3013 - loss/inference_loss: 0.3013 - val_loss: 0.2316 - val_loss/inference_loss: 0.2316\n",
      "Epoch 5/50\n",
      "\u001b[1m512/512\u001b[0m \u001b[32m━━━━━━━━━━━━━━━━━━━━\u001b[0m\u001b[37m\u001b[0m \u001b[1m2s\u001b[0m 4ms/step - loss: 0.2833 - loss/inference_loss: 0.2833 - val_loss: 0.1944 - val_loss/inference_loss: 0.1944\n",
      "Epoch 6/50\n",
      "\u001b[1m512/512\u001b[0m \u001b[32m━━━━━━━━━━━━━━━━━━━━\u001b[0m\u001b[37m\u001b[0m \u001b[1m2s\u001b[0m 4ms/step - loss: 0.2795 - loss/inference_loss: 0.2795 - val_loss: 0.2124 - val_loss/inference_loss: 0.2124\n",
      "Epoch 7/50\n",
      "\u001b[1m512/512\u001b[0m \u001b[32m━━━━━━━━━━━━━━━━━━━━\u001b[0m\u001b[37m\u001b[0m \u001b[1m2s\u001b[0m 4ms/step - loss: 0.2705 - loss/inference_loss: 0.2705 - val_loss: 0.2438 - val_loss/inference_loss: 0.2438\n",
      "Epoch 8/50\n",
      "\u001b[1m512/512\u001b[0m \u001b[32m━━━━━━━━━━━━━━━━━━━━\u001b[0m\u001b[37m\u001b[0m \u001b[1m2s\u001b[0m 4ms/step - loss: 0.2699 - loss/inference_loss: 0.2699 - val_loss: 0.3187 - val_loss/inference_loss: 0.3187\n",
      "Epoch 9/50\n",
      "\u001b[1m512/512\u001b[0m \u001b[32m━━━━━━━━━━━━━━━━━━━━\u001b[0m\u001b[37m\u001b[0m \u001b[1m2s\u001b[0m 4ms/step - loss: 0.2581 - loss/inference_loss: 0.2581 - val_loss: 0.3320 - val_loss/inference_loss: 0.3320\n",
      "Epoch 10/50\n",
      "\u001b[1m512/512\u001b[0m \u001b[32m━━━━━━━━━━━━━━━━━━━━\u001b[0m\u001b[37m\u001b[0m \u001b[1m2s\u001b[0m 4ms/step - loss: 0.2620 - loss/inference_loss: 0.2620 - val_loss: 0.1860 - val_loss/inference_loss: 0.1860\n",
      "Epoch 11/50\n",
      "\u001b[1m512/512\u001b[0m \u001b[32m━━━━━━━━━━━━━━━━━━━━\u001b[0m\u001b[37m\u001b[0m \u001b[1m2s\u001b[0m 4ms/step - loss: 0.2571 - loss/inference_loss: 0.2571 - val_loss: 0.2292 - val_loss/inference_loss: 0.2292\n",
      "Epoch 12/50\n",
      "\u001b[1m512/512\u001b[0m \u001b[32m━━━━━━━━━━━━━━━━━━━━\u001b[0m\u001b[37m\u001b[0m \u001b[1m2s\u001b[0m 4ms/step - loss: 0.2563 - loss/inference_loss: 0.2563 - val_loss: 0.3294 - val_loss/inference_loss: 0.3294\n",
      "Epoch 13/50\n",
      "\u001b[1m512/512\u001b[0m \u001b[32m━━━━━━━━━━━━━━━━━━━━\u001b[0m\u001b[37m\u001b[0m \u001b[1m2s\u001b[0m 4ms/step - loss: 0.2517 - loss/inference_loss: 0.2517 - val_loss: 0.1884 - val_loss/inference_loss: 0.1884\n",
      "Epoch 14/50\n",
      "\u001b[1m512/512\u001b[0m \u001b[32m━━━━━━━━━━━━━━━━━━━━\u001b[0m\u001b[37m\u001b[0m \u001b[1m2s\u001b[0m 4ms/step - loss: 0.2446 - loss/inference_loss: 0.2446 - val_loss: 0.2823 - val_loss/inference_loss: 0.2823\n",
      "Epoch 15/50\n",
      "\u001b[1m512/512\u001b[0m \u001b[32m━━━━━━━━━━━━━━━━━━━━\u001b[0m\u001b[37m\u001b[0m \u001b[1m2s\u001b[0m 4ms/step - loss: 0.2497 - loss/inference_loss: 0.2497 - val_loss: 0.2973 - val_loss/inference_loss: 0.2973\n",
      "Epoch 16/50\n",
      "\u001b[1m512/512\u001b[0m \u001b[32m━━━━━━━━━━━━━━━━━━━━\u001b[0m\u001b[37m\u001b[0m \u001b[1m2s\u001b[0m 4ms/step - loss: 0.2450 - loss/inference_loss: 0.2450 - val_loss: 0.1761 - val_loss/inference_loss: 0.1761\n",
      "Epoch 17/50\n",
      "\u001b[1m512/512\u001b[0m \u001b[32m━━━━━━━━━━━━━━━━━━━━\u001b[0m\u001b[37m\u001b[0m \u001b[1m2s\u001b[0m 4ms/step - loss: 0.2426 - loss/inference_loss: 0.2426 - val_loss: 0.1549 - val_loss/inference_loss: 0.1549\n",
      "Epoch 18/50\n",
      "\u001b[1m512/512\u001b[0m \u001b[32m━━━━━━━━━━━━━━━━━━━━\u001b[0m\u001b[37m\u001b[0m \u001b[1m2s\u001b[0m 4ms/step - loss: 0.2471 - loss/inference_loss: 0.2471 - val_loss: 0.1838 - val_loss/inference_loss: 0.1838\n",
      "Epoch 19/50\n",
      "\u001b[1m512/512\u001b[0m \u001b[32m━━━━━━━━━━━━━━━━━━━━\u001b[0m\u001b[37m\u001b[0m \u001b[1m2s\u001b[0m 4ms/step - loss: 0.2437 - loss/inference_loss: 0.2437 - val_loss: 0.2577 - val_loss/inference_loss: 0.2577\n",
      "Epoch 20/50\n",
      "\u001b[1m512/512\u001b[0m \u001b[32m━━━━━━━━━━━━━━━━━━━━\u001b[0m\u001b[37m\u001b[0m \u001b[1m2s\u001b[0m 4ms/step - loss: 0.2390 - loss/inference_loss: 0.2390 - val_loss: 0.3699 - val_loss/inference_loss: 0.3699\n",
      "Epoch 21/50\n",
      "\u001b[1m512/512\u001b[0m \u001b[32m━━━━━━━━━━━━━━━━━━━━\u001b[0m\u001b[37m\u001b[0m \u001b[1m2s\u001b[0m 4ms/step - loss: 0.2408 - loss/inference_loss: 0.2408 - val_loss: 0.2597 - val_loss/inference_loss: 0.2597\n",
      "Epoch 22/50\n",
      "\u001b[1m512/512\u001b[0m \u001b[32m━━━━━━━━━━━━━━━━━━━━\u001b[0m\u001b[37m\u001b[0m \u001b[1m2s\u001b[0m 4ms/step - loss: 0.2388 - loss/inference_loss: 0.2388 - val_loss: 0.2999 - val_loss/inference_loss: 0.2999\n",
      "Epoch 23/50\n",
      "\u001b[1m512/512\u001b[0m \u001b[32m━━━━━━━━━━━━━━━━━━━━\u001b[0m\u001b[37m\u001b[0m \u001b[1m2s\u001b[0m 4ms/step - loss: 0.2347 - loss/inference_loss: 0.2347 - val_loss: 0.2340 - val_loss/inference_loss: 0.2340\n",
      "Epoch 24/50\n",
      "\u001b[1m512/512\u001b[0m \u001b[32m━━━━━━━━━━━━━━━━━━━━\u001b[0m\u001b[37m\u001b[0m \u001b[1m2s\u001b[0m 4ms/step - loss: 0.2344 - loss/inference_loss: 0.2344 - val_loss: 0.3118 - val_loss/inference_loss: 0.3118\n",
      "Epoch 25/50\n",
      "\u001b[1m512/512\u001b[0m \u001b[32m━━━━━━━━━━━━━━━━━━━━\u001b[0m\u001b[37m\u001b[0m \u001b[1m2s\u001b[0m 4ms/step - loss: 0.2306 - loss/inference_loss: 0.2306 - val_loss: 0.1503 - val_loss/inference_loss: 0.1503\n",
      "Epoch 26/50\n",
      "\u001b[1m512/512\u001b[0m \u001b[32m━━━━━━━━━━━━━━━━━━━━\u001b[0m\u001b[37m\u001b[0m \u001b[1m2s\u001b[0m 4ms/step - loss: 0.2313 - loss/inference_loss: 0.2313 - val_loss: 0.1783 - val_loss/inference_loss: 0.1783\n",
      "Epoch 27/50\n",
      "\u001b[1m512/512\u001b[0m \u001b[32m━━━━━━━━━━━━━━━━━━━━\u001b[0m\u001b[37m\u001b[0m \u001b[1m2s\u001b[0m 4ms/step - loss: 0.2334 - loss/inference_loss: 0.2334 - val_loss: 0.2589 - val_loss/inference_loss: 0.2589\n",
      "Epoch 28/50\n",
      "\u001b[1m512/512\u001b[0m \u001b[32m━━━━━━━━━━━━━━━━━━━━\u001b[0m\u001b[37m\u001b[0m \u001b[1m2s\u001b[0m 4ms/step - loss: 0.2282 - loss/inference_loss: 0.2282 - val_loss: 0.1757 - val_loss/inference_loss: 0.1757\n",
      "Epoch 29/50\n",
      "\u001b[1m512/512\u001b[0m \u001b[32m━━━━━━━━━━━━━━━━━━━━\u001b[0m\u001b[37m\u001b[0m \u001b[1m2s\u001b[0m 4ms/step - loss: 0.2249 - loss/inference_loss: 0.2249 - val_loss: 0.2094 - val_loss/inference_loss: 0.2094\n",
      "Epoch 30/50\n",
      "\u001b[1m512/512\u001b[0m \u001b[32m━━━━━━━━━━━━━━━━━━━━\u001b[0m\u001b[37m\u001b[0m \u001b[1m2s\u001b[0m 4ms/step - loss: 0.2289 - loss/inference_loss: 0.2289 - val_loss: 0.3566 - val_loss/inference_loss: 0.3566\n",
      "Epoch 31/50\n",
      "\u001b[1m512/512\u001b[0m \u001b[32m━━━━━━━━━━━━━━━━━━━━\u001b[0m\u001b[37m\u001b[0m \u001b[1m2s\u001b[0m 4ms/step - loss: 0.2237 - loss/inference_loss: 0.2237 - val_loss: 0.1404 - val_loss/inference_loss: 0.1404\n",
      "Epoch 32/50\n",
      "\u001b[1m512/512\u001b[0m \u001b[32m━━━━━━━━━━━━━━━━━━━━\u001b[0m\u001b[37m\u001b[0m \u001b[1m2s\u001b[0m 4ms/step - loss: 0.2242 - loss/inference_loss: 0.2242 - val_loss: 0.3467 - val_loss/inference_loss: 0.3467\n",
      "Epoch 33/50\n",
      "\u001b[1m512/512\u001b[0m \u001b[32m━━━━━━━━━━━━━━━━━━━━\u001b[0m\u001b[37m\u001b[0m \u001b[1m2s\u001b[0m 5ms/step - loss: 0.2170 - loss/inference_loss: 0.2170 - val_loss: 0.1119 - val_loss/inference_loss: 0.1119\n",
      "Epoch 34/50\n",
      "\u001b[1m512/512\u001b[0m \u001b[32m━━━━━━━━━━━━━━━━━━━━\u001b[0m\u001b[37m\u001b[0m \u001b[1m3s\u001b[0m 5ms/step - loss: 0.2232 - loss/inference_loss: 0.2232 - val_loss: 0.1707 - val_loss/inference_loss: 0.1707\n",
      "Epoch 35/50\n",
      "\u001b[1m512/512\u001b[0m \u001b[32m━━━━━━━━━━━━━━━━━━━━\u001b[0m\u001b[37m\u001b[0m \u001b[1m3s\u001b[0m 5ms/step - loss: 0.2196 - loss/inference_loss: 0.2196 - val_loss: 0.2344 - val_loss/inference_loss: 0.2344\n",
      "Epoch 36/50\n",
      "\u001b[1m512/512\u001b[0m \u001b[32m━━━━━━━━━━━━━━━━━━━━\u001b[0m\u001b[37m\u001b[0m \u001b[1m3s\u001b[0m 5ms/step - loss: 0.2152 - loss/inference_loss: 0.2152 - val_loss: 0.1856 - val_loss/inference_loss: 0.1856\n",
      "Epoch 37/50\n",
      "\u001b[1m512/512\u001b[0m \u001b[32m━━━━━━━━━━━━━━━━━━━━\u001b[0m\u001b[37m\u001b[0m \u001b[1m3s\u001b[0m 5ms/step - loss: 0.2215 - loss/inference_loss: 0.2215 - val_loss: 0.1247 - val_loss/inference_loss: 0.1247\n",
      "Epoch 38/50\n",
      "\u001b[1m512/512\u001b[0m \u001b[32m━━━━━━━━━━━━━━━━━━━━\u001b[0m\u001b[37m\u001b[0m \u001b[1m2s\u001b[0m 4ms/step - loss: 0.2206 - loss/inference_loss: 0.2206 - val_loss: 0.2515 - val_loss/inference_loss: 0.2515\n",
      "Epoch 39/50\n",
      "\u001b[1m512/512\u001b[0m \u001b[32m━━━━━━━━━━━━━━━━━━━━\u001b[0m\u001b[37m\u001b[0m \u001b[1m2s\u001b[0m 5ms/step - loss: 0.2180 - loss/inference_loss: 0.2180 - val_loss: 0.1320 - val_loss/inference_loss: 0.1320\n",
      "Epoch 40/50\n",
      "\u001b[1m512/512\u001b[0m \u001b[32m━━━━━━━━━━━━━━━━━━━━\u001b[0m\u001b[37m\u001b[0m \u001b[1m2s\u001b[0m 5ms/step - loss: 0.2189 - loss/inference_loss: 0.2189 - val_loss: 0.2047 - val_loss/inference_loss: 0.2047\n",
      "Epoch 41/50\n",
      "\u001b[1m512/512\u001b[0m \u001b[32m━━━━━━━━━━━━━━━━━━━━\u001b[0m\u001b[37m\u001b[0m \u001b[1m2s\u001b[0m 5ms/step - loss: 0.2145 - loss/inference_loss: 0.2145 - val_loss: 0.2467 - val_loss/inference_loss: 0.2467\n",
      "Epoch 42/50\n",
      "\u001b[1m512/512\u001b[0m \u001b[32m━━━━━━━━━━━━━━━━━━━━\u001b[0m\u001b[37m\u001b[0m \u001b[1m2s\u001b[0m 4ms/step - loss: 0.2121 - loss/inference_loss: 0.2121 - val_loss: 0.2131 - val_loss/inference_loss: 0.2131\n",
      "Epoch 43/50\n",
      "\u001b[1m512/512\u001b[0m \u001b[32m━━━━━━━━━━━━━━━━━━━━\u001b[0m\u001b[37m\u001b[0m \u001b[1m2s\u001b[0m 4ms/step - loss: 0.2146 - loss/inference_loss: 0.2146 - val_loss: 0.1652 - val_loss/inference_loss: 0.1652\n",
      "Epoch 44/50\n",
      "\u001b[1m512/512\u001b[0m \u001b[32m━━━━━━━━━━━━━━━━━━━━\u001b[0m\u001b[37m\u001b[0m \u001b[1m2s\u001b[0m 4ms/step - loss: 0.2163 - loss/inference_loss: 0.2163 - val_loss: 0.1934 - val_loss/inference_loss: 0.1934\n",
      "Epoch 45/50\n",
      "\u001b[1m512/512\u001b[0m \u001b[32m━━━━━━━━━━━━━━━━━━━━\u001b[0m\u001b[37m\u001b[0m \u001b[1m2s\u001b[0m 4ms/step - loss: 0.2174 - loss/inference_loss: 0.2174 - val_loss: 0.1204 - val_loss/inference_loss: 0.1204\n",
      "Epoch 46/50\n",
      "\u001b[1m512/512\u001b[0m \u001b[32m━━━━━━━━━━━━━━━━━━━━\u001b[0m\u001b[37m\u001b[0m \u001b[1m2s\u001b[0m 4ms/step - loss: 0.2149 - loss/inference_loss: 0.2149 - val_loss: 0.2139 - val_loss/inference_loss: 0.2139\n",
      "Epoch 47/50\n",
      "\u001b[1m512/512\u001b[0m \u001b[32m━━━━━━━━━━━━━━━━━━━━\u001b[0m\u001b[37m\u001b[0m \u001b[1m2s\u001b[0m 4ms/step - loss: 0.2139 - loss/inference_loss: 0.2139 - val_loss: 0.1210 - val_loss/inference_loss: 0.1210\n",
      "Epoch 48/50\n",
      "\u001b[1m512/512\u001b[0m \u001b[32m━━━━━━━━━━━━━━━━━━━━\u001b[0m\u001b[37m\u001b[0m \u001b[1m2s\u001b[0m 4ms/step - loss: 0.2165 - loss/inference_loss: 0.2165 - val_loss: 0.2491 - val_loss/inference_loss: 0.2491\n",
      "Epoch 49/50\n",
      "\u001b[1m512/512\u001b[0m \u001b[32m━━━━━━━━━━━━━━━━━━━━\u001b[0m\u001b[37m\u001b[0m \u001b[1m2s\u001b[0m 4ms/step - loss: 0.2145 - loss/inference_loss: 0.2145 - val_loss: 0.1370 - val_loss/inference_loss: 0.1370\n",
      "Epoch 50/50\n",
      "\u001b[1m512/512\u001b[0m \u001b[32m━━━━━━━━━━━━━━━━━━━━\u001b[0m\u001b[37m\u001b[0m \u001b[1m2s\u001b[0m 4ms/step - loss: 0.2150 - loss/inference_loss: 0.2150 - val_loss: 0.1586 - val_loss/inference_loss: 0.1586\n"
     ]
    }
   ],
   "source": [
    "edm_history = edm_workflow.fit_online(\n",
    "    epochs=epochs,\n",
    "    num_batches_per_epoch=num_batches_per_epoch,\n",
    "    batch_size=batch_size, \n",
    "    validation_data=validation_data,\n",
    ")"
   ]
  },
  {
   "cell_type": "code",
   "execution_count": 20,
   "id": "b16e87a6-cc08-477e-8135-9bca4ea53991",
   "metadata": {},
   "outputs": [
    {
     "data": {
      "text/plain": [
       "(-0.5, 0.5)"
      ]
     },
     "execution_count": 20,
     "metadata": {},
     "output_type": "execute_result"
    },
    {
     "data": {
      "image/png": "[encoded data removed]",
      "text/plain": [
       "<Figure size 640x480 with 1 Axes>"
      ]
     },
     "metadata": {},
     "output_type": "display_data"
    }
   ],
   "source": [
    "edm_samples = edm_workflow.sample(num_samples=3000, conditions={\"observables\":np.array([[0.0, 0.0]], dtype=np.float32)})\n",
    "plt.scatter(edm_samples[\"parameters\"][0, :, 0], edm_samples[\"parameters\"][0, :, 1], alpha=0.75, s=0.5)\n",
    "plt.gca().set_aspect(\"equal\", adjustable=\"box\")\n",
    "plt.xlim([-0.5, 0.5])\n",
    "plt.ylim([-0.5, 0.5])"
   ]
  },
  {
   "cell_type": "code",
   "execution_count": 21,
   "id": "2d5e05b7-9159-41e3-ad9c-7629ebff17e7",
   "metadata": {},
   "outputs": [
    {
     "data": {
      "text/plain": [
       "(-0.5, 0.5)"
      ]
     },
     "execution_count": 21,
     "metadata": {},
     "output_type": "execute_result"
    },
    {
     "data": {
      "image/png": "[encoded data removed]",
      "text/plain": [
       "<Figure size 640x480 with 1 Axes>"
      ]
     },
     "metadata": {},
     "output_type": "display_data"
    }
   ],
   "source": [
    "edm_samples = edm_workflow.sample(num_samples=3000, conditions={\"observables\":np.array([[0.0, 0.0]], dtype=np.float32)}, steps=1000)\n",
    "plt.scatter(edm_samples[\"parameters\"][0, :, 0], edm_samples[\"parameters\"][0, :, 1], alpha=0.75, s=0.5)\n",
    "plt.gca().set_aspect(\"equal\", adjustable=\"box\")\n",
    "plt.xlim([-0.5, 0.5])\n",
    "plt.ylim([-0.5, 0.5])"
   ]
  },
  {
   "cell_type": "code",
   "execution_count": 22,
   "id": "5dfa0d57-c31e-44fe-98ae-36d1669e21d5",
   "metadata": {},
   "outputs": [
    {
     "data": {
      "image/png": "[encoded data removed]",
      "text/plain": [
       "<Figure size 1000x500 with 2 Axes>"
      ]
     },
     "metadata": {},
     "output_type": "display_data"
    }
   ],
   "source": [
    "fig, axs = plt.subplots(1, 2, figsize=(10,5))\n",
    "axs[0].scatter(samples[\"parameters\"][0, :, 0], samples[\"parameters\"][0, :, 1], alpha=0.2, s=1, label=\"General\")\n",
    "axs[0].scatter(\n",
    "    edm_samples[\"parameters\"][0, :, 0],\n",
    "    edm_samples[\"parameters\"][0, :, 1],\n",
    "    alpha=0.2,\n",
    "    s=1,\n",
    "    label=\"EDM (specialized)\",\n",
    ")\n",
    "\n",
    "axs[1].scatter(edm_samples[\"parameters\"][0, :, 0], edm_samples[\"parameters\"][0, :, 1], alpha=0.2, s=1, label=\"EDM (specialized)\")\n",
    "axs[1].scatter(\n",
    "    samples[\"parameters\"][0, :, 0],\n",
    "    samples[\"parameters\"][0, :, 1],\n",
    "    alpha=0.2,\n",
    "    s=1,\n",
    "    label=\"General\",\n",
    ")\n",
    "\n",
    "for ax in axs:\n",
    "    ax.set_aspect(\"equal\", adjustable=\"box\")\n",
    "    ax.set_xlim([-0.5, 0.5])\n",
    "    ax.set_ylim([-0.5, 0.5])\n",
    "    ax.legend()"
   ]
  }
 ],
 "metadata": {
  "kernelspec": {
   "display_name": "Python 3 (ipykernel)",
   "language": "python",
   "name": "python3"
  },
  "language_info": {
   "codemirror_mode": {
    "name": "ipython",
    "version": 3
   },
   "file_extension": ".py",
   "mimetype": "text/x-python",
   "name": "python",
   "nbconvert_exporter": "python",
   "pygments_lexer": "ipython3",
   "version": "3.11.11"
  },
  "toc": {
   "base_numbering": 1,
   "nav_menu": {},
   "number_sections": true,
   "sideBar": true,
   "skip_h1_title": true,
   "title_cell": "Table of Contents",
   "title_sidebar": "Contents",
   "toc_cell": true,
   "toc_position": {
    "height": "calc(100% - 180px)",
    "left": "10px",
    "top": "150px",
    "width": "165px"
   },
   "toc_section_display": true,
   "toc_window_display": true
  },
  "widgets": {
   "application/vnd.jupyter.widget-state+json": {
    "state": {},
    "version_major": 2,
    "version_minor": 0
   }
  }
 },
 "nbformat": 4,
 "nbformat_minor": 5
}
