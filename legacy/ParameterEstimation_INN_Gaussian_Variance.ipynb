{
 "cells": [
  {
   "cell_type": "code",
   "execution_count": 103,
   "metadata": {},
   "outputs": [],
   "source": [
    "import tensorflow as tf\n",
    "from tensorflow.keras.regularizers import l2\n",
    "from tqdm import tqdm_notebook as tqdm\n",
    "import numpy as np\n",
    "import pandas as pd\n",
    "from scipy import stats\n",
    "import matplotlib.pyplot as plt\n",
    "from scipy.stats import binom\n",
    "from functools import partial\n",
    "import seaborn as sns\n",
    "np.set_printoptions(suppress=True)\n",
    "\n",
    "from deep_bayes.models import BayesFlow\n",
    "from deep_bayes.training import train_online\n",
    "from deep_bayes.losses import maximum_likelihood_loss\n",
    "from deep_bayes.viz import plot_true_est_scatter, plot_true_est_posterior\n",
    "import deep_bayes.diagnostics as diag"
   ]
  },
  {
   "cell_type": "code",
   "execution_count": 45,
   "metadata": {},
   "outputs": [],
   "source": [
    "if int(tf.__version__[0]) == 1:\n",
    "    tf.enable_eager_execution()"
   ]
  },
  {
   "cell_type": "code",
   "execution_count": 46,
   "metadata": {},
   "outputs": [
    {
     "name": "stdout",
     "output_type": "stream",
     "text": [
      "The autoreload extension is already loaded. To reload it, use:\n",
      "  %reload_ext autoreload\n"
     ]
    }
   ],
   "source": [
    "%load_ext autoreload\n",
    "%autoreload 2"
   ]
  },
  {
   "cell_type": "markdown",
   "metadata": {},
   "source": [
    "# Forward model priors and generator"
   ]
  },
  {
   "cell_type": "code",
   "execution_count": 47,
   "metadata": {},
   "outputs": [],
   "source": [
    "def prior(batch_size):\n",
    "    \"\"\"\n",
    "    Samples from the prior 'batch_size' times.\n",
    "    ----------\n",
    "    \n",
    "    Arguments:\n",
    "    batch_size : int -- the number of samples to draw from the prior\n",
    "    ----------\n",
    "    \n",
    "    Output:\n",
    "    theta : np.ndarray of shape (batch_size, theta_dim) -- the samples batch of parameters\n",
    "    \"\"\"\n",
    "    \n",
    "    # Just as a toy example, sample from 4-D unit Gaussian\n",
    "    mu = stats.norm(0, 1).rvs(batch_size)\n",
    "    scale = stats.invgamma(3, 0.5).rvs(batch_size)\n",
    "    return np.c_[mu, scale]"
   ]
  },
  {
   "cell_type": "code",
   "execution_count": 48,
   "metadata": {},
   "outputs": [],
   "source": [
    "def forward_model(params, n_obs, **args):\n",
    "    \"\"\"\n",
    "    Runs the forward model ones, i.e., generates a sample from p(x|theta).\n",
    "    ----------\n",
    "    \n",
    "    Arguments:\n",
    "    params : np.ndarray of shape (theta_dim, ) -- the data generating parameters\n",
    "    n_obs  : int -- the numebr of observations to draw from p(x|theta)\n",
    "    ----------\n",
    "    \n",
    "    Output:\n",
    "    x      : np.ndarray of shape (n_obs, x_dim)\n",
    "    \"\"\"\n",
    "    \n",
    "    # Again, toy\n",
    "    x = np.random.normal(loc=params[:, 0], \n",
    "                         scale=params[:, 1], \n",
    "                         size=(n_obs, params.shape[0])).T[:, :, np.newaxis]\n",
    "    return x"
   ]
  },
  {
   "cell_type": "code",
   "execution_count": 49,
   "metadata": {},
   "outputs": [],
   "source": [
    "def data_generator(batch_size, n_obs=None, n_obs_min=1, n_obs_max=500, to_tensor=True, **args):\n",
    "    \"\"\"\n",
    "    Runs the forward model 'batch_size' times by first sampling fromt the prior\n",
    "    theta ~ p(theta) and running x ~ p(x|theta).\n",
    "    ----------\n",
    "    \n",
    "    Arguments:\n",
    "    batch_size : int -- the number of samples to draw from the prior\n",
    "    n_obs      : int -- the numebr of observations to draw from p(x|theta)\n",
    "    to_tensor  : boolean -- converts theta and x to tensors if True\n",
    "    ----------\n",
    "    \n",
    "    Output:\n",
    "    A dictionary with key-value pairs:\n",
    "    theta : tf.Tensor or np.ndarray of shape (batch_size, theta_dim) - the data gen parameters \n",
    "    x     : tf.Tensor of np.ndarray of shape (batch_size, n_obs, x_dim)  - the generated data\n",
    "    \"\"\"\n",
    "    \n",
    "    # Sample from prior\n",
    "    # theta is a np.array of shape (batch_size, theta_dim)\n",
    "    theta = prior(batch_size)\n",
    "    \n",
    "    if n_obs is None:\n",
    "        n_obs = np.random.randint(n_obs_min, n_obs_max+1)\n",
    "    \n",
    "    # Generate data\n",
    "    # x is a np.ndarray of shape (batch_size, n_obs, x_dim)\n",
    "    x = forward_model(theta, n_obs=n_obs)\n",
    "    \n",
    "    # Convert to tensor, if specified \n",
    "    if to_tensor:\n",
    "        theta = tf.convert_to_tensor(theta, dtype=tf.float32)\n",
    "        x = tf.convert_to_tensor(x, dtype=tf.float32)\n",
    "    return {'theta': theta, 'x': x}"
   ]
  },
  {
   "cell_type": "code",
   "execution_count": 102,
   "metadata": {},
   "outputs": [],
   "source": [
    "def plot_sbc(theta_samples, theta_test, param_names, bins=25,\n",
    "            figsize=(24, 12), interval=0.99, show=True, filename=None, font_size=12):\n",
    "    \"\"\"\n",
    "    Plots the simulation-based posterior checking histograms as advocated by Talts et al. (2018).\n",
    "    \"\"\"\n",
    "\n",
    "    # Plot settings\n",
    "    plt.rcParams['font.size'] = font_size\n",
    "    N = int(theta_test.shape[0])\n",
    "    \n",
    "\n",
    "    f, axarr = plt.subplots(1, 2, figsize=figsize)\n",
    "    axarr = axarr.flat\n",
    "\n",
    "    # Convert theta test to numpy\n",
    "    theta_test = theta_test.numpy()\n",
    "\n",
    "    # Compute ranks (using broadcasting)    \n",
    "    ranks = np.sum(theta_samples < theta_test, axis=0)\n",
    "    \n",
    "    # Compute interval\n",
    "    endpoints = binom.interval(interval, N, 1 / (bins+1))\n",
    "\n",
    "    # Plot histograms\n",
    "    for j in range(len(param_names)):\n",
    "        \n",
    "        # Add interval\n",
    "        axarr[j].axhspan(endpoints[0], endpoints[1], facecolor='gray', alpha=0.3)\n",
    "        axarr[j].axhline(np.mean(endpoints), color='gray', zorder=0, alpha=0.5)\n",
    "        \n",
    "        sns.distplot(ranks[:, j], kde=False, ax=axarr[j], color='#a34f4f',\n",
    "                         hist_kws=dict(edgecolor=\"k\", linewidth=1,alpha=1.), bins=bins)\n",
    "        \n",
    "        axarr[j].set_title(param_names[j])\n",
    "        axarr[j].spines['right'].set_visible(False)\n",
    "        axarr[j].spines['top'].set_visible(False)\n",
    "        if j == 0:\n",
    "            axarr[j].set_xlabel('Rank statistic')\n",
    "        axarr[j].get_yaxis().set_ticks([])\n",
    "    f.tight_layout()\n",
    "    \n",
    "    # Show, if specified\n",
    "    if show:\n",
    "        plt.show()\n",
    "        \n",
    "    # Save if specified\n",
    "    if filename is not None:\n",
    "        f.savefig(\"figures/{}.png\".format(filename), dpi=300)"
   ]
  },
  {
   "cell_type": "code",
   "execution_count": 75,
   "metadata": {},
   "outputs": [],
   "source": [
    "class InvariantModule(tf.keras.Model):\n",
    "    \"\"\"Implements an invariant nn module as proposed by Bloem-Reddy and Teh (2019).\"\"\"\n",
    "\n",
    "    def __init__(self, meta):\n",
    "        \"\"\"\n",
    "        Creates an invariant function with mean pooling.\n",
    "        ----------\n",
    "\n",
    "        Arguments:\n",
    "        meta : dict -- a dictionary with hyperparameter name - values\n",
    "        \"\"\"\n",
    "\n",
    "        super(InvariantModule, self).__init__()\n",
    "\n",
    "\n",
    "        self.module = tf.keras.Sequential([\n",
    "            tf.keras.layers.Dense(**meta['dense_inv_args'])\n",
    "            for _ in range(meta['n_dense_inv'])\n",
    "        ])\n",
    "\n",
    "            \n",
    "        self.post_pooling_dense = tf.keras.Sequential([\n",
    "            tf.keras.layers.Dense(**meta['dense_inv_args'])\n",
    "            for _ in range(meta['n_dense_inv'])\n",
    "        ])\n",
    "        \n",
    "\n",
    "    def call(self, x, **args):\n",
    "        \"\"\"\n",
    "        Transofrms the input into an invariant representation.\n",
    "        ----------\n",
    "\n",
    "        Arguments:\n",
    "        x : tf.Tensor of shape (batch_size, n, m) - the input where n is the 'time' or 'samples' dimensions\n",
    "            over which pooling is performed and m is the input dimensionality\n",
    "        ----------\n",
    "\n",
    "        Returns:\n",
    "        out : tf.Tensor of shape (batch_size, h_dim) -- the pooled and invariant representation of the input\n",
    "        \"\"\"\n",
    "\n",
    "        # Embed\n",
    "        x_emb = self.module(x)\n",
    "        w_x = tf.reduce_sum(x_emb, axis=1)\n",
    "        out = self.post_pooling_dense(w_x)\n",
    "        return out"
   ]
  },
  {
   "cell_type": "markdown",
   "metadata": {},
   "source": [
    "# Training hyperparameters"
   ]
  },
  {
   "cell_type": "code",
   "execution_count": 85,
   "metadata": {},
   "outputs": [],
   "source": [
    "# Network hyperparameters\n",
    "inv_meta = {\n",
    "    'n_units': [32, 32],\n",
    "    'activation': 'elu',\n",
    "    'w_decay': 0.0,\n",
    "    'initializer': 'glorot_uniform'\n",
    "}\n",
    "n_inv_blocks = 2\n",
    "\n",
    "summary_meta = {\n",
    "    'n_dense_inv'      :  3,\n",
    "    'dense_inv_args'   :  dict(units=64, activation='relu', kernel_initializer='glorot_normal'),\n",
    "}\n",
    "\n",
    "\n",
    "# Forward model hyperparameters\n",
    "param_names = [r'$\\mu$', r'$\\sigma$']\n",
    "theta_dim = len(param_names)\n",
    "n_test = 300\n",
    "\n",
    "# Training and optimizer hyperparameters\n",
    "ckpt_file = \"gaussian_tester\"\n",
    "batch_size = 32\n",
    "epochs = 100\n",
    "iterations_per_epoch = 1000\n",
    "n_samples_posterior = 2000\n",
    "clip_value = 5.\n",
    "\n",
    "starter_learning_rate = 0.0001\n",
    "global_step = tf.Variable(0, dtype=tf.int32)\n",
    "decay_steps = 1000\n",
    "decay_rate = .95\n",
    "learning_rate = tf.train.exponential_decay(starter_learning_rate, global_step, decay_steps, decay_rate)\n",
    "optimizer = tf.train.AdamOptimizer(learning_rate=learning_rate)"
   ]
  },
  {
   "cell_type": "code",
   "execution_count": 86,
   "metadata": {},
   "outputs": [],
   "source": [
    "data_generator = partial(data_generator, n_obs=None)"
   ]
  },
  {
   "cell_type": "markdown",
   "metadata": {},
   "source": [
    "## Create test data"
   ]
  },
  {
   "cell_type": "code",
   "execution_count": 96,
   "metadata": {},
   "outputs": [
    {
     "name": "stdout",
     "output_type": "stream",
     "text": [
      "Wall time: 3.51 ms\n"
     ]
    }
   ],
   "source": [
    "%%time\n",
    "test_data = data_generator(n_test, n_obs=60)"
   ]
  },
  {
   "cell_type": "code",
   "execution_count": 88,
   "metadata": {},
   "outputs": [],
   "source": [
    "test_data_sbc = data_generator(5000)\n",
    "# theta_samples = np.concatenate([model.sample(x, 250, to_numpy=True) \n",
    "#                                 for x in tf.split(test_data_sbc['x'], 10, axis=0)], axis=1)"
   ]
  },
  {
   "cell_type": "markdown",
   "metadata": {},
   "source": [
    "## Create networks"
   ]
  },
  {
   "cell_type": "code",
   "execution_count": 97,
   "metadata": {},
   "outputs": [],
   "source": [
    "summary_net = InvariantModule(summary_meta)\n",
    "model = BayesFlow(inv_meta, n_inv_blocks, theta_dim, summary_net=summary_net, permute=True)"
   ]
  },
  {
   "cell_type": "markdown",
   "metadata": {},
   "source": [
    "## Compile \n",
    "<p>In other words, run and plot performance of untrained networks.</p>"
   ]
  },
  {
   "cell_type": "code",
   "execution_count": 90,
   "metadata": {},
   "outputs": [
    {
     "data": {
      "image/png": "[encoded data removed]",
      "text/plain": [
       "<Figure size 576x288 with 2 Axes>"
      ]
     },
     "metadata": {
      "needs_background": "light"
     },
     "output_type": "display_data"
    }
   ],
   "source": [
    "plot_true_est_scatter(model, test_data['x'], test_data['theta'], n_samples_posterior, param_names, figsize=(8, 4))"
   ]
  },
  {
   "cell_type": "markdown",
   "metadata": {},
   "source": [
    "## Manage checkpoints"
   ]
  },
  {
   "cell_type": "code",
   "execution_count": 129,
   "metadata": {},
   "outputs": [],
   "source": [
    "# checkpoint = tf.train.Checkpoint(step=global_step, optimizer=optimizer, net=model)\n",
    "# manager = tf.train.CheckpointManager(checkpoint, './checkpoints/{}'.format(ckpt_file), max_to_keep=3)\n",
    "# checkpoint.restore(manager.latest_checkpoint)\n",
    "# if manager.latest_checkpoint:\n",
    "#     print(\"Restored from {}\".format(manager.latest_checkpoint))\n",
    "# else:\n",
    "#     print(\"Initializing from scratch.\")"
   ]
  },
  {
   "cell_type": "code",
   "execution_count": 67,
   "metadata": {},
   "outputs": [],
   "source": [
    "# starter_learning_rate = 0.0001\n",
    "# global_step = tf.Variable(0, dtype=tf.int32)\n",
    "# decay_steps = 1000\n",
    "# decay_rate = .95\n",
    "# learning_rate = tf.train.exponential_decay(starter_learning_rate, global_step, decay_steps, decay_rate)\n",
    "# optimizer = tf.train.AdamOptimizer(learning_rate=learning_rate)"
   ]
  },
  {
   "cell_type": "markdown",
   "metadata": {},
   "source": [
    "# Train networks"
   ]
  },
  {
   "cell_type": "code",
   "execution_count": 101,
   "metadata": {
    "code_folding": []
   },
   "outputs": [],
   "source": [
    "# # %%time\n",
    "# for ep in range(1, epochs+1):\n",
    "#     with tqdm(total=iterations_per_epoch, desc='Training epoch {}'.format(ep)) as p_bar:\n",
    "#         losses = train_online(model=model, \n",
    "#                               optimizer=optimizer, \n",
    "#                               data_gen=data_generator, \n",
    "#                               loss_fun=maximum_likelihood_loss, \n",
    "#                               iterations=iterations_per_epoch,\n",
    "#                               batch_size=batch_size,\n",
    "#                               p_bar=p_bar,\n",
    "#                               clip_value=clip_value,\n",
    "#                               global_step=global_step)\n",
    "        \n",
    "        \n",
    "#         plot_true_est_scatter(model, test_data['x'], test_data['theta'], n_samples_posterior, param_names, figsize=(8, 4))\n",
    "#         theta_samples = np.concatenate([model.sample(x, 250, to_numpy=True) \n",
    "#                                 for x in tf.split(test_data_sbc['x'], 10, axis=0)], axis=1)\n",
    "#         plot_sbc(theta_samples, test_data_sbc['theta'], param_names, figsize=(22, 6))\n",
    "\n",
    "# #         # Store checkpoint\n",
    "# #         manager.save()"
   ]
  },
  {
   "cell_type": "markdown",
   "metadata": {},
   "source": [
    "## Plot posterior variance over N"
   ]
  },
  {
   "cell_type": "code",
   "execution_count": 99,
   "metadata": {},
   "outputs": [],
   "source": [
    "stds = []\n",
    "for n_obs_test in range(1, 501, 5):\n",
    "    \n",
    "    # Simulate and sample\n",
    "    test_data = data_generator(n_test, n_obs=n_obs_test)\n",
    "    post_samples = model.sample(test_data['x'], n_samples=5000, to_numpy=True)\n",
    "    mean_std = np.mean(np.std(post_samples, axis=0), axis=0)\n",
    "    \n",
    "    stds.append(mean_std)\n",
    "stds = np.array(stds)"
   ]
  },
  {
   "cell_type": "code",
   "execution_count": 100,
   "metadata": {},
   "outputs": [
    {
     "data": {
      "text/plain": [
       "[<matplotlib.lines.Line2D at 0x1e183ea84e0>]"
      ]
     },
     "execution_count": 100,
     "metadata": {},
     "output_type": "execute_result"
    },
    {
     "data": {
      "image/png": "[encoded data removed]",
      "text/plain": [
       "<Figure size 1152x288 with 2 Axes>"
      ]
     },
     "metadata": {
      "needs_background": "light"
     },
     "output_type": "display_data"
    }
   ],
   "source": [
    "f, ax = plt.subplots(1, 2, figsize=(16, 4))\n",
    "ax[0].plot(stds[:, 0])\n",
    "ax[1].plot(stds[:, 1])"
   ]
  },
  {
   "cell_type": "code",
   "execution_count": 27,
   "metadata": {
    "code_folding": []
   },
   "outputs": [],
   "source": []
  }
 ],
 "metadata": {
  "kernelspec": {
   "display_name": "Python 3",
   "language": "python",
   "name": "python3"
  },
  "language_info": {
   "codemirror_mode": {
    "name": "ipython",
    "version": 3
   },
   "file_extension": ".py",
   "mimetype": "text/x-python",
   "name": "python",
   "nbconvert_exporter": "python",
   "pygments_lexer": "ipython3",
   "version": "3.6.8"
  },
  "toc": {
   "base_numbering": 1,
   "nav_menu": {},
   "number_sections": true,
   "sideBar": true,
   "skip_h1_title": false,
   "title_cell": "Table of Contents",
   "title_sidebar": "Contents",
   "toc_cell": false,
   "toc_position": {
    "height": "calc(100% - 180px)",
    "left": "10px",
    "top": "150px",
    "width": "196.6px"
   },
   "toc_section_display": true,
   "toc_window_display": true
  }
 },
 "nbformat": 4,
 "nbformat_minor": 2
}
