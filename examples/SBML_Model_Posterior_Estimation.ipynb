{
 "cells": [
  {
   "cell_type": "markdown",
   "source": [
    "# SBML import\n",
    "\n",
    "[SBML](https://sbml.org) is a free and open data format for describing models in computational systems biology. This notebook illustrates how the SBML format can be used together the simulation toolboxes [RoadRunner](https://libroadrunner.readthedocs.io/en/latest/index.html): \"The Roadrunner Simulation Engine is a C++ library for simulating and analysing systems of differential equations. Roadrunner was designed with performance as a priority and is an exceptionally fast simulator.\" However, there are many different simulators out there, which might be more suitable for the defined model, such as [AMICI](https://amici.readthedocs.io/en/latest/), which can also be easily used in a similar way.\n",
    "\n",
    "To follow this notebook, you need to have (at least) BayesFlow and RoadRunner installed. You can install all via:\n",
    "\n",
    "    pip install bayesflow libroadrunner"
   ],
   "metadata": {
    "collapsed": false
   },
   "id": "87252fe76afc6876"
  },
  {
   "cell_type": "code",
   "outputs": [],
   "source": [
    "# install if not done yet\n",
    "!pip install libroadrunner --quiet"
   ],
   "metadata": {
    "collapsed": false,
    "ExecuteTime": {
     "end_time": "2024-03-11T09:03:59.224616Z",
     "start_time": "2024-03-11T09:03:57.445177Z"
    }
   },
   "id": "2731899f650da1df",
   "execution_count": 1
  },
  {
   "cell_type": "code",
   "outputs": [
    {
     "name": "stderr",
     "output_type": "stream",
     "text": [
      "/Users/jonas.arruda/miniconda/envs/EMUNE/lib/python3.11/site-packages/bayesflow/trainers.py:27: TqdmExperimentalWarning: Using `tqdm.autonotebook.tqdm` in notebook mode. Use `tqdm.tqdm` instead to force console mode (e.g. in jupyter console)\n",
      "  from tqdm.autonotebook import tqdm\n"
     ]
    }
   ],
   "source": [
    "import numpy as np\n",
    "import roadrunner\n",
    "\n",
    "import bayesflow as bf"
   ],
   "metadata": {
    "collapsed": false,
    "ExecuteTime": {
     "end_time": "2024-03-11T09:04:16.171779Z",
     "start_time": "2024-03-11T09:04:00.596376Z"
    }
   },
   "id": "e2221faca015816c",
   "execution_count": 2
  },
  {
   "cell_type": "markdown",
   "source": [
    "## Import an SBML Model to BayesFlow\n"
   ],
   "metadata": {
    "collapsed": false
   },
   "id": "81ae79dae992b8cf"
  },
  {
   "cell_type": "markdown",
   "source": [
    "First, we read the SBML model, create a roadrunner model and then import it in BayesFlow. You can either read a local file or use a model from the BioModels database: a repository of mathematical models of biological and biomedical systems. Roadrunner can handle stochastic or deterministic models. Here, as an example, we use the model [Cell-to-cell variability in JAK2/STAT5 pathway](https://www.ebi.ac.uk/biomodels/BIOMD0000001077#Overview) from Adlung et al. (2021).\n"
   ],
   "metadata": {
    "collapsed": false
   },
   "id": "7f43cd4e56f6bb64"
  },
  {
   "cell_type": "code",
   "outputs": [],
   "source": [
    "# read the sbml model\n",
    "\n",
    "# you can either read a local file\n",
    "# sbml_file = 'example_model.xml'\n",
    "\n",
    "# or download it from BioModels: a repository of mathematical models of biological and biomedical systems\n",
    "sbml_model_url = (\n",
    "    \"https://www.ebi.ac.uk/biomodels/model/download/BIOMD0000001077?filename=Adlung2021%20_model_jakstat_pa.xml\"\n",
    ")\n",
    "\n",
    "# sometimes roadrunner has problems with the ssl certificate, you can ignore it by\n",
    "# import ssl\n",
    "# ssl._create_default_https_context = ssl._create_unverified_context\n",
    "\n",
    "rr = roadrunner.RoadRunner(sbml_model_url)"
   ],
   "metadata": {
    "collapsed": false,
    "ExecuteTime": {
     "end_time": "2024-03-11T09:04:26.410480Z",
     "start_time": "2024-03-11T09:04:24.783189Z"
    }
   },
   "id": "9a51e30c9b086430",
   "execution_count": 3
  },
  {
   "cell_type": "code",
   "outputs": [],
   "source": [
    "# switching between an ODE simulation and a stochastic simulation is as easy as\n",
    "# rr.setIntegrator('gillespie')"
   ],
   "metadata": {
    "collapsed": false,
    "ExecuteTime": {
     "end_time": "2024-03-11T09:04:28.540134Z",
     "start_time": "2024-03-11T09:04:28.538243Z"
    }
   },
   "id": "cfceb9eed4f3d53e",
   "execution_count": 4
  },
  {
   "cell_type": "markdown",
   "source": [
    "Now that we have the model, we need to specify which states of the model are observed and which parameters we want to estimate."
   ],
   "metadata": {
    "collapsed": false
   },
   "id": "4c3b5c40667c6337"
  },
  {
   "cell_type": "code",
   "outputs": [],
   "source": [
    "observed_species = [\"Total_STAT5\", \"measuralbe_pSTAT5\"]\n",
    "params = [\"init_EpoRJAK2\", \"init_SHP1\", \"init_STAT5\"]\n",
    "# all other parameters are fixed to their default values defined in the SBML model"
   ],
   "metadata": {
    "collapsed": false,
    "ExecuteTime": {
     "end_time": "2024-03-11T09:04:30.279009Z",
     "start_time": "2024-03-11T09:04:30.276493Z"
    }
   },
   "id": "8b52e40bb9f0ff3b",
   "execution_count": 5
  },
  {
   "cell_type": "code",
   "outputs": [],
   "source": [
    "sim = rr.simulate(0, 300, 100, selections=[\"time\"] + observed_species)\n",
    "rr.reset()"
   ],
   "metadata": {
    "collapsed": false,
    "ExecuteTime": {
     "end_time": "2024-03-11T09:04:31.007014Z",
     "start_time": "2024-03-11T09:04:31.002451Z"
    }
   },
   "id": "97bf5f2d714bcb17",
   "execution_count": 6
  },
  {
   "cell_type": "code",
   "outputs": [
    {
     "data": {
      "text/plain": "<Figure size 640x480 with 1 Axes>",
      "image/png": "[encoded data removed]"
     },
     "metadata": {},
     "output_type": "display_data"
    }
   ],
   "source": [
    "rr.plot();"
   ],
   "metadata": {
    "collapsed": false,
    "ExecuteTime": {
     "end_time": "2024-03-11T09:04:31.990549Z",
     "start_time": "2024-03-11T09:04:31.684710Z"
    }
   },
   "id": "3292b0e7bfb8693f",
   "execution_count": 7
  },
  {
   "cell_type": "markdown",
   "source": [
    "## Define the Generative Model\n",
    "\n",
    "We can now define the generative model for BayesFlow. The generative model is a combination of a simulator and a prior. The simulator is a function that takes a batch of parameter values from the prio and returns a batch of simulated data. The generative model is used to generate synthetic data for training the amortized posterior. Since we are using a deterministic simulator, we need to define a noise model for the observations. Here, we assume additive independent normal noise on the observations. The noise parameters are added to the parameter vector and are estimated by BayesFlow."
   ],
   "metadata": {
    "collapsed": false
   },
   "id": "85743970b9b52478"
  },
  {
   "cell_type": "code",
   "outputs": [],
   "source": [
    "def sbml_simulator(param_batch, simulation_duration=300):\n",
    "    # this can either be set once, or vary per simulation batch\n",
    "    eval_points = np.random.randint(5, 150)\n",
    "    # set the observed species\n",
    "    rr.timeCourseSelections = observed_species\n",
    "    out = np.zeros((len(param_batch), eval_points, len(observed_species)), dtype=np.float32)\n",
    "    for batch_id, param_values in enumerate(param_batch):\n",
    "        # we have to reset the model to the original state\n",
    "        rr.reset()\n",
    "        # give roadrunner the current parameters and simulate\n",
    "        for param_id, p in enumerate(params):\n",
    "            rr[p] = param_values[param_id]\n",
    "        # simulate the model with the current parameters\n",
    "        out[batch_id] = rr.simulate(0, simulation_duration, eval_points)\n",
    "        # add noise on observations (assuming additive independent normal noise here)\n",
    "        sigmas = param_values[-len(observed_species) :]\n",
    "        out[batch_id] += np.random.multivariate_normal(\n",
    "            mean=np.zeros(len(observed_species)), cov=np.diag(sigmas), size=eval_points\n",
    "        )\n",
    "    return out\n",
    "\n",
    "\n",
    "# create BayesFlow Simulation object\n",
    "simulator = bf.simulation.Simulator(batch_simulator_fun=sbml_simulator)"
   ],
   "metadata": {
    "collapsed": false,
    "ExecuteTime": {
     "end_time": "2024-03-11T09:04:33.731103Z",
     "start_time": "2024-03-11T09:04:33.728002Z"
    }
   },
   "id": "438a815e015b0a3e",
   "execution_count": 8
  },
  {
   "cell_type": "markdown",
   "source": [
    "We now have to define our prior, which is not encoded in the SBML model. For every parameter, which we like to estimate, we define a prior distribution. All other parameters will be fixed to their default values defined in the SBML model."
   ],
   "metadata": {
    "collapsed": false
   },
   "id": "25aa6794ff00f228"
  },
  {
   "cell_type": "code",
   "outputs": [],
   "source": [
    "# build the prior\n",
    "lower_bounds = [0] + [0] * len(observed_species)\n",
    "upper_bounds = [10] + [10] * len(observed_species)\n",
    "prior = bf.simulation.Prior(\n",
    "    batch_prior_fun=lambda batch_size: np.random.uniform(\n",
    "        low=lower_bounds, high=upper_bounds, size=(batch_size, len(lower_bounds))\n",
    "    ),\n",
    "    param_names=[\"theta1\"] + [f\"sigma_{name}\" for name in observed_species],\n",
    ")"
   ],
   "metadata": {
    "collapsed": false,
    "ExecuteTime": {
     "end_time": "2024-03-11T09:04:35.210861Z",
     "start_time": "2024-03-11T09:04:35.208620Z"
    }
   },
   "id": "6a0054ca50f0f93f",
   "execution_count": 9
  },
  {
   "cell_type": "code",
   "outputs": [
    {
     "name": "stderr",
     "output_type": "stream",
     "text": [
      "INFO:root:Performing 2 pilot runs with the Adlung2021 - Cell-to-cell variability in JAK2/STAT5 pathway model...\n",
      "INFO:root:Shape of parameter batch after 2 pilot simulations: (batch_size = 2, 3)\n",
      "INFO:root:Shape of simulation batch after 2 pilot simulations: (batch_size = 2, 95, 2)\n",
      "INFO:root:No optional prior non-batchable context provided.\n",
      "INFO:root:No optional prior batchable context provided.\n",
      "INFO:root:No optional simulation non-batchable context provided.\n",
      "INFO:root:No optional simulation batchable context provided.\n"
     ]
    }
   ],
   "source": [
    "model = bf.simulation.GenerativeModel(prior=prior, simulator=simulator, name=rr.getModelName())"
   ],
   "metadata": {
    "collapsed": false,
    "ExecuteTime": {
     "end_time": "2024-03-11T09:04:36.452676Z",
     "start_time": "2024-03-11T09:04:36.442922Z"
    }
   },
   "id": "acdc8a985a70324c",
   "execution_count": 10
  },
  {
   "cell_type": "markdown",
   "source": [
    "## Train BayesFlow"
   ],
   "metadata": {
    "collapsed": false
   },
   "id": "a1ce633479cb499e"
  },
  {
   "cell_type": "markdown",
   "source": [
    "Now we can define the neural networks and train BayesFlow on simulated data."
   ],
   "metadata": {
    "collapsed": false
   },
   "id": "f9b4e90e0bdf14eb"
  },
  {
   "cell_type": "code",
   "outputs": [],
   "source": [
    "summary_net = bf.networks.SequenceNetwork(summary_dim=10)"
   ],
   "metadata": {
    "collapsed": false,
    "ExecuteTime": {
     "end_time": "2024-03-11T09:04:40.586479Z",
     "start_time": "2024-03-11T09:04:40.529664Z"
    }
   },
   "id": "d3ae80b9db0bbb46",
   "execution_count": 11
  },
  {
   "cell_type": "code",
   "outputs": [],
   "source": [
    "inference_net = bf.networks.InvertibleNetwork(\n",
    "    num_params=len(params),\n",
    "    num_coupling_layers=4,\n",
    "    coupling_settings={\"dense_args\": dict(kernel_regularizer=None), \"dropout\": False},\n",
    ")"
   ],
   "metadata": {
    "collapsed": false,
    "ExecuteTime": {
     "end_time": "2024-03-11T09:04:41.401047Z",
     "start_time": "2024-03-11T09:04:41.307455Z"
    }
   },
   "id": "cacc00c43987b4ff",
   "execution_count": 12
  },
  {
   "cell_type": "code",
   "outputs": [],
   "source": [
    "amortizer = bf.amortizers.AmortizedPosterior(inference_net, summary_net)"
   ],
   "metadata": {
    "collapsed": false,
    "ExecuteTime": {
     "end_time": "2024-03-11T09:04:42.276862Z",
     "start_time": "2024-03-11T09:04:42.264363Z"
    }
   },
   "id": "a795b44c65a1bd55",
   "execution_count": 13
  },
  {
   "cell_type": "code",
   "outputs": [
    {
     "name": "stderr",
     "output_type": "stream",
     "text": [
      "INFO:root:Performing a consistency check with provided components...\n",
      "INFO:root:Done.\n"
     ]
    }
   ],
   "source": [
    "trainer = bf.trainers.Trainer(amortizer=amortizer, generative_model=model)"
   ],
   "metadata": {
    "collapsed": false,
    "ExecuteTime": {
     "end_time": "2024-03-11T09:04:43.309184Z",
     "start_time": "2024-03-11T09:04:42.912729Z"
    }
   },
   "id": "58769f055d4c8f78",
   "execution_count": 14
  },
  {
   "cell_type": "code",
   "outputs": [
    {
     "name": "stderr",
     "output_type": "stream",
     "text": [
      "WARNING:absl:At this time, the v2.11+ optimizer `tf.keras.optimizers.Adam` runs slowly on M1/M2 Macs, please use the legacy Keras optimizer instead, located at `tf.keras.optimizers.legacy.Adam`.\n",
      "INFO:root:Generated 100 simulations for validation.\n"
     ]
    },
    {
     "data": {
      "text/plain": "Training epoch 1:   0%|          | 0/100 [00:00<?, ?it/s]",
      "application/vnd.jupyter.widget-view+json": {
       "version_major": 2,
       "version_minor": 0,
       "model_id": "d0f3277c5e11447385d63f4e9577377b"
      }
     },
     "metadata": {},
     "output_type": "display_data"
    },
    {
     "name": "stderr",
     "output_type": "stream",
     "text": [
      "INFO:root:Validation, Epoch: 1, Loss: 7.405\n"
     ]
    },
    {
     "data": {
      "text/plain": "Training epoch 2:   0%|          | 0/100 [00:00<?, ?it/s]",
      "application/vnd.jupyter.widget-view+json": {
       "version_major": 2,
       "version_minor": 0,
       "model_id": "2800af9a599f4df49f10f07bcd269aad"
      }
     },
     "metadata": {},
     "output_type": "display_data"
    },
    {
     "name": "stderr",
     "output_type": "stream",
     "text": [
      "INFO:root:Validation, Epoch: 2, Loss: 7.390\n"
     ]
    },
    {
     "data": {
      "text/plain": "Training epoch 3:   0%|          | 0/100 [00:00<?, ?it/s]",
      "application/vnd.jupyter.widget-view+json": {
       "version_major": 2,
       "version_minor": 0,
       "model_id": "720d9af2fe2e4a199896fa26c57c8f33"
      }
     },
     "metadata": {},
     "output_type": "display_data"
    },
    {
     "name": "stderr",
     "output_type": "stream",
     "text": [
      "INFO:root:Validation, Epoch: 3, Loss: 7.412\n"
     ]
    },
    {
     "name": "stdout",
     "output_type": "stream",
     "text": [
      "CPU times: user 28.1 s, sys: 3.58 s, total: 31.7 s\n",
      "Wall time: 26.4 s\n"
     ]
    }
   ],
   "source": [
    "%%time\n",
    "history = trainer.train_online(epochs=3, iterations_per_epoch=100, batch_size=32, validation_sims=100)"
   ],
   "metadata": {
    "collapsed": false,
    "ExecuteTime": {
     "end_time": "2024-03-11T09:05:21.768832Z",
     "start_time": "2024-03-11T09:04:55.370174Z"
    }
   },
   "id": "a0528419e0ec2c89",
   "execution_count": 15
  },
  {
   "cell_type": "code",
   "outputs": [
    {
     "data": {
      "text/plain": "<Figure size 1600x400 with 1 Axes>",
      "image/png": "[encoded data removed]"
     },
     "metadata": {},
     "output_type": "display_data"
    }
   ],
   "source": [
    "f = bf.diagnostics.plot_losses(history[\"train_losses\"], history[\"val_losses\"], moving_average=True)"
   ],
   "metadata": {
    "collapsed": false,
    "ExecuteTime": {
     "end_time": "2024-03-11T09:05:21.943924Z",
     "start_time": "2024-03-11T09:05:21.771130Z"
    }
   },
   "id": "e0cefed261bc485f",
   "execution_count": 16
  },
  {
   "cell_type": "markdown",
   "source": [
    "At this point you should validate the consistency of your trained amortizer and check out the calibration using the SBC technique. You can follow the intro [tutorial](https://bayesflow.org/_examples/Intro_Amortized_Posterior_Estimation.html) for this."
   ],
   "metadata": {
    "collapsed": false
   },
   "id": "e5f5afdce01328c4"
  },
  {
   "cell_type": "markdown",
   "source": [
    "## Inference Phase\n",
    "Once the approximator has passed all consistency checks, we can now go ahead and apply it to real data!"
   ],
   "metadata": {
    "collapsed": false
   },
   "id": "708a15d9616d248"
  },
  {
   "cell_type": "code",
   "outputs": [],
   "source": [],
   "metadata": {
    "collapsed": false,
    "ExecuteTime": {
     "end_time": "2024-03-11T09:05:21.952723Z",
     "start_time": "2024-03-11T09:05:21.949619Z"
    }
   },
   "id": "ec28d7bfd7cacbc5",
   "execution_count": 16
  }
 ],
 "metadata": {
  "kernelspec": {
   "display_name": "Python 3",
   "language": "python",
   "name": "python3"
  },
  "language_info": {
   "codemirror_mode": {
    "name": "ipython",
    "version": 2
   },
   "file_extension": ".py",
   "mimetype": "text/x-python",
   "name": "python",
   "nbconvert_exporter": "python",
   "pygments_lexer": "ipython2",
   "version": "2.7.6"
  }
 },
 "nbformat": 4,
 "nbformat_minor": 5
}
