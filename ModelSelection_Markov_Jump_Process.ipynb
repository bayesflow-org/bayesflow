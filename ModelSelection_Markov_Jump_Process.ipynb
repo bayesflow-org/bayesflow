{
 "cells": [
  {
   "cell_type": "code",
   "execution_count": 10,
   "metadata": {},
   "outputs": [],
   "source": [
    "import tensorflow as tf\n",
    "from tensorflow.keras.regularizers import l2\n",
    "from tensorflow.keras.utils import to_categorical\n",
    "import tensorflow.contrib.eager as tfe\n",
    "from functools import partial\n",
    "import pandas as pd\n",
    "import seaborn as sns\n",
    "import matplotlib.pyplot as plt\n",
    "\n",
    "from scipy import stats\n",
    "import scipy as sp\n",
    "from scipy.stats import norm\n",
    "import matplotlib.pyplot as plt\n",
    "from tqdm import tqdm_notebook as tqdm\n",
    "import numpy as np\n",
    "import timeit\n",
    "import pickle\n",
    "from sklearn.calibration import calibration_curve\n",
    "\n",
    "\n",
    "from deep_bayes.models import DeepEvidentialModel, MCDropOutModel, SoftmaxModel, VAE\n",
    "from deep_bayes.settings import EVIDENTIAL_JUMP\n",
    "from deep_bayes.training import train_online\n",
    "from deep_bayes.losses import log_loss\n",
    "from deep_bayes.viz import plot_model_samples, plot_confusion_matrix\n",
    "from deep_bayes.diagnostics import accuracy, expected_calibration_error, overconfidence"
   ]
  },
  {
   "cell_type": "code",
   "execution_count": 11,
   "metadata": {},
   "outputs": [
    {
     "name": "stdout",
     "output_type": "stream",
     "text": [
      "The autoreload extension is already loaded. To reload it, use:\n",
      "  %reload_ext autoreload\n"
     ]
    }
   ],
   "source": [
    "%load_ext autoreload\n",
    "%autoreload 2"
   ]
  },
  {
   "cell_type": "code",
   "execution_count": 12,
   "metadata": {},
   "outputs": [],
   "source": [
    "tf.enable_eager_execution()"
   ]
  },
  {
   "cell_type": "code",
   "execution_count": 13,
   "metadata": {},
   "outputs": [],
   "source": [
    "%matplotlib inline"
   ]
  },
  {
   "cell_type": "markdown",
   "metadata": {},
   "source": [
    "# Generative model specifications"
   ]
  },
  {
   "cell_type": "code",
   "execution_count": 14,
   "metadata": {},
   "outputs": [],
   "source": [
    "def load_test_data(to_tensor=True):\n",
    "    \"\"\"Loads the common test data for all models.\"\"\"\n",
    "    \n",
    "    test_data = pickle.load(open('sim_data/test_memory.pkl', 'rb+'))\n",
    "    \n",
    "    if to_tensor:\n",
    "        test_data['m'] = tf.convert_to_tensor(test_data['m'], dtype=tf.float32)\n",
    "        test_data['x'] = tf.convert_to_tensor(test_data['x'], dtype=tf.float32)\n",
    "    \n",
    "    return test_data"
   ]
  },
  {
   "cell_type": "markdown",
   "metadata": {},
   "source": [
    "## Model prior \n",
    "<p>Defines the prior probabilities over models $p(\\boldsymbol{m})$.</p>"
   ]
  },
  {
   "cell_type": "code",
   "execution_count": 15,
   "metadata": {},
   "outputs": [],
   "source": [
    "def model_prior(batch_size, n_models, p_vals=None):\n",
    "    \"\"\"\n",
    "    Samples from the models' prior batch size times and converts to one-hot.\n",
    "    Assumes equal model priors.\n",
    "    ----------\n",
    "    \n",
    "    Arguments:\n",
    "    batch_size : int  -- the number of samples to draw from the prior\n",
    "    n_models   : int  -- the number of generative models in queston\n",
    "    ----------\n",
    "    \n",
    "    Returns:\n",
    "    m_true : np.ndarray of shape (batch_size, theta_dim) -- the samples batch of parameters\n",
    "    \"\"\"\n",
    "    \n",
    "    # Equal priors, if nothign specified\n",
    "    if p_vals is None:\n",
    "        p_vals = [1/n_models] * n_models\n",
    "    m_idx = np.random.choice(n_models, size=batch_size, p=p_vals).astype(np.int32)\n",
    "    return m_idx"
   ]
  },
  {
   "cell_type": "markdown",
   "metadata": {},
   "source": [
    "## Model parameters priors\n",
    "<p>Defines how parameters are generated given a model $p(\\boldsymbol{\\theta}|\\boldsymbol{m})$.</p>"
   ]
  },
  {
   "cell_type": "code",
   "execution_count": 16,
   "metadata": {},
   "outputs": [],
   "source": [
    "def model1_params_prior(**args):\n",
    "    \"\"\"\n",
    "    Samples from the prior of the REM model theta = (g,u,c)\n",
    "    ----------\n",
    "    \n",
    "    Arguments:\n",
    "    ----------\n",
    "    \n",
    "    Output:\n",
    "    theta : np.ndarray of shape (1, theta_dim) -- the samples of parameters\n",
    "            or a dict with param key-values\n",
    "    \"\"\"\n",
    "    \n",
    "    theta = np.random.uniform(0, 100)\n",
    "    return np.array([theta])\n",
    "\n",
    "\n",
    "def model2_params_prior(**args):\n",
    "    \"\"\"\n",
    "    Samples from the prior of the BCDMEM model theta = (g,u,c)\n",
    "    ----------\n",
    "    \n",
    "    Arguments:\n",
    "    ----------\n",
    "    \n",
    "    Output:\n",
    "    theta : np.ndarray of shape (1, theta_dim) -- the samples of parameters\n",
    "            or a dict with param key-values\n",
    "    \"\"\"\n",
    "    \n",
    "    theta = np.random.uniform(0, 100)\n",
    "    return np.array([theta])"
   ]
  },
  {
   "cell_type": "markdown",
   "metadata": {},
   "source": [
    "## Generative models\n",
    "<p>Defines how the data are generated, that is, $\\boldsymbol{x}_{1:N} \\sim p(\\boldsymbol{x}|\\boldsymbol{\\theta},\\boldsymbol{m}).$"
   ]
  },
  {
   "cell_type": "code",
   "execution_count": 17,
   "metadata": {},
   "outputs": [],
   "source": [
    "def h(x, pre, c):\n",
    "    return (x**pre).prod(1) * c\n",
    "\n",
    "def gillespie(x, c, pre, post, max_t):\n",
    "    \"\"\"\n",
    "    Gillespie simulation\n",
    "\n",
    "    Parameters\n",
    "    ----------\n",
    "\n",
    "    x: 1D array of size n_species\n",
    "        The initial numbers.\n",
    "\n",
    "    c: 1D array of size n_reactions\n",
    "        The reaction rates.\n",
    "\n",
    "    pre: array of size n_reactions x n_species\n",
    "        What is to be consumed.\n",
    "\n",
    "    post: array of size n_reactions x n_species\n",
    "        What is to be produced\n",
    "\n",
    "    max_t: int\n",
    "        Timulate up to time max_t\n",
    "\n",
    "    Returns\n",
    "    -------\n",
    "    t, X: 1d array, 2d array\n",
    "        t: The time points.\n",
    "        X: The history of the species.\n",
    "           ``X.shape == (t.size, x.size)``\n",
    "\n",
    "    \"\"\"\n",
    "    t = 0\n",
    "    t_store = [t]\n",
    "    x_store = [x.copy()]\n",
    "    S = post - pre\n",
    "\n",
    "    while t < max_t:\n",
    "        h_vec = h(x, pre, c)\n",
    "        h0 = h_vec.sum()\n",
    "        if h0 == 0:\n",
    "            break\n",
    "        delta_t = np.random.exponential(1 / h0)\n",
    "        # no reaction can occur any more\n",
    "        if not np.isfinite(delta_t):\n",
    "            t_store.append(max_t)\n",
    "            x_store.append(x)\n",
    "            break\n",
    "        reaction = sp.random.choice(c.size, p=h_vec/h0)\n",
    "        t = t + delta_t\n",
    "        x = x + S[reaction]\n",
    "\n",
    "        t_store.append(t)\n",
    "        x_store.append(x)\n",
    "\n",
    "    return np.asarray(t_store), np.asarray(x_store)\n",
    "\n",
    "\n",
    "def model1(theta, max_t=0.1):\n",
    "\n",
    "    x0 = np.array([40, 3])  \n",
    "    pre = np.array([[1, 1]], dtype=np.int32)\n",
    "    post = np.array([[0, 2]])\n",
    "    t, X = gillespie(x0, theta, pre, post, max_t)\n",
    "    \n",
    "    if t.shape[0] < 41:\n",
    "        t = np.append(t, [t[-1]] * (41 - t.shape[0]))\n",
    "        X = np.append(X, [X[-1]] * (41 - X.shape[0]), axis=0)\n",
    "    \n",
    "    return np.c_[t, X / 41]\n",
    "\n",
    "def model2(theta, max_t=0.1):\n",
    "\n",
    "    x0 = np.array([40, 3])  \n",
    "    pre = np.array([[1, 0]], dtype=np.int32)\n",
    "    post = np.array([[0, 1]])\n",
    "    t, X = gillespie(x0, theta, pre, post, max_t)\n",
    "    \n",
    "    if t.shape[0] < 41:\n",
    "        t = np.append(t, [t[-1]] * (41 - t.shape[0]))\n",
    "        X = np.append(X, [X[-1]] * (41 - X.shape[0]), axis=0)\n",
    "    \n",
    "    return np.c_[t, X / 41]"
   ]
  },
  {
   "cell_type": "markdown",
   "metadata": {},
   "source": [
    "## Data generator\n",
    "<p>Define the algorithm:</p>\n",
    "1. <strong>for</strong> $i = 1,...,B$<br>\n",
    "2. &emsp;$\\boldsymbol{m}^{(i)} \\sim p(\\boldsymbol{m})$<br>\n",
    "3. &emsp;$\\boldsymbol{\\theta}^{(i)} \\sim p(\\boldsymbol{\\theta}|\\boldsymbol{m}^{(i)})$<br>\n",
    "4. &emsp;$\\boldsymbol{x}_{1:N}^{(i)} \\sim p(\\boldsymbol{x}|\\boldsymbol{\\theta}^{(i)},\\boldsymbol{m}^{(i)})$"
   ]
  },
  {
   "cell_type": "code",
   "execution_count": 18,
   "metadata": {},
   "outputs": [],
   "source": [
    "def data_generator(batch_size, model_prior, param_priors, forward_models, alpha_smooth=None,\n",
    "                   t_max=0.1, to_tensor=True, **args):\n",
    "    \"\"\"\n",
    "    Runs the forward model 'batch_size' times by first sampling fromt the prior\n",
    "    theta ~ p(theta) and running x ~ p(x|theta).\n",
    "    ----------\n",
    "    \n",
    "    Arguments:\n",
    "    batch_size     : int -- the number of samples to draw from the prior\n",
    "    model_prior    : callable -- the prior which returns a sample of model indices\n",
    "    param_priors   : list of callables -- a list with model prior samplers\n",
    "    forward_models : list of generative models g(theta) -- a list of generatibve models\n",
    "    alpha_smooth   : float or None -- the label smoothing hyperparameter\n",
    "    n_obs          : int -- the numebr of observations to draw from p(x|theta)\n",
    "    n_obs_min      : int -- used when n_obs is None, draws n_obs ~ U(n_obs_min, n_obs_max)\n",
    "    n_obs_max      : int -- used when n_obs is None, draws n_obs ~ U(n_obs_min, n_obs_max)\n",
    "    to_tensor      : boolean -- converts theta and x to tensors if True\n",
    "    ----------\n",
    "    \n",
    "    Output:\n",
    "    m     : tf.Tensor or np.ndarray of shape (batch_size, n_models) - the one-hot encoded version of the models\n",
    "    theta : tf.Tensor or np.ndarray of shape (batch_size, theta_dim) - the data gen parameters \n",
    "    x     : tf.Tensor of np.ndarray of shape (batch_size, n_obs, x_dim)  - the generated data\n",
    "    \"\"\"\n",
    "    \n",
    "    # Sample from model prior\n",
    "    # m_indices is an np.int32 array of model indices  \n",
    "    n_models = len(forward_models)\n",
    "    m_indices = model_prior(batch_size, n_models)\n",
    "    \n",
    "    \n",
    "    # For each model index, sample from prior and run generative model.\n",
    "    x = []\n",
    "    theta = []\n",
    "    for m_idx in m_indices:\n",
    "        \n",
    "        # Draw from model prior theta ~ p(theta|\n",
    "        theta_m = param_priors[m_idx]()\n",
    "        \n",
    "        # Generate data from x = g_m(theta) <=> x ~ p(x|theta,m)\n",
    "        x_m = forward_models[m_idx](theta_m, t_max)[:, np.newaxis]\n",
    "        \n",
    "        # Store data and params\n",
    "        x.append(x_m)\n",
    "        theta.append(theta_m)\n",
    "    \n",
    "    # One-hot encode model indices\n",
    "    m = to_categorical(m_indices, num_classes=n_models)\n",
    "    \n",
    "    # Stote x into a tensor\n",
    "    x = np.array(x)\n",
    "    \n",
    "    # Apply label smoothing, if specified\n",
    "    if alpha_smooth is not None:\n",
    "        m = m * (1 - alpha_smooth) + alpha_smooth / n_models\n",
    "    \n",
    "    # Convert to tensor, if specified \n",
    "    if to_tensor:\n",
    "        x = tf.convert_to_tensor(x, dtype=tf.float32)\n",
    "        m = tf.convert_to_tensor(m, dtype=tf.float32)\n",
    "    return {'m': m, 'theta': theta, 'x': x}"
   ]
  },
  {
   "cell_type": "markdown",
   "metadata": {},
   "source": [
    "# Training hyperparameters"
   ]
  },
  {
   "cell_type": "code",
   "execution_count": 19,
   "metadata": {},
   "outputs": [],
   "source": [
    "#--- Training hyperparameters ---#\n",
    "ckpt_file = \"jump_model_evidential2\"\n",
    "batch_size = 32\n",
    "epochs = 50\n",
    "iterations_per_epoch = 1000\n",
    "n_test = 500\n",
    "alpha_smooth = None\n",
    "\n",
    "\n",
    "#--- Optimizer hyperparameters ---#\n",
    "starter_learning_rate = 0.0001\n",
    "global_step = tfe.Variable(0, dtype=tf.int32)\n",
    "decay_steps = 1000\n",
    "decay_rate = .99\n",
    "learning_rate = tf.train.exponential_decay(starter_learning_rate, global_step, \n",
    "                                           decay_steps, decay_rate, staircase=True)\n",
    "optimizer = tf.train.AdamOptimizer(learning_rate=learning_rate)\n",
    "\n",
    "\n",
    "#--- Generative model hyperparameters ---#\n",
    "model_names = [r'$\\mathcal{M}_1$', r'$\\mathcal{M}_2$'] \n",
    "param_priors = [model1_params_prior, model2_params_prior]\n",
    "forward_models = [model1, model2]\n",
    "\n",
    "data_gen = partial(data_generator, \n",
    "                   model_prior=model_prior, \n",
    "                   param_priors=param_priors,\n",
    "                   forward_models=forward_models,\n",
    "                   alpha_smooth=alpha_smooth)"
   ]
  },
  {
   "cell_type": "markdown",
   "metadata": {},
   "source": [
    "## Create model"
   ]
  },
  {
   "cell_type": "code",
   "execution_count": 20,
   "metadata": {},
   "outputs": [],
   "source": [
    "model = DeepEvidentialModel(EVIDENTIAL_JUMP)"
   ]
  },
  {
   "cell_type": "markdown",
   "metadata": {},
   "source": [
    "## Manage checkpoints"
   ]
  },
  {
   "cell_type": "code",
   "execution_count": 21,
   "metadata": {},
   "outputs": [
    {
     "name": "stdout",
     "output_type": "stream",
     "text": [
      "Initializing from scratch.\n"
     ]
    }
   ],
   "source": [
    "checkpoint = tf.train.Checkpoint(step=global_step, optimizer=optimizer, net=model)\n",
    "manager = tf.train.CheckpointManager(checkpoint, './checkpoints/{}'.format(ckpt_file), max_to_keep=2)\n",
    "checkpoint.restore(manager.latest_checkpoint)\n",
    "if manager.latest_checkpoint:\n",
    "    print(\"Restored from {}\".format(manager.latest_checkpoint))\n",
    "else:\n",
    "    print(\"Initializing from scratch.\")"
   ]
  },
  {
   "cell_type": "code",
   "execution_count": 22,
   "metadata": {},
   "outputs": [],
   "source": [
    "test_data = data_gen(500)"
   ]
  },
  {
   "cell_type": "markdown",
   "metadata": {},
   "source": [
    "## Train network"
   ]
  },
  {
   "cell_type": "code",
   "execution_count": 35,
   "metadata": {},
   "outputs": [],
   "source": [
    "%%time\n",
    "for ep in range(1, 6+1):\n",
    "    with tqdm(total=iterations_per_epoch, desc='Training epoch {}'.format(ep)) as p_bar:\n",
    "        losses = train_online(model=model, \n",
    "                              optimizer=optimizer, \n",
    "                              data_gen=data_gen, \n",
    "                              loss_fun=partial(log_loss, lambd=0.00), \n",
    "                              iterations=iterations_per_epoch,\n",
    "                              batch_size=1,\n",
    "                              p_bar=p_bar,\n",
    "                              global_step=global_step,\n",
    "                              method='evidence')\n",
    "        \n",
    "        \n",
    "        # Plot stuff\n",
    "        m_pred = model(test_data['x'])['m_probs']\n",
    "        plot_confusion_matrix(m_pred.numpy().argmax(axis=1), test_data['m'], model_names, figsize=(8,4),normalize=True)\n",
    "        print(accuracy(test_data['m'], m_pred))\n",
    "        \n",
    "        n_chunks = 10\n",
    "        test_data_c = data_gen(5000)\n",
    "        preds = np.concatenate([model.predict(x, to_numpy=True)['m_probs'] \n",
    "                                for x in tf.split(test_data_c['x'], n_chunks, axis=0)], axis=0)\n",
    "\n",
    "\n",
    "        plt.rcParams['font.size'] = 12\n",
    "        f, ax = plt.subplots(1, 1, figsize=(8, 6))\n",
    "        prob_true, prob_pred = calibration_curve(test_data_c['m'].numpy().argmax(axis=1), preds[:, 1], n_bins=15)\n",
    "        ax.plot(prob_true, prob_pred, lw=2)\n",
    "        ax.plot(ax.get_xlim(), ax.get_xlim(), '--', color='black')\n",
    "        ax.spines['right'].set_visible(False)\n",
    "        ax.spines['top'].set_visible(False)\n",
    "        ax.set_xlabel('Accuracy')\n",
    "        ax.set_ylabel('Confidence')\n",
    "        plt.show()\n",
    "\n",
    "        # Store checkpoint\n",
    "        manager.save()"
   ]
  },
  {
   "cell_type": "code",
   "execution_count": 33,
   "metadata": {},
   "outputs": [
    {
     "name": "stdout",
     "output_type": "stream",
     "text": [
      "Wall time: 256 ms\n"
     ]
    }
   ],
   "source": [
    "%%time\n",
    "m_pred = model(test_data['x'])['m_probs']"
   ]
  },
  {
   "cell_type": "code",
   "execution_count": 23,
   "metadata": {},
   "outputs": [],
   "source": [
    "import pyabc\n",
    "from pyabc import Distribution, RV\n",
    "from pyabc import ABCSMC\n",
    "from pyabc.populationstrategy import AdaptivePopulationSize\n",
    "import tempfile\n",
    "import os"
   ]
  },
  {
   "cell_type": "code",
   "execution_count": 36,
   "metadata": {},
   "outputs": [],
   "source": [
    "def h(x, pre, c):\n",
    "    return (x**pre).prod(1) * c\n",
    "\n",
    "def gillespie(x, c, pre, post, max_t):\n",
    "    \"\"\"\n",
    "    Gillespie simulation\n",
    "\n",
    "    Parameters\n",
    "    ----------\n",
    "\n",
    "    x: 1D array of size n_species\n",
    "        The initial numbers.\n",
    "\n",
    "    c: 1D array of size n_reactions\n",
    "        The reaction rates.\n",
    "\n",
    "    pre: array of size n_reactions x n_species\n",
    "        What is to be consumed.\n",
    "\n",
    "    post: array of size n_reactions x n_species\n",
    "        What is to be produced\n",
    "\n",
    "    max_t: int\n",
    "        Timulate up to time max_t\n",
    "\n",
    "    Returns\n",
    "    -------\n",
    "    t, X: 1d array, 2d array\n",
    "        t: The time points.\n",
    "        X: The history of the species.\n",
    "           ``X.shape == (t.size, x.size)``\n",
    "\n",
    "    \"\"\"\n",
    "    t = 0\n",
    "    t_store = [t]\n",
    "    x_store = [x.copy()]\n",
    "    S = post - pre\n",
    "\n",
    "    while t < max_t:\n",
    "        h_vec = h(x, pre, c)\n",
    "        h0 = h_vec.sum()\n",
    "        if h0 == 0:\n",
    "            break\n",
    "        delta_t = sp.random.exponential(1 / h0)\n",
    "        # no reaction can occur any more\n",
    "        if not sp.isfinite(delta_t):\n",
    "            t_store.append(max_t)\n",
    "            x_store.append(x)\n",
    "            break\n",
    "        reaction = sp.random.choice(c.size, p=h_vec/h0)\n",
    "        t = t + delta_t\n",
    "        x = x + S[reaction]\n",
    "\n",
    "        t_store.append(t)\n",
    "        x_store.append(x)\n",
    "\n",
    "    return sp.asarray(t_store), sp.asarray(x_store)"
   ]
  },
  {
   "cell_type": "code",
   "execution_count": 37,
   "metadata": {},
   "outputs": [],
   "source": [
    "MAX_T = 0.1\n",
    "\n",
    "class Model1:\n",
    "    __name__ = \"Model 1\"\n",
    "    x0 = sp.array([40, 3])   # Initial molecule numbers\n",
    "    pre = sp.array([[1, 1]], dtype=int)\n",
    "    post = sp.array([[0, 2]])\n",
    "\n",
    "\n",
    "    def __call__(self, par):\n",
    "        t, X = gillespie(self.x0,\n",
    "                         sp.array([float(par[\"rate\"])]),\n",
    "                         self.pre, self.post,\n",
    "                         MAX_T)\n",
    "        return {\"t\": t, \"X\" : X}\n",
    "\n",
    "class Model2(Model1):\n",
    "    __name__ = \"Model 2\"\n",
    "    pre = sp.array([[1, 0]], dtype=int)\n",
    "    post = sp.array([[0, 1]])"
   ]
  },
  {
   "cell_type": "code",
   "execution_count": 43,
   "metadata": {},
   "outputs": [
    {
     "name": "stdout",
     "output_type": "stream",
     "text": [
      "tf.Tensor([[0.99726754 0.00273247]], shape=(1, 2), dtype=float32)\n"
     ]
    }
   ],
   "source": [
    "# Evidential probs\n",
    "np.random.seed(123)\n",
    "x = model1(np.array([2.0]))\n",
    "x_tensor = tf.convert_to_tensor(x[np.newaxis], dtype=tf.float32)\n",
    "print(model(x_tensor)['m_probs'])"
   ]
  },
  {
   "cell_type": "code",
   "execution_count": 47,
   "metadata": {},
   "outputs": [
    {
     "data": {
      "image/png": "[encoded data removed]",
      "text/plain": [
       "<Figure size 864x288 with 2 Axes>"
      ]
     },
     "metadata": {
      "needs_background": "light"
     },
     "output_type": "display_data"
    }
   ],
   "source": [
    "plt.rcParams['font.size'] = 12\n",
    "true_rate = 2.0\n",
    "observations = [Model1()({\"rate\": true_rate}),\n",
    "                Model2()({\"rate\": 30})]\n",
    "fig, axes = plt.subplots(1, 2, figsize=(12, 6))\n",
    "fig.set_size_inches((12, 4))\n",
    "for ax, title, obs in zip(axes, model_names,\n",
    "                          observations):\n",
    "    ax.step(obs[\"t\"], obs[\"X\"])\n",
    "    ax.legend([\"Species X\", \"Species Y\"])\n",
    "    ax.set_xlabel(\"Time\")\n",
    "    ax.set_ylabel(\"Concentration\")\n",
    "    ax.set_title(title)\n",
    "fig.savefig('figures/M_Jump_toy.png', dpi=300, bbox_inches='tight')"
   ]
  },
  {
   "cell_type": "code",
   "execution_count": 10,
   "metadata": {},
   "outputs": [],
   "source": [
    "N_TEST_TIMES = 20\n",
    "\n",
    "t_test_times = sp.linspace(0, MAX_T, N_TEST_TIMES)\n",
    "def distance(x, y):\n",
    "    xt_ind = sp.searchsorted(x[\"t\"], t_test_times) - 1\n",
    "    yt_ind = sp.searchsorted(y[\"t\"], t_test_times) - 1\n",
    "    error = (sp.absolute(x[\"X\"][:,1][xt_ind]\n",
    "                        - y[\"X\"][:,1][yt_ind]).sum()\n",
    "             / t_test_times.size)\n",
    "    return error"
   ]
  },
  {
   "cell_type": "code",
   "execution_count": 20,
   "metadata": {},
   "outputs": [],
   "source": [
    "prior = Distribution(rate=RV(\"uniform\", 0, 100))"
   ]
  },
  {
   "cell_type": "code",
   "execution_count": 24,
   "metadata": {},
   "outputs": [],
   "source": [
    "db_path = (\"sqlite:///\" +\n",
    "           os.path.join(tempfile.gettempdir(), \"mjp.db\"))\n",
    "\n",
    "abc = ABCSMC([Model1(),\n",
    "              Model2()],\n",
    "             [prior, prior],\n",
    "             distance,\n",
    "             population_size=AdaptivePopulationSize(500, 0.15))"
   ]
  },
  {
   "cell_type": "code",
   "execution_count": 27,
   "metadata": {},
   "outputs": [
    {
     "name": "stderr",
     "output_type": "stream",
     "text": [
      "INFO:History:Start <ABCSMC(id=1, start_time=2020-03-22 19:18:09.672492, end_time=None)>\n"
     ]
    }
   ],
   "source": [
    "abc_id = abc.new(db_path, observations[0])"
   ]
  },
  {
   "cell_type": "code",
   "execution_count": 28,
   "metadata": {},
   "outputs": [
    {
     "name": "stderr",
     "output_type": "stream",
     "text": [
      "INFO:Epsilon:initial epsilon is 14.924999999999992\n",
      "INFO:ABC:t:0 eps:14.924999999999992\n",
      "INFO:ABC:t:1 eps:10.7\n",
      "INFO:Adaptation:Change nr particles 500 -> 74\n",
      "INFO:ABC:t:2 eps:8.797417110092152\n",
      "INFO:Adaptation:Change nr particles 74 -> 78\n",
      "INFO:ABC:t:3 eps:7.045420643644404\n",
      "INFO:Adaptation:Change nr particles 78 -> 84\n",
      "INFO:ABC:t:4 eps:6.2\n",
      "INFO:Adaptation:Change nr particles 84 -> 93\n",
      "INFO:ABC:t:5 eps:5.8\n",
      "INFO:Adaptation:Change nr particles 93 -> 86\n",
      "INFO:ABC:t:6 eps:5.1401726290108085\n",
      "INFO:Adaptation:Change nr particles 86 -> 90\n",
      "INFO:ABC:t:7 eps:4.45\n",
      "INFO:Adaptation:Change nr particles 90 -> 111\n",
      "INFO:ABC:t:8 eps:3.1\n",
      "INFO:Adaptation:Change nr particles 111 -> 84\n",
      "INFO:ABC:t:9 eps:2.4\n",
      "INFO:Adaptation:Change nr particles 84 -> 57\n",
      "INFO:ABC:t:10 eps:1.85\n",
      "INFO:Adaptation:Change nr particles 57 -> 53\n",
      "INFO:ABC:t:11 eps:1.457287647661789\n",
      "INFO:Adaptation:Change nr particles 53 -> 66\n",
      "INFO:ABC:t:12 eps:1.25\n",
      "INFO:Adaptation:Change nr particles 66 -> 53\n",
      "INFO:ABC:t:13 eps:1.0195262985587572\n",
      "INFO:Adaptation:Change nr particles 53 -> 45\n",
      "INFO:ABC:t:14 eps:0.9\n",
      "INFO:Adaptation:Change nr particles 45 -> 47\n",
      "INFO:History:Done <ABCSMC(id=1, start_time=2020-03-22 19:18:09.672492, end_time=2020-03-22 19:30:29.771595)>\n"
     ]
    },
    {
     "name": "stdout",
     "output_type": "stream",
     "text": [
      "Wall time: 12min 11s\n"
     ]
    }
   ],
   "source": [
    "%%time\n",
    "history = abc.run(minimum_epsilon=0.7, max_nr_populations=10)"
   ]
  },
  {
   "cell_type": "code",
   "execution_count": 29,
   "metadata": {},
   "outputs": [
    {
     "data": {
      "image/png": "[encoded data removed]",
      "text/plain": [
       "<Figure size 432x288 with 1 Axes>"
      ]
     },
     "metadata": {
      "needs_background": "light"
     },
     "output_type": "display_data"
    }
   ],
   "source": [
    "history.get_model_probabilities().plot.bar();"
   ]
  },
  {
   "cell_type": "code",
   "execution_count": 30,
   "metadata": {},
   "outputs": [
    {
     "data": {
      "text/html": [
       "<div>\n",
       "<style scoped>\n",
       "    .dataframe tbody tr th:only-of-type {\n",
       "        vertical-align: middle;\n",
       "    }\n",
       "\n",
       "    .dataframe tbody tr th {\n",
       "        vertical-align: top;\n",
       "    }\n",
       "\n",
       "    .dataframe thead th {\n",
       "        text-align: right;\n",
       "    }\n",
       "</style>\n",
       "<table border=\"1\" class=\"dataframe\">\n",
       "  <thead>\n",
       "    <tr style=\"text-align: right;\">\n",
       "      <th>m</th>\n",
       "      <th>0</th>\n",
       "      <th>1</th>\n",
       "    </tr>\n",
       "    <tr>\n",
       "      <th>t</th>\n",
       "      <th></th>\n",
       "      <th></th>\n",
       "    </tr>\n",
       "  </thead>\n",
       "  <tbody>\n",
       "    <tr>\n",
       "      <th>0</th>\n",
       "      <td>0.140000</td>\n",
       "      <td>0.860000</td>\n",
       "    </tr>\n",
       "    <tr>\n",
       "      <th>1</th>\n",
       "      <td>0.083693</td>\n",
       "      <td>0.916307</td>\n",
       "    </tr>\n",
       "    <tr>\n",
       "      <th>2</th>\n",
       "      <td>0.082143</td>\n",
       "      <td>0.917857</td>\n",
       "    </tr>\n",
       "    <tr>\n",
       "      <th>3</th>\n",
       "      <td>0.123808</td>\n",
       "      <td>0.876192</td>\n",
       "    </tr>\n",
       "    <tr>\n",
       "      <th>4</th>\n",
       "      <td>0.185994</td>\n",
       "      <td>0.814006</td>\n",
       "    </tr>\n",
       "    <tr>\n",
       "      <th>5</th>\n",
       "      <td>0.281537</td>\n",
       "      <td>0.718463</td>\n",
       "    </tr>\n",
       "    <tr>\n",
       "      <th>6</th>\n",
       "      <td>0.510507</td>\n",
       "      <td>0.489493</td>\n",
       "    </tr>\n",
       "    <tr>\n",
       "      <th>7</th>\n",
       "      <td>0.900116</td>\n",
       "      <td>0.099884</td>\n",
       "    </tr>\n",
       "    <tr>\n",
       "      <th>8</th>\n",
       "      <td>1.000000</td>\n",
       "      <td>0.000000</td>\n",
       "    </tr>\n",
       "    <tr>\n",
       "      <th>9</th>\n",
       "      <td>1.000000</td>\n",
       "      <td>0.000000</td>\n",
       "    </tr>\n",
       "    <tr>\n",
       "      <th>10</th>\n",
       "      <td>1.000000</td>\n",
       "      <td>0.000000</td>\n",
       "    </tr>\n",
       "    <tr>\n",
       "      <th>11</th>\n",
       "      <td>1.000000</td>\n",
       "      <td>0.000000</td>\n",
       "    </tr>\n",
       "    <tr>\n",
       "      <th>12</th>\n",
       "      <td>1.000000</td>\n",
       "      <td>0.000000</td>\n",
       "    </tr>\n",
       "    <tr>\n",
       "      <th>13</th>\n",
       "      <td>1.000000</td>\n",
       "      <td>0.000000</td>\n",
       "    </tr>\n",
       "    <tr>\n",
       "      <th>14</th>\n",
       "      <td>1.000000</td>\n",
       "      <td>0.000000</td>\n",
       "    </tr>\n",
       "  </tbody>\n",
       "</table>\n",
       "</div>"
      ],
      "text/plain": [
       "m          0         1\n",
       "t                     \n",
       "0   0.140000  0.860000\n",
       "1   0.083693  0.916307\n",
       "2   0.082143  0.917857\n",
       "3   0.123808  0.876192\n",
       "4   0.185994  0.814006\n",
       "5   0.281537  0.718463\n",
       "6   0.510507  0.489493\n",
       "7   0.900116  0.099884\n",
       "8   1.000000  0.000000\n",
       "9   1.000000  0.000000\n",
       "10  1.000000  0.000000\n",
       "11  1.000000  0.000000\n",
       "12  1.000000  0.000000\n",
       "13  1.000000  0.000000\n",
       "14  1.000000  0.000000"
      ]
     },
     "execution_count": 30,
     "metadata": {},
     "output_type": "execute_result"
    }
   ],
   "source": [
    "history.get_model_probabilities()"
   ]
  },
  {
   "cell_type": "code",
   "execution_count": null,
   "metadata": {},
   "outputs": [],
   "source": []
  }
 ],
 "metadata": {
  "kernelspec": {
   "display_name": "Python 3",
   "language": "python",
   "name": "python3"
  },
  "language_info": {
   "codemirror_mode": {
    "name": "ipython",
    "version": 3
   },
   "file_extension": ".py",
   "mimetype": "text/x-python",
   "name": "python",
   "nbconvert_exporter": "python",
   "pygments_lexer": "ipython3",
   "version": "3.6.8"
  },
  "toc": {
   "base_numbering": 1,
   "nav_menu": {},
   "number_sections": true,
   "sideBar": true,
   "skip_h1_title": false,
   "title_cell": "Table of Contents",
   "title_sidebar": "Contents",
   "toc_cell": false,
   "toc_position": {
    "height": "calc(100% - 180px)",
    "left": "10px",
    "top": "150px",
    "width": "199.6px"
   },
   "toc_section_display": true,
   "toc_window_display": true
  }
 },
 "nbformat": 4,
 "nbformat_minor": 2
}
