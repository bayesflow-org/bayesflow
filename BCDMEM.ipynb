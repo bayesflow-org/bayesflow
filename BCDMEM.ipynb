{
 "cells": [
  {
   "cell_type": "code",
   "execution_count": 4,
   "metadata": {},
   "outputs": [],
   "source": [
    "import numpy as np\n",
    "import time"
   ]
  },
  {
   "cell_type": "code",
   "execution_count": 2,
   "metadata": {},
   "outputs": [],
   "source": [
    "def Lratio(nvec,r,d,p):\n",
    "    \n",
    "    n00, n11, n10, n01 = nvec\n",
    "    s = 0.02\n",
    "    x1 = ((1-s+d*s*(1-r))/(1-s+d*s))**n00\n",
    "    x2 = ((r+p-r*p)/p)**n11\n",
    "    x3 = (1-r)**n10\n",
    "    x4 = ((p*(1-s)+d*s*(r+p-r*p))/(p*(1-s)+d*s*p))**n01\n",
    "    x = x1*x2*x3*x4\n",
    "    return x\n",
    "\n",
    "\n",
    "def match(r,d,p,itemtype):\n",
    "    \n",
    "    s = 0.02\n",
    "    if itemtype==1:\n",
    "        rcp = np.random.binomial(1,s,200)\n",
    "    else:\n",
    "        rcp = np.zeros(200)\n",
    "    \n",
    "    rcp = rcp * np.random.binomial(1,r,200)\n",
    "    reic = rcp * np.random.binomial(1,(1-d),200)\n",
    "    prec = np.random.binomial(1,p,200)\n",
    "    retc = rcp + prec\n",
    "    retc[retc==1] = 1\n",
    "    R = reic + retc\n",
    "    n00 = sum(R==0)\n",
    "    n11 = sum(R==2)\n",
    "    pre_n10 = R==1\n",
    "    n10 = sum(pre_n10[reic==1])\n",
    "    n01 = sum(R==1)\n",
    "    n = np.array([n00,n11,n10,n01])\n",
    "    \n",
    "    return n\n",
    "\n",
    "\n",
    "def response(r,d,p,itemtype):\n",
    "    n = match(r,d,p,itemtype)\n",
    "    L = Lratio(n,r,d,p)\n",
    "    return int(L > 1)\n",
    "\n",
    "def response_vector(r,d,p,Nitems):\n",
    "    item = np.array([np.tile(1,int(Nitems/2)),np.tile(2,int(Nitems/2))])\n",
    "    target = [response(r,d,p,i) for i in item[0]]\n",
    "    distractor = [response(r,d,p,i) for i in item[1]]\n",
    "    \n",
    "    return np.c_[target,distractor]\n",
    "\n",
    "\n",
    "def BCDMEM(pars,Nitems,Ntrials,flag):\n",
    "    # pars:[r,d,p]\n",
    "    # r: Learning Rate\n",
    "    # d: Reinstatement\n",
    "    # p: Context Noise\n",
    "    # Ntimes: targets = Nitems/2; distractors = Nitems/2\n",
    "    # flag: 1, full matrix output; 2, contingency table\n",
    "    r,d,p = pars\n",
    "    out1 = np.zeros((Ntrials,int(Nitems/2),2))\n",
    "    out2 = np.zeros((Ntrials,2,2))\n",
    "    for n in range(Ntrials):\n",
    "        o = response_vector(r,d,p,Nitems)\n",
    "        out1[n,:,:] = o\n",
    "        out2[n,:,:] = np.array([[sum(o[:,0]),(Nitems/2)-sum(o[:,0])],\n",
    "                                [sum(o[:,1]),(Nitems/2)-sum(o[:,1])]])\n",
    "    if flag:\n",
    "        # first column: vector of Hit (1) and Miss (0) for targets\n",
    "        # second column: vector of Correct Rejection (0) and False Alarms (1) for distractors\n",
    "        return out1\n",
    "    else:\n",
    "        # first row (target): Hit and Miss\n",
    "        # second row (distractor): False Alarms and Correct Rejection\n",
    "        return out2\n",
    "    "
   ]
  },
  {
   "cell_type": "code",
   "execution_count": 11,
   "metadata": {},
   "outputs": [],
   "source": [
    "t = time.time()\n",
    "BCDMEM([0.7,0.1,0.1],40,1,0)\n",
    "elapsed = time.time() - t"
   ]
  },
  {
   "cell_type": "code",
   "execution_count": 12,
   "metadata": {},
   "outputs": [
    {
     "data": {
      "text/plain": [
       "0.04491472244262695"
      ]
     },
     "execution_count": 12,
     "metadata": {},
     "output_type": "execute_result"
    }
   ],
   "source": [
    "elapsed"
   ]
  },
  {
   "cell_type": "code",
   "execution_count": null,
   "metadata": {},
   "outputs": [],
   "source": []
  }
 ],
 "metadata": {
  "kernelspec": {
   "display_name": "Python 3",
   "language": "python",
   "name": "python3"
  },
  "language_info": {
   "codemirror_mode": {
    "name": "ipython",
    "version": 3
   },
   "file_extension": ".py",
   "mimetype": "text/x-python",
   "name": "python",
   "nbconvert_exporter": "python",
   "pygments_lexer": "ipython3",
   "version": "3.7.1"
  }
 },
 "nbformat": 4,
 "nbformat_minor": 2
}
